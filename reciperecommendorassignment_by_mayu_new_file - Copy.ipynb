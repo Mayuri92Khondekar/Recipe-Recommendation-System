{
 "cells": [
  {
   "cell_type": "markdown",
   "id": "fa29e09b",
   "metadata": {
    "id": "fa29e09b"
   },
   "source": [
    "# <font color = Black >  Recipe Recommender Assignment EDA </font>\n",
    "### <font color = Black > -By Paras Singh, Shantam Garg, Sudhanshu Mishra </font>"
   ]
  },
  {
   "cell_type": "markdown",
   "id": "62964762",
   "metadata": {
    "id": "62964762"
   },
   "source": [
    "## <font color = Black >  Importing libraries  </font>"
   ]
  },
  {
   "cell_type": "code",
   "execution_count": 1,
   "id": "cb499c30",
   "metadata": {
    "colab": {
     "referenced_widgets": [
      "b2b7b452e8ce4db39b860a6ff58f71ce",
      ""
     ]
    },
    "execution": {
     "iopub.execute_input": "2023-01-07T18:11:35.363252Z",
     "iopub.status.busy": "2023-01-07T18:11:35.362962Z",
     "iopub.status.idle": "2023-01-07T18:12:17.688313Z",
     "shell.execute_reply": "2023-01-07T18:12:17.687328Z",
     "shell.execute_reply.started": "2023-01-07T18:11:35.363219Z"
    },
    "id": "cb499c30",
    "outputId": "6ed1ba2c-be8d-4f00-c56f-5232baed08e0"
   },
   "outputs": [],
   "source": [
    "from pyspark.sql import SparkSession"
   ]
  },
  {
   "cell_type": "code",
   "execution_count": 2,
   "id": "41232cf1",
   "metadata": {
    "colab": {
     "referenced_widgets": [
      "1054a1975eeb4ff4b03afb61dc0c5154",
      ""
     ]
    },
    "execution": {
     "iopub.execute_input": "2023-01-07T18:12:29.753134Z",
     "iopub.status.busy": "2023-01-07T18:12:29.752666Z",
     "iopub.status.idle": "2023-01-07T18:12:31.763574Z",
     "shell.execute_reply": "2023-01-07T18:12:31.762584Z",
     "shell.execute_reply.started": "2023-01-07T18:12:29.753081Z"
    },
    "id": "41232cf1",
    "outputId": "3bb09984-c328-4acb-f777-ded84f8be681"
   },
   "outputs": [],
   "source": [
    "from pyspark.sql import SparkSession\n",
    "spark = SparkSession.builder.appName(\"Basics\").getOrCreate()"
   ]
  },
  {
   "cell_type": "code",
   "execution_count": 3,
   "id": "883ce48d",
   "metadata": {
    "colab": {
     "referenced_widgets": [
      "ba650a381bab49afb47323f6ccab7b37",
      ""
     ]
    },
    "execution": {
     "iopub.execute_input": "2023-01-07T18:12:33.935019Z",
     "iopub.status.busy": "2023-01-07T18:12:33.934731Z",
     "iopub.status.idle": "2023-01-07T18:12:34.040826Z",
     "shell.execute_reply": "2023-01-07T18:12:34.039584Z",
     "shell.execute_reply.started": "2023-01-07T18:12:33.934987Z"
    },
    "id": "883ce48d",
    "outputId": "e5fabd66-3a18-45e7-c623-2b5f4a522238"
   },
   "outputs": [
    {
     "data": {
      "text/html": [
       "\n",
       "            <div>\n",
       "                <p><b>SparkSession - in-memory</b></p>\n",
       "                \n",
       "        <div>\n",
       "            <p><b>SparkContext</b></p>\n",
       "\n",
       "            <p><a href=\"http://DESKTOP-E9SKAKK:4040\">Spark UI</a></p>\n",
       "\n",
       "            <dl>\n",
       "              <dt>Version</dt>\n",
       "                <dd><code>v3.5.1</code></dd>\n",
       "              <dt>Master</dt>\n",
       "                <dd><code>local[*]</code></dd>\n",
       "              <dt>AppName</dt>\n",
       "                <dd><code>Basics</code></dd>\n",
       "            </dl>\n",
       "        </div>\n",
       "        \n",
       "            </div>\n",
       "        "
      ],
      "text/plain": [
       "<pyspark.sql.session.SparkSession at 0x1b7f04220e0>"
      ]
     },
     "execution_count": 3,
     "metadata": {},
     "output_type": "execute_result"
    }
   ],
   "source": [
    "spark"
   ]
  },
  {
   "cell_type": "code",
   "execution_count": 4,
   "id": "7c6f64c8",
   "metadata": {
    "colab": {
     "referenced_widgets": [
      "689e24bb27ff4630bcd08eb744c42c8b",
      ""
     ]
    },
    "execution": {
     "iopub.execute_input": "2023-01-07T18:12:44.160012Z",
     "iopub.status.busy": "2023-01-07T18:12:44.159528Z",
     "iopub.status.idle": "2023-01-07T18:12:44.294494Z",
     "shell.execute_reply": "2023-01-07T18:12:44.293477Z",
     "shell.execute_reply.started": "2023-01-07T18:12:44.159955Z"
    },
    "id": "7c6f64c8",
    "outputId": "b034b599-7463-42dd-a7fb-e21ada3cd440"
   },
   "outputs": [],
   "source": [
    "from pyspark.sql import functions as F\n",
    "\n",
    "# Import for typecasting columns\n",
    "from pyspark.sql.types import IntegerType,BooleanType,DateType,FloatType,StringType\n",
    "from pyspark.sql.types import ArrayType"
   ]
  },
  {
   "cell_type": "markdown",
   "id": "8861feb6",
   "metadata": {
    "id": "8861feb6"
   },
   "source": [
    "## <font color = blue >  Task 01: Read the data  </font>"
   ]
  },
  {
   "cell_type": "markdown",
   "id": "43cd8743",
   "metadata": {
    "id": "43cd8743"
   },
   "source": [
    "### Solution to Task 01 "
   ]
  },
  {
   "cell_type": "code",
   "execution_count": 5,
   "id": "3a075f32",
   "metadata": {
    "colab": {
     "referenced_widgets": [
      "41bb4f43ce5b4d3a9c0ee8d8a890db98",
      ""
     ]
    },
    "execution": {
     "iopub.execute_input": "2023-01-07T18:12:46.697506Z",
     "iopub.status.busy": "2023-01-07T18:12:46.697036Z",
     "iopub.status.idle": "2023-01-07T18:13:06.255990Z",
     "shell.execute_reply": "2023-01-07T18:13:06.255179Z",
     "shell.execute_reply.started": "2023-01-07T18:12:46.697453Z"
    },
    "id": "3a075f32",
    "outputId": "420fd6ec-2000-4053-ae2b-6b8a95507e66"
   },
   "outputs": [],
   "source": [
    "# Task 01 Cell 1 out of 1\n",
    "\n",
    "Raw_Recipe_Data = (spark.read.csv(\"D:\\RAW_recipes_cleaned.csv\", inferSchema = True, header = True))\n"
   ]
  },
  {
   "cell_type": "code",
   "execution_count": 6,
   "id": "df1005ad",
   "metadata": {
    "colab": {
     "referenced_widgets": [
      "5519bd451249441fa8a177269ff103ef",
      ""
     ]
    },
    "execution": {
     "iopub.execute_input": "2023-01-07T18:13:08.448092Z",
     "iopub.status.busy": "2023-01-07T18:13:08.447848Z",
     "iopub.status.idle": "2023-01-07T18:13:09.259031Z",
     "shell.execute_reply": "2023-01-07T18:13:09.258032Z",
     "shell.execute_reply.started": "2023-01-07T18:13:08.448061Z"
    },
    "id": "df1005ad",
    "outputId": "9586c30f-6fc4-43c7-aa8a-2f18031a86f0"
   },
   "outputs": [
    {
     "name": "stdout",
     "output_type": "stream",
     "text": [
      "+--------------------+------+-------+--------------+----------+--------------------+--------------------+-------+--------------------+--------------------+--------------------+-------------+\n",
      "|                name|    id|minutes|contributor_id| submitted|                tags|           nutrition|n_steps|               steps|         description|         ingredients|n_ingredients|\n",
      "+--------------------+------+-------+--------------+----------+--------------------+--------------------+-------+--------------------+--------------------+--------------------+-------------+\n",
      "|arriba   baked wi...|137739|     55|         47892|2005-09-16|['60-minutes-or-l...|[51.5, 0.0, 13.0,...|     11|['make a choice a...|autumn is my favo...|['winter squash',...|            7|\n",
      "|a bit different  ...| 31490|     30|         26278|2002-06-17|['30-minutes-or-l...|[173.4, 18.0, 0.0...|      9|['preheat oven to...|this recipe calls...|['prepared pizza ...|            6|\n",
      "|all in the kitche...|112140|    130|        196586|2005-02-25|['time-to-make', ...|[269.8, 22.0, 32....|      6|['brown ground be...|this modified ver...|['ground beef', '...|           13|\n",
      "|  alouette  potatoes| 59389|     45|         68585|2003-04-14|['60-minutes-or-l...|[368.1, 17.0, 10....|     11|['place potatoes ...|this is a super e...|['spreadable chee...|           11|\n",
      "|amish  tomato ket...| 44061|    190|         41706|2002-10-25|['weeknight', 'ti...|[352.9, 1.0, 337....|      5|['mix all ingredi...|my dh's amish mot...|['tomato juice', ...|            8|\n",
      "+--------------------+------+-------+--------------+----------+--------------------+--------------------+-------+--------------------+--------------------+--------------------+-------------+\n",
      "only showing top 5 rows\n",
      "\n"
     ]
    }
   ],
   "source": [
    "Raw_Recipe_Data.show(5)"
   ]
  },
  {
   "cell_type": "code",
   "execution_count": 7,
   "id": "00a7bd28",
   "metadata": {
    "colab": {
     "referenced_widgets": [
      "714de54a07344750a948690fc29aa24f",
      ""
     ]
    },
    "execution": {
     "iopub.execute_input": "2023-01-07T18:13:11.933247Z",
     "iopub.status.busy": "2023-01-07T18:13:11.932740Z",
     "iopub.status.idle": "2023-01-07T18:13:12.056504Z",
     "shell.execute_reply": "2023-01-07T18:13:12.055614Z",
     "shell.execute_reply.started": "2023-01-07T18:13:11.933196Z"
    },
    "id": "00a7bd28",
    "outputId": "68419bb6-51c7-41fa-84b6-deb0df28847d"
   },
   "outputs": [
    {
     "name": "stdout",
     "output_type": "stream",
     "text": [
      "root\n",
      " |-- name: string (nullable = true)\n",
      " |-- id: integer (nullable = true)\n",
      " |-- minutes: integer (nullable = true)\n",
      " |-- contributor_id: integer (nullable = true)\n",
      " |-- submitted: date (nullable = true)\n",
      " |-- tags: string (nullable = true)\n",
      " |-- nutrition: string (nullable = true)\n",
      " |-- n_steps: integer (nullable = true)\n",
      " |-- steps: string (nullable = true)\n",
      " |-- description: string (nullable = true)\n",
      " |-- ingredients: string (nullable = true)\n",
      " |-- n_ingredients: integer (nullable = true)\n",
      "\n"
     ]
    }
   ],
   "source": [
    "Raw_Recipe_Data.printSchema()"
   ]
  },
  {
   "cell_type": "markdown",
   "id": "833638a6",
   "metadata": {
    "id": "833638a6"
   },
   "source": [
    "### Test cases for Task 01"
   ]
  },
  {
   "cell_type": "code",
   "execution_count": 8,
   "id": "43cc821e",
   "metadata": {
    "colab": {
     "referenced_widgets": [
      "ad2fb46e392f4ca7aa0b4804dd77160c",
      ""
     ]
    },
    "execution": {
     "iopub.execute_input": "2023-01-07T18:13:14.567773Z",
     "iopub.status.busy": "2023-01-07T18:13:14.567464Z",
     "iopub.status.idle": "2023-01-07T18:13:19.978718Z",
     "shell.execute_reply": "2023-01-07T18:13:19.977695Z",
     "shell.execute_reply.started": "2023-01-07T18:13:14.567741Z"
    },
    "id": "43cc821e",
    "outputId": "46b85425-52ac-48de-dbe1-2249bfaade41"
   },
   "outputs": [],
   "source": [
    "# Code check cells\n",
    "# Do not edit cells with assert commands\n",
    "# If an error is shown after running this cell, please recheck your code.  \n",
    "\n",
    "assert Raw_Recipe_Data.count() == 231637\n",
    "assert len(Raw_Recipe_Data.columns) == 12\n",
    "assert Raw_Recipe_Data.schema[\"minutes\"].dataType == IntegerType()\n",
    "assert Raw_Recipe_Data.schema[\"tags\"].dataType == StringType()\n",
    "assert Raw_Recipe_Data.schema[\"n_ingredients\"].dataType == IntegerType()"
   ]
  },
  {
   "cell_type": "code",
   "execution_count": 9,
   "id": "151cf9be",
   "metadata": {
    "colab": {
     "referenced_widgets": [
      "fa35191a44e54b0089efcc51894e40c0",
      ""
     ]
    },
    "execution": {
     "iopub.execute_input": "2023-01-07T18:13:22.778413Z",
     "iopub.status.busy": "2023-01-07T18:13:22.778113Z",
     "iopub.status.idle": "2023-01-07T18:13:28.206958Z",
     "shell.execute_reply": "2023-01-07T18:13:28.206087Z",
     "shell.execute_reply.started": "2023-01-07T18:13:22.778380Z"
    },
    "id": "151cf9be",
    "outputId": "ee90dae8-83fb-4536-8742-84feb4823238"
   },
   "outputs": [
    {
     "data": {
      "text/plain": [
       "True"
      ]
     },
     "execution_count": 9,
     "metadata": {},
     "output_type": "execute_result"
    }
   ],
   "source": [
    "Raw_Recipe_Data.count() == 231637"
   ]
  },
  {
   "cell_type": "code",
   "execution_count": 10,
   "id": "18c1bb65",
   "metadata": {
    "colab": {
     "referenced_widgets": [
      "7d2192229d2945a2b2f1b4b4af8124f1",
      ""
     ]
    },
    "execution": {
     "iopub.execute_input": "2023-01-07T18:13:29.558679Z",
     "iopub.status.busy": "2023-01-07T18:13:29.558411Z",
     "iopub.status.idle": "2023-01-07T18:13:29.651918Z",
     "shell.execute_reply": "2023-01-07T18:13:29.651021Z",
     "shell.execute_reply.started": "2023-01-07T18:13:29.558647Z"
    },
    "id": "18c1bb65",
    "outputId": "cb6b95a8-a660-47a8-b266-37d464f7c4ed"
   },
   "outputs": [
    {
     "data": {
      "text/plain": [
       "True"
      ]
     },
     "execution_count": 10,
     "metadata": {},
     "output_type": "execute_result"
    }
   ],
   "source": [
    "len(Raw_Recipe_Data.columns) == 12"
   ]
  },
  {
   "cell_type": "code",
   "execution_count": 11,
   "id": "83def216",
   "metadata": {
    "colab": {
     "referenced_widgets": [
      "fc2c7922e7714676a68d4816a236c913",
      ""
     ]
    },
    "execution": {
     "iopub.execute_input": "2023-01-07T18:13:31.513209Z",
     "iopub.status.busy": "2023-01-07T18:13:31.512942Z",
     "iopub.status.idle": "2023-01-07T18:13:31.600090Z",
     "shell.execute_reply": "2023-01-07T18:13:31.599102Z",
     "shell.execute_reply.started": "2023-01-07T18:13:31.513178Z"
    },
    "id": "83def216",
    "outputId": "aae9844f-89dd-4f3b-8dd3-9c710bd51db9"
   },
   "outputs": [
    {
     "data": {
      "text/plain": [
       "True"
      ]
     },
     "execution_count": 11,
     "metadata": {},
     "output_type": "execute_result"
    }
   ],
   "source": [
    "Raw_Recipe_Data.schema[\"minutes\"].dataType == IntegerType()"
   ]
  },
  {
   "cell_type": "code",
   "execution_count": 12,
   "id": "fe6212ab",
   "metadata": {
    "colab": {
     "referenced_widgets": [
      "7b9d7726028144659a3256b91f55b353",
      ""
     ]
    },
    "execution": {
     "iopub.execute_input": "2023-01-07T18:13:35.565969Z",
     "iopub.status.busy": "2023-01-07T18:13:35.565583Z",
     "iopub.status.idle": "2023-01-07T18:13:35.668039Z",
     "shell.execute_reply": "2023-01-07T18:13:35.667027Z",
     "shell.execute_reply.started": "2023-01-07T18:13:35.565921Z"
    },
    "id": "fe6212ab",
    "outputId": "dbf487d8-9a13-423b-9a2b-8633914a5d76"
   },
   "outputs": [
    {
     "data": {
      "text/plain": [
       "True"
      ]
     },
     "execution_count": 12,
     "metadata": {},
     "output_type": "execute_result"
    }
   ],
   "source": [
    "Raw_Recipe_Data.schema[\"tags\"].dataType == StringType()"
   ]
  },
  {
   "cell_type": "code",
   "execution_count": 13,
   "id": "f6e19274",
   "metadata": {
    "colab": {
     "referenced_widgets": [
      "a58382640c8744f0839d0dc65090bc53",
      ""
     ]
    },
    "execution": {
     "iopub.execute_input": "2023-01-07T18:13:36.902064Z",
     "iopub.status.busy": "2023-01-07T18:13:36.901772Z",
     "iopub.status.idle": "2023-01-07T18:13:36.988841Z",
     "shell.execute_reply": "2023-01-07T18:13:36.988024Z",
     "shell.execute_reply.started": "2023-01-07T18:13:36.902031Z"
    },
    "id": "f6e19274",
    "outputId": "b8510788-ca68-4ca7-e0ed-9cb2148a92e2"
   },
   "outputs": [
    {
     "data": {
      "text/plain": [
       "True"
      ]
     },
     "execution_count": 13,
     "metadata": {},
     "output_type": "execute_result"
    }
   ],
   "source": [
    "Raw_Recipe_Data.schema[\"n_ingredients\"].dataType == IntegerType()"
   ]
  },
  {
   "cell_type": "markdown",
   "id": "abe22c84",
   "metadata": {
    "id": "abe22c84"
   },
   "source": [
    "### Task 1 Completed"
   ]
  },
  {
   "cell_type": "markdown",
   "id": "4096d762",
   "metadata": {
    "id": "4096d762"
   },
   "source": [
    "## Extract nutrition values"
   ]
  },
  {
   "cell_type": "code",
   "execution_count": 14,
   "id": "2f26b9a8",
   "metadata": {
    "colab": {
     "referenced_widgets": [
      "551f0d173026411683e17ed5adb24bb8",
      ""
     ]
    },
    "execution": {
     "iopub.execute_input": "2023-01-07T18:13:39.414530Z",
     "iopub.status.busy": "2023-01-07T18:13:39.414257Z",
     "iopub.status.idle": "2023-01-07T18:13:39.499857Z",
     "shell.execute_reply": "2023-01-07T18:13:39.499145Z",
     "shell.execute_reply.started": "2023-01-07T18:13:39.414498Z"
    },
    "id": "2f26b9a8",
    "outputId": "e4311c34-9c90-49b1-dd9a-5e33072de3d9"
   },
   "outputs": [],
   "source": [
    "# List of nutrition columns\n",
    "\n",
    "Nutrition_Col_Names = ['calories',\n",
    "                          'total_fat_PDV',\n",
    "                          'sugar_PDV',\n",
    "                          'sodium_PDV',\n",
    "                          'protein_PDV',\n",
    "                          'saturated_fat_PDV',\n",
    "                          'carbohydrates_PDV']"
   ]
  },
  {
   "cell_type": "markdown",
   "id": "04487502",
   "metadata": {
    "id": "04487502"
   },
   "source": [
    "## <font color = blue >  Task 02: Extract individual features from the nutrition column  </font>"
   ]
  },
  {
   "cell_type": "markdown",
   "id": "ace59eb3",
   "metadata": {
    "id": "ace59eb3"
   },
   "source": [
    "\n",
    "As read by the spark compiler, the nutrition column is a string column when it should be an array of float values. Each row in the nutrition column contains seven values. Each value represents nutrition information.\n",
    "Your task is to separate the array into seven individual columns.\n",
    "\n",
    "Write a code that takes in the nutrition column from raw_recipes_df dataframe, and extracts individual values into seven different columns named calories, total fat (PDV), sugar (PDV), sodium (PDV), protein (PDV), saturated fat (PDV), and carbohydrates (PDV)."
   ]
  },
  {
   "cell_type": "markdown",
   "id": "2ecc64b6",
   "metadata": {
    "id": "2ecc64b6"
   },
   "source": [
    "### Solution to Task 02 "
   ]
  },
  {
   "cell_type": "code",
   "execution_count": 15,
   "id": "4d23fd4c",
   "metadata": {
    "colab": {
     "referenced_widgets": [
      "2b7240d6e167480d9b7720a0d1c9fe45",
      ""
     ]
    },
    "execution": {
     "iopub.execute_input": "2023-01-07T18:13:44.724531Z",
     "iopub.status.busy": "2023-01-07T18:13:44.724269Z",
     "iopub.status.idle": "2023-01-07T18:13:45.527461Z",
     "shell.execute_reply": "2023-01-07T18:13:45.526505Z",
     "shell.execute_reply.started": "2023-01-07T18:13:44.724499Z"
    },
    "id": "4d23fd4c",
    "outputId": "73cfcf53-005c-4388-f9e3-0b273d827339"
   },
   "outputs": [
    {
     "name": "stdout",
     "output_type": "stream",
     "text": [
      "+--------------------+\n",
      "|           nutrition|\n",
      "+--------------------+\n",
      "|[51.5, 0.0, 13.0,...|\n",
      "|[173.4, 18.0, 0.0...|\n",
      "|[269.8, 22.0, 32....|\n",
      "|[368.1, 17.0, 10....|\n",
      "|[352.9, 1.0, 337....|\n",
      "+--------------------+\n",
      "only showing top 5 rows\n",
      "\n"
     ]
    }
   ],
   "source": [
    "# Task 02 Cell 1 out of 2\n",
    "# 2.1 - string operations to remove square brakets\n",
    "\n",
    "Raw_Recipe_Data.select('nutrition').show(5)"
   ]
  },
  {
   "cell_type": "code",
   "execution_count": 16,
   "id": "57a16335",
   "metadata": {
    "colab": {
     "referenced_widgets": [
      "9293cb8c80074fa3ab76bfd4f99071b2",
      ""
     ]
    },
    "execution": {
     "iopub.execute_input": "2023-01-07T18:13:47.870543Z",
     "iopub.status.busy": "2023-01-07T18:13:47.870259Z",
     "iopub.status.idle": "2023-01-07T18:13:48.168881Z",
     "shell.execute_reply": "2023-01-07T18:13:48.167939Z",
     "shell.execute_reply.started": "2023-01-07T18:13:47.870510Z"
    },
    "id": "57a16335",
    "outputId": "3affde50-806a-454c-990b-ff40c78f0e1a"
   },
   "outputs": [],
   "source": [
    "# STEP 2.1 string operations to remove square brakets in 'nutrition' column\n",
    "\n",
    "\n",
    "Raw_Recipe_Data = (Raw_Recipe_Data\n",
    "                  .withColumn('nutrition',(F.regexp_replace(\"nutrition\",\"[\\[\\]]\",\"\"))))"
   ]
  },
  {
   "cell_type": "code",
   "execution_count": 17,
   "id": "e11e0b6a",
   "metadata": {
    "colab": {
     "referenced_widgets": [
      "6ac80fce622444e3bb54daee1881e57e",
      ""
     ]
    },
    "execution": {
     "iopub.execute_input": "2023-01-07T18:13:49.173380Z",
     "iopub.status.busy": "2023-01-07T18:13:49.173103Z",
     "iopub.status.idle": "2023-01-07T18:13:49.996072Z",
     "shell.execute_reply": "2023-01-07T18:13:49.995300Z",
     "shell.execute_reply.started": "2023-01-07T18:13:49.173348Z"
    },
    "id": "e11e0b6a",
    "outputId": "123307da-61b5-4aa6-ad8d-edd12e1f5668"
   },
   "outputs": [],
   "source": [
    "# Task 02 Cell 2 out of 3\n",
    "# STEP 2.2 - split the neutrition string into seven individial values. \n",
    "# Create an object to split the nutrition column\n",
    "\n",
    "import pyspark\n",
    "\n",
    "Nutrition_Col_Split = pyspark.sql.functions.split(Raw_Recipe_Data['nutrition'],',')\n",
    "for col_index, col_name in enumerate(Nutrition_Col_Names):\n",
    "    Raw_Recipe_Data = (Raw_Recipe_Data.withColumn(col_name, Nutrition_Col_Split.getItem(col_index).cast(\"float\")))"
   ]
  },
  {
   "cell_type": "markdown",
   "id": "5a5c6622",
   "metadata": {
    "id": "5a5c6622"
   },
   "source": [
    "### Test cases for task 02"
   ]
  },
  {
   "cell_type": "code",
   "execution_count": 18,
   "id": "8e21baa0",
   "metadata": {
    "colab": {
     "referenced_widgets": [
      "ea1d1ccf3dfd4bbc86976be7882648ed",
      ""
     ]
    },
    "execution": {
     "iopub.execute_input": "2023-01-07T18:13:51.834669Z",
     "iopub.status.busy": "2023-01-07T18:13:51.834377Z",
     "iopub.status.idle": "2023-01-07T18:14:31.450663Z",
     "shell.execute_reply": "2023-01-07T18:14:31.449650Z",
     "shell.execute_reply.started": "2023-01-07T18:13:51.834638Z"
    },
    "id": "8e21baa0",
    "outputId": "795cfc93-f7e3-4fb9-e8ba-a1758afe9187"
   },
   "outputs": [],
   "source": [
    "# Code check cell\n",
    "# Do not edit cells with assert commands\n",
    "# If an error is shown after running this cell, please recheck your code.  \n",
    "\n",
    "assert Raw_Recipe_Data.schema[\"carbohydrates_PDV\"].dataType == FloatType(), \"Recheck your typecasting\"\n",
    "assert Raw_Recipe_Data.collect()[123432][14] == 62.0, \"The columns have not been split correctly.\"\n",
    "assert Raw_Recipe_Data.collect()[10000][12] == 60.400001525878906, \"The columns have not been split correctly.\""
   ]
  },
  {
   "cell_type": "code",
   "execution_count": 19,
   "id": "dd1654c5",
   "metadata": {
    "colab": {
     "referenced_widgets": [
      "7b62c761bc6148c49eed53e9a28feb0d",
      ""
     ]
    },
    "execution": {
     "iopub.execute_input": "2023-01-07T18:14:33.034564Z",
     "iopub.status.busy": "2023-01-07T18:14:33.034295Z",
     "iopub.status.idle": "2023-01-07T18:14:33.122903Z",
     "shell.execute_reply": "2023-01-07T18:14:33.121975Z",
     "shell.execute_reply.started": "2023-01-07T18:14:33.034532Z"
    },
    "id": "dd1654c5",
    "outputId": "6c7c7027-8524-4179-bd05-4a4642b4849c"
   },
   "outputs": [
    {
     "data": {
      "text/plain": [
       "True"
      ]
     },
     "execution_count": 19,
     "metadata": {},
     "output_type": "execute_result"
    }
   ],
   "source": [
    "Raw_Recipe_Data.schema[\"carbohydrates_PDV\"].dataType == FloatType()"
   ]
  },
  {
   "cell_type": "code",
   "execution_count": 20,
   "id": "c55c12b2",
   "metadata": {
    "colab": {
     "referenced_widgets": [
      "cbe3bab375c34b7d95f266f16f6c4d1a",
      ""
     ]
    },
    "execution": {
     "iopub.execute_input": "2023-01-07T18:14:34.926534Z",
     "iopub.status.busy": "2023-01-07T18:14:34.926246Z",
     "iopub.status.idle": "2023-01-07T18:14:50.666420Z",
     "shell.execute_reply": "2023-01-07T18:14:50.665571Z",
     "shell.execute_reply.started": "2023-01-07T18:14:34.926502Z"
    },
    "id": "c55c12b2",
    "outputId": "2f5cf333-2708-48e3-fe65-e9905fccdbff"
   },
   "outputs": [
    {
     "data": {
      "text/plain": [
       "True"
      ]
     },
     "execution_count": 20,
     "metadata": {},
     "output_type": "execute_result"
    }
   ],
   "source": [
    "Raw_Recipe_Data.collect()[123432][14] == 62.0"
   ]
  },
  {
   "cell_type": "code",
   "execution_count": 21,
   "id": "7ef0a586",
   "metadata": {
    "colab": {
     "referenced_widgets": [
      "eb6974608fdb44abb142c2b01c7f4f3e",
      ""
     ]
    },
    "execution": {
     "iopub.execute_input": "2023-01-07T18:14:53.142129Z",
     "iopub.status.busy": "2023-01-07T18:14:53.141848Z",
     "iopub.status.idle": "2023-01-07T18:15:10.603207Z",
     "shell.execute_reply": "2023-01-07T18:15:10.602122Z",
     "shell.execute_reply.started": "2023-01-07T18:14:53.142097Z"
    },
    "id": "7ef0a586",
    "outputId": "9a5cd100-4ab7-407e-e1c4-a6e80625a5dd"
   },
   "outputs": [
    {
     "data": {
      "text/plain": [
       "True"
      ]
     },
     "execution_count": 21,
     "metadata": {},
     "output_type": "execute_result"
    }
   ],
   "source": [
    "Raw_Recipe_Data.collect()[10000][12] == 60.400001525878906"
   ]
  },
  {
   "cell_type": "markdown",
   "id": "7af320aa",
   "metadata": {
    "id": "7af320aa"
   },
   "source": [
    "### Task 2 Completed"
   ]
  },
  {
   "cell_type": "markdown",
   "id": "c9d2b1c1",
   "metadata": {
    "id": "c9d2b1c1"
   },
   "source": [
    "## Make nutrition-per-100 calorie columns\n",
    "1) By converting the nutrition values from absolute to relative terms, we ensure that portion size is not a factor in the analysis.\n",
    "\n",
    "2) Naming convention: Original column name total fat (PDV), column name after column total_fat_per_100_cal"
   ]
  },
  {
   "cell_type": "markdown",
   "id": "ed8e439c",
   "metadata": {
    "id": "ed8e439c"
   },
   "source": [
    "## <font color = blue >  Task 03: Standardize the nutrition values  </font>"
   ]
  },
  {
   "cell_type": "markdown",
   "id": "ab9479b0",
   "metadata": {
    "id": "ab9479b0"
   },
   "source": [
    "1) The current values for nutrition columns are not on the same scale. Your task is to standardize the nutrition columns using calories as the base of standardization.\n",
    "\n",
    "2) Convert the nutrition from absolute values to per 100 calorie values."
   ]
  },
  {
   "cell_type": "markdown",
   "id": "5603ca45",
   "metadata": {
    "id": "5603ca45"
   },
   "source": [
    "*We will use the sugar (PDV) column to demonstrate the calculations for standardization.*"
   ]
  },
  {
   "cell_type": "markdown",
   "id": "b4f2e703",
   "metadata": {
    "id": "b4f2e703"
   },
   "source": [
    "#### Sample Calculation\n",
    "\n",
    "Before transformation: sugar (PDV) for recipe id 137739 = 13.0\n",
    "\n",
    "Calories in the recipe recipe id 137739 = 51.5\n",
    "\n",
    "Calculation:\n",
    "\n",
    "sugar_per_100_cal = 13.0 * 100 / 51.5\n",
    "\n",
    "After transformation sugar_per_100_cal = 25.24"
   ]
  },
  {
   "cell_type": "markdown",
   "id": "a0dbf0b0",
   "metadata": {
    "id": "a0dbf0b0"
   },
   "source": [
    "### Solution to task 03"
   ]
  },
  {
   "cell_type": "code",
   "execution_count": 22,
   "id": "a8b829c9",
   "metadata": {
    "colab": {
     "referenced_widgets": [
      "47cce8ac6115462faeaebd4a0baad10c",
      ""
     ]
    },
    "execution": {
     "iopub.execute_input": "2023-01-07T18:15:21.136777Z",
     "iopub.status.busy": "2023-01-07T18:15:21.136368Z",
     "iopub.status.idle": "2023-01-07T18:15:21.975315Z",
     "shell.execute_reply": "2023-01-07T18:15:21.974260Z",
     "shell.execute_reply.started": "2023-01-07T18:15:21.136726Z"
    },
    "id": "a8b829c9",
    "outputId": "1abc973d-ec2a-4320-ebb9-9f1d7f768a46"
   },
   "outputs": [],
   "source": [
    "# Task 03 Cell 1 out of 1\n",
    "\n",
    "for nutrition_col in Nutrition_Col_Names:# loop over each of the newly created nutrition columns \n",
    "    if nutrition_col != \"calories\":\n",
    "        # the calories column should not be a part of the transformation exercise\n",
    "        # following code will name the new columns \n",
    "        nutrition_per_100_cal_col = (nutrition_col\n",
    "                                 .replace('_PDV','')\n",
    "                                 +'_per_100_cal')\n",
    "        Raw_Recipe_Data = Raw_Recipe_Data.withColumn(nutrition_per_100_cal_col,\n",
    "                                               Raw_Recipe_Data[nutrition_col]*100/Raw_Recipe_Data[\"calories\"]\n",
    "                                                # pyspark code to recreate the intended transformation \n",
    "                                                  )\n",
    "        \n",
    "        # You might end up adding nulls to the data because of our intended transformation. \n",
    "        # Perform a fill na operation to fill all the nulls with 0s. \n",
    "        # You must limit the scope of the fill na to the current column only. \n",
    "        \n",
    "        Raw_Recipe_Data = Raw_Recipe_Data.fillna(value=0,subset=[nutrition_per_100_cal_col]) \n",
    "        # pyspark code to fill nulls with 0 in only the current nutrition_per_100_cal_col         "
   ]
  },
  {
   "cell_type": "markdown",
   "id": "fc732e54",
   "metadata": {
    "id": "fc732e54"
   },
   "source": [
    "### Test cases for Task 03"
   ]
  },
  {
   "cell_type": "code",
   "execution_count": 23,
   "id": "5a6fae38",
   "metadata": {
    "colab": {
     "referenced_widgets": [
      "17d2ac27f3514cb18614759be70a319a",
      ""
     ]
    },
    "execution": {
     "iopub.execute_input": "2023-01-07T18:15:28.353296Z",
     "iopub.status.busy": "2023-01-07T18:15:28.352771Z",
     "iopub.status.idle": "2023-01-07T18:16:06.389196Z",
     "shell.execute_reply": "2023-01-07T18:16:06.384278Z",
     "shell.execute_reply.started": "2023-01-07T18:15:28.353244Z"
    },
    "id": "5a6fae38",
    "outputId": "a3b42a02-417b-4f48-b0cb-09d3985cab5c"
   },
   "outputs": [],
   "source": [
    "# total fat check for id 28881\n",
    "assert Raw_Recipe_Data.filter(\"id == 28881\").select('total_fat_per_100_cal').first()[0] == 0, \"total_fat_per_100_cal for recipe 28881 should be 0\"\n",
    "\n",
    "# total fat check for id 112140\n",
    "assert round(Raw_Recipe_Data.filter(\"id == 112140\").select('total_fat_per_100_cal').first()[0]) == 8, \"total_fat_per_100_cal for recipe 112140 should be 8\"\n",
    "\n",
    "# checking for nulls\n",
    "for x in ['total_fat_per_100_cal','sugar_per_100_cal','sodium_per_100_cal','protein_per_100_cal',\n",
    "                          'saturated_fat_per_100_cal','carbohydrates_per_100_cal']:\n",
    "    assert Raw_Recipe_Data.select(F.count(F.when(F.isnan(x) | F.col(x).isNull(), x)).alias(x)).collect()[0][0] == 0, \"There are Nulls in the data\""
   ]
  },
  {
   "cell_type": "code",
   "execution_count": 24,
   "id": "407b36b4",
   "metadata": {
    "colab": {
     "referenced_widgets": [
      "27a702d5452d4432bd80402c9291a4ff",
      ""
     ]
    },
    "execution": {
     "iopub.execute_input": "2023-01-07T18:16:10.030357Z",
     "iopub.status.busy": "2023-01-07T18:16:10.030091Z",
     "iopub.status.idle": "2023-01-07T18:16:12.349636Z",
     "shell.execute_reply": "2023-01-07T18:16:12.348532Z",
     "shell.execute_reply.started": "2023-01-07T18:16:10.030325Z"
    },
    "id": "407b36b4",
    "outputId": "c6476943-27fd-46e8-bb84-d11d77b64f4b"
   },
   "outputs": [
    {
     "data": {
      "text/plain": [
       "True"
      ]
     },
     "execution_count": 24,
     "metadata": {},
     "output_type": "execute_result"
    }
   ],
   "source": [
    "Raw_Recipe_Data.filter(\"id == 28881\").select('total_fat_per_100_cal').first()[0] == 0"
   ]
  },
  {
   "cell_type": "code",
   "execution_count": 25,
   "id": "51748f1a",
   "metadata": {
    "colab": {
     "referenced_widgets": [
      "1873ccd098be4e2c8ca54f3da376c42a",
      ""
     ]
    },
    "execution": {
     "iopub.execute_input": "2023-01-07T18:16:14.909187Z",
     "iopub.status.busy": "2023-01-07T18:16:14.908917Z",
     "iopub.status.idle": "2023-01-07T18:16:15.200515Z",
     "shell.execute_reply": "2023-01-07T18:16:15.199729Z",
     "shell.execute_reply.started": "2023-01-07T18:16:14.909156Z"
    },
    "id": "51748f1a",
    "outputId": "e099d285-7cd3-428e-a87b-639ea3636357"
   },
   "outputs": [
    {
     "data": {
      "text/plain": [
       "True"
      ]
     },
     "execution_count": 25,
     "metadata": {},
     "output_type": "execute_result"
    }
   ],
   "source": [
    "round(Raw_Recipe_Data.filter(\"id == 112140\").select('total_fat_per_100_cal').first()[0]) == 8"
   ]
  },
  {
   "cell_type": "code",
   "execution_count": 26,
   "id": "be84d2fd",
   "metadata": {
    "colab": {
     "referenced_widgets": [
      "0d2d097156194fe1974c94ef27e5fb2f",
      ""
     ]
    },
    "execution": {
     "iopub.execute_input": "2023-01-07T18:16:16.523924Z",
     "iopub.status.busy": "2023-01-07T18:16:16.523648Z",
     "iopub.status.idle": "2023-01-07T18:16:40.149108Z",
     "shell.execute_reply": "2023-01-07T18:16:40.148189Z",
     "shell.execute_reply.started": "2023-01-07T18:16:16.523891Z"
    },
    "id": "be84d2fd",
    "outputId": "6f4745e7-9614-46f7-eaf3-2097d38faeff"
   },
   "outputs": [],
   "source": [
    "for y in ['total_fat_per_100_cal','sugar_per_100_cal','sodium_per_100_cal','protein_per_100_cal',\n",
    "                          'saturated_fat_per_100_cal','carbohydrates_per_100_cal']:\n",
    "    assert Raw_Recipe_Data.select(F.count(F.when(F.isnan(y) | F.col(y).isNull(), y)).alias(y)).collect()[0][0] == 0"
   ]
  },
  {
   "cell_type": "code",
   "execution_count": 27,
   "id": "39905e3e",
   "metadata": {
    "colab": {
     "referenced_widgets": [
      "e219464f88574a368aa497094394474a",
      ""
     ]
    },
    "execution": {
     "iopub.execute_input": "2023-01-07T18:16:40.151144Z",
     "iopub.status.busy": "2023-01-07T18:16:40.150783Z",
     "iopub.status.idle": "2023-01-07T18:16:40.225866Z",
     "shell.execute_reply": "2023-01-07T18:16:40.224769Z",
     "shell.execute_reply.started": "2023-01-07T18:16:40.151068Z"
    },
    "id": "39905e3e",
    "outputId": "1b241ac3-121e-47df-a7e6-edf9e86ce6f9"
   },
   "outputs": [
    {
     "name": "stdout",
     "output_type": "stream",
     "text": [
      "root\n",
      " |-- name: string (nullable = true)\n",
      " |-- id: integer (nullable = true)\n",
      " |-- minutes: integer (nullable = true)\n",
      " |-- contributor_id: integer (nullable = true)\n",
      " |-- submitted: date (nullable = true)\n",
      " |-- tags: string (nullable = true)\n",
      " |-- nutrition: string (nullable = true)\n",
      " |-- n_steps: integer (nullable = true)\n",
      " |-- steps: string (nullable = true)\n",
      " |-- description: string (nullable = true)\n",
      " |-- ingredients: string (nullable = true)\n",
      " |-- n_ingredients: integer (nullable = true)\n",
      " |-- calories: float (nullable = true)\n",
      " |-- total_fat_PDV: float (nullable = true)\n",
      " |-- sugar_PDV: float (nullable = true)\n",
      " |-- sodium_PDV: float (nullable = true)\n",
      " |-- protein_PDV: float (nullable = true)\n",
      " |-- saturated_fat_PDV: float (nullable = true)\n",
      " |-- carbohydrates_PDV: float (nullable = true)\n",
      " |-- total_fat_per_100_cal: double (nullable = false)\n",
      " |-- sugar_per_100_cal: double (nullable = false)\n",
      " |-- sodium_per_100_cal: double (nullable = false)\n",
      " |-- protein_per_100_cal: double (nullable = false)\n",
      " |-- saturated_fat_per_100_cal: double (nullable = false)\n",
      " |-- carbohydrates_per_100_cal: double (nullable = false)\n",
      "\n"
     ]
    }
   ],
   "source": [
    "Raw_Recipe_Data.printSchema()"
   ]
  },
  {
   "cell_type": "markdown",
   "id": "6cba9f37",
   "metadata": {
    "id": "6cba9f37"
   },
   "source": [
    "### Task 3 Completed"
   ]
  },
  {
   "cell_type": "markdown",
   "id": "feed5d93",
   "metadata": {
    "id": "feed5d93"
   },
   "source": [
    "## <font color = blue >  Task 04: Convert the tags column from a string to an array of strings  </font>"
   ]
  },
  {
   "cell_type": "markdown",
   "id": "baffc679",
   "metadata": {
    "id": "baffc679"
   },
   "source": [
    "1) Currently, the tags column is a string column but holds an array of strings.\n",
    "\n",
    "2) Your task is to convert the tags columns from a string to an array of strings.\n",
    "\n",
    "3) Remove [ ] ' punctuation marks from the tags column. Split the tags column based on the comma delimiter"
   ]
  },
  {
   "cell_type": "markdown",
   "id": "934e4328",
   "metadata": {
    "id": "934e4328"
   },
   "source": [
    "### Solution to Task 04"
   ]
  },
  {
   "cell_type": "code",
   "execution_count": 28,
   "id": "66977b36",
   "metadata": {
    "colab": {
     "referenced_widgets": [
      "6fabc5afaba7499c8dfca43bab0bd2bf",
      ""
     ]
    },
    "execution": {
     "iopub.execute_input": "2023-01-07T18:16:50.183711Z",
     "iopub.status.busy": "2023-01-07T18:16:50.183423Z",
     "iopub.status.idle": "2023-01-07T18:16:50.476148Z",
     "shell.execute_reply": "2023-01-07T18:16:50.475189Z",
     "shell.execute_reply.started": "2023-01-07T18:16:50.183677Z"
    },
    "id": "66977b36",
    "outputId": "d613b05d-e531-436e-efdc-274e1269e0c8"
   },
   "outputs": [],
   "source": [
    "Raw_Recipe_Data = (Raw_Recipe_Data\n",
    "                    .withColumn(\"tags\", F.concat_ws(\",\", \"tags\"))\n",
    "                    .withColumn(\"tags\", F.regexp_replace(\"tags\", \"[\\\\[\\\\]']\", \"\"))\n",
    "                    .withColumn(\"tags\", F.split(\"tags\", \", \"))\n",
    "                   )\n"
   ]
  },
  {
   "cell_type": "code",
   "execution_count": 29,
   "id": "6e4005ab",
   "metadata": {
    "colab": {
     "referenced_widgets": [
      "e418e91de40a4bd493c45a4f078f76e9",
      ""
     ]
    },
    "execution": {
     "iopub.execute_input": "2023-01-07T18:16:56.058343Z",
     "iopub.status.busy": "2023-01-07T18:16:56.058063Z",
     "iopub.status.idle": "2023-01-07T18:16:56.176576Z",
     "shell.execute_reply": "2023-01-07T18:16:56.175683Z",
     "shell.execute_reply.started": "2023-01-07T18:16:56.058311Z"
    },
    "id": "6e4005ab",
    "outputId": "56971199-93fa-4899-90a8-d904eab57e40"
   },
   "outputs": [
    {
     "name": "stdout",
     "output_type": "stream",
     "text": [
      "root\n",
      " |-- name: string (nullable = true)\n",
      " |-- id: integer (nullable = true)\n",
      " |-- minutes: integer (nullable = true)\n",
      " |-- contributor_id: integer (nullable = true)\n",
      " |-- submitted: date (nullable = true)\n",
      " |-- tags: array (nullable = false)\n",
      " |    |-- element: string (containsNull = false)\n",
      " |-- nutrition: string (nullable = true)\n",
      " |-- n_steps: integer (nullable = true)\n",
      " |-- steps: string (nullable = true)\n",
      " |-- description: string (nullable = true)\n",
      " |-- ingredients: string (nullable = true)\n",
      " |-- n_ingredients: integer (nullable = true)\n",
      " |-- calories: float (nullable = true)\n",
      " |-- total_fat_PDV: float (nullable = true)\n",
      " |-- sugar_PDV: float (nullable = true)\n",
      " |-- sodium_PDV: float (nullable = true)\n",
      " |-- protein_PDV: float (nullable = true)\n",
      " |-- saturated_fat_PDV: float (nullable = true)\n",
      " |-- carbohydrates_PDV: float (nullable = true)\n",
      " |-- total_fat_per_100_cal: double (nullable = false)\n",
      " |-- sugar_per_100_cal: double (nullable = false)\n",
      " |-- sodium_per_100_cal: double (nullable = false)\n",
      " |-- protein_per_100_cal: double (nullable = false)\n",
      " |-- saturated_fat_per_100_cal: double (nullable = false)\n",
      " |-- carbohydrates_per_100_cal: double (nullable = false)\n",
      "\n"
     ]
    }
   ],
   "source": [
    "Raw_Recipe_Data.printSchema()"
   ]
  },
  {
   "cell_type": "code",
   "execution_count": 30,
   "id": "156c840f",
   "metadata": {
    "colab": {
     "referenced_widgets": [
      "ebd710d8fc394407b67c4b32274f961f",
      ""
     ]
    },
    "execution": {
     "iopub.execute_input": "2023-01-07T18:16:58.377555Z",
     "iopub.status.busy": "2023-01-07T18:16:58.377287Z",
     "iopub.status.idle": "2023-01-07T18:17:25.869668Z",
     "shell.execute_reply": "2023-01-07T18:17:25.868705Z",
     "shell.execute_reply.started": "2023-01-07T18:16:58.377523Z"
    },
    "id": "156c840f",
    "outputId": "55b21bb2-9aea-41d4-8643-a7827189cd0c"
   },
   "outputs": [
    {
     "name": "stdout",
     "output_type": "stream",
     "text": [
      "The 'tags' column is already an array. Skipping splitting operation.\n",
      "root\n",
      " |-- name: string (nullable = true)\n",
      " |-- id: integer (nullable = true)\n",
      " |-- minutes: integer (nullable = true)\n",
      " |-- contributor_id: integer (nullable = true)\n",
      " |-- submitted: date (nullable = true)\n",
      " |-- tags: array (nullable = false)\n",
      " |    |-- element: string (containsNull = false)\n",
      " |-- nutrition: string (nullable = true)\n",
      " |-- n_steps: integer (nullable = true)\n",
      " |-- steps: string (nullable = true)\n",
      " |-- description: string (nullable = true)\n",
      " |-- ingredients: string (nullable = true)\n",
      " |-- n_ingredients: integer (nullable = true)\n",
      " |-- calories: float (nullable = true)\n",
      " |-- total_fat_PDV: float (nullable = true)\n",
      " |-- sugar_PDV: float (nullable = true)\n",
      " |-- sodium_PDV: float (nullable = true)\n",
      " |-- protein_PDV: float (nullable = true)\n",
      " |-- saturated_fat_PDV: float (nullable = true)\n",
      " |-- carbohydrates_PDV: float (nullable = true)\n",
      " |-- total_fat_per_100_cal: double (nullable = false)\n",
      " |-- sugar_per_100_cal: double (nullable = false)\n",
      " |-- sodium_per_100_cal: double (nullable = false)\n",
      " |-- protein_per_100_cal: double (nullable = false)\n",
      " |-- saturated_fat_per_100_cal: double (nullable = false)\n",
      " |-- carbohydrates_per_100_cal: double (nullable = false)\n",
      "\n"
     ]
    }
   ],
   "source": [
    "from pyspark.sql.types import ArrayType, StringType\n",
    "from pyspark.sql.functions import col\n",
    "\n",
    "# Check if the \"tags\" column is already an array type\n",
    "if isinstance(Raw_Recipe_Data.schema[\"tags\"].dataType, ArrayType):\n",
    "    print(\"The 'tags' column is already an array. Skipping splitting operation.\")\n",
    "else:\n",
    "    # Split the \"tags\" column by commas and trim whitespace\n",
    "    Raw_Recipe_Data = Raw_Recipe_Data.withColumn(\"tags_array\", split(col(\"tags\"), \",\").cast(ArrayType(StringType(), True)))\n",
    "    print(\"Splitting operation performed.\")\n",
    "\n",
    "# Check the schema after potentially performing the splitting operation\n",
    "Raw_Recipe_Data.printSchema()\n"
   ]
  },
  {
   "cell_type": "code",
   "execution_count": 31,
   "id": "03c0a9c3",
   "metadata": {
    "colab": {
     "referenced_widgets": [
      "40d10d16c00d4187bc6433b9893ede8c",
      ""
     ]
    },
    "execution": {
     "iopub.execute_input": "2023-01-07T18:17:27.876680Z",
     "iopub.status.busy": "2023-01-07T18:17:27.876401Z",
     "iopub.status.idle": "2023-01-07T18:17:27.955349Z",
     "shell.execute_reply": "2023-01-07T18:17:27.954436Z",
     "shell.execute_reply.started": "2023-01-07T18:17:27.876648Z"
    },
    "id": "03c0a9c3",
    "outputId": "71c85983-d19c-4c4c-fc00-ffa917d0a7e7"
   },
   "outputs": [
    {
     "data": {
      "text/plain": [
       "True"
      ]
     },
     "execution_count": 31,
     "metadata": {},
     "output_type": "execute_result"
    }
   ],
   "source": [
    "Raw_Recipe_Data.schema[\"tags\"].dataType == ArrayType(StringType(), False)"
   ]
  },
  {
   "cell_type": "markdown",
   "id": "b7e2ae26",
   "metadata": {
    "id": "b7e2ae26"
   },
   "source": [
    "### Task 4 Completed"
   ]
  },
  {
   "cell_type": "markdown",
   "id": "410faabe",
   "metadata": {
    "id": "410faabe"
   },
   "source": [
    "## Join Recipe Data to Review Data"
   ]
  },
  {
   "cell_type": "code",
   "execution_count": 32,
   "id": "1d16f9cd",
   "metadata": {
    "colab": {
     "referenced_widgets": [
      "4b152e34b418440a9eeba2d06dd1cff5",
      ""
     ]
    },
    "execution": {
     "iopub.execute_input": "2023-01-07T18:17:56.860886Z",
     "iopub.status.busy": "2023-01-07T18:17:56.860589Z",
     "iopub.status.idle": "2023-01-07T18:18:06.246175Z",
     "shell.execute_reply": "2023-01-07T18:18:06.245187Z",
     "shell.execute_reply.started": "2023-01-07T18:17:56.860851Z"
    },
    "id": "1d16f9cd",
    "outputId": "9fd791d0-b665-409f-839d-12d305152c7d",
    "scrolled": true
   },
   "outputs": [],
   "source": [
    "# Reading the second data set. \n",
    "# keep this cell unedited\n",
    "\n",
    "Raw_Ratings_Data = (spark.read.csv(\"C:\\\\Users\\\\OWNER\\\\Downloads\\\\RAW_interactions_cleaned.csv\", \n",
    "                                 header=True, \n",
    "                                 inferSchema= True)\n",
    "                  .withColumn(\"review_date\",  F.col(\"date\"))\n",
    "                  .drop(F.col(\"date\"))\n",
    "                  )"
   ]
  },
  {
   "cell_type": "code",
   "execution_count": 33,
   "id": "4fa49767",
   "metadata": {
    "colab": {
     "referenced_widgets": [
      "33b63e944bb14ee39bdb098902f647a5",
      ""
     ]
    },
    "execution": {
     "iopub.execute_input": "2023-01-07T18:18:09.323901Z",
     "iopub.status.busy": "2023-01-07T18:18:09.323639Z",
     "iopub.status.idle": "2023-01-07T18:18:09.397055Z",
     "shell.execute_reply": "2023-01-07T18:18:09.396191Z",
     "shell.execute_reply.started": "2023-01-07T18:18:09.323870Z"
    },
    "id": "4fa49767",
    "outputId": "75391ffc-2aeb-444b-aefb-93068c975b45"
   },
   "outputs": [
    {
     "name": "stdout",
     "output_type": "stream",
     "text": [
      "root\n",
      " |-- user_id: integer (nullable = true)\n",
      " |-- recipe_id: integer (nullable = true)\n",
      " |-- rating: integer (nullable = true)\n",
      " |-- review: string (nullable = true)\n",
      " |-- review_date: date (nullable = true)\n",
      "\n"
     ]
    }
   ],
   "source": [
    "Raw_Ratings_Data.printSchema()"
   ]
  },
  {
   "cell_type": "code",
   "execution_count": 34,
   "id": "14f7c104",
   "metadata": {
    "colab": {
     "referenced_widgets": [
      "9000f44ff355418289f1af34cee8eecd",
      ""
     ]
    },
    "execution": {
     "iopub.execute_input": "2023-01-07T18:18:11.649920Z",
     "iopub.status.busy": "2023-01-07T18:18:11.649532Z",
     "iopub.status.idle": "2023-01-07T18:18:15.033084Z",
     "shell.execute_reply": "2023-01-07T18:18:15.032290Z",
     "shell.execute_reply.started": "2023-01-07T18:18:11.649870Z"
    },
    "id": "14f7c104",
    "outputId": "4e72165c-e719-4663-8bc1-2d16f38c4909"
   },
   "outputs": [],
   "source": [
    "# Code check cell\n",
    "# Do not edit cells with assert commands\n",
    "# If an error is shown after running this cell, please recheck your code.  \n",
    "\n",
    "assert Raw_Ratings_Data.count() == 1132367, \"There is a mistake in reading the data.\"\n",
    "assert len(Raw_Ratings_Data.columns) == 5, \"There is a mistake in reading the data.\""
   ]
  },
  {
   "cell_type": "code",
   "execution_count": 35,
   "id": "72ff47ae",
   "metadata": {
    "colab": {
     "referenced_widgets": [
      "10758bccab2045fa885d0d2c1de051d4",
      ""
     ]
    },
    "execution": {
     "iopub.execute_input": "2023-01-07T18:18:15.034445Z",
     "iopub.status.busy": "2023-01-07T18:18:15.034229Z",
     "iopub.status.idle": "2023-01-07T18:18:15.828633Z",
     "shell.execute_reply": "2023-01-07T18:18:15.827642Z",
     "shell.execute_reply.started": "2023-01-07T18:18:15.034416Z"
    },
    "id": "72ff47ae",
    "outputId": "3111c6af-5600-4a87-cf81-4bc7977b007c"
   },
   "outputs": [
    {
     "name": "stdout",
     "output_type": "stream",
     "text": [
      "+-------+---------+------+--------------------+-----------+\n",
      "|user_id|recipe_id|rating|              review|review_date|\n",
      "+-------+---------+------+--------------------+-----------+\n",
      "|  38094|    40893|     4|Great with a sala...| 2003-02-17|\n",
      "|1293707|    40893|     5|So simple  so del...| 2011-12-21|\n",
      "|   8937|    44394|     4|This worked very ...| 2002-12-01|\n",
      "| 126440|    85009|     5|I made the Mexica...| 2010-02-27|\n",
      "|  57222|    85009|     5|Made the cheddar ...| 2011-10-01|\n",
      "+-------+---------+------+--------------------+-----------+\n",
      "only showing top 5 rows\n",
      "\n"
     ]
    }
   ],
   "source": [
    "Raw_Ratings_Data.show(5)"
   ]
  },
  {
   "cell_type": "markdown",
   "id": "b6774391",
   "metadata": {
    "id": "b6774391"
   },
   "source": [
    "## <font color = blue >  Task 05: Read the second data file  </font>"
   ]
  },
  {
   "cell_type": "markdown",
   "id": "60bf5129",
   "metadata": {
    "id": "60bf5129"
   },
   "source": [
    "1) Along with raw recipes data, we also have raw ratings data.\n",
    "\n",
    "2) The code to read the data is already written above. Your task is to join the raw ratings and raw recipes data.\n",
    "\n",
    "3) The resulting dataframe must have the same number of rows as in the raw ratings data.\n",
    "\n",
    "4) Join both the dataframes using the recipie IDs."
   ]
  },
  {
   "cell_type": "markdown",
   "id": "0df4de12",
   "metadata": {
    "id": "0df4de12"
   },
   "source": [
    "#### Calculation explanation\n",
    "\n",
    "1) There are 25 columns in the raw_recipes_df and five in the raw_ratings_df. So total columns in the combined dataframe 25 + 5 = 30\n",
    "\n",
    "2) The number of rows in the combined dataframe must be the same as the rows in the raw_ratings_df. So total rows in combined dataframe 1132367\n",
    "\n",
    "3) We have included some test cases given below. You can use them to check if you have completed the task correctly."
   ]
  },
  {
   "cell_type": "markdown",
   "id": "ae2acb6e",
   "metadata": {
    "id": "ae2acb6e"
   },
   "source": [
    "### Solution to Task 05"
   ]
  },
  {
   "cell_type": "code",
   "execution_count": 36,
   "id": "155f2ca9",
   "metadata": {
    "colab": {
     "referenced_widgets": [
      "47623086da3845be969ec38aeb5bbe7f",
      ""
     ]
    },
    "execution": {
     "iopub.execute_input": "2023-01-07T18:18:23.077758Z",
     "iopub.status.busy": "2023-01-07T18:18:23.077477Z",
     "iopub.status.idle": "2023-01-07T18:18:23.164777Z",
     "shell.execute_reply": "2023-01-07T18:18:23.163533Z",
     "shell.execute_reply.started": "2023-01-07T18:18:23.077726Z"
    },
    "id": "155f2ca9",
    "outputId": "62043998-62eb-45ef-cb30-5783e1239992"
   },
   "outputs": [],
   "source": [
    "interaction_level_df = Raw_Ratings_Data.join(Raw_Recipe_Data, Raw_Ratings_Data.recipe_id == Raw_Recipe_Data.id, \"inner\")\n"
   ]
  },
  {
   "cell_type": "code",
   "execution_count": 37,
   "id": "70aba52a",
   "metadata": {
    "scrolled": false
   },
   "outputs": [
    {
     "name": "stdout",
     "output_type": "stream",
     "text": [
      "+----------+---------+------+--------------------+-----------+--------------------+---+-------+--------------+----------+--------------------+--------------------+-------+--------------------+--------------------+--------------------+-------------+--------+-------------+---------+----------+-----------+-----------------+-----------------+---------------------+-------------------+------------------+-------------------+-------------------------+-------------------------+\n",
      "|   user_id|recipe_id|rating|              review|review_date|                name| id|minutes|contributor_id| submitted|                tags|           nutrition|n_steps|               steps|         description|         ingredients|n_ingredients|calories|total_fat_PDV|sugar_PDV|sodium_PDV|protein_PDV|saturated_fat_PDV|carbohydrates_PDV|total_fat_per_100_cal|  sugar_per_100_cal|sodium_per_100_cal|protein_per_100_cal|saturated_fat_per_100_cal|carbohydrates_per_100_cal|\n",
      "+----------+---------+------+--------------------+-----------+--------------------+---+-------+--------------+----------+--------------------+--------------------+-------+--------------------+--------------------+--------------------+-------------+--------+-------------+---------+----------+-----------+-----------------+-----------------+---------------------+-------------------+------------------+-------------------+-------------------------+-------------------------+\n",
      "|    557764|       53|     3|First Jimmy let m...| 2009-07-09|jimmy g s carrot ...| 53|    110|          1772|1999-09-08|[weeknight, time-...|372.9, 16.0, 163....|     15|['grease and ligh...|                    |['all-purpose flo...|           13|   372.9|         16.0|    163.0|       7.0|       13.0|             16.0|             22.0|    4.290694626410088|  43.71145150655277|1.8771788990544134| 3.4861893839581963|        4.290694626410088|        5.899705111313871|\n",
      "|    269153|       81|     5|This is FANTASTIC...| 2006-03-09|all purpose quick...| 81|     40|        125579|1999-09-10|[60-minutes-or-le...|529.3, 37.0, 1.0,...|     36|['blend flours , ...|--adopted recipe-...|['whole wheat flo...|            5|   529.3|         37.0|      1.0|      36.0|       22.0|             73.0|             23.0|   6.9903647937494835|0.18892877820944548|6.8014360155400375|  4.156433120607801|       13.791800809289521|        4.345361898817246|\n",
      "|    985729|       81|     5|I have made sever...| 2010-05-23|all purpose quick...| 81|     40|        125579|1999-09-10|[60-minutes-or-le...|529.3, 37.0, 1.0,...|     36|['blend flours , ...|--adopted recipe-...|['whole wheat flo...|            5|   529.3|         37.0|      1.0|      36.0|       22.0|             73.0|             23.0|   6.9903647937494835|0.18892877820944548|6.8014360155400375|  4.156433120607801|       13.791800809289521|        4.345361898817246|\n",
      "|     27678|       85|     5|A perfect cake. I...| 2005-03-25| butter madeira cake| 85|    175|          1543|1999-09-12|[weeknight, time-...|373.8, 30.0, 88.0...|     15|['grease lined ti...|this is a good st...|['flour', 'baking...|            7|   373.8|         30.0|     88.0|      10.0|       11.0|             59.0|             14.0|     8.02568244507693|  23.54200183889233|  2.67522748169231|  2.942750229861541|       15.783842141984628|        3.745318474369234|\n",
      "|    273254|       85|     5|This recipe is so...| 2009-02-09| butter madeira cake| 85|    175|          1543|1999-09-12|[weeknight, time-...|373.8, 30.0, 88.0...|     15|['grease lined ti...|this is a good st...|['flour', 'baking...|            7|   373.8|         30.0|     88.0|      10.0|       11.0|             59.0|             14.0|     8.02568244507693|  23.54200183889233|  2.67522748169231|  2.942750229861541|       15.783842141984628|        3.745318474369234|\n",
      "|     92666|       91|     4|I'm not a big fan...| 2004-01-30|brown rice and ve...| 91|    150|          1576|1999-09-06|[weeknight, time-...|412.6, 37.0, 10.0...|      9|['preheat oven to...|this is good with...|['brown rice', 'c...|           13|   412.6|         37.0|     10.0|      17.0|       16.0|             81.0|             14.0|     8.96752289206637| 2.4236548356936134| 4.120213220679142| 3.8778477371097813|        19.63160416911827|       3.3931167699710585|\n",
      "|    189393|       91|     5|Wonderful way to ...| 2005-05-17|brown rice and ve...| 91|    150|          1576|1999-09-06|[weeknight, time-...|412.6, 37.0, 10.0...|      9|['preheat oven to...|this is good with...|['brown rice', 'c...|           13|   412.6|         37.0|     10.0|      17.0|       16.0|             81.0|             14.0|     8.96752289206637| 2.4236548356936134| 4.120213220679142| 3.8778477371097813|        19.63160416911827|       3.3931167699710585|\n",
      "|    601227|       91|     5|I did not add the...| 2008-05-17|brown rice and ve...| 91|    150|          1576|1999-09-06|[weeknight, time-...|412.6, 37.0, 10.0...|      9|['preheat oven to...|this is good with...|['brown rice', 'c...|           13|   412.6|         37.0|     10.0|      17.0|       16.0|             81.0|             14.0|     8.96752289206637| 2.4236548356936134| 4.120213220679142| 3.8778477371097813|        19.63160416911827|       3.3931167699710585|\n",
      "|    194829|       91|     5|Very good... I'm ...| 2009-01-29|brown rice and ve...| 91|    150|          1576|1999-09-06|[weeknight, time-...|412.6, 37.0, 10.0...|      9|['preheat oven to...|this is good with...|['brown rice', 'c...|           13|   412.6|         37.0|     10.0|      17.0|       16.0|             81.0|             14.0|     8.96752289206637| 2.4236548356936134| 4.120213220679142| 3.8778477371097813|        19.63160416911827|       3.3931167699710585|\n",
      "|     52543|       91|     5|You can tell by t...| 2009-02-22|brown rice and ve...| 91|    150|          1576|1999-09-06|[weeknight, time-...|412.6, 37.0, 10.0...|      9|['preheat oven to...|this is good with...|['brown rice', 'c...|           13|   412.6|         37.0|     10.0|      17.0|       16.0|             81.0|             14.0|     8.96752289206637| 2.4236548356936134| 4.120213220679142| 3.8778477371097813|        19.63160416911827|       3.3931167699710585|\n",
      "|2000462500|       91|     5|Great - v useful ...| 2015-09-08|brown rice and ve...| 91|    150|          1576|1999-09-06|[weeknight, time-...|412.6, 37.0, 10.0...|      9|['preheat oven to...|this is good with...|['brown rice', 'c...|           13|   412.6|         37.0|     10.0|      17.0|       16.0|             81.0|             14.0|     8.96752289206637| 2.4236548356936134| 4.120213220679142| 3.8778477371097813|        19.63160416911827|       3.3931167699710585|\n",
      "|    153188|      108|     3|This is really go...| 2007-12-01|buttermilk pie in...|108|    100|          1535|1999-08-06|[weeknight, time-...|459.0, 29.0, 163....|     24|['for pastry: sif...|post by request. ...|['flour', 'salt',...|           14|   459.0|         29.0|    163.0|      13.0|       21.0|             32.0|             20.0|    6.318082788671024|   35.5119825708061| 2.832244008714597|   4.57516339869281|        6.971677559912854|        4.357298474945534|\n",
      "|    735593|      108|     3|Okay  the crust w...| 2009-08-10|buttermilk pie in...|108|    100|          1535|1999-08-06|[weeknight, time-...|459.0, 29.0, 163....|     24|['for pastry: sif...|post by request. ...|['flour', 'salt',...|           14|   459.0|         29.0|    163.0|      13.0|       21.0|             32.0|             20.0|    6.318082788671024|   35.5119825708061| 2.832244008714597|   4.57516339869281|        6.971677559912854|        4.357298474945534|\n",
      "|     22212|      115|     5|The white wine (I...| 2001-10-28|a new spaghetti w...|115|     40|          1533|1999-08-11|[60-minutes-or-le...|1536.7, 37.0, 21....|     13|['bring 4 quarts ...|                    |['littleneck clam...|           10|  1536.7|         37.0|     21.0|      52.0|      213.0|             18.0|             71.0|    2.407756958135132| 1.3665647600226427| 3.383874643865591| 13.860871137372518|       1.1713412228765507|        4.620290379124173|\n",
      "|    851190|      126|     5|Dinner was extra ...| 2010-05-25|carnation lean fe...|126|     40|          1556|1999-08-14|[60-minutes-or-le...|535.7, 24.0, 9.0,...|      9|['in a large pot ...|                    |['fettuccine', 'o...|           13|   535.7|         24.0|      9.0|      24.0|       57.0|             37.0|             23.0|    4.480119367763754| 1.6800447629114077| 4.480119367763754| 10.640283498438915|        6.906850691969121|        4.293447727440264|\n",
      "|    152729|      133|     4|this was wonderfu...| 2004-07-17|blueberry pancake...|133|     86|          1571|1999-08-06|[weeknight, time-...|1329.7, 1.0, 1315...|     17|['pour the bluebe...|i've made this bl...|['blueberries', '...|            5|  1329.7|          1.0|   1315.0|       0.0|        4.0|              0.0|            114.0|  0.07520493620524632|  98.89449110989891|               0.0| 0.3008197448209853|                      0.0|         8.57336272739808|\n",
      "|    983863|      133|     5|I halved the reci...| 2010-05-27|blueberry pancake...|133|     86|          1571|1999-08-06|[weeknight, time-...|1329.7, 1.0, 1315...|     17|['pour the bluebe...|i've made this bl...|['blueberries', '...|            5|  1329.7|          1.0|   1315.0|       0.0|        4.0|              0.0|            114.0|  0.07520493620524632|  98.89449110989891|               0.0| 0.3008197448209853|                      0.0|         8.57336272739808|\n",
      "|     91690|      133|     5|Thanks for a wond...| 2010-12-11|blueberry pancake...|133|     86|          1571|1999-08-06|[weeknight, time-...|1329.7, 1.0, 1315...|     17|['pour the bluebe...|i've made this bl...|['blueberries', '...|            5|  1329.7|          1.0|   1315.0|       0.0|        4.0|              0.0|            114.0|  0.07520493620524632|  98.89449110989891|               0.0| 0.3008197448209853|                      0.0|         8.57336272739808|\n",
      "|    593431|      133|     5|My DS and DD love...| 2011-02-25|blueberry pancake...|133|     86|          1571|1999-08-06|[weeknight, time-...|1329.7, 1.0, 1315...|     17|['pour the bluebe...|i've made this bl...|['blueberries', '...|            5|  1329.7|          1.0|   1315.0|       0.0|        4.0|              0.0|            114.0|  0.07520493620524632|  98.89449110989891|               0.0| 0.3008197448209853|                      0.0|         8.57336272739808|\n",
      "|      2156|      148|     0|Would someone ple...| 2000-06-02|           bugwiches|148|     40|          1579|1999-08-11|[60-minutes-or-le...|84.0, 3.0, 2.0, 6...|      8|['how to assemble...|a little bit of f...|['dinner roll', '...|           11|    84.0|          3.0|      2.0|       6.0|        4.0|              2.0|              4.0|   3.5714285714285716|  2.380952380952381| 7.142857142857143|  4.761904761904762|        2.380952380952381|        4.761904761904762|\n",
      "+----------+---------+------+--------------------+-----------+--------------------+---+-------+--------------+----------+--------------------+--------------------+-------+--------------------+--------------------+--------------------+-------------+--------+-------------+---------+----------+-----------+-----------------+-----------------+---------------------+-------------------+------------------+-------------------+-------------------------+-------------------------+\n",
      "only showing top 20 rows\n",
      "\n"
     ]
    }
   ],
   "source": [
    "interaction_level_df.show()\n"
   ]
  },
  {
   "cell_type": "code",
   "execution_count": 38,
   "id": "2460c926",
   "metadata": {},
   "outputs": [
    {
     "name": "stdout",
     "output_type": "stream",
     "text": [
      "<class 'pyspark.sql.dataframe.DataFrame'>\n"
     ]
    }
   ],
   "source": [
    "print(type(interaction_level_df))"
   ]
  },
  {
   "cell_type": "markdown",
   "id": "0958bf3f",
   "metadata": {
    "id": "0958bf3f"
   },
   "source": [
    "### Test cases for Task 05"
   ]
  },
  {
   "cell_type": "code",
   "execution_count": 39,
   "id": "d66fac26",
   "metadata": {
    "colab": {
     "referenced_widgets": [
      "4785bbc67280422fbee3baa11cc23057",
      ""
     ]
    },
    "execution": {
     "iopub.execute_input": "2023-01-07T18:18:26.321790Z",
     "iopub.status.busy": "2023-01-07T18:18:26.321512Z",
     "iopub.status.idle": "2023-01-07T18:18:49.828658Z",
     "shell.execute_reply": "2023-01-07T18:18:49.827922Z",
     "shell.execute_reply.started": "2023-01-07T18:18:26.321758Z"
    },
    "id": "d66fac26",
    "outputId": "969cfd0e-4fb8-40aa-cd8a-370dc4f9f527"
   },
   "outputs": [],
   "source": [
    "# Code check cell\n",
    "# Do not edit cells with assert commands\n",
    "# If an error is shown after running this cell, please recheck your code.  \n",
    "\n",
    "assert (interaction_level_df.count() ,len(interaction_level_df.columns)) == (1132367, 30), \"The type of join is incorrect\"\n",
    "\n",
    "lst1 = Raw_Ratings_Data.select('recipe_id').collect()\n",
    "lst2 = Raw_Recipe_Data.select('id').collect()\n",
    "exclusive_set = set(lst1)-set(lst2)\n",
    "\n",
    "assert len(exclusive_set) == 0, \"There is a mistake in reading one of the two data files.\""
   ]
  },
  {
   "cell_type": "code",
   "execution_count": 40,
   "id": "a4373ce7",
   "metadata": {
    "colab": {
     "referenced_widgets": [
      "5d1808af5a51457ab8e2f36d35d18eff",
      ""
     ]
    },
    "execution": {
     "iopub.execute_input": "2023-01-07T18:18:53.902712Z",
     "iopub.status.busy": "2023-01-07T18:18:53.902349Z",
     "iopub.status.idle": "2023-01-07T18:19:05.409561Z",
     "shell.execute_reply": "2023-01-07T18:19:05.381520Z",
     "shell.execute_reply.started": "2023-01-07T18:18:53.902677Z"
    },
    "id": "a4373ce7",
    "outputId": "75e8138e-1295-48a7-cdd5-576948300499"
   },
   "outputs": [
    {
     "data": {
      "text/plain": [
       "True"
      ]
     },
     "execution_count": 40,
     "metadata": {},
     "output_type": "execute_result"
    }
   ],
   "source": [
    "(interaction_level_df.count() ,len(interaction_level_df.columns)) == (1132367, 30)"
   ]
  },
  {
   "cell_type": "markdown",
   "id": "460ef418",
   "metadata": {
    "id": "460ef418"
   },
   "source": [
    "### Task 5 Completed"
   ]
  },
  {
   "cell_type": "markdown",
   "id": "ba9a5b89",
   "metadata": {
    "id": "ba9a5b89"
   },
   "source": [
    "## <font color = blue >  Task 06: Create time-based features  </font>"
   ]
  },
  {
   "cell_type": "markdown",
   "id": "a4c7b564",
   "metadata": {
    "id": "a4c7b564"
   },
   "source": [
    "Currently, both the date columns, the submitted date, and the review date are in string forms.\n",
    "\n",
    "First convert the submitted and review_date to DateType()\n",
    "\n",
    "Use review date and submission date to derive new features:\n",
    "\n",
    "1. days_since_submission_on_review_date Number of days between the recipe submission and the current review.\n",
    "2. months_since_submission_on_review_date Number of months between the recipe submission and the current review.\n",
    "3. years_since_submission_on_review_dateNumber of years between the recipe submission and the current review."
   ]
  },
  {
   "cell_type": "markdown",
   "id": "16867c7a",
   "metadata": {
    "id": "16867c7a"
   },
   "source": [
    "#### Sample Calculation\n",
    "\n",
    "1) Recipe 40893 was submitted on 2002-09-21 User 38094 reviewed recipe 40893 on 2003-02-17\n",
    "\n",
    "2) days_since_submission_on_review_date number of calender days between 2002-09-21 and 2003-02-17 that is 149\n",
    "\n",
    "3) months_since_submission_on_review_date number of calender months between 2002-09-21 and 2003-02-17 that is 4.87 (calculated by a pyspark function)\n",
    "\n",
    "4) years_since_submission_on_review_date number of calender months divided by 12 that is 0.40"
   ]
  },
  {
   "cell_type": "markdown",
   "id": "0437da95",
   "metadata": {
    "id": "0437da95"
   },
   "source": [
    "### Solution to Task 06 "
   ]
  },
  {
   "cell_type": "code",
   "execution_count": 41,
   "id": "4e6bc707",
   "metadata": {
    "colab": {
     "referenced_widgets": [
      "055243470cea48a69c4ec5e120999e4a",
      ""
     ]
    },
    "execution": {
     "iopub.execute_input": "2023-01-07T18:19:31.967599Z",
     "iopub.status.busy": "2023-01-07T18:19:31.967330Z",
     "iopub.status.idle": "2023-01-07T18:19:32.247702Z",
     "shell.execute_reply": "2023-01-07T18:19:32.246949Z",
     "shell.execute_reply.started": "2023-01-07T18:19:31.967566Z"
    },
    "id": "4e6bc707",
    "outputId": "b0df1176-4057-4f17-c62c-a703496a5df1"
   },
   "outputs": [],
   "source": [
    "# Task 06 Cell 1 out of 2\n",
    "\n",
    "interaction_level_df = (interaction_level_df\n",
    "                        .withColumn('submitted',F.col(\"submitted\").cast(\"date\") # pyspark function to cast a column to DateType()\n",
    "                                   )\n",
    "                        .withColumn('review_date',F.col(\"review_date\").cast(\"date\") # pyspark function to cast a column to DateType()\n",
    "                                   )\n",
    "                                             \n",
    "                       )"
   ]
  },
  {
   "cell_type": "code",
   "execution_count": 42,
   "id": "466e19e9",
   "metadata": {
    "colab": {
     "referenced_widgets": [
      "6172907fd4304f08a0ba12b911aa0c64",
      ""
     ]
    },
    "execution": {
     "iopub.execute_input": "2023-01-07T18:19:34.109154Z",
     "iopub.status.busy": "2023-01-07T18:19:34.108890Z",
     "iopub.status.idle": "2023-01-07T18:19:34.517797Z",
     "shell.execute_reply": "2023-01-07T18:19:34.516944Z",
     "shell.execute_reply.started": "2023-01-07T18:19:34.109122Z"
    },
    "id": "466e19e9",
    "outputId": "802b9613-3ac7-4274-e2dc-a198b250d934"
   },
   "outputs": [],
   "source": [
    "interaction_level_df = (interaction_level_df\n",
    "                        .withColumn('days_since_submission_on_review_date',F.datediff(\"review_date\",\"submitted\")\n",
    "                                     # Pyspark function to find the number of days between two dates              \n",
    "                                   )\n",
    "                        .withColumn('months_since_submission_on_review_date',F.months_between(\"review_date\",\"submitted\")\n",
    "                                     # Pyspark function to find the number of months between two dates          \n",
    "                                   )\n",
    "                        .withColumn('years_since_submission_on_review_date',F.months_between(\"review_date\",\"submitted\")/12\n",
    "                                     # Pyspark function to find the number of months between two dates / 12          \n",
    "                                   )\n",
    "                         )"
   ]
  },
  {
   "cell_type": "markdown",
   "id": "54611880",
   "metadata": {
    "id": "54611880"
   },
   "source": [
    "### Test cases for Task 06"
   ]
  },
  {
   "cell_type": "code",
   "execution_count": 43,
   "id": "de44f5b8",
   "metadata": {
    "colab": {
     "referenced_widgets": [
      "19116129407f45c0b33495a4dcc73a23",
      ""
     ]
    },
    "execution": {
     "iopub.execute_input": "2023-01-07T18:19:36.144641Z",
     "iopub.status.busy": "2023-01-07T18:19:36.144223Z",
     "iopub.status.idle": "2023-01-07T18:20:09.812812Z",
     "shell.execute_reply": "2023-01-07T18:20:09.811774Z",
     "shell.execute_reply.started": "2023-01-07T18:19:36.144587Z"
    },
    "id": "de44f5b8",
    "outputId": "0f009e5f-da06-44f2-e2ee-316b6b23b0a7"
   },
   "outputs": [],
   "source": [
    "# Code check cell\n",
    "# Do not edit cells with assert commands\n",
    "# If an error is shown after running this cell, please recheck your code.  \n",
    "\n",
    "assert interaction_level_df.schema[\"days_since_submission_on_review_date\"].dataType == IntegerType()\n",
    "\n",
    "assert (interaction_level_df.filter((interaction_level_df.user_id == 428885) & (interaction_level_df.recipe_id == 335241))\n",
    "                            .select('days_since_submission_on_review_date').collect()[0][0]) == 77\n",
    "assert (interaction_level_df.filter((interaction_level_df.user_id == 2025676) & (interaction_level_df.recipe_id == 94265))\n",
    "                            .select('months_since_submission_on_review_date').collect()[0][0]) == 153.22580645\n",
    "assert (interaction_level_df.filter((interaction_level_df.user_id == 338588) & (interaction_level_df.recipe_id == 21859))\n",
    "                            .select('years_since_submission_on_review_date').collect()[0][0]) == 4.564516129166667"
   ]
  },
  {
   "cell_type": "code",
   "execution_count": 44,
   "id": "df6ce7f5",
   "metadata": {
    "colab": {
     "referenced_widgets": [
      "d9d53378564e453694faa6c470cac8c8",
      ""
     ]
    },
    "execution": {
     "iopub.execute_input": "2023-01-07T18:20:13.590466Z",
     "iopub.status.busy": "2023-01-07T18:20:13.590198Z",
     "iopub.status.idle": "2023-01-07T18:20:13.661758Z",
     "shell.execute_reply": "2023-01-07T18:20:13.660895Z",
     "shell.execute_reply.started": "2023-01-07T18:20:13.590434Z"
    },
    "id": "df6ce7f5",
    "outputId": "ce3350d4-c622-475a-f940-5f559c0967ec"
   },
   "outputs": [
    {
     "data": {
      "text/plain": [
       "True"
      ]
     },
     "execution_count": 44,
     "metadata": {},
     "output_type": "execute_result"
    }
   ],
   "source": [
    "interaction_level_df.schema[\"days_since_submission_on_review_date\"].dataType == IntegerType()"
   ]
  },
  {
   "cell_type": "code",
   "execution_count": 45,
   "id": "0b7d0d44",
   "metadata": {
    "colab": {
     "referenced_widgets": [
      "5d5a6de57e124cb8be23d54cf8ac8965",
      ""
     ]
    },
    "execution": {
     "iopub.execute_input": "2023-01-07T18:20:20.565366Z",
     "iopub.status.busy": "2023-01-07T18:20:20.565095Z",
     "iopub.status.idle": "2023-01-07T18:20:34.004936Z",
     "shell.execute_reply": "2023-01-07T18:20:34.003992Z",
     "shell.execute_reply.started": "2023-01-07T18:20:20.565334Z"
    },
    "id": "0b7d0d44",
    "outputId": "a2b72a1b-2371-447b-dd9b-f7b112e31940"
   },
   "outputs": [
    {
     "data": {
      "text/plain": [
       "True"
      ]
     },
     "execution_count": 45,
     "metadata": {},
     "output_type": "execute_result"
    }
   ],
   "source": [
    "(interaction_level_df.filter((interaction_level_df.user_id == 428885) & (interaction_level_df.recipe_id == 335241))\n",
    "                            .select('days_since_submission_on_review_date').collect()[0][0]) == 77"
   ]
  },
  {
   "cell_type": "code",
   "execution_count": 46,
   "id": "f99f7130",
   "metadata": {
    "colab": {
     "referenced_widgets": [
      "590ec97b3eac4682bf8be52dfba93635",
      ""
     ]
    },
    "execution": {
     "iopub.execute_input": "2023-01-07T18:20:35.253468Z",
     "iopub.status.busy": "2023-01-07T18:20:35.253131Z",
     "iopub.status.idle": "2023-01-07T18:20:46.719194Z",
     "shell.execute_reply": "2023-01-07T18:20:46.718155Z",
     "shell.execute_reply.started": "2023-01-07T18:20:35.253415Z"
    },
    "id": "f99f7130",
    "outputId": "2bd5b2d5-3c73-4127-b984-93fdbcff361c"
   },
   "outputs": [
    {
     "data": {
      "text/plain": [
       "True"
      ]
     },
     "execution_count": 46,
     "metadata": {},
     "output_type": "execute_result"
    }
   ],
   "source": [
    "(interaction_level_df.filter((interaction_level_df.user_id == 2025676) & (interaction_level_df.recipe_id == 94265))\n",
    "                            .select('months_since_submission_on_review_date').collect()[0][0]) == 153.22580645"
   ]
  },
  {
   "cell_type": "code",
   "execution_count": 47,
   "id": "a2f00be0",
   "metadata": {
    "colab": {
     "referenced_widgets": [
      "2273d423e1f54945bfe50fe3e6bbe3c3",
      ""
     ]
    },
    "execution": {
     "iopub.execute_input": "2023-01-07T18:20:48.193336Z",
     "iopub.status.busy": "2023-01-07T18:20:48.193050Z",
     "iopub.status.idle": "2023-01-07T18:20:59.611721Z",
     "shell.execute_reply": "2023-01-07T18:20:59.610710Z",
     "shell.execute_reply.started": "2023-01-07T18:20:48.193285Z"
    },
    "id": "a2f00be0",
    "outputId": "ef555fd4-7e4d-4005-92cb-15e3cfda6af2"
   },
   "outputs": [
    {
     "data": {
      "text/plain": [
       "True"
      ]
     },
     "execution_count": 47,
     "metadata": {},
     "output_type": "execute_result"
    }
   ],
   "source": [
    "(interaction_level_df.filter((interaction_level_df.user_id == 338588) & (interaction_level_df.recipe_id == 21859))\n",
    "                            .select('years_since_submission_on_review_date').collect()[0][0]) == 4.564516129166667"
   ]
  },
  {
   "cell_type": "markdown",
   "id": "b6803a7e",
   "metadata": {
    "id": "b6803a7e"
   },
   "source": [
    "### Task 6 Completed"
   ]
  },
  {
   "cell_type": "markdown",
   "id": "e02d9987",
   "metadata": {
    "id": "e02d9987"
   },
   "source": [
    "## <font color = RED >  Save the data we have created so far in a parquet file  </font>"
   ]
  },
  {
   "cell_type": "code",
   "execution_count": 48,
   "id": "0316b525",
   "metadata": {
    "colab": {
     "referenced_widgets": [
      "14ef1c82031145e5ae3ad43f00ce92ba",
      ""
     ]
    },
    "execution": {
     "iopub.execute_input": "2023-01-07T18:21:03.158622Z",
     "iopub.status.busy": "2023-01-07T18:21:03.158191Z",
     "iopub.status.idle": "2023-01-07T18:21:03.285703Z",
     "shell.execute_reply": "2023-01-07T18:21:03.284637Z",
     "shell.execute_reply.started": "2023-01-07T18:21:03.158568Z"
    },
    "id": "0316b525",
    "outputId": "e41f5693-0b6c-41de-b5a8-f59ae7bf8d9c"
   },
   "outputs": [
    {
     "name": "stdout",
     "output_type": "stream",
     "text": [
      "root\n",
      " |-- user_id: integer (nullable = true)\n",
      " |-- recipe_id: integer (nullable = true)\n",
      " |-- rating: integer (nullable = true)\n",
      " |-- review: string (nullable = true)\n",
      " |-- review_date: date (nullable = true)\n",
      " |-- name: string (nullable = true)\n",
      " |-- id: integer (nullable = true)\n",
      " |-- minutes: integer (nullable = true)\n",
      " |-- contributor_id: integer (nullable = true)\n",
      " |-- submitted: date (nullable = true)\n",
      " |-- tags: array (nullable = false)\n",
      " |    |-- element: string (containsNull = false)\n",
      " |-- nutrition: string (nullable = true)\n",
      " |-- n_steps: integer (nullable = true)\n",
      " |-- steps: string (nullable = true)\n",
      " |-- description: string (nullable = true)\n",
      " |-- ingredients: string (nullable = true)\n",
      " |-- n_ingredients: integer (nullable = true)\n",
      " |-- calories: float (nullable = true)\n",
      " |-- total_fat_PDV: float (nullable = true)\n",
      " |-- sugar_PDV: float (nullable = true)\n",
      " |-- sodium_PDV: float (nullable = true)\n",
      " |-- protein_PDV: float (nullable = true)\n",
      " |-- saturated_fat_PDV: float (nullable = true)\n",
      " |-- carbohydrates_PDV: float (nullable = true)\n",
      " |-- total_fat_per_100_cal: double (nullable = false)\n",
      " |-- sugar_per_100_cal: double (nullable = false)\n",
      " |-- sodium_per_100_cal: double (nullable = false)\n",
      " |-- protein_per_100_cal: double (nullable = false)\n",
      " |-- saturated_fat_per_100_cal: double (nullable = false)\n",
      " |-- carbohydrates_per_100_cal: double (nullable = false)\n",
      " |-- days_since_submission_on_review_date: integer (nullable = true)\n",
      " |-- months_since_submission_on_review_date: double (nullable = true)\n",
      " |-- years_since_submission_on_review_date: double (nullable = true)\n",
      "\n"
     ]
    }
   ],
   "source": [
    "interaction_level_df.printSchema()"
   ]
  },
  {
   "cell_type": "code",
   "execution_count": 49,
   "id": "39c686b1",
   "metadata": {
    "colab": {
     "referenced_widgets": [
      "dedeb8e413f742588a8ad6100649bda1",
      ""
     ]
    },
    "execution": {
     "iopub.execute_input": "2023-01-07T18:21:10.401056Z",
     "iopub.status.busy": "2023-01-07T18:21:10.400569Z",
     "iopub.status.idle": "2023-01-07T18:21:19.808868Z",
     "shell.execute_reply": "2023-01-07T18:21:19.808054Z",
     "shell.execute_reply.started": "2023-01-07T18:21:10.401022Z"
    },
    "id": "39c686b1",
    "outputId": "bf28e8c7-e817-4f65-9c0f-6afd7c67af6d"
   },
   "outputs": [],
   "source": [
    "assert (interaction_level_df.count() ,len(interaction_level_df.columns) ) == (1132367, 33)"
   ]
  },
  {
   "cell_type": "code",
   "execution_count": 50,
   "id": "5e77124e",
   "metadata": {
    "colab": {
     "referenced_widgets": [
      "ff3c4c6d8e0b4edf959da075bb911140",
      ""
     ]
    },
    "execution": {
     "iopub.execute_input": "2023-01-07T18:21:21.703618Z",
     "iopub.status.busy": "2023-01-07T18:21:21.703198Z",
     "iopub.status.idle": "2023-01-07T18:21:31.145013Z",
     "shell.execute_reply": "2023-01-07T18:21:31.144073Z",
     "shell.execute_reply.started": "2023-01-07T18:21:21.703566Z"
    },
    "id": "5e77124e",
    "outputId": "7601c965-29a0-4f6d-878a-c236a40b4ef9"
   },
   "outputs": [
    {
     "data": {
      "text/plain": [
       "True"
      ]
     },
     "execution_count": 50,
     "metadata": {},
     "output_type": "execute_result"
    }
   ],
   "source": [
    "(interaction_level_df.count() ,len(interaction_level_df.columns) ) == (1132367, 33)"
   ]
  },
  {
   "cell_type": "code",
   "execution_count": 51,
   "id": "2f477916",
   "metadata": {
    "colab": {
     "referenced_widgets": [
      "191fdfa334f841dd9bec56daf033a13e",
      ""
     ]
    },
    "execution": {
     "iopub.execute_input": "2023-01-07T18:22:24.406423Z",
     "iopub.status.busy": "2023-01-07T18:22:24.404643Z",
     "iopub.status.idle": "2023-01-07T18:22:49.900689Z",
     "shell.execute_reply": "2023-01-07T18:22:49.899744Z",
     "shell.execute_reply.started": "2023-01-07T18:22:24.406387Z"
    },
    "id": "2f477916",
    "outputId": "01e7dc1a-2695-421d-8646-adabf3089774",
    "scrolled": true
   },
   "outputs": [
    {
     "name": "stdout",
     "output_type": "stream",
     "text": [
      "+-------+---------+------+--------------------+-----------+--------------------+---+-------+--------------+----------+--------------------+--------------------+-------+--------------------+--------------------+--------------------+-------------+--------+-------------+---------+----------+-----------+-----------------+-----------------+---------------------+-------------------+------------------+-------------------+-------------------------+-------------------------+------------------------------------+--------------------------------------+-------------------------------------+\n",
      "|user_id|recipe_id|rating|              review|review_date|                name| id|minutes|contributor_id| submitted|                tags|           nutrition|n_steps|               steps|         description|         ingredients|n_ingredients|calories|total_fat_PDV|sugar_PDV|sodium_PDV|protein_PDV|saturated_fat_PDV|carbohydrates_PDV|total_fat_per_100_cal|  sugar_per_100_cal|sodium_per_100_cal|protein_per_100_cal|saturated_fat_per_100_cal|carbohydrates_per_100_cal|days_since_submission_on_review_date|months_since_submission_on_review_date|years_since_submission_on_review_date|\n",
      "+-------+---------+------+--------------------+-----------+--------------------+---+-------+--------------+----------+--------------------+--------------------+-------+--------------------+--------------------+--------------------+-------------+--------+-------------+---------+----------+-----------+-----------------+-----------------+---------------------+-------------------+------------------+-------------------+-------------------------+-------------------------+------------------------------------+--------------------------------------+-------------------------------------+\n",
      "| 557764|       53|     3|First Jimmy let m...| 2009-07-09|jimmy g s carrot ...| 53|    110|          1772|1999-09-08|[weeknight, time-...|372.9, 16.0, 163....|     15|['grease and ligh...|                    |['all-purpose flo...|           13|   372.9|         16.0|    163.0|       7.0|       13.0|             16.0|             22.0|    4.290694626410088|  43.71145150655277|1.8771788990544134| 3.4861893839581963|        4.290694626410088|        5.899705111313871|                                3592|                          118.03225806|                          9.836021505|\n",
      "| 269153|       81|     5|This is FANTASTIC...| 2006-03-09|all purpose quick...| 81|     40|        125579|1999-09-10|[60-minutes-or-le...|529.3, 37.0, 1.0,...|     36|['blend flours , ...|--adopted recipe-...|['whole wheat flo...|            5|   529.3|         37.0|      1.0|      36.0|       22.0|             73.0|             23.0|   6.9903647937494835|0.18892877820944548|6.8014360155400375|  4.156433120607801|       13.791800809289521|        4.345361898817246|                                2372|                           77.96774194|                    6.497311828333333|\n",
      "| 985729|       81|     5|I have made sever...| 2010-05-23|all purpose quick...| 81|     40|        125579|1999-09-10|[60-minutes-or-le...|529.3, 37.0, 1.0,...|     36|['blend flours , ...|--adopted recipe-...|['whole wheat flo...|            5|   529.3|         37.0|      1.0|      36.0|       22.0|             73.0|             23.0|   6.9903647937494835|0.18892877820944548|6.8014360155400375|  4.156433120607801|       13.791800809289521|        4.345361898817246|                                3908|                          128.41935484|                   10.701612903333334|\n",
      "|  27678|       85|     5|A perfect cake. I...| 2005-03-25| butter madeira cake| 85|    175|          1543|1999-09-12|[weeknight, time-...|373.8, 30.0, 88.0...|     15|['grease lined ti...|this is a good st...|['flour', 'baking...|            7|   373.8|         30.0|     88.0|      10.0|       11.0|             59.0|             14.0|     8.02568244507693|  23.54200183889233|  2.67522748169231|  2.942750229861541|       15.783842141984628|        3.745318474369234|                                2021|                           66.41935484|                    5.534946236666666|\n",
      "| 273254|       85|     5|This recipe is so...| 2009-02-09| butter madeira cake| 85|    175|          1543|1999-09-12|[weeknight, time-...|373.8, 30.0, 88.0...|     15|['grease lined ti...|this is a good st...|['flour', 'baking...|            7|   373.8|         30.0|     88.0|      10.0|       11.0|             59.0|             14.0|     8.02568244507693|  23.54200183889233|  2.67522748169231|  2.942750229861541|       15.783842141984628|        3.745318474369234|                                3438|                          112.90322581|                    9.408602150833334|\n",
      "+-------+---------+------+--------------------+-----------+--------------------+---+-------+--------------+----------+--------------------+--------------------+-------+--------------------+--------------------+--------------------+-------------+--------+-------------+---------+----------+-----------+-----------------+-----------------+---------------------+-------------------+------------------+-------------------+-------------------------+-------------------------+------------------------------------+--------------------------------------+-------------------------------------+\n",
      "only showing top 5 rows\n",
      "\n"
     ]
    }
   ],
   "source": [
    "interaction_level_df.show(5)"
   ]
  },
  {
   "cell_type": "markdown",
   "id": "f86941ba",
   "metadata": {
    "id": "f86941ba"
   },
   "source": [
    "### ###################01_FeatureExtractionPart01 Completed##################"
   ]
  },
  {
   "cell_type": "markdown",
   "id": "e17ec6ca",
   "metadata": {
    "id": "e17ec6ca"
   },
   "source": [
    "# <font color = Black >  02_EDA-Complete_Solution  </font>"
   ]
  },
  {
   "cell_type": "markdown",
   "id": "13eefac1",
   "metadata": {
    "id": "13eefac1"
   },
   "source": [
    "## <font color = BLUE >  Initial Setup  </font>"
   ]
  },
  {
   "cell_type": "code",
   "execution_count": 52,
   "id": "bdf5c563",
   "metadata": {
    "colab": {
     "referenced_widgets": [
      "74e2bcbfc3764e1f84ab7bc5199773fa",
      ""
     ]
    },
    "execution": {
     "iopub.execute_input": "2023-01-07T18:22:53.747780Z",
     "iopub.status.busy": "2023-01-07T18:22:53.747499Z",
     "iopub.status.idle": "2023-01-07T18:22:53.821449Z",
     "shell.execute_reply": "2023-01-07T18:22:53.820580Z",
     "shell.execute_reply.started": "2023-01-07T18:22:53.747749Z"
    },
    "id": "bdf5c563",
    "outputId": "703152af-38c2-4c5a-b370-bce5e144476d"
   },
   "outputs": [],
   "source": [
    "from pyspark.sql import SparkSession"
   ]
  },
  {
   "cell_type": "code",
   "execution_count": 53,
   "id": "ee8e13e8",
   "metadata": {
    "colab": {
     "referenced_widgets": [
      "ad715e09613d45539199b39dd91892ef",
      ""
     ]
    },
    "execution": {
     "iopub.execute_input": "2023-01-07T18:22:55.818393Z",
     "iopub.status.busy": "2023-01-07T18:22:55.818023Z",
     "iopub.status.idle": "2023-01-07T18:22:55.946254Z",
     "shell.execute_reply": "2023-01-07T18:22:55.945200Z",
     "shell.execute_reply.started": "2023-01-07T18:22:55.818345Z"
    },
    "id": "ee8e13e8",
    "outputId": "633867ba-25e1-46c4-fe83-ffdc3a221951"
   },
   "outputs": [],
   "source": [
    "from pyspark.sql import SparkSession\n",
    "spark = SparkSession.builder.appName(\"Basics\").getOrCreate()"
   ]
  },
  {
   "cell_type": "code",
   "execution_count": 54,
   "id": "a26da5f3",
   "metadata": {
    "colab": {
     "referenced_widgets": [
      "41c377fc79594ffd95ced0b5973aad5c",
      ""
     ]
    },
    "execution": {
     "iopub.execute_input": "2023-01-07T18:22:57.430786Z",
     "iopub.status.busy": "2023-01-07T18:22:57.430501Z",
     "iopub.status.idle": "2023-01-07T18:22:57.502319Z",
     "shell.execute_reply": "2023-01-07T18:22:57.501305Z",
     "shell.execute_reply.started": "2023-01-07T18:22:57.430753Z"
    },
    "id": "a26da5f3",
    "outputId": "7ff5ca9d-ca81-43d1-b1b4-8906af6abbdf"
   },
   "outputs": [
    {
     "data": {
      "text/html": [
       "\n",
       "            <div>\n",
       "                <p><b>SparkSession - in-memory</b></p>\n",
       "                \n",
       "        <div>\n",
       "            <p><b>SparkContext</b></p>\n",
       "\n",
       "            <p><a href=\"http://DESKTOP-E9SKAKK:4040\">Spark UI</a></p>\n",
       "\n",
       "            <dl>\n",
       "              <dt>Version</dt>\n",
       "                <dd><code>v3.5.1</code></dd>\n",
       "              <dt>Master</dt>\n",
       "                <dd><code>local[*]</code></dd>\n",
       "              <dt>AppName</dt>\n",
       "                <dd><code>Basics</code></dd>\n",
       "            </dl>\n",
       "        </div>\n",
       "        \n",
       "            </div>\n",
       "        "
      ],
      "text/plain": [
       "<pyspark.sql.session.SparkSession at 0x1b7f04220e0>"
      ]
     },
     "execution_count": 54,
     "metadata": {},
     "output_type": "execute_result"
    }
   ],
   "source": [
    "spark"
   ]
  },
  {
   "cell_type": "code",
   "execution_count": 55,
   "id": "fff6bf6e",
   "metadata": {
    "colab": {
     "referenced_widgets": [
      "80829f1d23da477e9b6ca8e87402f58b",
      ""
     ]
    },
    "execution": {
     "iopub.execute_input": "2023-01-07T18:23:00.137831Z",
     "iopub.status.busy": "2023-01-07T18:23:00.137548Z",
     "iopub.status.idle": "2023-01-07T18:24:40.029376Z",
     "shell.execute_reply": "2023-01-07T18:24:40.028303Z",
     "shell.execute_reply.started": "2023-01-07T18:23:00.137799Z"
    },
    "id": "fff6bf6e",
    "outputId": "5159ad13-e18a-4dcd-a3e7-05624f819c1a"
   },
   "outputs": [
    {
     "name": "stdout",
     "output_type": "stream",
     "text": [
      "Requirement already satisfied: plotly==5.5.0 in c:\\users\\owner\\documents\\ana jupy\\lib\\site-packages (5.5.0)\n",
      "Requirement already satisfied: tenacity>=6.2.0 in c:\\users\\owner\\documents\\ana jupy\\lib\\site-packages (from plotly==5.5.0) (8.0.1)\n",
      "Requirement already satisfied: six in c:\\users\\owner\\documents\\ana jupy\\lib\\site-packages (from plotly==5.5.0) (1.16.0)\n",
      "Collecting pandas==0.25.1\n",
      "  Using cached pandas-0.25.1.tar.gz (12.6 MB)\n",
      "  Preparing metadata (setup.py): started\n",
      "  Preparing metadata (setup.py): finished with status 'done'\n",
      "Requirement already satisfied: python-dateutil>=2.6.1 in c:\\users\\owner\\documents\\ana jupy\\lib\\site-packages (from pandas==0.25.1) (2.8.2)\n",
      "Requirement already satisfied: pytz>=2017.2 in c:\\users\\owner\\documents\\ana jupy\\lib\\site-packages (from pandas==0.25.1) (2022.7)\n",
      "Requirement already satisfied: numpy>=1.13.3 in c:\\users\\owner\\documents\\ana jupy\\lib\\site-packages (from pandas==0.25.1) (1.23.5)\n",
      "Requirement already satisfied: six>=1.5 in c:\\users\\owner\\documents\\ana jupy\\lib\\site-packages (from python-dateutil>=2.6.1->pandas==0.25.1) (1.16.0)\n",
      "Building wheels for collected packages: pandas\n",
      "  Building wheel for pandas (setup.py): started\n",
      "  Building wheel for pandas (setup.py): finished with status 'error'\n",
      "  Running setup.py clean for pandas\n",
      "Failed to build pandas\n"
     ]
    },
    {
     "name": "stderr",
     "output_type": "stream",
     "text": [
      "  error: subprocess-exited-with-error\n",
      "  \n",
      "  python setup.py bdist_wheel did not run successfully.\n",
      "  exit code: 1\n",
      "  \n",
      "  [907 lines of output]\n",
      "  running bdist_wheel\n",
      "  running build\n",
      "  running build_py\n",
      "  creating build\n",
      "  creating build\\lib.win-amd64-cpython-310\n",
      "  creating build\\lib.win-amd64-cpython-310\\pandas\n",
      "  copying pandas\\conftest.py -> build\\lib.win-amd64-cpython-310\\pandas\n",
      "  copying pandas\\testing.py -> build\\lib.win-amd64-cpython-310\\pandas\n",
      "  copying pandas\\_typing.py -> build\\lib.win-amd64-cpython-310\\pandas\n",
      "  copying pandas\\_version.py -> build\\lib.win-amd64-cpython-310\\pandas\n",
      "  copying pandas\\__init__.py -> build\\lib.win-amd64-cpython-310\\pandas\n",
      "  creating build\\lib.win-amd64-cpython-310\\pandas\\api\n",
      "  copying pandas\\api\\__init__.py -> build\\lib.win-amd64-cpython-310\\pandas\\api\n",
      "  creating build\\lib.win-amd64-cpython-310\\pandas\\arrays\n",
      "  copying pandas\\arrays\\__init__.py -> build\\lib.win-amd64-cpython-310\\pandas\\arrays\n",
      "  creating build\\lib.win-amd64-cpython-310\\pandas\\compat\n",
      "  copying pandas\\compat\\chainmap.py -> build\\lib.win-amd64-cpython-310\\pandas\\compat\n",
      "  copying pandas\\compat\\pickle_compat.py -> build\\lib.win-amd64-cpython-310\\pandas\\compat\n",
      "  copying pandas\\compat\\_optional.py -> build\\lib.win-amd64-cpython-310\\pandas\\compat\n",
      "  copying pandas\\compat\\__init__.py -> build\\lib.win-amd64-cpython-310\\pandas\\compat\n",
      "  creating build\\lib.win-amd64-cpython-310\\pandas\\core\n",
      "  copying pandas\\core\\accessor.py -> build\\lib.win-amd64-cpython-310\\pandas\\core\n",
      "  copying pandas\\core\\algorithms.py -> build\\lib.win-amd64-cpython-310\\pandas\\core\n",
      "  copying pandas\\core\\api.py -> build\\lib.win-amd64-cpython-310\\pandas\\core\n",
      "  copying pandas\\core\\apply.py -> build\\lib.win-amd64-cpython-310\\pandas\\core\n",
      "  copying pandas\\core\\base.py -> build\\lib.win-amd64-cpython-310\\pandas\\core\n",
      "  copying pandas\\core\\common.py -> build\\lib.win-amd64-cpython-310\\pandas\\core\n",
      "  copying pandas\\core\\config_init.py -> build\\lib.win-amd64-cpython-310\\pandas\\core\n",
      "  copying pandas\\core\\frame.py -> build\\lib.win-amd64-cpython-310\\pandas\\core\n",
      "  copying pandas\\core\\generic.py -> build\\lib.win-amd64-cpython-310\\pandas\\core\n",
      "  copying pandas\\core\\index.py -> build\\lib.win-amd64-cpython-310\\pandas\\core\n",
      "  copying pandas\\core\\indexers.py -> build\\lib.win-amd64-cpython-310\\pandas\\core\n",
      "  copying pandas\\core\\indexing.py -> build\\lib.win-amd64-cpython-310\\pandas\\core\n",
      "  copying pandas\\core\\missing.py -> build\\lib.win-amd64-cpython-310\\pandas\\core\n",
      "  copying pandas\\core\\nanops.py -> build\\lib.win-amd64-cpython-310\\pandas\\core\n",
      "  copying pandas\\core\\resample.py -> build\\lib.win-amd64-cpython-310\\pandas\\core\n",
      "  copying pandas\\core\\series.py -> build\\lib.win-amd64-cpython-310\\pandas\\core\n",
      "  copying pandas\\core\\sorting.py -> build\\lib.win-amd64-cpython-310\\pandas\\core\n",
      "  copying pandas\\core\\strings.py -> build\\lib.win-amd64-cpython-310\\pandas\\core\n",
      "  copying pandas\\core\\window.py -> build\\lib.win-amd64-cpython-310\\pandas\\core\n",
      "  copying pandas\\core\\__init__.py -> build\\lib.win-amd64-cpython-310\\pandas\\core\n",
      "  creating build\\lib.win-amd64-cpython-310\\pandas\\errors\n",
      "  copying pandas\\errors\\__init__.py -> build\\lib.win-amd64-cpython-310\\pandas\\errors\n",
      "  creating build\\lib.win-amd64-cpython-310\\pandas\\io\n",
      "  copying pandas\\io\\api.py -> build\\lib.win-amd64-cpython-310\\pandas\\io\n",
      "  copying pandas\\io\\clipboards.py -> build\\lib.win-amd64-cpython-310\\pandas\\io\n",
      "  copying pandas\\io\\common.py -> build\\lib.win-amd64-cpython-310\\pandas\\io\n",
      "  copying pandas\\io\\date_converters.py -> build\\lib.win-amd64-cpython-310\\pandas\\io\n",
      "  copying pandas\\io\\feather_format.py -> build\\lib.win-amd64-cpython-310\\pandas\\io\n",
      "  copying pandas\\io\\gbq.py -> build\\lib.win-amd64-cpython-310\\pandas\\io\n",
      "  copying pandas\\io\\gcs.py -> build\\lib.win-amd64-cpython-310\\pandas\\io\n",
      "  copying pandas\\io\\html.py -> build\\lib.win-amd64-cpython-310\\pandas\\io\n",
      "  copying pandas\\io\\packers.py -> build\\lib.win-amd64-cpython-310\\pandas\\io\n",
      "  copying pandas\\io\\parquet.py -> build\\lib.win-amd64-cpython-310\\pandas\\io\n",
      "  copying pandas\\io\\parsers.py -> build\\lib.win-amd64-cpython-310\\pandas\\io\n",
      "  copying pandas\\io\\pickle.py -> build\\lib.win-amd64-cpython-310\\pandas\\io\n",
      "  copying pandas\\io\\pytables.py -> build\\lib.win-amd64-cpython-310\\pandas\\io\n",
      "  copying pandas\\io\\s3.py -> build\\lib.win-amd64-cpython-310\\pandas\\io\n",
      "  copying pandas\\io\\spss.py -> build\\lib.win-amd64-cpython-310\\pandas\\io\n",
      "  copying pandas\\io\\sql.py -> build\\lib.win-amd64-cpython-310\\pandas\\io\n",
      "  copying pandas\\io\\stata.py -> build\\lib.win-amd64-cpython-310\\pandas\\io\n",
      "  copying pandas\\io\\__init__.py -> build\\lib.win-amd64-cpython-310\\pandas\\io\n",
      "  creating build\\lib.win-amd64-cpython-310\\pandas\\plotting\n",
      "  copying pandas\\plotting\\_core.py -> build\\lib.win-amd64-cpython-310\\pandas\\plotting\n",
      "  copying pandas\\plotting\\_misc.py -> build\\lib.win-amd64-cpython-310\\pandas\\plotting\n",
      "  copying pandas\\plotting\\__init__.py -> build\\lib.win-amd64-cpython-310\\pandas\\plotting\n",
      "  creating build\\lib.win-amd64-cpython-310\\pandas\\tests\n",
      "  copying pandas\\tests\\test_algos.py -> build\\lib.win-amd64-cpython-310\\pandas\\tests\n",
      "  copying pandas\\tests\\test_base.py -> build\\lib.win-amd64-cpython-310\\pandas\\tests\n",
      "  copying pandas\\tests\\test_common.py -> build\\lib.win-amd64-cpython-310\\pandas\\tests\n",
      "  copying pandas\\tests\\test_compat.py -> build\\lib.win-amd64-cpython-310\\pandas\\tests\n",
      "  copying pandas\\tests\\test_downstream.py -> build\\lib.win-amd64-cpython-310\\pandas\\tests\n",
      "  copying pandas\\tests\\test_errors.py -> build\\lib.win-amd64-cpython-310\\pandas\\tests\n",
      "  copying pandas\\tests\\test_expressions.py -> build\\lib.win-amd64-cpython-310\\pandas\\tests\n",
      "  copying pandas\\tests\\test_join.py -> build\\lib.win-amd64-cpython-310\\pandas\\tests\n",
      "  copying pandas\\tests\\test_lib.py -> build\\lib.win-amd64-cpython-310\\pandas\\tests\n",
      "  copying pandas\\tests\\test_multilevel.py -> build\\lib.win-amd64-cpython-310\\pandas\\tests\n",
      "  copying pandas\\tests\\test_nanops.py -> build\\lib.win-amd64-cpython-310\\pandas\\tests\n",
      "  copying pandas\\tests\\test_optional_dependency.py -> build\\lib.win-amd64-cpython-310\\pandas\\tests\n",
      "  copying pandas\\tests\\test_register_accessor.py -> build\\lib.win-amd64-cpython-310\\pandas\\tests\n",
      "  copying pandas\\tests\\test_sorting.py -> build\\lib.win-amd64-cpython-310\\pandas\\tests\n",
      "  copying pandas\\tests\\test_strings.py -> build\\lib.win-amd64-cpython-310\\pandas\\tests\n",
      "  copying pandas\\tests\\test_take.py -> build\\lib.win-amd64-cpython-310\\pandas\\tests\n",
      "  copying pandas\\tests\\__init__.py -> build\\lib.win-amd64-cpython-310\\pandas\\tests\n",
      "  creating build\\lib.win-amd64-cpython-310\\pandas\\tseries\n",
      "  copying pandas\\tseries\\api.py -> build\\lib.win-amd64-cpython-310\\pandas\\tseries\n",
      "  copying pandas\\tseries\\converter.py -> build\\lib.win-amd64-cpython-310\\pandas\\tseries\n",
      "  copying pandas\\tseries\\frequencies.py -> build\\lib.win-amd64-cpython-310\\pandas\\tseries\n",
      "  copying pandas\\tseries\\holiday.py -> build\\lib.win-amd64-cpython-310\\pandas\\tseries\n",
      "  copying pandas\\tseries\\offsets.py -> build\\lib.win-amd64-cpython-310\\pandas\\tseries\n",
      "  copying pandas\\tseries\\plotting.py -> build\\lib.win-amd64-cpython-310\\pandas\\tseries\n",
      "  copying pandas\\tseries\\__init__.py -> build\\lib.win-amd64-cpython-310\\pandas\\tseries\n",
      "  creating build\\lib.win-amd64-cpython-310\\pandas\\util\n",
      "  copying pandas\\util\\testing.py -> build\\lib.win-amd64-cpython-310\\pandas\\util\n",
      "  copying pandas\\util\\_decorators.py -> build\\lib.win-amd64-cpython-310\\pandas\\util\n",
      "  copying pandas\\util\\_depr_module.py -> build\\lib.win-amd64-cpython-310\\pandas\\util\n",
      "  copying pandas\\util\\_doctools.py -> build\\lib.win-amd64-cpython-310\\pandas\\util\n",
      "  copying pandas\\util\\_exceptions.py -> build\\lib.win-amd64-cpython-310\\pandas\\util\n",
      "  copying pandas\\util\\_print_versions.py -> build\\lib.win-amd64-cpython-310\\pandas\\util\n",
      "  copying pandas\\util\\_tester.py -> build\\lib.win-amd64-cpython-310\\pandas\\util\n",
      "  copying pandas\\util\\_test_decorators.py -> build\\lib.win-amd64-cpython-310\\pandas\\util\n",
      "  copying pandas\\util\\_validators.py -> build\\lib.win-amd64-cpython-310\\pandas\\util\n",
      "  copying pandas\\util\\__init__.py -> build\\lib.win-amd64-cpython-310\\pandas\\util\n",
      "  creating build\\lib.win-amd64-cpython-310\\pandas\\_config\n",
      "  copying pandas\\_config\\config.py -> build\\lib.win-amd64-cpython-310\\pandas\\_config\n",
      "  copying pandas\\_config\\dates.py -> build\\lib.win-amd64-cpython-310\\pandas\\_config\n",
      "  copying pandas\\_config\\display.py -> build\\lib.win-amd64-cpython-310\\pandas\\_config\n",
      "  copying pandas\\_config\\localization.py -> build\\lib.win-amd64-cpython-310\\pandas\\_config\n",
      "  copying pandas\\_config\\__init__.py -> build\\lib.win-amd64-cpython-310\\pandas\\_config\n",
      "  creating build\\lib.win-amd64-cpython-310\\pandas\\_libs\n",
      "  copying pandas\\_libs\\__init__.py -> build\\lib.win-amd64-cpython-310\\pandas\\_libs\n",
      "  creating build\\lib.win-amd64-cpython-310\\pandas\\api\\extensions\n",
      "  copying pandas\\api\\extensions\\__init__.py -> build\\lib.win-amd64-cpython-310\\pandas\\api\\extensions\n",
      "  creating build\\lib.win-amd64-cpython-310\\pandas\\api\\types\n",
      "  copying pandas\\api\\types\\__init__.py -> build\\lib.win-amd64-cpython-310\\pandas\\api\\types\n",
      "  creating build\\lib.win-amd64-cpython-310\\pandas\\compat\\numpy\n",
      "  copying pandas\\compat\\numpy\\function.py -> build\\lib.win-amd64-cpython-310\\pandas\\compat\\numpy\n",
      "  copying pandas\\compat\\numpy\\__init__.py -> build\\lib.win-amd64-cpython-310\\pandas\\compat\\numpy\n",
      "  creating build\\lib.win-amd64-cpython-310\\pandas\\core\\arrays\n",
      "  copying pandas\\core\\arrays\\array_.py -> build\\lib.win-amd64-cpython-310\\pandas\\core\\arrays\n",
      "  copying pandas\\core\\arrays\\base.py -> build\\lib.win-amd64-cpython-310\\pandas\\core\\arrays\n",
      "  copying pandas\\core\\arrays\\categorical.py -> build\\lib.win-amd64-cpython-310\\pandas\\core\\arrays\n",
      "  copying pandas\\core\\arrays\\datetimelike.py -> build\\lib.win-amd64-cpython-310\\pandas\\core\\arrays\n",
      "  copying pandas\\core\\arrays\\datetimes.py -> build\\lib.win-amd64-cpython-310\\pandas\\core\\arrays\n",
      "  copying pandas\\core\\arrays\\integer.py -> build\\lib.win-amd64-cpython-310\\pandas\\core\\arrays\n",
      "  copying pandas\\core\\arrays\\interval.py -> build\\lib.win-amd64-cpython-310\\pandas\\core\\arrays\n",
      "  copying pandas\\core\\arrays\\numpy_.py -> build\\lib.win-amd64-cpython-310\\pandas\\core\\arrays\n",
      "  copying pandas\\core\\arrays\\period.py -> build\\lib.win-amd64-cpython-310\\pandas\\core\\arrays\n",
      "  copying pandas\\core\\arrays\\sparse.py -> build\\lib.win-amd64-cpython-310\\pandas\\core\\arrays\n",
      "  copying pandas\\core\\arrays\\timedeltas.py -> build\\lib.win-amd64-cpython-310\\pandas\\core\\arrays\n",
      "  copying pandas\\core\\arrays\\_ranges.py -> build\\lib.win-amd64-cpython-310\\pandas\\core\\arrays\n",
      "  copying pandas\\core\\arrays\\__init__.py -> build\\lib.win-amd64-cpython-310\\pandas\\core\\arrays\n",
      "  creating build\\lib.win-amd64-cpython-310\\pandas\\core\\computation\n",
      "  copying pandas\\core\\computation\\align.py -> build\\lib.win-amd64-cpython-310\\pandas\\core\\computation\n",
      "  copying pandas\\core\\computation\\api.py -> build\\lib.win-amd64-cpython-310\\pandas\\core\\computation\n",
      "  copying pandas\\core\\computation\\check.py -> build\\lib.win-amd64-cpython-310\\pandas\\core\\computation\n",
      "  copying pandas\\core\\computation\\common.py -> build\\lib.win-amd64-cpython-310\\pandas\\core\\computation\n",
      "  copying pandas\\core\\computation\\engines.py -> build\\lib.win-amd64-cpython-310\\pandas\\core\\computation\n",
      "  copying pandas\\core\\computation\\eval.py -> build\\lib.win-amd64-cpython-310\\pandas\\core\\computation\n",
      "  copying pandas\\core\\computation\\expr.py -> build\\lib.win-amd64-cpython-310\\pandas\\core\\computation\n",
      "  copying pandas\\core\\computation\\expressions.py -> build\\lib.win-amd64-cpython-310\\pandas\\core\\computation\n",
      "  copying pandas\\core\\computation\\ops.py -> build\\lib.win-amd64-cpython-310\\pandas\\core\\computation\n",
      "  copying pandas\\core\\computation\\pytables.py -> build\\lib.win-amd64-cpython-310\\pandas\\core\\computation\n",
      "  copying pandas\\core\\computation\\scope.py -> build\\lib.win-amd64-cpython-310\\pandas\\core\\computation\n",
      "  copying pandas\\core\\computation\\__init__.py -> build\\lib.win-amd64-cpython-310\\pandas\\core\\computation\n",
      "  creating build\\lib.win-amd64-cpython-310\\pandas\\core\\dtypes\n",
      "  copying pandas\\core\\dtypes\\api.py -> build\\lib.win-amd64-cpython-310\\pandas\\core\\dtypes\n",
      "  copying pandas\\core\\dtypes\\base.py -> build\\lib.win-amd64-cpython-310\\pandas\\core\\dtypes\n",
      "  copying pandas\\core\\dtypes\\cast.py -> build\\lib.win-amd64-cpython-310\\pandas\\core\\dtypes\n",
      "  copying pandas\\core\\dtypes\\common.py -> build\\lib.win-amd64-cpython-310\\pandas\\core\\dtypes\n",
      "  copying pandas\\core\\dtypes\\concat.py -> build\\lib.win-amd64-cpython-310\\pandas\\core\\dtypes\n",
      "  copying pandas\\core\\dtypes\\dtypes.py -> build\\lib.win-amd64-cpython-310\\pandas\\core\\dtypes\n",
      "  copying pandas\\core\\dtypes\\generic.py -> build\\lib.win-amd64-cpython-310\\pandas\\core\\dtypes\n",
      "  copying pandas\\core\\dtypes\\inference.py -> build\\lib.win-amd64-cpython-310\\pandas\\core\\dtypes\n",
      "  copying pandas\\core\\dtypes\\missing.py -> build\\lib.win-amd64-cpython-310\\pandas\\core\\dtypes\n",
      "  copying pandas\\core\\dtypes\\__init__.py -> build\\lib.win-amd64-cpython-310\\pandas\\core\\dtypes\n",
      "  creating build\\lib.win-amd64-cpython-310\\pandas\\core\\groupby\n",
      "  copying pandas\\core\\groupby\\base.py -> build\\lib.win-amd64-cpython-310\\pandas\\core\\groupby\n",
      "  copying pandas\\core\\groupby\\categorical.py -> build\\lib.win-amd64-cpython-310\\pandas\\core\\groupby\n",
      "  copying pandas\\core\\groupby\\generic.py -> build\\lib.win-amd64-cpython-310\\pandas\\core\\groupby\n",
      "  copying pandas\\core\\groupby\\groupby.py -> build\\lib.win-amd64-cpython-310\\pandas\\core\\groupby\n",
      "  copying pandas\\core\\groupby\\grouper.py -> build\\lib.win-amd64-cpython-310\\pandas\\core\\groupby\n",
      "  copying pandas\\core\\groupby\\ops.py -> build\\lib.win-amd64-cpython-310\\pandas\\core\\groupby\n",
      "  copying pandas\\core\\groupby\\__init__.py -> build\\lib.win-amd64-cpython-310\\pandas\\core\\groupby\n",
      "  creating build\\lib.win-amd64-cpython-310\\pandas\\core\\indexes\n",
      "  copying pandas\\core\\indexes\\accessors.py -> build\\lib.win-amd64-cpython-310\\pandas\\core\\indexes\n",
      "  copying pandas\\core\\indexes\\api.py -> build\\lib.win-amd64-cpython-310\\pandas\\core\\indexes\n",
      "  copying pandas\\core\\indexes\\base.py -> build\\lib.win-amd64-cpython-310\\pandas\\core\\indexes\n",
      "  copying pandas\\core\\indexes\\category.py -> build\\lib.win-amd64-cpython-310\\pandas\\core\\indexes\n",
      "  copying pandas\\core\\indexes\\datetimelike.py -> build\\lib.win-amd64-cpython-310\\pandas\\core\\indexes\n",
      "  copying pandas\\core\\indexes\\datetimes.py -> build\\lib.win-amd64-cpython-310\\pandas\\core\\indexes\n",
      "  copying pandas\\core\\indexes\\frozen.py -> build\\lib.win-amd64-cpython-310\\pandas\\core\\indexes\n",
      "  copying pandas\\core\\indexes\\interval.py -> build\\lib.win-amd64-cpython-310\\pandas\\core\\indexes\n",
      "  copying pandas\\core\\indexes\\multi.py -> build\\lib.win-amd64-cpython-310\\pandas\\core\\indexes\n",
      "  copying pandas\\core\\indexes\\numeric.py -> build\\lib.win-amd64-cpython-310\\pandas\\core\\indexes\n",
      "  copying pandas\\core\\indexes\\period.py -> build\\lib.win-amd64-cpython-310\\pandas\\core\\indexes\n",
      "  copying pandas\\core\\indexes\\range.py -> build\\lib.win-amd64-cpython-310\\pandas\\core\\indexes\n",
      "  copying pandas\\core\\indexes\\timedeltas.py -> build\\lib.win-amd64-cpython-310\\pandas\\core\\indexes\n",
      "  copying pandas\\core\\indexes\\__init__.py -> build\\lib.win-amd64-cpython-310\\pandas\\core\\indexes\n",
      "  creating build\\lib.win-amd64-cpython-310\\pandas\\core\\internals\n",
      "  copying pandas\\core\\internals\\arrays.py -> build\\lib.win-amd64-cpython-310\\pandas\\core\\internals\n",
      "  copying pandas\\core\\internals\\blocks.py -> build\\lib.win-amd64-cpython-310\\pandas\\core\\internals\n",
      "  copying pandas\\core\\internals\\concat.py -> build\\lib.win-amd64-cpython-310\\pandas\\core\\internals\n",
      "  copying pandas\\core\\internals\\construction.py -> build\\lib.win-amd64-cpython-310\\pandas\\core\\internals\n",
      "  copying pandas\\core\\internals\\managers.py -> build\\lib.win-amd64-cpython-310\\pandas\\core\\internals\n",
      "  copying pandas\\core\\internals\\__init__.py -> build\\lib.win-amd64-cpython-310\\pandas\\core\\internals\n",
      "  creating build\\lib.win-amd64-cpython-310\\pandas\\core\\ops\n",
      "  copying pandas\\core\\ops\\docstrings.py -> build\\lib.win-amd64-cpython-310\\pandas\\core\\ops\n",
      "  copying pandas\\core\\ops\\missing.py -> build\\lib.win-amd64-cpython-310\\pandas\\core\\ops\n",
      "  copying pandas\\core\\ops\\roperator.py -> build\\lib.win-amd64-cpython-310\\pandas\\core\\ops\n",
      "  copying pandas\\core\\ops\\__init__.py -> build\\lib.win-amd64-cpython-310\\pandas\\core\\ops\n",
      "  creating build\\lib.win-amd64-cpython-310\\pandas\\core\\reshape\n",
      "  copying pandas\\core\\reshape\\api.py -> build\\lib.win-amd64-cpython-310\\pandas\\core\\reshape\n",
      "  copying pandas\\core\\reshape\\concat.py -> build\\lib.win-amd64-cpython-310\\pandas\\core\\reshape\n",
      "  copying pandas\\core\\reshape\\melt.py -> build\\lib.win-amd64-cpython-310\\pandas\\core\\reshape\n",
      "  copying pandas\\core\\reshape\\merge.py -> build\\lib.win-amd64-cpython-310\\pandas\\core\\reshape\n",
      "  copying pandas\\core\\reshape\\pivot.py -> build\\lib.win-amd64-cpython-310\\pandas\\core\\reshape\n",
      "  copying pandas\\core\\reshape\\reshape.py -> build\\lib.win-amd64-cpython-310\\pandas\\core\\reshape\n",
      "  copying pandas\\core\\reshape\\tile.py -> build\\lib.win-amd64-cpython-310\\pandas\\core\\reshape\n",
      "  copying pandas\\core\\reshape\\util.py -> build\\lib.win-amd64-cpython-310\\pandas\\core\\reshape\n",
      "  copying pandas\\core\\reshape\\__init__.py -> build\\lib.win-amd64-cpython-310\\pandas\\core\\reshape\n",
      "  creating build\\lib.win-amd64-cpython-310\\pandas\\core\\sparse\n",
      "  copying pandas\\core\\sparse\\api.py -> build\\lib.win-amd64-cpython-310\\pandas\\core\\sparse\n",
      "  copying pandas\\core\\sparse\\frame.py -> build\\lib.win-amd64-cpython-310\\pandas\\core\\sparse\n",
      "  copying pandas\\core\\sparse\\scipy_sparse.py -> build\\lib.win-amd64-cpython-310\\pandas\\core\\sparse\n",
      "  copying pandas\\core\\sparse\\series.py -> build\\lib.win-amd64-cpython-310\\pandas\\core\\sparse\n",
      "  copying pandas\\core\\sparse\\__init__.py -> build\\lib.win-amd64-cpython-310\\pandas\\core\\sparse\n",
      "  creating build\\lib.win-amd64-cpython-310\\pandas\\core\\tools\n",
      "  copying pandas\\core\\tools\\datetimes.py -> build\\lib.win-amd64-cpython-310\\pandas\\core\\tools\n",
      "  copying pandas\\core\\tools\\numeric.py -> build\\lib.win-amd64-cpython-310\\pandas\\core\\tools\n",
      "  copying pandas\\core\\tools\\timedeltas.py -> build\\lib.win-amd64-cpython-310\\pandas\\core\\tools\n",
      "  copying pandas\\core\\tools\\__init__.py -> build\\lib.win-amd64-cpython-310\\pandas\\core\\tools\n",
      "  creating build\\lib.win-amd64-cpython-310\\pandas\\core\\util\n",
      "  copying pandas\\core\\util\\hashing.py -> build\\lib.win-amd64-cpython-310\\pandas\\core\\util\n",
      "  copying pandas\\core\\util\\__init__.py -> build\\lib.win-amd64-cpython-310\\pandas\\core\\util\n",
      "  creating build\\lib.win-amd64-cpython-310\\pandas\\io\\clipboard\n",
      "  copying pandas\\io\\clipboard\\clipboards.py -> build\\lib.win-amd64-cpython-310\\pandas\\io\\clipboard\n",
      "  copying pandas\\io\\clipboard\\exceptions.py -> build\\lib.win-amd64-cpython-310\\pandas\\io\\clipboard\n",
      "  copying pandas\\io\\clipboard\\windows.py -> build\\lib.win-amd64-cpython-310\\pandas\\io\\clipboard\n",
      "  copying pandas\\io\\clipboard\\__init__.py -> build\\lib.win-amd64-cpython-310\\pandas\\io\\clipboard\n",
      "  creating build\\lib.win-amd64-cpython-310\\pandas\\io\\excel\n",
      "  copying pandas\\io\\excel\\_base.py -> build\\lib.win-amd64-cpython-310\\pandas\\io\\excel\n",
      "  copying pandas\\io\\excel\\_odfreader.py -> build\\lib.win-amd64-cpython-310\\pandas\\io\\excel\n",
      "  copying pandas\\io\\excel\\_openpyxl.py -> build\\lib.win-amd64-cpython-310\\pandas\\io\\excel\n",
      "  copying pandas\\io\\excel\\_util.py -> build\\lib.win-amd64-cpython-310\\pandas\\io\\excel\n",
      "  copying pandas\\io\\excel\\_xlrd.py -> build\\lib.win-amd64-cpython-310\\pandas\\io\\excel\n",
      "  copying pandas\\io\\excel\\_xlsxwriter.py -> build\\lib.win-amd64-cpython-310\\pandas\\io\\excel\n",
      "  copying pandas\\io\\excel\\_xlwt.py -> build\\lib.win-amd64-cpython-310\\pandas\\io\\excel\n",
      "  copying pandas\\io\\excel\\__init__.py -> build\\lib.win-amd64-cpython-310\\pandas\\io\\excel\n",
      "  creating build\\lib.win-amd64-cpython-310\\pandas\\io\\formats\n",
      "  copying pandas\\io\\formats\\console.py -> build\\lib.win-amd64-cpython-310\\pandas\\io\\formats\n",
      "  copying pandas\\io\\formats\\css.py -> build\\lib.win-amd64-cpython-310\\pandas\\io\\formats\n",
      "  copying pandas\\io\\formats\\csvs.py -> build\\lib.win-amd64-cpython-310\\pandas\\io\\formats\n",
      "  copying pandas\\io\\formats\\excel.py -> build\\lib.win-amd64-cpython-310\\pandas\\io\\formats\n",
      "  copying pandas\\io\\formats\\format.py -> build\\lib.win-amd64-cpython-310\\pandas\\io\\formats\n",
      "  copying pandas\\io\\formats\\html.py -> build\\lib.win-amd64-cpython-310\\pandas\\io\\formats\n",
      "  copying pandas\\io\\formats\\latex.py -> build\\lib.win-amd64-cpython-310\\pandas\\io\\formats\n",
      "  copying pandas\\io\\formats\\printing.py -> build\\lib.win-amd64-cpython-310\\pandas\\io\\formats\n",
      "  copying pandas\\io\\formats\\style.py -> build\\lib.win-amd64-cpython-310\\pandas\\io\\formats\n",
      "  copying pandas\\io\\formats\\__init__.py -> build\\lib.win-amd64-cpython-310\\pandas\\io\\formats\n",
      "  creating build\\lib.win-amd64-cpython-310\\pandas\\io\\json\n",
      "  copying pandas\\io\\json\\_json.py -> build\\lib.win-amd64-cpython-310\\pandas\\io\\json\n",
      "  copying pandas\\io\\json\\_normalize.py -> build\\lib.win-amd64-cpython-310\\pandas\\io\\json\n",
      "  copying pandas\\io\\json\\_table_schema.py -> build\\lib.win-amd64-cpython-310\\pandas\\io\\json\n",
      "  copying pandas\\io\\json\\__init__.py -> build\\lib.win-amd64-cpython-310\\pandas\\io\\json\n",
      "  creating build\\lib.win-amd64-cpython-310\\pandas\\io\\msgpack\n",
      "  copying pandas\\io\\msgpack\\exceptions.py -> build\\lib.win-amd64-cpython-310\\pandas\\io\\msgpack\n",
      "  copying pandas\\io\\msgpack\\_version.py -> build\\lib.win-amd64-cpython-310\\pandas\\io\\msgpack\n",
      "  copying pandas\\io\\msgpack\\__init__.py -> build\\lib.win-amd64-cpython-310\\pandas\\io\\msgpack\n",
      "  creating build\\lib.win-amd64-cpython-310\\pandas\\io\\sas\n",
      "  copying pandas\\io\\sas\\sas7bdat.py -> build\\lib.win-amd64-cpython-310\\pandas\\io\\sas\n",
      "  copying pandas\\io\\sas\\sasreader.py -> build\\lib.win-amd64-cpython-310\\pandas\\io\\sas\n",
      "  copying pandas\\io\\sas\\sas_constants.py -> build\\lib.win-amd64-cpython-310\\pandas\\io\\sas\n",
      "  copying pandas\\io\\sas\\sas_xport.py -> build\\lib.win-amd64-cpython-310\\pandas\\io\\sas\n",
      "  copying pandas\\io\\sas\\__init__.py -> build\\lib.win-amd64-cpython-310\\pandas\\io\\sas\n",
      "  creating build\\lib.win-amd64-cpython-310\\pandas\\plotting\\_matplotlib\n",
      "  copying pandas\\plotting\\_matplotlib\\boxplot.py -> build\\lib.win-amd64-cpython-310\\pandas\\plotting\\_matplotlib\n",
      "  copying pandas\\plotting\\_matplotlib\\compat.py -> build\\lib.win-amd64-cpython-310\\pandas\\plotting\\_matplotlib\n",
      "  copying pandas\\plotting\\_matplotlib\\converter.py -> build\\lib.win-amd64-cpython-310\\pandas\\plotting\\_matplotlib\n",
      "  copying pandas\\plotting\\_matplotlib\\core.py -> build\\lib.win-amd64-cpython-310\\pandas\\plotting\\_matplotlib\n",
      "  copying pandas\\plotting\\_matplotlib\\hist.py -> build\\lib.win-amd64-cpython-310\\pandas\\plotting\\_matplotlib\n",
      "  copying pandas\\plotting\\_matplotlib\\misc.py -> build\\lib.win-amd64-cpython-310\\pandas\\plotting\\_matplotlib\n",
      "  copying pandas\\plotting\\_matplotlib\\style.py -> build\\lib.win-amd64-cpython-310\\pandas\\plotting\\_matplotlib\n",
      "  copying pandas\\plotting\\_matplotlib\\timeseries.py -> build\\lib.win-amd64-cpython-310\\pandas\\plotting\\_matplotlib\n",
      "  copying pandas\\plotting\\_matplotlib\\tools.py -> build\\lib.win-amd64-cpython-310\\pandas\\plotting\\_matplotlib\n",
      "  copying pandas\\plotting\\_matplotlib\\__init__.py -> build\\lib.win-amd64-cpython-310\\pandas\\plotting\\_matplotlib\n",
      "  creating build\\lib.win-amd64-cpython-310\\pandas\\tests\\api\n",
      "  copying pandas\\tests\\api\\test_api.py -> build\\lib.win-amd64-cpython-310\\pandas\\tests\\api\n",
      "  copying pandas\\tests\\api\\test_types.py -> build\\lib.win-amd64-cpython-310\\pandas\\tests\\api\n",
      "  copying pandas\\tests\\api\\__init__.py -> build\\lib.win-amd64-cpython-310\\pandas\\tests\\api\n",
      "  creating build\\lib.win-amd64-cpython-310\\pandas\\tests\\arithmetic\n",
      "  copying pandas\\tests\\arithmetic\\conftest.py -> build\\lib.win-amd64-cpython-310\\pandas\\tests\\arithmetic\n",
      "  copying pandas\\tests\\arithmetic\\test_datetime64.py -> build\\lib.win-amd64-cpython-310\\pandas\\tests\\arithmetic\n",
      "  copying pandas\\tests\\arithmetic\\test_numeric.py -> build\\lib.win-amd64-cpython-310\\pandas\\tests\\arithmetic\n",
      "  copying pandas\\tests\\arithmetic\\test_object.py -> build\\lib.win-amd64-cpython-310\\pandas\\tests\\arithmetic\n",
      "  copying pandas\\tests\\arithmetic\\test_period.py -> build\\lib.win-amd64-cpython-310\\pandas\\tests\\arithmetic\n",
      "  copying pandas\\tests\\arithmetic\\test_timedelta64.py -> build\\lib.win-amd64-cpython-310\\pandas\\tests\\arithmetic\n",
      "  copying pandas\\tests\\arithmetic\\__init__.py -> build\\lib.win-amd64-cpython-310\\pandas\\tests\\arithmetic\n",
      "  creating build\\lib.win-amd64-cpython-310\\pandas\\tests\\arrays\n",
      "  copying pandas\\tests\\arrays\\test_array.py -> build\\lib.win-amd64-cpython-310\\pandas\\tests\\arrays\n",
      "  copying pandas\\tests\\arrays\\test_datetimelike.py -> build\\lib.win-amd64-cpython-310\\pandas\\tests\\arrays\n",
      "  copying pandas\\tests\\arrays\\test_datetimes.py -> build\\lib.win-amd64-cpython-310\\pandas\\tests\\arrays\n",
      "  copying pandas\\tests\\arrays\\test_integer.py -> build\\lib.win-amd64-cpython-310\\pandas\\tests\\arrays\n",
      "  copying pandas\\tests\\arrays\\test_numpy.py -> build\\lib.win-amd64-cpython-310\\pandas\\tests\\arrays\n",
      "  copying pandas\\tests\\arrays\\test_period.py -> build\\lib.win-amd64-cpython-310\\pandas\\tests\\arrays\n",
      "  copying pandas\\tests\\arrays\\test_timedeltas.py -> build\\lib.win-amd64-cpython-310\\pandas\\tests\\arrays\n",
      "  copying pandas\\tests\\arrays\\__init__.py -> build\\lib.win-amd64-cpython-310\\pandas\\tests\\arrays\n",
      "  creating build\\lib.win-amd64-cpython-310\\pandas\\tests\\computation\n",
      "  copying pandas\\tests\\computation\\test_compat.py -> build\\lib.win-amd64-cpython-310\\pandas\\tests\\computation\n",
      "  copying pandas\\tests\\computation\\test_eval.py -> build\\lib.win-amd64-cpython-310\\pandas\\tests\\computation\n",
      "  copying pandas\\tests\\computation\\__init__.py -> build\\lib.win-amd64-cpython-310\\pandas\\tests\\computation\n",
      "  creating build\\lib.win-amd64-cpython-310\\pandas\\tests\\config\n",
      "  copying pandas\\tests\\config\\test_config.py -> build\\lib.win-amd64-cpython-310\\pandas\\tests\\config\n",
      "  copying pandas\\tests\\config\\test_localization.py -> build\\lib.win-amd64-cpython-310\\pandas\\tests\\config\n",
      "  copying pandas\\tests\\config\\__init__.py -> build\\lib.win-amd64-cpython-310\\pandas\\tests\\config\n",
      "  creating build\\lib.win-amd64-cpython-310\\pandas\\tests\\dtypes\n",
      "  copying pandas\\tests\\dtypes\\test_common.py -> build\\lib.win-amd64-cpython-310\\pandas\\tests\\dtypes\n",
      "  copying pandas\\tests\\dtypes\\test_concat.py -> build\\lib.win-amd64-cpython-310\\pandas\\tests\\dtypes\n",
      "  copying pandas\\tests\\dtypes\\test_dtypes.py -> build\\lib.win-amd64-cpython-310\\pandas\\tests\\dtypes\n",
      "  copying pandas\\tests\\dtypes\\test_generic.py -> build\\lib.win-amd64-cpython-310\\pandas\\tests\\dtypes\n",
      "  copying pandas\\tests\\dtypes\\test_inference.py -> build\\lib.win-amd64-cpython-310\\pandas\\tests\\dtypes\n",
      "  copying pandas\\tests\\dtypes\\test_missing.py -> build\\lib.win-amd64-cpython-310\\pandas\\tests\\dtypes\n",
      "  copying pandas\\tests\\dtypes\\__init__.py -> build\\lib.win-amd64-cpython-310\\pandas\\tests\\dtypes\n",
      "  creating build\\lib.win-amd64-cpython-310\\pandas\\tests\\extension\n",
      "  copying pandas\\tests\\extension\\conftest.py -> build\\lib.win-amd64-cpython-310\\pandas\\tests\\extension\n",
      "  copying pandas\\tests\\extension\\test_categorical.py -> build\\lib.win-amd64-cpython-310\\pandas\\tests\\extension\n",
      "  copying pandas\\tests\\extension\\test_common.py -> build\\lib.win-amd64-cpython-310\\pandas\\tests\\extension\n",
      "  copying pandas\\tests\\extension\\test_datetime.py -> build\\lib.win-amd64-cpython-310\\pandas\\tests\\extension\n",
      "  copying pandas\\tests\\extension\\test_external_block.py -> build\\lib.win-amd64-cpython-310\\pandas\\tests\\extension\n",
      "  copying pandas\\tests\\extension\\test_integer.py -> build\\lib.win-amd64-cpython-310\\pandas\\tests\\extension\n",
      "  copying pandas\\tests\\extension\\test_interval.py -> build\\lib.win-amd64-cpython-310\\pandas\\tests\\extension\n",
      "  copying pandas\\tests\\extension\\test_numpy.py -> build\\lib.win-amd64-cpython-310\\pandas\\tests\\extension\n",
      "  copying pandas\\tests\\extension\\test_period.py -> build\\lib.win-amd64-cpython-310\\pandas\\tests\\extension\n",
      "  copying pandas\\tests\\extension\\test_sparse.py -> build\\lib.win-amd64-cpython-310\\pandas\\tests\\extension\n",
      "  copying pandas\\tests\\extension\\__init__.py -> build\\lib.win-amd64-cpython-310\\pandas\\tests\\extension\n",
      "  creating build\\lib.win-amd64-cpython-310\\pandas\\tests\\frame\n",
      "  copying pandas\\tests\\frame\\common.py -> build\\lib.win-amd64-cpython-310\\pandas\\tests\\frame\n",
      "  copying pandas\\tests\\frame\\conftest.py -> build\\lib.win-amd64-cpython-310\\pandas\\tests\\frame\n",
      "  copying pandas\\tests\\frame\\test_alter_axes.py -> build\\lib.win-amd64-cpython-310\\pandas\\tests\\frame\n",
      "  copying pandas\\tests\\frame\\test_analytics.py -> build\\lib.win-amd64-cpython-310\\pandas\\tests\\frame\n",
      "  copying pandas\\tests\\frame\\test_api.py -> build\\lib.win-amd64-cpython-310\\pandas\\tests\\frame\n",
      "  copying pandas\\tests\\frame\\test_apply.py -> build\\lib.win-amd64-cpython-310\\pandas\\tests\\frame\n",
      "  copying pandas\\tests\\frame\\test_arithmetic.py -> build\\lib.win-amd64-cpython-310\\pandas\\tests\\frame\n",
      "  copying pandas\\tests\\frame\\test_asof.py -> build\\lib.win-amd64-cpython-310\\pandas\\tests\\frame\n",
      "  copying pandas\\tests\\frame\\test_axis_select_reindex.py -> build\\lib.win-amd64-cpython-310\\pandas\\tests\\frame\n",
      "  copying pandas\\tests\\frame\\test_block_internals.py -> build\\lib.win-amd64-cpython-310\\pandas\\tests\\frame\n",
      "  copying pandas\\tests\\frame\\test_combine_concat.py -> build\\lib.win-amd64-cpython-310\\pandas\\tests\\frame\n",
      "  copying pandas\\tests\\frame\\test_constructors.py -> build\\lib.win-amd64-cpython-310\\pandas\\tests\\frame\n",
      "  copying pandas\\tests\\frame\\test_convert_to.py -> build\\lib.win-amd64-cpython-310\\pandas\\tests\\frame\n",
      "  copying pandas\\tests\\frame\\test_dtypes.py -> build\\lib.win-amd64-cpython-310\\pandas\\tests\\frame\n",
      "  copying pandas\\tests\\frame\\test_duplicates.py -> build\\lib.win-amd64-cpython-310\\pandas\\tests\\frame\n",
      "  copying pandas\\tests\\frame\\test_explode.py -> build\\lib.win-amd64-cpython-310\\pandas\\tests\\frame\n",
      "  copying pandas\\tests\\frame\\test_indexing.py -> build\\lib.win-amd64-cpython-310\\pandas\\tests\\frame\n",
      "  copying pandas\\tests\\frame\\test_join.py -> build\\lib.win-amd64-cpython-310\\pandas\\tests\\frame\n",
      "  copying pandas\\tests\\frame\\test_missing.py -> build\\lib.win-amd64-cpython-310\\pandas\\tests\\frame\n",
      "  copying pandas\\tests\\frame\\test_mutate_columns.py -> build\\lib.win-amd64-cpython-310\\pandas\\tests\\frame\n",
      "  copying pandas\\tests\\frame\\test_nonunique_indexes.py -> build\\lib.win-amd64-cpython-310\\pandas\\tests\\frame\n",
      "  copying pandas\\tests\\frame\\test_operators.py -> build\\lib.win-amd64-cpython-310\\pandas\\tests\\frame\n",
      "  copying pandas\\tests\\frame\\test_period.py -> build\\lib.win-amd64-cpython-310\\pandas\\tests\\frame\n",
      "  copying pandas\\tests\\frame\\test_quantile.py -> build\\lib.win-amd64-cpython-310\\pandas\\tests\\frame\n",
      "  copying pandas\\tests\\frame\\test_query_eval.py -> build\\lib.win-amd64-cpython-310\\pandas\\tests\\frame\n",
      "  copying pandas\\tests\\frame\\test_rank.py -> build\\lib.win-amd64-cpython-310\\pandas\\tests\\frame\n",
      "  copying pandas\\tests\\frame\\test_replace.py -> build\\lib.win-amd64-cpython-310\\pandas\\tests\\frame\n",
      "  copying pandas\\tests\\frame\\test_repr_info.py -> build\\lib.win-amd64-cpython-310\\pandas\\tests\\frame\n",
      "  copying pandas\\tests\\frame\\test_reshape.py -> build\\lib.win-amd64-cpython-310\\pandas\\tests\\frame\n",
      "  copying pandas\\tests\\frame\\test_sorting.py -> build\\lib.win-amd64-cpython-310\\pandas\\tests\\frame\n",
      "  copying pandas\\tests\\frame\\test_sort_values_level_as_str.py -> build\\lib.win-amd64-cpython-310\\pandas\\tests\\frame\n",
      "  copying pandas\\tests\\frame\\test_subclass.py -> build\\lib.win-amd64-cpython-310\\pandas\\tests\\frame\n",
      "  copying pandas\\tests\\frame\\test_timeseries.py -> build\\lib.win-amd64-cpython-310\\pandas\\tests\\frame\n",
      "  copying pandas\\tests\\frame\\test_timezones.py -> build\\lib.win-amd64-cpython-310\\pandas\\tests\\frame\n",
      "  copying pandas\\tests\\frame\\test_to_csv.py -> build\\lib.win-amd64-cpython-310\\pandas\\tests\\frame\n",
      "  copying pandas\\tests\\frame\\test_validate.py -> build\\lib.win-amd64-cpython-310\\pandas\\tests\\frame\n",
      "  copying pandas\\tests\\frame\\__init__.py -> build\\lib.win-amd64-cpython-310\\pandas\\tests\\frame\n",
      "  creating build\\lib.win-amd64-cpython-310\\pandas\\tests\\generic\n",
      "  copying pandas\\tests\\generic\\test_frame.py -> build\\lib.win-amd64-cpython-310\\pandas\\tests\\generic\n",
      "  copying pandas\\tests\\generic\\test_generic.py -> build\\lib.win-amd64-cpython-310\\pandas\\tests\\generic\n",
      "  copying pandas\\tests\\generic\\test_label_or_level_utils.py -> build\\lib.win-amd64-cpython-310\\pandas\\tests\\generic\n",
      "  copying pandas\\tests\\generic\\test_series.py -> build\\lib.win-amd64-cpython-310\\pandas\\tests\\generic\n",
      "  copying pandas\\tests\\generic\\__init__.py -> build\\lib.win-amd64-cpython-310\\pandas\\tests\\generic\n",
      "  creating build\\lib.win-amd64-cpython-310\\pandas\\tests\\groupby\n",
      "  copying pandas\\tests\\groupby\\conftest.py -> build\\lib.win-amd64-cpython-310\\pandas\\tests\\groupby\n",
      "  copying pandas\\tests\\groupby\\test_apply.py -> build\\lib.win-amd64-cpython-310\\pandas\\tests\\groupby\n",
      "  copying pandas\\tests\\groupby\\test_bin_groupby.py -> build\\lib.win-amd64-cpython-310\\pandas\\tests\\groupby\n",
      "  copying pandas\\tests\\groupby\\test_categorical.py -> build\\lib.win-amd64-cpython-310\\pandas\\tests\\groupby\n",
      "  copying pandas\\tests\\groupby\\test_counting.py -> build\\lib.win-amd64-cpython-310\\pandas\\tests\\groupby\n",
      "  copying pandas\\tests\\groupby\\test_filters.py -> build\\lib.win-amd64-cpython-310\\pandas\\tests\\groupby\n",
      "  copying pandas\\tests\\groupby\\test_function.py -> build\\lib.win-amd64-cpython-310\\pandas\\tests\\groupby\n",
      "  copying pandas\\tests\\groupby\\test_groupby.py -> build\\lib.win-amd64-cpython-310\\pandas\\tests\\groupby\n",
      "  copying pandas\\tests\\groupby\\test_grouping.py -> build\\lib.win-amd64-cpython-310\\pandas\\tests\\groupby\n",
      "  copying pandas\\tests\\groupby\\test_index_as_string.py -> build\\lib.win-amd64-cpython-310\\pandas\\tests\\groupby\n",
      "  copying pandas\\tests\\groupby\\test_nth.py -> build\\lib.win-amd64-cpython-310\\pandas\\tests\\groupby\n",
      "  copying pandas\\tests\\groupby\\test_rank.py -> build\\lib.win-amd64-cpython-310\\pandas\\tests\\groupby\n",
      "  copying pandas\\tests\\groupby\\test_timegrouper.py -> build\\lib.win-amd64-cpython-310\\pandas\\tests\\groupby\n",
      "  copying pandas\\tests\\groupby\\test_transform.py -> build\\lib.win-amd64-cpython-310\\pandas\\tests\\groupby\n",
      "  copying pandas\\tests\\groupby\\test_value_counts.py -> build\\lib.win-amd64-cpython-310\\pandas\\tests\\groupby\n",
      "  copying pandas\\tests\\groupby\\test_whitelist.py -> build\\lib.win-amd64-cpython-310\\pandas\\tests\\groupby\n",
      "  copying pandas\\tests\\groupby\\__init__.py -> build\\lib.win-amd64-cpython-310\\pandas\\tests\\groupby\n",
      "  creating build\\lib.win-amd64-cpython-310\\pandas\\tests\\indexes\n",
      "  copying pandas\\tests\\indexes\\common.py -> build\\lib.win-amd64-cpython-310\\pandas\\tests\\indexes\n",
      "  copying pandas\\tests\\indexes\\conftest.py -> build\\lib.win-amd64-cpython-310\\pandas\\tests\\indexes\n",
      "  copying pandas\\tests\\indexes\\datetimelike.py -> build\\lib.win-amd64-cpython-310\\pandas\\tests\\indexes\n",
      "  copying pandas\\tests\\indexes\\test_base.py -> build\\lib.win-amd64-cpython-310\\pandas\\tests\\indexes\n",
      "  copying pandas\\tests\\indexes\\test_category.py -> build\\lib.win-amd64-cpython-310\\pandas\\tests\\indexes\n",
      "  copying pandas\\tests\\indexes\\test_common.py -> build\\lib.win-amd64-cpython-310\\pandas\\tests\\indexes\n",
      "  copying pandas\\tests\\indexes\\test_frozen.py -> build\\lib.win-amd64-cpython-310\\pandas\\tests\\indexes\n",
      "  copying pandas\\tests\\indexes\\test_numeric.py -> build\\lib.win-amd64-cpython-310\\pandas\\tests\\indexes\n",
      "  copying pandas\\tests\\indexes\\test_numpy_compat.py -> build\\lib.win-amd64-cpython-310\\pandas\\tests\\indexes\n",
      "  copying pandas\\tests\\indexes\\test_range.py -> build\\lib.win-amd64-cpython-310\\pandas\\tests\\indexes\n",
      "  copying pandas\\tests\\indexes\\test_setops.py -> build\\lib.win-amd64-cpython-310\\pandas\\tests\\indexes\n",
      "  copying pandas\\tests\\indexes\\__init__.py -> build\\lib.win-amd64-cpython-310\\pandas\\tests\\indexes\n",
      "  creating build\\lib.win-amd64-cpython-310\\pandas\\tests\\indexing\n",
      "  copying pandas\\tests\\indexing\\common.py -> build\\lib.win-amd64-cpython-310\\pandas\\tests\\indexing\n",
      "  copying pandas\\tests\\indexing\\conftest.py -> build\\lib.win-amd64-cpython-310\\pandas\\tests\\indexing\n",
      "  copying pandas\\tests\\indexing\\test_callable.py -> build\\lib.win-amd64-cpython-310\\pandas\\tests\\indexing\n",
      "  copying pandas\\tests\\indexing\\test_categorical.py -> build\\lib.win-amd64-cpython-310\\pandas\\tests\\indexing\n",
      "  copying pandas\\tests\\indexing\\test_chaining_and_caching.py -> build\\lib.win-amd64-cpython-310\\pandas\\tests\\indexing\n",
      "  copying pandas\\tests\\indexing\\test_coercion.py -> build\\lib.win-amd64-cpython-310\\pandas\\tests\\indexing\n",
      "  copying pandas\\tests\\indexing\\test_datetime.py -> build\\lib.win-amd64-cpython-310\\pandas\\tests\\indexing\n",
      "  copying pandas\\tests\\indexing\\test_floats.py -> build\\lib.win-amd64-cpython-310\\pandas\\tests\\indexing\n",
      "  copying pandas\\tests\\indexing\\test_iloc.py -> build\\lib.win-amd64-cpython-310\\pandas\\tests\\indexing\n",
      "  copying pandas\\tests\\indexing\\test_indexing.py -> build\\lib.win-amd64-cpython-310\\pandas\\tests\\indexing\n",
      "  copying pandas\\tests\\indexing\\test_indexing_engines.py -> build\\lib.win-amd64-cpython-310\\pandas\\tests\\indexing\n",
      "  copying pandas\\tests\\indexing\\test_indexing_slow.py -> build\\lib.win-amd64-cpython-310\\pandas\\tests\\indexing\n",
      "  copying pandas\\tests\\indexing\\test_ix.py -> build\\lib.win-amd64-cpython-310\\pandas\\tests\\indexing\n",
      "  copying pandas\\tests\\indexing\\test_loc.py -> build\\lib.win-amd64-cpython-310\\pandas\\tests\\indexing\n",
      "  copying pandas\\tests\\indexing\\test_partial.py -> build\\lib.win-amd64-cpython-310\\pandas\\tests\\indexing\n",
      "  copying pandas\\tests\\indexing\\test_scalar.py -> build\\lib.win-amd64-cpython-310\\pandas\\tests\\indexing\n",
      "  copying pandas\\tests\\indexing\\test_timedelta.py -> build\\lib.win-amd64-cpython-310\\pandas\\tests\\indexing\n",
      "  copying pandas\\tests\\indexing\\__init__.py -> build\\lib.win-amd64-cpython-310\\pandas\\tests\\indexing\n",
      "  creating build\\lib.win-amd64-cpython-310\\pandas\\tests\\internals\n",
      "  copying pandas\\tests\\internals\\test_internals.py -> build\\lib.win-amd64-cpython-310\\pandas\\tests\\internals\n",
      "  copying pandas\\tests\\internals\\__init__.py -> build\\lib.win-amd64-cpython-310\\pandas\\tests\\internals\n",
      "  creating build\\lib.win-amd64-cpython-310\\pandas\\tests\\io\n",
      "  copying pandas\\tests\\io\\conftest.py -> build\\lib.win-amd64-cpython-310\\pandas\\tests\\io\n",
      "  copying pandas\\tests\\io\\generate_legacy_storage_files.py -> build\\lib.win-amd64-cpython-310\\pandas\\tests\\io\n",
      "  copying pandas\\tests\\io\\test_clipboard.py -> build\\lib.win-amd64-cpython-310\\pandas\\tests\\io\n",
      "  copying pandas\\tests\\io\\test_common.py -> build\\lib.win-amd64-cpython-310\\pandas\\tests\\io\n",
      "  copying pandas\\tests\\io\\test_compression.py -> build\\lib.win-amd64-cpython-310\\pandas\\tests\\io\n",
      "  copying pandas\\tests\\io\\test_date_converters.py -> build\\lib.win-amd64-cpython-310\\pandas\\tests\\io\n",
      "  copying pandas\\tests\\io\\test_feather.py -> build\\lib.win-amd64-cpython-310\\pandas\\tests\\io\n",
      "  copying pandas\\tests\\io\\test_gbq.py -> build\\lib.win-amd64-cpython-310\\pandas\\tests\\io\n",
      "  copying pandas\\tests\\io\\test_gcs.py -> build\\lib.win-amd64-cpython-310\\pandas\\tests\\io\n",
      "  copying pandas\\tests\\io\\test_html.py -> build\\lib.win-amd64-cpython-310\\pandas\\tests\\io\n",
      "  copying pandas\\tests\\io\\test_packers.py -> build\\lib.win-amd64-cpython-310\\pandas\\tests\\io\n",
      "  copying pandas\\tests\\io\\test_parquet.py -> build\\lib.win-amd64-cpython-310\\pandas\\tests\\io\n",
      "  copying pandas\\tests\\io\\test_pickle.py -> build\\lib.win-amd64-cpython-310\\pandas\\tests\\io\n",
      "  copying pandas\\tests\\io\\test_s3.py -> build\\lib.win-amd64-cpython-310\\pandas\\tests\\io\n",
      "  copying pandas\\tests\\io\\test_spss.py -> build\\lib.win-amd64-cpython-310\\pandas\\tests\\io\n",
      "  copying pandas\\tests\\io\\test_sql.py -> build\\lib.win-amd64-cpython-310\\pandas\\tests\\io\n",
      "  copying pandas\\tests\\io\\test_stata.py -> build\\lib.win-amd64-cpython-310\\pandas\\tests\\io\n",
      "  copying pandas\\tests\\io\\__init__.py -> build\\lib.win-amd64-cpython-310\\pandas\\tests\\io\n",
      "  creating build\\lib.win-amd64-cpython-310\\pandas\\tests\\plotting\n",
      "  copying pandas\\tests\\plotting\\common.py -> build\\lib.win-amd64-cpython-310\\pandas\\tests\\plotting\n",
      "  copying pandas\\tests\\plotting\\test_backend.py -> build\\lib.win-amd64-cpython-310\\pandas\\tests\\plotting\n",
      "  copying pandas\\tests\\plotting\\test_boxplot_method.py -> build\\lib.win-amd64-cpython-310\\pandas\\tests\\plotting\n",
      "  copying pandas\\tests\\plotting\\test_converter.py -> build\\lib.win-amd64-cpython-310\\pandas\\tests\\plotting\n",
      "  copying pandas\\tests\\plotting\\test_datetimelike.py -> build\\lib.win-amd64-cpython-310\\pandas\\tests\\plotting\n",
      "  copying pandas\\tests\\plotting\\test_frame.py -> build\\lib.win-amd64-cpython-310\\pandas\\tests\\plotting\n",
      "  copying pandas\\tests\\plotting\\test_groupby.py -> build\\lib.win-amd64-cpython-310\\pandas\\tests\\plotting\n",
      "  copying pandas\\tests\\plotting\\test_hist_method.py -> build\\lib.win-amd64-cpython-310\\pandas\\tests\\plotting\n",
      "  copying pandas\\tests\\plotting\\test_misc.py -> build\\lib.win-amd64-cpython-310\\pandas\\tests\\plotting\n",
      "  copying pandas\\tests\\plotting\\test_series.py -> build\\lib.win-amd64-cpython-310\\pandas\\tests\\plotting\n",
      "  copying pandas\\tests\\plotting\\__init__.py -> build\\lib.win-amd64-cpython-310\\pandas\\tests\\plotting\n",
      "  creating build\\lib.win-amd64-cpython-310\\pandas\\tests\\reductions\n",
      "  copying pandas\\tests\\reductions\\test_reductions.py -> build\\lib.win-amd64-cpython-310\\pandas\\tests\\reductions\n",
      "  copying pandas\\tests\\reductions\\test_stat_reductions.py -> build\\lib.win-amd64-cpython-310\\pandas\\tests\\reductions\n",
      "  copying pandas\\tests\\reductions\\__init__.py -> build\\lib.win-amd64-cpython-310\\pandas\\tests\\reductions\n",
      "  creating build\\lib.win-amd64-cpython-310\\pandas\\tests\\resample\n",
      "  copying pandas\\tests\\resample\\conftest.py -> build\\lib.win-amd64-cpython-310\\pandas\\tests\\resample\n",
      "  copying pandas\\tests\\resample\\test_base.py -> build\\lib.win-amd64-cpython-310\\pandas\\tests\\resample\n",
      "  copying pandas\\tests\\resample\\test_datetime_index.py -> build\\lib.win-amd64-cpython-310\\pandas\\tests\\resample\n",
      "  copying pandas\\tests\\resample\\test_period_index.py -> build\\lib.win-amd64-cpython-310\\pandas\\tests\\resample\n",
      "  copying pandas\\tests\\resample\\test_resampler_grouper.py -> build\\lib.win-amd64-cpython-310\\pandas\\tests\\resample\n",
      "  copying pandas\\tests\\resample\\test_resample_api.py -> build\\lib.win-amd64-cpython-310\\pandas\\tests\\resample\n",
      "  copying pandas\\tests\\resample\\test_timedelta.py -> build\\lib.win-amd64-cpython-310\\pandas\\tests\\resample\n",
      "  copying pandas\\tests\\resample\\test_time_grouper.py -> build\\lib.win-amd64-cpython-310\\pandas\\tests\\resample\n",
      "  copying pandas\\tests\\resample\\__init__.py -> build\\lib.win-amd64-cpython-310\\pandas\\tests\\resample\n",
      "  creating build\\lib.win-amd64-cpython-310\\pandas\\tests\\reshape\n",
      "  copying pandas\\tests\\reshape\\test_concat.py -> build\\lib.win-amd64-cpython-310\\pandas\\tests\\reshape\n",
      "  copying pandas\\tests\\reshape\\test_cut.py -> build\\lib.win-amd64-cpython-310\\pandas\\tests\\reshape\n",
      "  copying pandas\\tests\\reshape\\test_melt.py -> build\\lib.win-amd64-cpython-310\\pandas\\tests\\reshape\n",
      "  copying pandas\\tests\\reshape\\test_pivot.py -> build\\lib.win-amd64-cpython-310\\pandas\\tests\\reshape\n",
      "  copying pandas\\tests\\reshape\\test_qcut.py -> build\\lib.win-amd64-cpython-310\\pandas\\tests\\reshape\n",
      "  copying pandas\\tests\\reshape\\test_reshape.py -> build\\lib.win-amd64-cpython-310\\pandas\\tests\\reshape\n",
      "  copying pandas\\tests\\reshape\\test_union_categoricals.py -> build\\lib.win-amd64-cpython-310\\pandas\\tests\\reshape\n",
      "  copying pandas\\tests\\reshape\\test_util.py -> build\\lib.win-amd64-cpython-310\\pandas\\tests\\reshape\n",
      "  copying pandas\\tests\\reshape\\__init__.py -> build\\lib.win-amd64-cpython-310\\pandas\\tests\\reshape\n",
      "  creating build\\lib.win-amd64-cpython-310\\pandas\\tests\\scalar\n",
      "  copying pandas\\tests\\scalar\\test_nat.py -> build\\lib.win-amd64-cpython-310\\pandas\\tests\\scalar\n",
      "  copying pandas\\tests\\scalar\\__init__.py -> build\\lib.win-amd64-cpython-310\\pandas\\tests\\scalar\n",
      "  creating build\\lib.win-amd64-cpython-310\\pandas\\tests\\series\n",
      "  copying pandas\\tests\\series\\common.py -> build\\lib.win-amd64-cpython-310\\pandas\\tests\\series\n",
      "  copying pandas\\tests\\series\\conftest.py -> build\\lib.win-amd64-cpython-310\\pandas\\tests\\series\n",
      "  copying pandas\\tests\\series\\test_alter_axes.py -> build\\lib.win-amd64-cpython-310\\pandas\\tests\\series\n",
      "  copying pandas\\tests\\series\\test_analytics.py -> build\\lib.win-amd64-cpython-310\\pandas\\tests\\series\n",
      "  copying pandas\\tests\\series\\test_api.py -> build\\lib.win-amd64-cpython-310\\pandas\\tests\\series\n",
      "  copying pandas\\tests\\series\\test_apply.py -> build\\lib.win-amd64-cpython-310\\pandas\\tests\\series\n",
      "  copying pandas\\tests\\series\\test_arithmetic.py -> build\\lib.win-amd64-cpython-310\\pandas\\tests\\series\n",
      "  copying pandas\\tests\\series\\test_asof.py -> build\\lib.win-amd64-cpython-310\\pandas\\tests\\series\n",
      "  copying pandas\\tests\\series\\test_block_internals.py -> build\\lib.win-amd64-cpython-310\\pandas\\tests\\series\n",
      "  copying pandas\\tests\\series\\test_combine_concat.py -> build\\lib.win-amd64-cpython-310\\pandas\\tests\\series\n",
      "  copying pandas\\tests\\series\\test_constructors.py -> build\\lib.win-amd64-cpython-310\\pandas\\tests\\series\n",
      "  copying pandas\\tests\\series\\test_datetime_values.py -> build\\lib.win-amd64-cpython-310\\pandas\\tests\\series\n",
      "  copying pandas\\tests\\series\\test_dtypes.py -> build\\lib.win-amd64-cpython-310\\pandas\\tests\\series\n",
      "  copying pandas\\tests\\series\\test_duplicates.py -> build\\lib.win-amd64-cpython-310\\pandas\\tests\\series\n",
      "  copying pandas\\tests\\series\\test_explode.py -> build\\lib.win-amd64-cpython-310\\pandas\\tests\\series\n",
      "  copying pandas\\tests\\series\\test_internals.py -> build\\lib.win-amd64-cpython-310\\pandas\\tests\\series\n",
      "  copying pandas\\tests\\series\\test_io.py -> build\\lib.win-amd64-cpython-310\\pandas\\tests\\series\n",
      "  copying pandas\\tests\\series\\test_missing.py -> build\\lib.win-amd64-cpython-310\\pandas\\tests\\series\n",
      "  copying pandas\\tests\\series\\test_operators.py -> build\\lib.win-amd64-cpython-310\\pandas\\tests\\series\n",
      "  copying pandas\\tests\\series\\test_period.py -> build\\lib.win-amd64-cpython-310\\pandas\\tests\\series\n",
      "  copying pandas\\tests\\series\\test_quantile.py -> build\\lib.win-amd64-cpython-310\\pandas\\tests\\series\n",
      "  copying pandas\\tests\\series\\test_rank.py -> build\\lib.win-amd64-cpython-310\\pandas\\tests\\series\n",
      "  copying pandas\\tests\\series\\test_replace.py -> build\\lib.win-amd64-cpython-310\\pandas\\tests\\series\n",
      "  copying pandas\\tests\\series\\test_repr.py -> build\\lib.win-amd64-cpython-310\\pandas\\tests\\series\n",
      "  copying pandas\\tests\\series\\test_sorting.py -> build\\lib.win-amd64-cpython-310\\pandas\\tests\\series\n",
      "  copying pandas\\tests\\series\\test_subclass.py -> build\\lib.win-amd64-cpython-310\\pandas\\tests\\series\n",
      "  copying pandas\\tests\\series\\test_timeseries.py -> build\\lib.win-amd64-cpython-310\\pandas\\tests\\series\n",
      "  copying pandas\\tests\\series\\test_timezones.py -> build\\lib.win-amd64-cpython-310\\pandas\\tests\\series\n",
      "  copying pandas\\tests\\series\\test_ufunc.py -> build\\lib.win-amd64-cpython-310\\pandas\\tests\\series\n",
      "  copying pandas\\tests\\series\\test_validate.py -> build\\lib.win-amd64-cpython-310\\pandas\\tests\\series\n",
      "  copying pandas\\tests\\series\\__init__.py -> build\\lib.win-amd64-cpython-310\\pandas\\tests\\series\n",
      "  creating build\\lib.win-amd64-cpython-310\\pandas\\tests\\sparse\n",
      "  copying pandas\\tests\\sparse\\common.py -> build\\lib.win-amd64-cpython-310\\pandas\\tests\\sparse\n",
      "  copying pandas\\tests\\sparse\\test_combine_concat.py -> build\\lib.win-amd64-cpython-310\\pandas\\tests\\sparse\n",
      "  copying pandas\\tests\\sparse\\test_format.py -> build\\lib.win-amd64-cpython-310\\pandas\\tests\\sparse\n",
      "  copying pandas\\tests\\sparse\\test_groupby.py -> build\\lib.win-amd64-cpython-310\\pandas\\tests\\sparse\n",
      "  copying pandas\\tests\\sparse\\test_indexing.py -> build\\lib.win-amd64-cpython-310\\pandas\\tests\\sparse\n",
      "  copying pandas\\tests\\sparse\\test_pivot.py -> build\\lib.win-amd64-cpython-310\\pandas\\tests\\sparse\n",
      "  copying pandas\\tests\\sparse\\test_reshape.py -> build\\lib.win-amd64-cpython-310\\pandas\\tests\\sparse\n",
      "  copying pandas\\tests\\sparse\\__init__.py -> build\\lib.win-amd64-cpython-310\\pandas\\tests\\sparse\n",
      "  creating build\\lib.win-amd64-cpython-310\\pandas\\tests\\tools\n",
      "  copying pandas\\tests\\tools\\test_numeric.py -> build\\lib.win-amd64-cpython-310\\pandas\\tests\\tools\n",
      "  copying pandas\\tests\\tools\\__init__.py -> build\\lib.win-amd64-cpython-310\\pandas\\tests\\tools\n",
      "  creating build\\lib.win-amd64-cpython-310\\pandas\\tests\\tseries\n",
      "  copying pandas\\tests\\tseries\\__init__.py -> build\\lib.win-amd64-cpython-310\\pandas\\tests\\tseries\n",
      "  creating build\\lib.win-amd64-cpython-310\\pandas\\tests\\tslibs\n",
      "  copying pandas\\tests\\tslibs\\test_api.py -> build\\lib.win-amd64-cpython-310\\pandas\\tests\\tslibs\n",
      "  copying pandas\\tests\\tslibs\\test_array_to_datetime.py -> build\\lib.win-amd64-cpython-310\\pandas\\tests\\tslibs\n",
      "  copying pandas\\tests\\tslibs\\test_ccalendar.py -> build\\lib.win-amd64-cpython-310\\pandas\\tests\\tslibs\n",
      "  copying pandas\\tests\\tslibs\\test_conversion.py -> build\\lib.win-amd64-cpython-310\\pandas\\tests\\tslibs\n",
      "  copying pandas\\tests\\tslibs\\test_libfrequencies.py -> build\\lib.win-amd64-cpython-310\\pandas\\tests\\tslibs\n",
      "  copying pandas\\tests\\tslibs\\test_liboffsets.py -> build\\lib.win-amd64-cpython-310\\pandas\\tests\\tslibs\n",
      "  copying pandas\\tests\\tslibs\\test_normalize_date.py -> build\\lib.win-amd64-cpython-310\\pandas\\tests\\tslibs\n",
      "  copying pandas\\tests\\tslibs\\test_parse_iso8601.py -> build\\lib.win-amd64-cpython-310\\pandas\\tests\\tslibs\n",
      "  copying pandas\\tests\\tslibs\\test_parsing.py -> build\\lib.win-amd64-cpython-310\\pandas\\tests\\tslibs\n",
      "  copying pandas\\tests\\tslibs\\test_period_asfreq.py -> build\\lib.win-amd64-cpython-310\\pandas\\tests\\tslibs\n",
      "  copying pandas\\tests\\tslibs\\test_timedeltas.py -> build\\lib.win-amd64-cpython-310\\pandas\\tests\\tslibs\n",
      "  copying pandas\\tests\\tslibs\\test_timezones.py -> build\\lib.win-amd64-cpython-310\\pandas\\tests\\tslibs\n",
      "  copying pandas\\tests\\tslibs\\__init__.py -> build\\lib.win-amd64-cpython-310\\pandas\\tests\\tslibs\n",
      "  creating build\\lib.win-amd64-cpython-310\\pandas\\tests\\util\n",
      "  copying pandas\\tests\\util\\conftest.py -> build\\lib.win-amd64-cpython-310\\pandas\\tests\\util\n",
      "  copying pandas\\tests\\util\\test_assert_almost_equal.py -> build\\lib.win-amd64-cpython-310\\pandas\\tests\\util\n",
      "  copying pandas\\tests\\util\\test_assert_categorical_equal.py -> build\\lib.win-amd64-cpython-310\\pandas\\tests\\util\n",
      "  copying pandas\\tests\\util\\test_assert_extension_array_equal.py -> build\\lib.win-amd64-cpython-310\\pandas\\tests\\util\n",
      "  copying pandas\\tests\\util\\test_assert_frame_equal.py -> build\\lib.win-amd64-cpython-310\\pandas\\tests\\util\n",
      "  copying pandas\\tests\\util\\test_assert_index_equal.py -> build\\lib.win-amd64-cpython-310\\pandas\\tests\\util\n",
      "  copying pandas\\tests\\util\\test_assert_interval_array_equal.py -> build\\lib.win-amd64-cpython-310\\pandas\\tests\\util\n",
      "  copying pandas\\tests\\util\\test_assert_numpy_array_equal.py -> build\\lib.win-amd64-cpython-310\\pandas\\tests\\util\n",
      "  copying pandas\\tests\\util\\test_assert_produces_warning.py -> build\\lib.win-amd64-cpython-310\\pandas\\tests\\util\n",
      "  copying pandas\\tests\\util\\test_assert_series_equal.py -> build\\lib.win-amd64-cpython-310\\pandas\\tests\\util\n",
      "  copying pandas\\tests\\util\\test_deprecate.py -> build\\lib.win-amd64-cpython-310\\pandas\\tests\\util\n",
      "  copying pandas\\tests\\util\\test_deprecate_kwarg.py -> build\\lib.win-amd64-cpython-310\\pandas\\tests\\util\n",
      "  copying pandas\\tests\\util\\test_hashing.py -> build\\lib.win-amd64-cpython-310\\pandas\\tests\\util\n",
      "  copying pandas\\tests\\util\\test_move.py -> build\\lib.win-amd64-cpython-310\\pandas\\tests\\util\n",
      "  copying pandas\\tests\\util\\test_safe_import.py -> build\\lib.win-amd64-cpython-310\\pandas\\tests\\util\n",
      "  copying pandas\\tests\\util\\test_util.py -> build\\lib.win-amd64-cpython-310\\pandas\\tests\\util\n",
      "  copying pandas\\tests\\util\\test_validate_args.py -> build\\lib.win-amd64-cpython-310\\pandas\\tests\\util\n",
      "  copying pandas\\tests\\util\\test_validate_args_and_kwargs.py -> build\\lib.win-amd64-cpython-310\\pandas\\tests\\util\n",
      "  copying pandas\\tests\\util\\test_validate_kwargs.py -> build\\lib.win-amd64-cpython-310\\pandas\\tests\\util\n",
      "  copying pandas\\tests\\util\\__init__.py -> build\\lib.win-amd64-cpython-310\\pandas\\tests\\util\n",
      "  creating build\\lib.win-amd64-cpython-310\\pandas\\tests\\window\n",
      "  copying pandas\\tests\\window\\common.py -> build\\lib.win-amd64-cpython-310\\pandas\\tests\\window\n",
      "  copying pandas\\tests\\window\\conftest.py -> build\\lib.win-amd64-cpython-310\\pandas\\tests\\window\n",
      "  copying pandas\\tests\\window\\test_api.py -> build\\lib.win-amd64-cpython-310\\pandas\\tests\\window\n",
      "  copying pandas\\tests\\window\\test_dtypes.py -> build\\lib.win-amd64-cpython-310\\pandas\\tests\\window\n",
      "  copying pandas\\tests\\window\\test_ewm.py -> build\\lib.win-amd64-cpython-310\\pandas\\tests\\window\n",
      "  copying pandas\\tests\\window\\test_expanding.py -> build\\lib.win-amd64-cpython-310\\pandas\\tests\\window\n",
      "  copying pandas\\tests\\window\\test_grouper.py -> build\\lib.win-amd64-cpython-310\\pandas\\tests\\window\n",
      "  copying pandas\\tests\\window\\test_moments.py -> build\\lib.win-amd64-cpython-310\\pandas\\tests\\window\n",
      "  copying pandas\\tests\\window\\test_pairwise.py -> build\\lib.win-amd64-cpython-310\\pandas\\tests\\window\n",
      "  copying pandas\\tests\\window\\test_rolling.py -> build\\lib.win-amd64-cpython-310\\pandas\\tests\\window\n",
      "  copying pandas\\tests\\window\\test_timeseries_window.py -> build\\lib.win-amd64-cpython-310\\pandas\\tests\\window\n",
      "  copying pandas\\tests\\window\\test_window.py -> build\\lib.win-amd64-cpython-310\\pandas\\tests\\window\n",
      "  copying pandas\\tests\\window\\__init__.py -> build\\lib.win-amd64-cpython-310\\pandas\\tests\\window\n",
      "  creating build\\lib.win-amd64-cpython-310\\pandas\\tests\\arrays\\categorical\n",
      "  copying pandas\\tests\\arrays\\categorical\\common.py -> build\\lib.win-amd64-cpython-310\\pandas\\tests\\arrays\\categorical\n",
      "  copying pandas\\tests\\arrays\\categorical\\conftest.py -> build\\lib.win-amd64-cpython-310\\pandas\\tests\\arrays\\categorical\n",
      "  copying pandas\\tests\\arrays\\categorical\\test_algos.py -> build\\lib.win-amd64-cpython-310\\pandas\\tests\\arrays\\categorical\n",
      "  copying pandas\\tests\\arrays\\categorical\\test_analytics.py -> build\\lib.win-amd64-cpython-310\\pandas\\tests\\arrays\\categorical\n",
      "  copying pandas\\tests\\arrays\\categorical\\test_api.py -> build\\lib.win-amd64-cpython-310\\pandas\\tests\\arrays\\categorical\n",
      "  copying pandas\\tests\\arrays\\categorical\\test_constructors.py -> build\\lib.win-amd64-cpython-310\\pandas\\tests\\arrays\\categorical\n",
      "  copying pandas\\tests\\arrays\\categorical\\test_dtypes.py -> build\\lib.win-amd64-cpython-310\\pandas\\tests\\arrays\\categorical\n",
      "  copying pandas\\tests\\arrays\\categorical\\test_indexing.py -> build\\lib.win-amd64-cpython-310\\pandas\\tests\\arrays\\categorical\n",
      "  copying pandas\\tests\\arrays\\categorical\\test_missing.py -> build\\lib.win-amd64-cpython-310\\pandas\\tests\\arrays\\categorical\n",
      "  copying pandas\\tests\\arrays\\categorical\\test_operators.py -> build\\lib.win-amd64-cpython-310\\pandas\\tests\\arrays\\categorical\n",
      "  copying pandas\\tests\\arrays\\categorical\\test_repr.py -> build\\lib.win-amd64-cpython-310\\pandas\\tests\\arrays\\categorical\n",
      "  copying pandas\\tests\\arrays\\categorical\\test_sorting.py -> build\\lib.win-amd64-cpython-310\\pandas\\tests\\arrays\\categorical\n",
      "  copying pandas\\tests\\arrays\\categorical\\test_subclass.py -> build\\lib.win-amd64-cpython-310\\pandas\\tests\\arrays\\categorical\n",
      "  copying pandas\\tests\\arrays\\categorical\\test_warnings.py -> build\\lib.win-amd64-cpython-310\\pandas\\tests\\arrays\\categorical\n",
      "  copying pandas\\tests\\arrays\\categorical\\__init__.py -> build\\lib.win-amd64-cpython-310\\pandas\\tests\\arrays\\categorical\n",
      "  creating build\\lib.win-amd64-cpython-310\\pandas\\tests\\arrays\\interval\n",
      "  copying pandas\\tests\\arrays\\interval\\test_interval.py -> build\\lib.win-amd64-cpython-310\\pandas\\tests\\arrays\\interval\n",
      "  copying pandas\\tests\\arrays\\interval\\test_ops.py -> build\\lib.win-amd64-cpython-310\\pandas\\tests\\arrays\\interval\n",
      "  copying pandas\\tests\\arrays\\interval\\__init__.py -> build\\lib.win-amd64-cpython-310\\pandas\\tests\\arrays\\interval\n",
      "  creating build\\lib.win-amd64-cpython-310\\pandas\\tests\\arrays\\sparse\n",
      "  copying pandas\\tests\\arrays\\sparse\\test_accessor.py -> build\\lib.win-amd64-cpython-310\\pandas\\tests\\arrays\\sparse\n",
      "  copying pandas\\tests\\arrays\\sparse\\test_arithmetics.py -> build\\lib.win-amd64-cpython-310\\pandas\\tests\\arrays\\sparse\n",
      "  copying pandas\\tests\\arrays\\sparse\\test_array.py -> build\\lib.win-amd64-cpython-310\\pandas\\tests\\arrays\\sparse\n",
      "  copying pandas\\tests\\arrays\\sparse\\test_dtype.py -> build\\lib.win-amd64-cpython-310\\pandas\\tests\\arrays\\sparse\n",
      "  copying pandas\\tests\\arrays\\sparse\\test_libsparse.py -> build\\lib.win-amd64-cpython-310\\pandas\\tests\\arrays\\sparse\n",
      "  copying pandas\\tests\\arrays\\sparse\\__init__.py -> build\\lib.win-amd64-cpython-310\\pandas\\tests\\arrays\\sparse\n",
      "  creating build\\lib.win-amd64-cpython-310\\pandas\\tests\\dtypes\\cast\n",
      "  copying pandas\\tests\\dtypes\\cast\\test_construct_from_scalar.py -> build\\lib.win-amd64-cpython-310\\pandas\\tests\\dtypes\\cast\n",
      "  copying pandas\\tests\\dtypes\\cast\\test_construct_ndarray.py -> build\\lib.win-amd64-cpython-310\\pandas\\tests\\dtypes\\cast\n",
      "  copying pandas\\tests\\dtypes\\cast\\test_construct_object_arr.py -> build\\lib.win-amd64-cpython-310\\pandas\\tests\\dtypes\\cast\n",
      "  copying pandas\\tests\\dtypes\\cast\\test_convert_objects.py -> build\\lib.win-amd64-cpython-310\\pandas\\tests\\dtypes\\cast\n",
      "  copying pandas\\tests\\dtypes\\cast\\test_downcast.py -> build\\lib.win-amd64-cpython-310\\pandas\\tests\\dtypes\\cast\n",
      "  copying pandas\\tests\\dtypes\\cast\\test_find_common_type.py -> build\\lib.win-amd64-cpython-310\\pandas\\tests\\dtypes\\cast\n",
      "  copying pandas\\tests\\dtypes\\cast\\test_infer_datetimelike.py -> build\\lib.win-amd64-cpython-310\\pandas\\tests\\dtypes\\cast\n",
      "  copying pandas\\tests\\dtypes\\cast\\test_infer_dtype.py -> build\\lib.win-amd64-cpython-310\\pandas\\tests\\dtypes\\cast\n",
      "  copying pandas\\tests\\dtypes\\cast\\test_promote.py -> build\\lib.win-amd64-cpython-310\\pandas\\tests\\dtypes\\cast\n",
      "  copying pandas\\tests\\dtypes\\cast\\test_upcast.py -> build\\lib.win-amd64-cpython-310\\pandas\\tests\\dtypes\\cast\n",
      "  copying pandas\\tests\\dtypes\\cast\\__init__.py -> build\\lib.win-amd64-cpython-310\\pandas\\tests\\dtypes\\cast\n",
      "  creating build\\lib.win-amd64-cpython-310\\pandas\\tests\\extension\\arrow\n",
      "  copying pandas\\tests\\extension\\arrow\\bool.py -> build\\lib.win-amd64-cpython-310\\pandas\\tests\\extension\\arrow\n",
      "  copying pandas\\tests\\extension\\arrow\\test_bool.py -> build\\lib.win-amd64-cpython-310\\pandas\\tests\\extension\\arrow\n",
      "  copying pandas\\tests\\extension\\arrow\\__init__.py -> build\\lib.win-amd64-cpython-310\\pandas\\tests\\extension\\arrow\n",
      "  creating build\\lib.win-amd64-cpython-310\\pandas\\tests\\extension\\base\n",
      "  copying pandas\\tests\\extension\\base\\base.py -> build\\lib.win-amd64-cpython-310\\pandas\\tests\\extension\\base\n",
      "  copying pandas\\tests\\extension\\base\\casting.py -> build\\lib.win-amd64-cpython-310\\pandas\\tests\\extension\\base\n",
      "  copying pandas\\tests\\extension\\base\\constructors.py -> build\\lib.win-amd64-cpython-310\\pandas\\tests\\extension\\base\n",
      "  copying pandas\\tests\\extension\\base\\dtype.py -> build\\lib.win-amd64-cpython-310\\pandas\\tests\\extension\\base\n",
      "  copying pandas\\tests\\extension\\base\\getitem.py -> build\\lib.win-amd64-cpython-310\\pandas\\tests\\extension\\base\n",
      "  copying pandas\\tests\\extension\\base\\groupby.py -> build\\lib.win-amd64-cpython-310\\pandas\\tests\\extension\\base\n",
      "  copying pandas\\tests\\extension\\base\\interface.py -> build\\lib.win-amd64-cpython-310\\pandas\\tests\\extension\\base\n",
      "  copying pandas\\tests\\extension\\base\\io.py -> build\\lib.win-amd64-cpython-310\\pandas\\tests\\extension\\base\n",
      "  copying pandas\\tests\\extension\\base\\methods.py -> build\\lib.win-amd64-cpython-310\\pandas\\tests\\extension\\base\n",
      "  copying pandas\\tests\\extension\\base\\missing.py -> build\\lib.win-amd64-cpython-310\\pandas\\tests\\extension\\base\n",
      "  copying pandas\\tests\\extension\\base\\ops.py -> build\\lib.win-amd64-cpython-310\\pandas\\tests\\extension\\base\n",
      "  copying pandas\\tests\\extension\\base\\printing.py -> build\\lib.win-amd64-cpython-310\\pandas\\tests\\extension\\base\n",
      "  copying pandas\\tests\\extension\\base\\reduce.py -> build\\lib.win-amd64-cpython-310\\pandas\\tests\\extension\\base\n",
      "  copying pandas\\tests\\extension\\base\\reshaping.py -> build\\lib.win-amd64-cpython-310\\pandas\\tests\\extension\\base\n",
      "  copying pandas\\tests\\extension\\base\\setitem.py -> build\\lib.win-amd64-cpython-310\\pandas\\tests\\extension\\base\n",
      "  copying pandas\\tests\\extension\\base\\__init__.py -> build\\lib.win-amd64-cpython-310\\pandas\\tests\\extension\\base\n",
      "  creating build\\lib.win-amd64-cpython-310\\pandas\\tests\\extension\\decimal\n",
      "  copying pandas\\tests\\extension\\decimal\\array.py -> build\\lib.win-amd64-cpython-310\\pandas\\tests\\extension\\decimal\n",
      "  copying pandas\\tests\\extension\\decimal\\test_decimal.py -> build\\lib.win-amd64-cpython-310\\pandas\\tests\\extension\\decimal\n",
      "  copying pandas\\tests\\extension\\decimal\\__init__.py -> build\\lib.win-amd64-cpython-310\\pandas\\tests\\extension\\decimal\n",
      "  creating build\\lib.win-amd64-cpython-310\\pandas\\tests\\extension\\json\n",
      "  copying pandas\\tests\\extension\\json\\array.py -> build\\lib.win-amd64-cpython-310\\pandas\\tests\\extension\\json\n",
      "  copying pandas\\tests\\extension\\json\\test_json.py -> build\\lib.win-amd64-cpython-310\\pandas\\tests\\extension\\json\n",
      "  copying pandas\\tests\\extension\\json\\__init__.py -> build\\lib.win-amd64-cpython-310\\pandas\\tests\\extension\\json\n",
      "  creating build\\lib.win-amd64-cpython-310\\pandas\\tests\\groupby\\aggregate\n",
      "  copying pandas\\tests\\groupby\\aggregate\\test_aggregate.py -> build\\lib.win-amd64-cpython-310\\pandas\\tests\\groupby\\aggregate\n",
      "  copying pandas\\tests\\groupby\\aggregate\\test_cython.py -> build\\lib.win-amd64-cpython-310\\pandas\\tests\\groupby\\aggregate\n",
      "  copying pandas\\tests\\groupby\\aggregate\\test_other.py -> build\\lib.win-amd64-cpython-310\\pandas\\tests\\groupby\\aggregate\n",
      "  copying pandas\\tests\\groupby\\aggregate\\__init__.py -> build\\lib.win-amd64-cpython-310\\pandas\\tests\\groupby\\aggregate\n",
      "  creating build\\lib.win-amd64-cpython-310\\pandas\\tests\\indexes\\datetimes\n",
      "  copying pandas\\tests\\indexes\\datetimes\\test_arithmetic.py -> build\\lib.win-amd64-cpython-310\\pandas\\tests\\indexes\\datetimes\n",
      "  copying pandas\\tests\\indexes\\datetimes\\test_astype.py -> build\\lib.win-amd64-cpython-310\\pandas\\tests\\indexes\\datetimes\n",
      "  copying pandas\\tests\\indexes\\datetimes\\test_construction.py -> build\\lib.win-amd64-cpython-310\\pandas\\tests\\indexes\\datetimes\n",
      "  copying pandas\\tests\\indexes\\datetimes\\test_datetime.py -> build\\lib.win-amd64-cpython-310\\pandas\\tests\\indexes\\datetimes\n",
      "  copying pandas\\tests\\indexes\\datetimes\\test_datetimelike.py -> build\\lib.win-amd64-cpython-310\\pandas\\tests\\indexes\\datetimes\n",
      "  copying pandas\\tests\\indexes\\datetimes\\test_date_range.py -> build\\lib.win-amd64-cpython-310\\pandas\\tests\\indexes\\datetimes\n",
      "  copying pandas\\tests\\indexes\\datetimes\\test_formats.py -> build\\lib.win-amd64-cpython-310\\pandas\\tests\\indexes\\datetimes\n",
      "  copying pandas\\tests\\indexes\\datetimes\\test_indexing.py -> build\\lib.win-amd64-cpython-310\\pandas\\tests\\indexes\\datetimes\n",
      "  copying pandas\\tests\\indexes\\datetimes\\test_misc.py -> build\\lib.win-amd64-cpython-310\\pandas\\tests\\indexes\\datetimes\n",
      "  copying pandas\\tests\\indexes\\datetimes\\test_missing.py -> build\\lib.win-amd64-cpython-310\\pandas\\tests\\indexes\\datetimes\n",
      "  copying pandas\\tests\\indexes\\datetimes\\test_ops.py -> build\\lib.win-amd64-cpython-310\\pandas\\tests\\indexes\\datetimes\n",
      "  copying pandas\\tests\\indexes\\datetimes\\test_partial_slicing.py -> build\\lib.win-amd64-cpython-310\\pandas\\tests\\indexes\\datetimes\n",
      "  copying pandas\\tests\\indexes\\datetimes\\test_scalar_compat.py -> build\\lib.win-amd64-cpython-310\\pandas\\tests\\indexes\\datetimes\n",
      "  copying pandas\\tests\\indexes\\datetimes\\test_setops.py -> build\\lib.win-amd64-cpython-310\\pandas\\tests\\indexes\\datetimes\n",
      "  copying pandas\\tests\\indexes\\datetimes\\test_timezones.py -> build\\lib.win-amd64-cpython-310\\pandas\\tests\\indexes\\datetimes\n",
      "  copying pandas\\tests\\indexes\\datetimes\\test_tools.py -> build\\lib.win-amd64-cpython-310\\pandas\\tests\\indexes\\datetimes\n",
      "  copying pandas\\tests\\indexes\\datetimes\\__init__.py -> build\\lib.win-amd64-cpython-310\\pandas\\tests\\indexes\\datetimes\n",
      "  creating build\\lib.win-amd64-cpython-310\\pandas\\tests\\indexes\\interval\n",
      "  copying pandas\\tests\\indexes\\interval\\test_astype.py -> build\\lib.win-amd64-cpython-310\\pandas\\tests\\indexes\\interval\n",
      "  copying pandas\\tests\\indexes\\interval\\test_construction.py -> build\\lib.win-amd64-cpython-310\\pandas\\tests\\indexes\\interval\n",
      "  copying pandas\\tests\\indexes\\interval\\test_interval.py -> build\\lib.win-amd64-cpython-310\\pandas\\tests\\indexes\\interval\n",
      "  copying pandas\\tests\\indexes\\interval\\test_interval_new.py -> build\\lib.win-amd64-cpython-310\\pandas\\tests\\indexes\\interval\n",
      "  copying pandas\\tests\\indexes\\interval\\test_interval_range.py -> build\\lib.win-amd64-cpython-310\\pandas\\tests\\indexes\\interval\n",
      "  copying pandas\\tests\\indexes\\interval\\test_interval_tree.py -> build\\lib.win-amd64-cpython-310\\pandas\\tests\\indexes\\interval\n",
      "  copying pandas\\tests\\indexes\\interval\\test_setops.py -> build\\lib.win-amd64-cpython-310\\pandas\\tests\\indexes\\interval\n",
      "  copying pandas\\tests\\indexes\\interval\\__init__.py -> build\\lib.win-amd64-cpython-310\\pandas\\tests\\indexes\\interval\n",
      "  creating build\\lib.win-amd64-cpython-310\\pandas\\tests\\indexes\\multi\n",
      "  copying pandas\\tests\\indexes\\multi\\conftest.py -> build\\lib.win-amd64-cpython-310\\pandas\\tests\\indexes\\multi\n",
      "  copying pandas\\tests\\indexes\\multi\\test_analytics.py -> build\\lib.win-amd64-cpython-310\\pandas\\tests\\indexes\\multi\n",
      "  copying pandas\\tests\\indexes\\multi\\test_astype.py -> build\\lib.win-amd64-cpython-310\\pandas\\tests\\indexes\\multi\n",
      "  copying pandas\\tests\\indexes\\multi\\test_compat.py -> build\\lib.win-amd64-cpython-310\\pandas\\tests\\indexes\\multi\n",
      "  copying pandas\\tests\\indexes\\multi\\test_constructor.py -> build\\lib.win-amd64-cpython-310\\pandas\\tests\\indexes\\multi\n",
      "  copying pandas\\tests\\indexes\\multi\\test_contains.py -> build\\lib.win-amd64-cpython-310\\pandas\\tests\\indexes\\multi\n",
      "  copying pandas\\tests\\indexes\\multi\\test_conversion.py -> build\\lib.win-amd64-cpython-310\\pandas\\tests\\indexes\\multi\n",
      "  copying pandas\\tests\\indexes\\multi\\test_copy.py -> build\\lib.win-amd64-cpython-310\\pandas\\tests\\indexes\\multi\n",
      "  copying pandas\\tests\\indexes\\multi\\test_drop.py -> build\\lib.win-amd64-cpython-310\\pandas\\tests\\indexes\\multi\n",
      "  copying pandas\\tests\\indexes\\multi\\test_duplicates.py -> build\\lib.win-amd64-cpython-310\\pandas\\tests\\indexes\\multi\n",
      "  copying pandas\\tests\\indexes\\multi\\test_equivalence.py -> build\\lib.win-amd64-cpython-310\\pandas\\tests\\indexes\\multi\n",
      "  copying pandas\\tests\\indexes\\multi\\test_format.py -> build\\lib.win-amd64-cpython-310\\pandas\\tests\\indexes\\multi\n",
      "  copying pandas\\tests\\indexes\\multi\\test_get_set.py -> build\\lib.win-amd64-cpython-310\\pandas\\tests\\indexes\\multi\n",
      "  copying pandas\\tests\\indexes\\multi\\test_indexing.py -> build\\lib.win-amd64-cpython-310\\pandas\\tests\\indexes\\multi\n",
      "  copying pandas\\tests\\indexes\\multi\\test_integrity.py -> build\\lib.win-amd64-cpython-310\\pandas\\tests\\indexes\\multi\n",
      "  copying pandas\\tests\\indexes\\multi\\test_join.py -> build\\lib.win-amd64-cpython-310\\pandas\\tests\\indexes\\multi\n",
      "  copying pandas\\tests\\indexes\\multi\\test_missing.py -> build\\lib.win-amd64-cpython-310\\pandas\\tests\\indexes\\multi\n",
      "  copying pandas\\tests\\indexes\\multi\\test_monotonic.py -> build\\lib.win-amd64-cpython-310\\pandas\\tests\\indexes\\multi\n",
      "  copying pandas\\tests\\indexes\\multi\\test_names.py -> build\\lib.win-amd64-cpython-310\\pandas\\tests\\indexes\\multi\n",
      "  copying pandas\\tests\\indexes\\multi\\test_partial_indexing.py -> build\\lib.win-amd64-cpython-310\\pandas\\tests\\indexes\\multi\n",
      "  copying pandas\\tests\\indexes\\multi\\test_reindex.py -> build\\lib.win-amd64-cpython-310\\pandas\\tests\\indexes\\multi\n",
      "  copying pandas\\tests\\indexes\\multi\\test_reshape.py -> build\\lib.win-amd64-cpython-310\\pandas\\tests\\indexes\\multi\n",
      "  copying pandas\\tests\\indexes\\multi\\test_set_ops.py -> build\\lib.win-amd64-cpython-310\\pandas\\tests\\indexes\\multi\n",
      "  copying pandas\\tests\\indexes\\multi\\test_sorting.py -> build\\lib.win-amd64-cpython-310\\pandas\\tests\\indexes\\multi\n",
      "  copying pandas\\tests\\indexes\\multi\\__init__.py -> build\\lib.win-amd64-cpython-310\\pandas\\tests\\indexes\\multi\n",
      "  creating build\\lib.win-amd64-cpython-310\\pandas\\tests\\indexes\\period\n",
      "  copying pandas\\tests\\indexes\\period\\test_arithmetic.py -> build\\lib.win-amd64-cpython-310\\pandas\\tests\\indexes\\period\n",
      "  copying pandas\\tests\\indexes\\period\\test_asfreq.py -> build\\lib.win-amd64-cpython-310\\pandas\\tests\\indexes\\period\n",
      "  copying pandas\\tests\\indexes\\period\\test_astype.py -> build\\lib.win-amd64-cpython-310\\pandas\\tests\\indexes\\period\n",
      "  copying pandas\\tests\\indexes\\period\\test_construction.py -> build\\lib.win-amd64-cpython-310\\pandas\\tests\\indexes\\period\n",
      "  copying pandas\\tests\\indexes\\period\\test_formats.py -> build\\lib.win-amd64-cpython-310\\pandas\\tests\\indexes\\period\n",
      "  copying pandas\\tests\\indexes\\period\\test_indexing.py -> build\\lib.win-amd64-cpython-310\\pandas\\tests\\indexes\\period\n",
      "  copying pandas\\tests\\indexes\\period\\test_ops.py -> build\\lib.win-amd64-cpython-310\\pandas\\tests\\indexes\\period\n",
      "  copying pandas\\tests\\indexes\\period\\test_partial_slicing.py -> build\\lib.win-amd64-cpython-310\\pandas\\tests\\indexes\\period\n",
      "  copying pandas\\tests\\indexes\\period\\test_period.py -> build\\lib.win-amd64-cpython-310\\pandas\\tests\\indexes\\period\n",
      "  copying pandas\\tests\\indexes\\period\\test_period_range.py -> build\\lib.win-amd64-cpython-310\\pandas\\tests\\indexes\\period\n",
      "  copying pandas\\tests\\indexes\\period\\test_scalar_compat.py -> build\\lib.win-amd64-cpython-310\\pandas\\tests\\indexes\\period\n",
      "  copying pandas\\tests\\indexes\\period\\test_setops.py -> build\\lib.win-amd64-cpython-310\\pandas\\tests\\indexes\\period\n",
      "  copying pandas\\tests\\indexes\\period\\test_tools.py -> build\\lib.win-amd64-cpython-310\\pandas\\tests\\indexes\\period\n",
      "  copying pandas\\tests\\indexes\\period\\__init__.py -> build\\lib.win-amd64-cpython-310\\pandas\\tests\\indexes\\period\n",
      "  creating build\\lib.win-amd64-cpython-310\\pandas\\tests\\indexes\\timedeltas\n",
      "  copying pandas\\tests\\indexes\\timedeltas\\test_arithmetic.py -> build\\lib.win-amd64-cpython-310\\pandas\\tests\\indexes\\timedeltas\n",
      "  copying pandas\\tests\\indexes\\timedeltas\\test_astype.py -> build\\lib.win-amd64-cpython-310\\pandas\\tests\\indexes\\timedeltas\n",
      "  copying pandas\\tests\\indexes\\timedeltas\\test_construction.py -> build\\lib.win-amd64-cpython-310\\pandas\\tests\\indexes\\timedeltas\n",
      "  copying pandas\\tests\\indexes\\timedeltas\\test_formats.py -> build\\lib.win-amd64-cpython-310\\pandas\\tests\\indexes\\timedeltas\n",
      "  copying pandas\\tests\\indexes\\timedeltas\\test_indexing.py -> build\\lib.win-amd64-cpython-310\\pandas\\tests\\indexes\\timedeltas\n",
      "  copying pandas\\tests\\indexes\\timedeltas\\test_ops.py -> build\\lib.win-amd64-cpython-310\\pandas\\tests\\indexes\\timedeltas\n",
      "  copying pandas\\tests\\indexes\\timedeltas\\test_partial_slicing.py -> build\\lib.win-amd64-cpython-310\\pandas\\tests\\indexes\\timedeltas\n",
      "  copying pandas\\tests\\indexes\\timedeltas\\test_scalar_compat.py -> build\\lib.win-amd64-cpython-310\\pandas\\tests\\indexes\\timedeltas\n",
      "  copying pandas\\tests\\indexes\\timedeltas\\test_setops.py -> build\\lib.win-amd64-cpython-310\\pandas\\tests\\indexes\\timedeltas\n",
      "  copying pandas\\tests\\indexes\\timedeltas\\test_timedelta.py -> build\\lib.win-amd64-cpython-310\\pandas\\tests\\indexes\\timedeltas\n",
      "  copying pandas\\tests\\indexes\\timedeltas\\test_timedelta_range.py -> build\\lib.win-amd64-cpython-310\\pandas\\tests\\indexes\\timedeltas\n",
      "  copying pandas\\tests\\indexes\\timedeltas\\test_tools.py -> build\\lib.win-amd64-cpython-310\\pandas\\tests\\indexes\\timedeltas\n",
      "  copying pandas\\tests\\indexes\\timedeltas\\__init__.py -> build\\lib.win-amd64-cpython-310\\pandas\\tests\\indexes\\timedeltas\n",
      "  creating build\\lib.win-amd64-cpython-310\\pandas\\tests\\indexing\\interval\n",
      "  copying pandas\\tests\\indexing\\interval\\test_interval.py -> build\\lib.win-amd64-cpython-310\\pandas\\tests\\indexing\\interval\n",
      "  copying pandas\\tests\\indexing\\interval\\test_interval_new.py -> build\\lib.win-amd64-cpython-310\\pandas\\tests\\indexing\\interval\n",
      "  copying pandas\\tests\\indexing\\interval\\__init__.py -> build\\lib.win-amd64-cpython-310\\pandas\\tests\\indexing\\interval\n",
      "  creating build\\lib.win-amd64-cpython-310\\pandas\\tests\\indexing\\multiindex\n",
      "  copying pandas\\tests\\indexing\\multiindex\\conftest.py -> build\\lib.win-amd64-cpython-310\\pandas\\tests\\indexing\\multiindex\n",
      "  copying pandas\\tests\\indexing\\multiindex\\test_chaining_and_caching.py -> build\\lib.win-amd64-cpython-310\\pandas\\tests\\indexing\\multiindex\n",
      "  copying pandas\\tests\\indexing\\multiindex\\test_datetime.py -> build\\lib.win-amd64-cpython-310\\pandas\\tests\\indexing\\multiindex\n",
      "  copying pandas\\tests\\indexing\\multiindex\\test_getitem.py -> build\\lib.win-amd64-cpython-310\\pandas\\tests\\indexing\\multiindex\n",
      "  copying pandas\\tests\\indexing\\multiindex\\test_iloc.py -> build\\lib.win-amd64-cpython-310\\pandas\\tests\\indexing\\multiindex\n",
      "  copying pandas\\tests\\indexing\\multiindex\\test_indexing_slow.py -> build\\lib.win-amd64-cpython-310\\pandas\\tests\\indexing\\multiindex\n",
      "  copying pandas\\tests\\indexing\\multiindex\\test_ix.py -> build\\lib.win-amd64-cpython-310\\pandas\\tests\\indexing\\multiindex\n",
      "  copying pandas\\tests\\indexing\\multiindex\\test_loc.py -> build\\lib.win-amd64-cpython-310\\pandas\\tests\\indexing\\multiindex\n",
      "  copying pandas\\tests\\indexing\\multiindex\\test_multiindex.py -> build\\lib.win-amd64-cpython-310\\pandas\\tests\\indexing\\multiindex\n",
      "  copying pandas\\tests\\indexing\\multiindex\\test_partial.py -> build\\lib.win-amd64-cpython-310\\pandas\\tests\\indexing\\multiindex\n",
      "  copying pandas\\tests\\indexing\\multiindex\\test_setitem.py -> build\\lib.win-amd64-cpython-310\\pandas\\tests\\indexing\\multiindex\n",
      "  copying pandas\\tests\\indexing\\multiindex\\test_set_ops.py -> build\\lib.win-amd64-cpython-310\\pandas\\tests\\indexing\\multiindex\n",
      "  copying pandas\\tests\\indexing\\multiindex\\test_slice.py -> build\\lib.win-amd64-cpython-310\\pandas\\tests\\indexing\\multiindex\n",
      "  copying pandas\\tests\\indexing\\multiindex\\test_sorted.py -> build\\lib.win-amd64-cpython-310\\pandas\\tests\\indexing\\multiindex\n",
      "  copying pandas\\tests\\indexing\\multiindex\\test_xs.py -> build\\lib.win-amd64-cpython-310\\pandas\\tests\\indexing\\multiindex\n",
      "  copying pandas\\tests\\indexing\\multiindex\\__init__.py -> build\\lib.win-amd64-cpython-310\\pandas\\tests\\indexing\\multiindex\n",
      "  creating build\\lib.win-amd64-cpython-310\\pandas\\tests\\io\\excel\n",
      "  copying pandas\\tests\\io\\excel\\conftest.py -> build\\lib.win-amd64-cpython-310\\pandas\\tests\\io\\excel\n",
      "  copying pandas\\tests\\io\\excel\\test_odf.py -> build\\lib.win-amd64-cpython-310\\pandas\\tests\\io\\excel\n",
      "  copying pandas\\tests\\io\\excel\\test_openpyxl.py -> build\\lib.win-amd64-cpython-310\\pandas\\tests\\io\\excel\n",
      "  copying pandas\\tests\\io\\excel\\test_readers.py -> build\\lib.win-amd64-cpython-310\\pandas\\tests\\io\\excel\n",
      "  copying pandas\\tests\\io\\excel\\test_style.py -> build\\lib.win-amd64-cpython-310\\pandas\\tests\\io\\excel\n",
      "  copying pandas\\tests\\io\\excel\\test_writers.py -> build\\lib.win-amd64-cpython-310\\pandas\\tests\\io\\excel\n",
      "  copying pandas\\tests\\io\\excel\\test_xlrd.py -> build\\lib.win-amd64-cpython-310\\pandas\\tests\\io\\excel\n",
      "  copying pandas\\tests\\io\\excel\\test_xlsxwriter.py -> build\\lib.win-amd64-cpython-310\\pandas\\tests\\io\\excel\n",
      "  copying pandas\\tests\\io\\excel\\test_xlwt.py -> build\\lib.win-amd64-cpython-310\\pandas\\tests\\io\\excel\n",
      "  copying pandas\\tests\\io\\excel\\__init__.py -> build\\lib.win-amd64-cpython-310\\pandas\\tests\\io\\excel\n",
      "  creating build\\lib.win-amd64-cpython-310\\pandas\\tests\\io\\formats\n",
      "  copying pandas\\tests\\io\\formats\\test_console.py -> build\\lib.win-amd64-cpython-310\\pandas\\tests\\io\\formats\n",
      "  copying pandas\\tests\\io\\formats\\test_css.py -> build\\lib.win-amd64-cpython-310\\pandas\\tests\\io\\formats\n",
      "  copying pandas\\tests\\io\\formats\\test_eng_formatting.py -> build\\lib.win-amd64-cpython-310\\pandas\\tests\\io\\formats\n",
      "  copying pandas\\tests\\io\\formats\\test_format.py -> build\\lib.win-amd64-cpython-310\\pandas\\tests\\io\\formats\n",
      "  copying pandas\\tests\\io\\formats\\test_printing.py -> build\\lib.win-amd64-cpython-310\\pandas\\tests\\io\\formats\n",
      "  copying pandas\\tests\\io\\formats\\test_style.py -> build\\lib.win-amd64-cpython-310\\pandas\\tests\\io\\formats\n",
      "  copying pandas\\tests\\io\\formats\\test_to_csv.py -> build\\lib.win-amd64-cpython-310\\pandas\\tests\\io\\formats\n",
      "  copying pandas\\tests\\io\\formats\\test_to_excel.py -> build\\lib.win-amd64-cpython-310\\pandas\\tests\\io\\formats\n",
      "  copying pandas\\tests\\io\\formats\\test_to_html.py -> build\\lib.win-amd64-cpython-310\\pandas\\tests\\io\\formats\n",
      "  copying pandas\\tests\\io\\formats\\test_to_latex.py -> build\\lib.win-amd64-cpython-310\\pandas\\tests\\io\\formats\n",
      "  copying pandas\\tests\\io\\formats\\__init__.py -> build\\lib.win-amd64-cpython-310\\pandas\\tests\\io\\formats\n",
      "  creating build\\lib.win-amd64-cpython-310\\pandas\\tests\\io\\json\n",
      "  copying pandas\\tests\\io\\json\\test_compression.py -> build\\lib.win-amd64-cpython-310\\pandas\\tests\\io\\json\n",
      "  copying pandas\\tests\\io\\json\\test_json_table_schema.py -> build\\lib.win-amd64-cpython-310\\pandas\\tests\\io\\json\n",
      "  copying pandas\\tests\\io\\json\\test_normalize.py -> build\\lib.win-amd64-cpython-310\\pandas\\tests\\io\\json\n",
      "  copying pandas\\tests\\io\\json\\test_pandas.py -> build\\lib.win-amd64-cpython-310\\pandas\\tests\\io\\json\n",
      "  copying pandas\\tests\\io\\json\\test_readlines.py -> build\\lib.win-amd64-cpython-310\\pandas\\tests\\io\\json\n",
      "  copying pandas\\tests\\io\\json\\test_ujson.py -> build\\lib.win-amd64-cpython-310\\pandas\\tests\\io\\json\n",
      "  copying pandas\\tests\\io\\json\\__init__.py -> build\\lib.win-amd64-cpython-310\\pandas\\tests\\io\\json\n",
      "  creating build\\lib.win-amd64-cpython-310\\pandas\\tests\\io\\msgpack\n",
      "  copying pandas\\tests\\io\\msgpack\\common.py -> build\\lib.win-amd64-cpython-310\\pandas\\tests\\io\\msgpack\n",
      "  copying pandas\\tests\\io\\msgpack\\test_buffer.py -> build\\lib.win-amd64-cpython-310\\pandas\\tests\\io\\msgpack\n",
      "  copying pandas\\tests\\io\\msgpack\\test_case.py -> build\\lib.win-amd64-cpython-310\\pandas\\tests\\io\\msgpack\n",
      "  copying pandas\\tests\\io\\msgpack\\test_except.py -> build\\lib.win-amd64-cpython-310\\pandas\\tests\\io\\msgpack\n",
      "  copying pandas\\tests\\io\\msgpack\\test_extension.py -> build\\lib.win-amd64-cpython-310\\pandas\\tests\\io\\msgpack\n",
      "  copying pandas\\tests\\io\\msgpack\\test_format.py -> build\\lib.win-amd64-cpython-310\\pandas\\tests\\io\\msgpack\n",
      "  copying pandas\\tests\\io\\msgpack\\test_limits.py -> build\\lib.win-amd64-cpython-310\\pandas\\tests\\io\\msgpack\n",
      "  copying pandas\\tests\\io\\msgpack\\test_newspec.py -> build\\lib.win-amd64-cpython-310\\pandas\\tests\\io\\msgpack\n",
      "  copying pandas\\tests\\io\\msgpack\\test_obj.py -> build\\lib.win-amd64-cpython-310\\pandas\\tests\\io\\msgpack\n",
      "  copying pandas\\tests\\io\\msgpack\\test_pack.py -> build\\lib.win-amd64-cpython-310\\pandas\\tests\\io\\msgpack\n",
      "  copying pandas\\tests\\io\\msgpack\\test_read_size.py -> build\\lib.win-amd64-cpython-310\\pandas\\tests\\io\\msgpack\n",
      "  copying pandas\\tests\\io\\msgpack\\test_seq.py -> build\\lib.win-amd64-cpython-310\\pandas\\tests\\io\\msgpack\n",
      "  copying pandas\\tests\\io\\msgpack\\test_sequnpack.py -> build\\lib.win-amd64-cpython-310\\pandas\\tests\\io\\msgpack\n",
      "  copying pandas\\tests\\io\\msgpack\\test_subtype.py -> build\\lib.win-amd64-cpython-310\\pandas\\tests\\io\\msgpack\n",
      "  copying pandas\\tests\\io\\msgpack\\test_unpack.py -> build\\lib.win-amd64-cpython-310\\pandas\\tests\\io\\msgpack\n",
      "  copying pandas\\tests\\io\\msgpack\\test_unpack_raw.py -> build\\lib.win-amd64-cpython-310\\pandas\\tests\\io\\msgpack\n",
      "  copying pandas\\tests\\io\\msgpack\\__init__.py -> build\\lib.win-amd64-cpython-310\\pandas\\tests\\io\\msgpack\n",
      "  creating build\\lib.win-amd64-cpython-310\\pandas\\tests\\io\\parser\n",
      "  copying pandas\\tests\\io\\parser\\conftest.py -> build\\lib.win-amd64-cpython-310\\pandas\\tests\\io\\parser\n",
      "  copying pandas\\tests\\io\\parser\\test_comment.py -> build\\lib.win-amd64-cpython-310\\pandas\\tests\\io\\parser\n",
      "  copying pandas\\tests\\io\\parser\\test_common.py -> build\\lib.win-amd64-cpython-310\\pandas\\tests\\io\\parser\n",
      "  copying pandas\\tests\\io\\parser\\test_compression.py -> build\\lib.win-amd64-cpython-310\\pandas\\tests\\io\\parser\n",
      "  copying pandas\\tests\\io\\parser\\test_converters.py -> build\\lib.win-amd64-cpython-310\\pandas\\tests\\io\\parser\n",
      "  copying pandas\\tests\\io\\parser\\test_c_parser_only.py -> build\\lib.win-amd64-cpython-310\\pandas\\tests\\io\\parser\n",
      "  copying pandas\\tests\\io\\parser\\test_dialect.py -> build\\lib.win-amd64-cpython-310\\pandas\\tests\\io\\parser\n",
      "  copying pandas\\tests\\io\\parser\\test_dtypes.py -> build\\lib.win-amd64-cpython-310\\pandas\\tests\\io\\parser\n",
      "  copying pandas\\tests\\io\\parser\\test_header.py -> build\\lib.win-amd64-cpython-310\\pandas\\tests\\io\\parser\n",
      "  copying pandas\\tests\\io\\parser\\test_index_col.py -> build\\lib.win-amd64-cpython-310\\pandas\\tests\\io\\parser\n",
      "  copying pandas\\tests\\io\\parser\\test_mangle_dupes.py -> build\\lib.win-amd64-cpython-310\\pandas\\tests\\io\\parser\n",
      "  copying pandas\\tests\\io\\parser\\test_multi_thread.py -> build\\lib.win-amd64-cpython-310\\pandas\\tests\\io\\parser\n",
      "  copying pandas\\tests\\io\\parser\\test_na_values.py -> build\\lib.win-amd64-cpython-310\\pandas\\tests\\io\\parser\n",
      "  copying pandas\\tests\\io\\parser\\test_network.py -> build\\lib.win-amd64-cpython-310\\pandas\\tests\\io\\parser\n",
      "  copying pandas\\tests\\io\\parser\\test_parse_dates.py -> build\\lib.win-amd64-cpython-310\\pandas\\tests\\io\\parser\n",
      "  copying pandas\\tests\\io\\parser\\test_python_parser_only.py -> build\\lib.win-amd64-cpython-310\\pandas\\tests\\io\\parser\n",
      "  copying pandas\\tests\\io\\parser\\test_quoting.py -> build\\lib.win-amd64-cpython-310\\pandas\\tests\\io\\parser\n",
      "  copying pandas\\tests\\io\\parser\\test_read_fwf.py -> build\\lib.win-amd64-cpython-310\\pandas\\tests\\io\\parser\n",
      "  copying pandas\\tests\\io\\parser\\test_skiprows.py -> build\\lib.win-amd64-cpython-310\\pandas\\tests\\io\\parser\n",
      "  copying pandas\\tests\\io\\parser\\test_textreader.py -> build\\lib.win-amd64-cpython-310\\pandas\\tests\\io\\parser\n",
      "  copying pandas\\tests\\io\\parser\\test_unsupported.py -> build\\lib.win-amd64-cpython-310\\pandas\\tests\\io\\parser\n",
      "  copying pandas\\tests\\io\\parser\\test_usecols.py -> build\\lib.win-amd64-cpython-310\\pandas\\tests\\io\\parser\n",
      "  copying pandas\\tests\\io\\parser\\__init__.py -> build\\lib.win-amd64-cpython-310\\pandas\\tests\\io\\parser\n",
      "  creating build\\lib.win-amd64-cpython-310\\pandas\\tests\\io\\pytables\n",
      "  copying pandas\\tests\\io\\pytables\\test_compat.py -> build\\lib.win-amd64-cpython-310\\pandas\\tests\\io\\pytables\n",
      "  copying pandas\\tests\\io\\pytables\\test_pytables.py -> build\\lib.win-amd64-cpython-310\\pandas\\tests\\io\\pytables\n",
      "  copying pandas\\tests\\io\\pytables\\test_pytables_missing.py -> build\\lib.win-amd64-cpython-310\\pandas\\tests\\io\\pytables\n",
      "  copying pandas\\tests\\io\\pytables\\__init__.py -> build\\lib.win-amd64-cpython-310\\pandas\\tests\\io\\pytables\n",
      "  creating build\\lib.win-amd64-cpython-310\\pandas\\tests\\io\\sas\n",
      "  copying pandas\\tests\\io\\sas\\test_sas.py -> build\\lib.win-amd64-cpython-310\\pandas\\tests\\io\\sas\n",
      "  copying pandas\\tests\\io\\sas\\test_sas7bdat.py -> build\\lib.win-amd64-cpython-310\\pandas\\tests\\io\\sas\n",
      "  copying pandas\\tests\\io\\sas\\test_xport.py -> build\\lib.win-amd64-cpython-310\\pandas\\tests\\io\\sas\n",
      "  copying pandas\\tests\\io\\sas\\__init__.py -> build\\lib.win-amd64-cpython-310\\pandas\\tests\\io\\sas\n",
      "  creating build\\lib.win-amd64-cpython-310\\pandas\\tests\\reshape\\merge\n",
      "  copying pandas\\tests\\reshape\\merge\\test_join.py -> build\\lib.win-amd64-cpython-310\\pandas\\tests\\reshape\\merge\n",
      "  copying pandas\\tests\\reshape\\merge\\test_merge.py -> build\\lib.win-amd64-cpython-310\\pandas\\tests\\reshape\\merge\n",
      "  copying pandas\\tests\\reshape\\merge\\test_merge_asof.py -> build\\lib.win-amd64-cpython-310\\pandas\\tests\\reshape\\merge\n",
      "  copying pandas\\tests\\reshape\\merge\\test_merge_index_as_string.py -> build\\lib.win-amd64-cpython-310\\pandas\\tests\\reshape\\merge\n",
      "  copying pandas\\tests\\reshape\\merge\\test_merge_ordered.py -> build\\lib.win-amd64-cpython-310\\pandas\\tests\\reshape\\merge\n",
      "  copying pandas\\tests\\reshape\\merge\\test_multi.py -> build\\lib.win-amd64-cpython-310\\pandas\\tests\\reshape\\merge\n",
      "  copying pandas\\tests\\reshape\\merge\\__init__.py -> build\\lib.win-amd64-cpython-310\\pandas\\tests\\reshape\\merge\n",
      "  creating build\\lib.win-amd64-cpython-310\\pandas\\tests\\scalar\\interval\n",
      "  copying pandas\\tests\\scalar\\interval\\test_interval.py -> build\\lib.win-amd64-cpython-310\\pandas\\tests\\scalar\\interval\n",
      "  copying pandas\\tests\\scalar\\interval\\test_ops.py -> build\\lib.win-amd64-cpython-310\\pandas\\tests\\scalar\\interval\n",
      "  copying pandas\\tests\\scalar\\interval\\__init__.py -> build\\lib.win-amd64-cpython-310\\pandas\\tests\\scalar\\interval\n",
      "  creating build\\lib.win-amd64-cpython-310\\pandas\\tests\\scalar\\period\n",
      "  copying pandas\\tests\\scalar\\period\\test_asfreq.py -> build\\lib.win-amd64-cpython-310\\pandas\\tests\\scalar\\period\n",
      "  copying pandas\\tests\\scalar\\period\\test_period.py -> build\\lib.win-amd64-cpython-310\\pandas\\tests\\scalar\\period\n",
      "  copying pandas\\tests\\scalar\\period\\__init__.py -> build\\lib.win-amd64-cpython-310\\pandas\\tests\\scalar\\period\n",
      "  creating build\\lib.win-amd64-cpython-310\\pandas\\tests\\scalar\\timedelta\n",
      "  copying pandas\\tests\\scalar\\timedelta\\test_arithmetic.py -> build\\lib.win-amd64-cpython-310\\pandas\\tests\\scalar\\timedelta\n",
      "  copying pandas\\tests\\scalar\\timedelta\\test_construction.py -> build\\lib.win-amd64-cpython-310\\pandas\\tests\\scalar\\timedelta\n",
      "  copying pandas\\tests\\scalar\\timedelta\\test_formats.py -> build\\lib.win-amd64-cpython-310\\pandas\\tests\\scalar\\timedelta\n",
      "  copying pandas\\tests\\scalar\\timedelta\\test_timedelta.py -> build\\lib.win-amd64-cpython-310\\pandas\\tests\\scalar\\timedelta\n",
      "  copying pandas\\tests\\scalar\\timedelta\\__init__.py -> build\\lib.win-amd64-cpython-310\\pandas\\tests\\scalar\\timedelta\n",
      "  creating build\\lib.win-amd64-cpython-310\\pandas\\tests\\scalar\\timestamp\n",
      "  copying pandas\\tests\\scalar\\timestamp\\test_arithmetic.py -> build\\lib.win-amd64-cpython-310\\pandas\\tests\\scalar\\timestamp\n",
      "  copying pandas\\tests\\scalar\\timestamp\\test_comparisons.py -> build\\lib.win-amd64-cpython-310\\pandas\\tests\\scalar\\timestamp\n",
      "  copying pandas\\tests\\scalar\\timestamp\\test_rendering.py -> build\\lib.win-amd64-cpython-310\\pandas\\tests\\scalar\\timestamp\n",
      "  copying pandas\\tests\\scalar\\timestamp\\test_timestamp.py -> build\\lib.win-amd64-cpython-310\\pandas\\tests\\scalar\\timestamp\n",
      "  copying pandas\\tests\\scalar\\timestamp\\test_timezones.py -> build\\lib.win-amd64-cpython-310\\pandas\\tests\\scalar\\timestamp\n",
      "  copying pandas\\tests\\scalar\\timestamp\\test_unary_ops.py -> build\\lib.win-amd64-cpython-310\\pandas\\tests\\scalar\\timestamp\n",
      "  copying pandas\\tests\\scalar\\timestamp\\__init__.py -> build\\lib.win-amd64-cpython-310\\pandas\\tests\\scalar\\timestamp\n",
      "  creating build\\lib.win-amd64-cpython-310\\pandas\\tests\\series\\indexing\n",
      "  copying pandas\\tests\\series\\indexing\\conftest.py -> build\\lib.win-amd64-cpython-310\\pandas\\tests\\series\\indexing\n",
      "  copying pandas\\tests\\series\\indexing\\test_alter_index.py -> build\\lib.win-amd64-cpython-310\\pandas\\tests\\series\\indexing\n",
      "  copying pandas\\tests\\series\\indexing\\test_boolean.py -> build\\lib.win-amd64-cpython-310\\pandas\\tests\\series\\indexing\n",
      "  copying pandas\\tests\\series\\indexing\\test_callable.py -> build\\lib.win-amd64-cpython-310\\pandas\\tests\\series\\indexing\n",
      "  copying pandas\\tests\\series\\indexing\\test_datetime.py -> build\\lib.win-amd64-cpython-310\\pandas\\tests\\series\\indexing\n",
      "  copying pandas\\tests\\series\\indexing\\test_iloc.py -> build\\lib.win-amd64-cpython-310\\pandas\\tests\\series\\indexing\n",
      "  copying pandas\\tests\\series\\indexing\\test_indexing.py -> build\\lib.win-amd64-cpython-310\\pandas\\tests\\series\\indexing\n",
      "  copying pandas\\tests\\series\\indexing\\test_loc.py -> build\\lib.win-amd64-cpython-310\\pandas\\tests\\series\\indexing\n",
      "  copying pandas\\tests\\series\\indexing\\test_numeric.py -> build\\lib.win-amd64-cpython-310\\pandas\\tests\\series\\indexing\n",
      "  copying pandas\\tests\\series\\indexing\\__init__.py -> build\\lib.win-amd64-cpython-310\\pandas\\tests\\series\\indexing\n",
      "  creating build\\lib.win-amd64-cpython-310\\pandas\\tests\\sparse\\frame\n",
      "  copying pandas\\tests\\sparse\\frame\\conftest.py -> build\\lib.win-amd64-cpython-310\\pandas\\tests\\sparse\\frame\n",
      "  copying pandas\\tests\\sparse\\frame\\test_analytics.py -> build\\lib.win-amd64-cpython-310\\pandas\\tests\\sparse\\frame\n",
      "  copying pandas\\tests\\sparse\\frame\\test_apply.py -> build\\lib.win-amd64-cpython-310\\pandas\\tests\\sparse\\frame\n",
      "  copying pandas\\tests\\sparse\\frame\\test_frame.py -> build\\lib.win-amd64-cpython-310\\pandas\\tests\\sparse\\frame\n",
      "  copying pandas\\tests\\sparse\\frame\\test_indexing.py -> build\\lib.win-amd64-cpython-310\\pandas\\tests\\sparse\\frame\n",
      "  copying pandas\\tests\\sparse\\frame\\test_to_csv.py -> build\\lib.win-amd64-cpython-310\\pandas\\tests\\sparse\\frame\n",
      "  copying pandas\\tests\\sparse\\frame\\test_to_from_scipy.py -> build\\lib.win-amd64-cpython-310\\pandas\\tests\\sparse\\frame\n",
      "  copying pandas\\tests\\sparse\\frame\\__init__.py -> build\\lib.win-amd64-cpython-310\\pandas\\tests\\sparse\\frame\n",
      "  creating build\\lib.win-amd64-cpython-310\\pandas\\tests\\sparse\\series\n",
      "  copying pandas\\tests\\sparse\\series\\test_indexing.py -> build\\lib.win-amd64-cpython-310\\pandas\\tests\\sparse\\series\n",
      "  copying pandas\\tests\\sparse\\series\\test_series.py -> build\\lib.win-amd64-cpython-310\\pandas\\tests\\sparse\\series\n",
      "  copying pandas\\tests\\sparse\\series\\__init__.py -> build\\lib.win-amd64-cpython-310\\pandas\\tests\\sparse\\series\n",
      "  creating build\\lib.win-amd64-cpython-310\\pandas\\tests\\tseries\\frequencies\n",
      "  copying pandas\\tests\\tseries\\frequencies\\test_freq_code.py -> build\\lib.win-amd64-cpython-310\\pandas\\tests\\tseries\\frequencies\n",
      "  copying pandas\\tests\\tseries\\frequencies\\test_inference.py -> build\\lib.win-amd64-cpython-310\\pandas\\tests\\tseries\\frequencies\n",
      "  copying pandas\\tests\\tseries\\frequencies\\test_to_offset.py -> build\\lib.win-amd64-cpython-310\\pandas\\tests\\tseries\\frequencies\n",
      "  copying pandas\\tests\\tseries\\frequencies\\__init__.py -> build\\lib.win-amd64-cpython-310\\pandas\\tests\\tseries\\frequencies\n",
      "  creating build\\lib.win-amd64-cpython-310\\pandas\\tests\\tseries\\holiday\n",
      "  copying pandas\\tests\\tseries\\holiday\\test_calendar.py -> build\\lib.win-amd64-cpython-310\\pandas\\tests\\tseries\\holiday\n",
      "  copying pandas\\tests\\tseries\\holiday\\test_federal.py -> build\\lib.win-amd64-cpython-310\\pandas\\tests\\tseries\\holiday\n",
      "  copying pandas\\tests\\tseries\\holiday\\test_holiday.py -> build\\lib.win-amd64-cpython-310\\pandas\\tests\\tseries\\holiday\n",
      "  copying pandas\\tests\\tseries\\holiday\\test_observance.py -> build\\lib.win-amd64-cpython-310\\pandas\\tests\\tseries\\holiday\n",
      "  copying pandas\\tests\\tseries\\holiday\\__init__.py -> build\\lib.win-amd64-cpython-310\\pandas\\tests\\tseries\\holiday\n",
      "  creating build\\lib.win-amd64-cpython-310\\pandas\\tests\\tseries\\offsets\n",
      "  copying pandas\\tests\\tseries\\offsets\\common.py -> build\\lib.win-amd64-cpython-310\\pandas\\tests\\tseries\\offsets\n",
      "  copying pandas\\tests\\tseries\\offsets\\conftest.py -> build\\lib.win-amd64-cpython-310\\pandas\\tests\\tseries\\offsets\n",
      "  copying pandas\\tests\\tseries\\offsets\\test_fiscal.py -> build\\lib.win-amd64-cpython-310\\pandas\\tests\\tseries\\offsets\n",
      "  copying pandas\\tests\\tseries\\offsets\\test_offsets.py -> build\\lib.win-amd64-cpython-310\\pandas\\tests\\tseries\\offsets\n",
      "  copying pandas\\tests\\tseries\\offsets\\test_offsets_properties.py -> build\\lib.win-amd64-cpython-310\\pandas\\tests\\tseries\\offsets\n",
      "  copying pandas\\tests\\tseries\\offsets\\test_ticks.py -> build\\lib.win-amd64-cpython-310\\pandas\\tests\\tseries\\offsets\n",
      "  copying pandas\\tests\\tseries\\offsets\\test_yqm_offsets.py -> build\\lib.win-amd64-cpython-310\\pandas\\tests\\tseries\\offsets\n",
      "  copying pandas\\tests\\tseries\\offsets\\__init__.py -> build\\lib.win-amd64-cpython-310\\pandas\\tests\\tseries\\offsets\n",
      "  creating build\\lib.win-amd64-cpython-310\\pandas\\_libs\\tslibs\n",
      "  copying pandas\\_libs\\tslibs\\__init__.py -> build\\lib.win-amd64-cpython-310\\pandas\\_libs\\tslibs\n",
      "  creating build\\lib.win-amd64-cpython-310\\pandas\\io\\formats\\templates\n",
      "  copying pandas\\io\\formats\\templates\\html.tpl -> build\\lib.win-amd64-cpython-310\\pandas\\io\\formats\\templates\n",
      "  UPDATING build\\lib.win-amd64-cpython-310\\pandas/_version.py\n",
      "  set build\\lib.win-amd64-cpython-310\\pandas/_version.py to '0.25.1'\n",
      "  running build_ext\n",
      "  building 'pandas._libs.algos' extension\n",
      "  error: Microsoft Visual C++ 14.0 or greater is required. Get it with \"Microsoft C++ Build Tools\": https://visualstudio.microsoft.com/visual-cpp-build-tools/\n",
      "  [end of output]\n",
      "  \n",
      "  note: This error originates from a subprocess, and is likely not a problem with pip.\n",
      "  ERROR: Failed building wheel for pandas\n",
      "ERROR: Could not build wheels for pandas, which is required to install pyproject.toml-based projects\n"
     ]
    },
    {
     "name": "stdout",
     "output_type": "stream",
     "text": [
      "Collecting numpy==1.14.5\n",
      "  Using cached numpy-1.14.5.zip (4.9 MB)\n",
      "  Preparing metadata (setup.py): started\n",
      "  Preparing metadata (setup.py): finished with status 'done'\n",
      "Building wheels for collected packages: numpy\n",
      "  Building wheel for numpy (setup.py): started\n",
      "  Building wheel for numpy (setup.py): finished with status 'error'\n",
      "  Running setup.py clean for numpy\n",
      "Failed to build numpy\n"
     ]
    },
    {
     "name": "stderr",
     "output_type": "stream",
     "text": [
      "  error: subprocess-exited-with-error\n",
      "  \n",
      "  python setup.py bdist_wheel did not run successfully.\n",
      "  exit code: 1\n",
      "  \n",
      "  [264 lines of output]\n",
      "  Running from numpy source directory.\n",
      "  C:\\Users\\OWNER\\AppData\\Local\\Temp\\pip-install-4xf2ecsn\\numpy_f9f0edbd719d42cca8f3ab8edded71bd\\numpy\\distutils\\misc_util.py:464: SyntaxWarning: \"is\" with a literal. Did you mean \"==\"?\n",
      "    return is_string(s) and ('*' in s or '?' is s)\n",
      "  blas_opt_info:\n",
      "  blas_mkl_info:\n",
      "  No module named 'numpy.distutils._msvccompiler' in numpy.distutils; trying from distutils\n",
      "  customize MSVCCompiler\n",
      "    libraries mkl_rt not found in ['C:\\\\Users\\\\OWNER\\\\Documents\\\\ana jupy\\\\lib', 'C:\\\\', 'C:\\\\Users\\\\OWNER\\\\Documents\\\\ana jupy\\\\libs']\n",
      "    NOT AVAILABLE\n",
      "  \n",
      "  blis_info:\n",
      "  No module named 'numpy.distutils._msvccompiler' in numpy.distutils; trying from distutils\n",
      "  customize MSVCCompiler\n",
      "    libraries blis not found in ['C:\\\\Users\\\\OWNER\\\\Documents\\\\ana jupy\\\\lib', 'C:\\\\', 'C:\\\\Users\\\\OWNER\\\\Documents\\\\ana jupy\\\\libs']\n",
      "    NOT AVAILABLE\n",
      "  \n",
      "  openblas_info:\n",
      "  No module named 'numpy.distutils._msvccompiler' in numpy.distutils; trying from distutils\n",
      "  customize MSVCCompiler\n",
      "  No module named 'numpy.distutils._msvccompiler' in numpy.distutils; trying from distutils\n",
      "  customize MSVCCompiler\n",
      "    libraries openblas not found in ['C:\\\\Users\\\\OWNER\\\\Documents\\\\ana jupy\\\\lib', 'C:\\\\', 'C:\\\\Users\\\\OWNER\\\\Documents\\\\ana jupy\\\\libs']\n",
      "  get_default_fcompiler: matching types: '['gnu', 'intelv', 'absoft', 'compaqv', 'intelev', 'gnu95', 'g95', 'intelvem', 'intelem', 'flang']'\n",
      "  customize GnuFCompiler\n",
      "  Could not locate executable g77\n",
      "  Could not locate executable f77\n",
      "  customize IntelVisualFCompiler\n",
      "  Could not locate executable ifort\n",
      "  Could not locate executable ifl\n",
      "  customize AbsoftFCompiler\n",
      "  Could not locate executable f90\n",
      "  customize CompaqVisualFCompiler\n",
      "  Could not locate executable DF\n",
      "  customize IntelItaniumVisualFCompiler\n",
      "  Could not locate executable efl\n",
      "  customize Gnu95FCompiler\n",
      "  Could not locate executable gfortran\n",
      "  Could not locate executable f95\n",
      "  customize G95FCompiler\n",
      "  Could not locate executable g95\n",
      "  customize IntelEM64VisualFCompiler\n",
      "  customize IntelEM64TFCompiler\n",
      "  Could not locate executable efort\n",
      "  Could not locate executable efc\n",
      "  customize PGroupFlangCompiler\n",
      "  Could not locate executable flang\n",
      "  don't know how to compile Fortran code on platform 'nt'\n",
      "    NOT AVAILABLE\n",
      "  \n",
      "  atlas_3_10_blas_threads_info:\n",
      "  Setting PTATLAS=ATLAS\n",
      "  No module named 'numpy.distutils._msvccompiler' in numpy.distutils; trying from distutils\n",
      "  customize MSVCCompiler\n",
      "    libraries tatlas not found in ['C:\\\\Users\\\\OWNER\\\\Documents\\\\ana jupy\\\\lib', 'C:\\\\', 'C:\\\\Users\\\\OWNER\\\\Documents\\\\ana jupy\\\\libs']\n",
      "    NOT AVAILABLE\n",
      "  \n",
      "  atlas_3_10_blas_info:\n",
      "  No module named 'numpy.distutils._msvccompiler' in numpy.distutils; trying from distutils\n",
      "  customize MSVCCompiler\n",
      "    libraries satlas not found in ['C:\\\\Users\\\\OWNER\\\\Documents\\\\ana jupy\\\\lib', 'C:\\\\', 'C:\\\\Users\\\\OWNER\\\\Documents\\\\ana jupy\\\\libs']\n",
      "    NOT AVAILABLE\n",
      "  \n",
      "  atlas_blas_threads_info:\n",
      "  Setting PTATLAS=ATLAS\n",
      "  No module named 'numpy.distutils._msvccompiler' in numpy.distutils; trying from distutils\n",
      "  customize MSVCCompiler\n",
      "    libraries ptf77blas,ptcblas,atlas not found in ['C:\\\\Users\\\\OWNER\\\\Documents\\\\ana jupy\\\\lib', 'C:\\\\', 'C:\\\\Users\\\\OWNER\\\\Documents\\\\ana jupy\\\\libs']\n",
      "    NOT AVAILABLE\n",
      "  \n",
      "  atlas_blas_info:\n",
      "  No module named 'numpy.distutils._msvccompiler' in numpy.distutils; trying from distutils\n",
      "  customize MSVCCompiler\n",
      "    libraries f77blas,cblas,atlas not found in ['C:\\\\Users\\\\OWNER\\\\Documents\\\\ana jupy\\\\lib', 'C:\\\\', 'C:\\\\Users\\\\OWNER\\\\Documents\\\\ana jupy\\\\libs']\n",
      "    NOT AVAILABLE\n",
      "  \n",
      "  C:\\Users\\OWNER\\AppData\\Local\\Temp\\pip-install-4xf2ecsn\\numpy_f9f0edbd719d42cca8f3ab8edded71bd\\numpy\\distutils\\system_info.py:624: UserWarning:\n",
      "      Atlas (http://math-atlas.sourceforge.net/) libraries not found.\n",
      "      Directories to search for the libraries can be specified in the\n",
      "      numpy/distutils/site.cfg file (section [atlas]) or by setting\n",
      "      the ATLAS environment variable.\n",
      "    self.calc_info()\n",
      "  blas_info:\n",
      "  No module named 'numpy.distutils._msvccompiler' in numpy.distutils; trying from distutils\n",
      "  customize MSVCCompiler\n",
      "    libraries blas not found in ['C:\\\\Users\\\\OWNER\\\\Documents\\\\ana jupy\\\\lib', 'C:\\\\', 'C:\\\\Users\\\\OWNER\\\\Documents\\\\ana jupy\\\\libs']\n",
      "    NOT AVAILABLE\n",
      "  \n",
      "  C:\\Users\\OWNER\\AppData\\Local\\Temp\\pip-install-4xf2ecsn\\numpy_f9f0edbd719d42cca8f3ab8edded71bd\\numpy\\distutils\\system_info.py:624: UserWarning:\n",
      "      Blas (http://www.netlib.org/blas/) libraries not found.\n",
      "      Directories to search for the libraries can be specified in the\n",
      "      numpy/distutils/site.cfg file (section [blas]) or by setting\n",
      "      the BLAS environment variable.\n",
      "    self.calc_info()\n",
      "  blas_src_info:\n",
      "    NOT AVAILABLE\n",
      "  \n",
      "  C:\\Users\\OWNER\\AppData\\Local\\Temp\\pip-install-4xf2ecsn\\numpy_f9f0edbd719d42cca8f3ab8edded71bd\\numpy\\distutils\\system_info.py:624: UserWarning:\n",
      "      Blas (http://www.netlib.org/blas/) sources not found.\n",
      "      Directories to search for the sources can be specified in the\n",
      "      numpy/distutils/site.cfg file (section [blas_src]) or by setting\n",
      "      the BLAS_SRC environment variable.\n",
      "    self.calc_info()\n",
      "    NOT AVAILABLE\n",
      "  \n",
      "  'svnversion' is not recognized as an internal or external command,\n",
      "  operable program or batch file.\n",
      "  non-existing path in 'numpy\\\\distutils': 'site.cfg'\n",
      "  'svnversion' is not recognized as an internal or external command,\n",
      "  operable program or batch file.\n",
      "  F2PY Version 2\n",
      "  lapack_opt_info:\n",
      "  lapack_mkl_info:\n",
      "  No module named 'numpy.distutils._msvccompiler' in numpy.distutils; trying from distutils\n",
      "  customize MSVCCompiler\n",
      "    libraries mkl_rt not found in ['C:\\\\Users\\\\OWNER\\\\Documents\\\\ana jupy\\\\lib', 'C:\\\\', 'C:\\\\Users\\\\OWNER\\\\Documents\\\\ana jupy\\\\libs']\n",
      "    NOT AVAILABLE\n",
      "  \n",
      "  openblas_lapack_info:\n",
      "  No module named 'numpy.distutils._msvccompiler' in numpy.distutils; trying from distutils\n",
      "  customize MSVCCompiler\n",
      "  No module named 'numpy.distutils._msvccompiler' in numpy.distutils; trying from distutils\n",
      "  customize MSVCCompiler\n",
      "    libraries openblas not found in ['C:\\\\Users\\\\OWNER\\\\Documents\\\\ana jupy\\\\lib', 'C:\\\\', 'C:\\\\Users\\\\OWNER\\\\Documents\\\\ana jupy\\\\libs']\n",
      "    NOT AVAILABLE\n",
      "  \n",
      "  openblas_clapack_info:\n",
      "  No module named 'numpy.distutils._msvccompiler' in numpy.distutils; trying from distutils\n",
      "  customize MSVCCompiler\n",
      "  No module named 'numpy.distutils._msvccompiler' in numpy.distutils; trying from distutils\n",
      "  customize MSVCCompiler\n",
      "    libraries openblas,lapack not found in ['C:\\\\Users\\\\OWNER\\\\Documents\\\\ana jupy\\\\lib', 'C:\\\\', 'C:\\\\Users\\\\OWNER\\\\Documents\\\\ana jupy\\\\libs']\n",
      "    NOT AVAILABLE\n",
      "  \n",
      "  atlas_3_10_threads_info:\n",
      "  Setting PTATLAS=ATLAS\n",
      "  No module named 'numpy.distutils._msvccompiler' in numpy.distutils; trying from distutils\n",
      "  customize MSVCCompiler\n",
      "    libraries tatlas,tatlas not found in C:\\Users\\OWNER\\Documents\\ana jupy\\lib\n",
      "  No module named 'numpy.distutils._msvccompiler' in numpy.distutils; trying from distutils\n",
      "  customize MSVCCompiler\n",
      "    libraries lapack_atlas not found in C:\\Users\\OWNER\\Documents\\ana jupy\\lib\n",
      "  No module named 'numpy.distutils._msvccompiler' in numpy.distutils; trying from distutils\n",
      "  customize MSVCCompiler\n",
      "    libraries tatlas,tatlas not found in C:\\\n",
      "  No module named 'numpy.distutils._msvccompiler' in numpy.distutils; trying from distutils\n",
      "  customize MSVCCompiler\n",
      "    libraries lapack_atlas not found in C:\\\n",
      "  No module named 'numpy.distutils._msvccompiler' in numpy.distutils; trying from distutils\n",
      "  customize MSVCCompiler\n",
      "    libraries tatlas,tatlas not found in C:\\Users\\OWNER\\Documents\\ana jupy\\libs\n",
      "  No module named 'numpy.distutils._msvccompiler' in numpy.distutils; trying from distutils\n",
      "  customize MSVCCompiler\n",
      "    libraries lapack_atlas not found in C:\\Users\\OWNER\\Documents\\ana jupy\\libs\n",
      "  <class 'numpy.distutils.system_info.atlas_3_10_threads_info'>\n",
      "    NOT AVAILABLE\n",
      "  \n",
      "  atlas_3_10_info:\n",
      "  No module named 'numpy.distutils._msvccompiler' in numpy.distutils; trying from distutils\n",
      "  customize MSVCCompiler\n",
      "    libraries satlas,satlas not found in C:\\Users\\OWNER\\Documents\\ana jupy\\lib\n",
      "  No module named 'numpy.distutils._msvccompiler' in numpy.distutils; trying from distutils\n",
      "  customize MSVCCompiler\n",
      "    libraries lapack_atlas not found in C:\\Users\\OWNER\\Documents\\ana jupy\\lib\n",
      "  No module named 'numpy.distutils._msvccompiler' in numpy.distutils; trying from distutils\n",
      "  customize MSVCCompiler\n",
      "    libraries satlas,satlas not found in C:\\\n",
      "  No module named 'numpy.distutils._msvccompiler' in numpy.distutils; trying from distutils\n",
      "  customize MSVCCompiler\n",
      "    libraries lapack_atlas not found in C:\\\n",
      "  No module named 'numpy.distutils._msvccompiler' in numpy.distutils; trying from distutils\n",
      "  customize MSVCCompiler\n",
      "    libraries satlas,satlas not found in C:\\Users\\OWNER\\Documents\\ana jupy\\libs\n",
      "  No module named 'numpy.distutils._msvccompiler' in numpy.distutils; trying from distutils\n",
      "  customize MSVCCompiler\n",
      "    libraries lapack_atlas not found in C:\\Users\\OWNER\\Documents\\ana jupy\\libs\n",
      "  <class 'numpy.distutils.system_info.atlas_3_10_info'>\n",
      "    NOT AVAILABLE\n",
      "  \n",
      "  atlas_threads_info:\n",
      "  Setting PTATLAS=ATLAS\n",
      "  No module named 'numpy.distutils._msvccompiler' in numpy.distutils; trying from distutils\n",
      "  customize MSVCCompiler\n",
      "    libraries ptf77blas,ptcblas,atlas not found in C:\\Users\\OWNER\\Documents\\ana jupy\\lib\n",
      "  No module named 'numpy.distutils._msvccompiler' in numpy.distutils; trying from distutils\n",
      "  customize MSVCCompiler\n",
      "    libraries lapack_atlas not found in C:\\Users\\OWNER\\Documents\\ana jupy\\lib\n",
      "  No module named 'numpy.distutils._msvccompiler' in numpy.distutils; trying from distutils\n",
      "  customize MSVCCompiler\n",
      "    libraries ptf77blas,ptcblas,atlas not found in C:\\\n",
      "  No module named 'numpy.distutils._msvccompiler' in numpy.distutils; trying from distutils\n",
      "  customize MSVCCompiler\n",
      "    libraries lapack_atlas not found in C:\\\n",
      "  No module named 'numpy.distutils._msvccompiler' in numpy.distutils; trying from distutils\n",
      "  customize MSVCCompiler\n",
      "    libraries ptf77blas,ptcblas,atlas not found in C:\\Users\\OWNER\\Documents\\ana jupy\\libs\n",
      "  No module named 'numpy.distutils._msvccompiler' in numpy.distutils; trying from distutils\n",
      "  customize MSVCCompiler\n",
      "    libraries lapack_atlas not found in C:\\Users\\OWNER\\Documents\\ana jupy\\libs\n",
      "  <class 'numpy.distutils.system_info.atlas_threads_info'>\n",
      "    NOT AVAILABLE\n",
      "  \n",
      "  atlas_info:\n",
      "  No module named 'numpy.distutils._msvccompiler' in numpy.distutils; trying from distutils\n",
      "  customize MSVCCompiler\n",
      "    libraries f77blas,cblas,atlas not found in C:\\Users\\OWNER\\Documents\\ana jupy\\lib\n",
      "  No module named 'numpy.distutils._msvccompiler' in numpy.distutils; trying from distutils\n",
      "  customize MSVCCompiler\n",
      "    libraries lapack_atlas not found in C:\\Users\\OWNER\\Documents\\ana jupy\\lib\n",
      "  No module named 'numpy.distutils._msvccompiler' in numpy.distutils; trying from distutils\n",
      "  customize MSVCCompiler\n",
      "    libraries f77blas,cblas,atlas not found in C:\\\n",
      "  No module named 'numpy.distutils._msvccompiler' in numpy.distutils; trying from distutils\n",
      "  customize MSVCCompiler\n",
      "    libraries lapack_atlas not found in C:\\\n",
      "  No module named 'numpy.distutils._msvccompiler' in numpy.distutils; trying from distutils\n",
      "  customize MSVCCompiler\n",
      "    libraries f77blas,cblas,atlas not found in C:\\Users\\OWNER\\Documents\\ana jupy\\libs\n",
      "  No module named 'numpy.distutils._msvccompiler' in numpy.distutils; trying from distutils\n",
      "  customize MSVCCompiler\n",
      "    libraries lapack_atlas not found in C:\\Users\\OWNER\\Documents\\ana jupy\\libs\n",
      "  <class 'numpy.distutils.system_info.atlas_info'>\n",
      "    NOT AVAILABLE\n",
      "  \n",
      "  lapack_info:\n",
      "  No module named 'numpy.distutils._msvccompiler' in numpy.distutils; trying from distutils\n",
      "  customize MSVCCompiler\n",
      "    libraries lapack not found in ['C:\\\\Users\\\\OWNER\\\\Documents\\\\ana jupy\\\\lib', 'C:\\\\', 'C:\\\\Users\\\\OWNER\\\\Documents\\\\ana jupy\\\\libs']\n",
      "    NOT AVAILABLE\n",
      "  \n",
      "  C:\\Users\\OWNER\\AppData\\Local\\Temp\\pip-install-4xf2ecsn\\numpy_f9f0edbd719d42cca8f3ab8edded71bd\\numpy\\distutils\\system_info.py:624: UserWarning:\n",
      "      Lapack (http://www.netlib.org/lapack/) libraries not found.\n",
      "      Directories to search for the libraries can be specified in the\n",
      "      numpy/distutils/site.cfg file (section [lapack]) or by setting\n",
      "      the LAPACK environment variable.\n",
      "    self.calc_info()\n",
      "  lapack_src_info:\n",
      "    NOT AVAILABLE\n",
      "  \n",
      "  C:\\Users\\OWNER\\AppData\\Local\\Temp\\pip-install-4xf2ecsn\\numpy_f9f0edbd719d42cca8f3ab8edded71bd\\numpy\\distutils\\system_info.py:624: UserWarning:\n",
      "      Lapack (http://www.netlib.org/lapack/) sources not found.\n",
      "      Directories to search for the sources can be specified in the\n",
      "      numpy/distutils/site.cfg file (section [lapack_src]) or by setting\n",
      "      the LAPACK_SRC environment variable.\n",
      "    self.calc_info()\n",
      "    NOT AVAILABLE\n",
      "  \n",
      "  C:\\Users\\OWNER\\Documents\\ana jupy\\lib\\site-packages\\setuptools\\_distutils\\dist.py:265: UserWarning: Unknown distribution option: 'define_macros'\n",
      "    warnings.warn(msg)\n",
      "  running bdist_wheel\n",
      "  running build\n",
      "  running config_cc\n",
      "  unifing config_cc, config, build_clib, build_ext, build commands --compiler options\n",
      "  running config_fc\n",
      "  unifing config_fc, config, build_clib, build_ext, build commands --fcompiler options\n",
      "  running build_src\n",
      "  build_src\n",
      "  building py_modules sources\n",
      "  creating build\n",
      "  creating build\\src.win-amd64-3.1\n",
      "  creating build\\src.win-amd64-3.1\\numpy\n",
      "  creating build\\src.win-amd64-3.1\\numpy\\distutils\n",
      "  building library \"npymath\" sources\n",
      "  No module named 'numpy.distutils._msvccompiler' in numpy.distutils; trying from distutils\n",
      "  error: Microsoft Visual C++ 14.0 or greater is required. Get it with \"Microsoft C++ Build Tools\": https://visualstudio.microsoft.com/visual-cpp-build-tools/\n",
      "  [end of output]\n",
      "  \n",
      "  note: This error originates from a subprocess, and is likely not a problem with pip.\n",
      "  ERROR: Failed building wheel for numpy\n",
      "  error: subprocess-exited-with-error\n",
      "  \n",
      "  python setup.py clean did not run successfully.\n",
      "  exit code: 1\n",
      "  \n",
      "  [10 lines of output]\n",
      "  Running from numpy source directory.\n",
      "  \n",
      "  `setup.py clean` is not supported, use one of the following instead:\n",
      "  \n",
      "    - `git clean -xdf` (cleans all files)\n",
      "    - `git clean -Xdf` (cleans all versioned files, doesn't touch\n",
      "                        files that aren't checked into the git repo)\n",
      "  \n",
      "  Add `--force` to your command to use it anyway if you must (unsupported).\n",
      "  \n",
      "  [end of output]\n",
      "  \n",
      "  note: This error originates from a subprocess, and is likely not a problem with pip.\n",
      "  ERROR: Failed cleaning build dir for numpy\n",
      "ERROR: Could not build wheels for numpy, which is required to install pyproject.toml-based projects\n"
     ]
    },
    {
     "name": "stdout",
     "output_type": "stream",
     "text": [
      "Collecting matplotlib==3.1.1\n",
      "  Using cached matplotlib-3.1.1.tar.gz (37.8 MB)\n",
      "  Preparing metadata (setup.py): started\n",
      "  Preparing metadata (setup.py): finished with status 'done'\n",
      "Requirement already satisfied: cycler>=0.10 in c:\\users\\owner\\documents\\ana jupy\\lib\\site-packages (from matplotlib==3.1.1) (0.11.0)\n",
      "Requirement already satisfied: kiwisolver>=1.0.1 in c:\\users\\owner\\documents\\ana jupy\\lib\\site-packages (from matplotlib==3.1.1) (1.4.4)\n",
      "Requirement already satisfied: pyparsing!=2.0.4,!=2.1.2,!=2.1.6,>=2.0.1 in c:\\users\\owner\\documents\\ana jupy\\lib\\site-packages (from matplotlib==3.1.1) (3.0.9)\n",
      "Requirement already satisfied: python-dateutil>=2.1 in c:\\users\\owner\\documents\\ana jupy\\lib\\site-packages (from matplotlib==3.1.1) (2.8.2)\n",
      "Requirement already satisfied: numpy>=1.11 in c:\\users\\owner\\documents\\ana jupy\\lib\\site-packages (from matplotlib==3.1.1) (1.23.5)\n",
      "Requirement already satisfied: six>=1.5 in c:\\users\\owner\\documents\\ana jupy\\lib\\site-packages (from python-dateutil>=2.1->matplotlib==3.1.1) (1.16.0)\n",
      "Building wheels for collected packages: matplotlib\n",
      "  Building wheel for matplotlib (setup.py): started\n",
      "  Building wheel for matplotlib (setup.py): finished with status 'error'\n",
      "  Running setup.py clean for matplotlib\n",
      "Failed to build matplotlib\n"
     ]
    },
    {
     "name": "stderr",
     "output_type": "stream",
     "text": [
      "  error: subprocess-exited-with-error\n",
      "  \n",
      "  python setup.py bdist_wheel did not run successfully.\n",
      "  exit code: 1\n",
      "  \n",
      "  [501 lines of output]\n",
      "  ================================================================================\n",
      "  Edit setup.cfg to change the build options\n",
      "  \n",
      "  BUILDING MATPLOTLIB\n",
      "    matplotlib: yes [3.1.1]\n",
      "        python: yes [3.10.9 | packaged by Anaconda, Inc. | (main, Mar  1 2023,\n",
      "                    18:18:15) [MSC v.1916 64 bit (AMD64)]]\n",
      "      platform: yes [win32]\n",
      "  \n",
      "  OPTIONAL SUBPACKAGES\n",
      "   sample_data: yes [installing]\n",
      "         tests: no  [skipping due to configuration]\n",
      "  \n",
      "  OPTIONAL BACKEND EXTENSIONS\n",
      "           agg: yes [installing]\n",
      "         tkagg: yes [installing; run-time loading from Python Tcl/Tk]\n",
      "        macosx: no  [Mac OS-X only]\n",
      "  \n",
      "  OPTIONAL PACKAGE DATA\n",
      "          dlls: no  [skipping due to configuration]\n",
      "  \n",
      "  C:\\Users\\OWNER\\Documents\\ana jupy\\lib\\site-packages\\setuptools\\dist.py:285: SetuptoolsDeprecationWarning: The namespace_packages parameter is deprecated, consider using implicit namespaces instead (PEP 420).\n",
      "    warnings.warn(msg, SetuptoolsDeprecationWarning)\n",
      "  running bdist_wheel\n",
      "  running build\n",
      "  running build_py\n",
      "  creating build\n",
      "  creating build\\lib.win-amd64-cpython-310\n",
      "  copying lib\\pylab.py -> build\\lib.win-amd64-cpython-310\n",
      "  creating build\\lib.win-amd64-cpython-310\\matplotlib\n",
      "  copying lib\\matplotlib\\afm.py -> build\\lib.win-amd64-cpython-310\\matplotlib\n",
      "  copying lib\\matplotlib\\animation.py -> build\\lib.win-amd64-cpython-310\\matplotlib\n",
      "  copying lib\\matplotlib\\artist.py -> build\\lib.win-amd64-cpython-310\\matplotlib\n",
      "  copying lib\\matplotlib\\axis.py -> build\\lib.win-amd64-cpython-310\\matplotlib\n",
      "  copying lib\\matplotlib\\backend_bases.py -> build\\lib.win-amd64-cpython-310\\matplotlib\n",
      "  copying lib\\matplotlib\\backend_managers.py -> build\\lib.win-amd64-cpython-310\\matplotlib\n",
      "  copying lib\\matplotlib\\backend_tools.py -> build\\lib.win-amd64-cpython-310\\matplotlib\n",
      "  copying lib\\matplotlib\\bezier.py -> build\\lib.win-amd64-cpython-310\\matplotlib\n",
      "  copying lib\\matplotlib\\blocking_input.py -> build\\lib.win-amd64-cpython-310\\matplotlib\n",
      "  copying lib\\matplotlib\\category.py -> build\\lib.win-amd64-cpython-310\\matplotlib\n",
      "  copying lib\\matplotlib\\cm.py -> build\\lib.win-amd64-cpython-310\\matplotlib\n",
      "  copying lib\\matplotlib\\collections.py -> build\\lib.win-amd64-cpython-310\\matplotlib\n",
      "  copying lib\\matplotlib\\colorbar.py -> build\\lib.win-amd64-cpython-310\\matplotlib\n",
      "  copying lib\\matplotlib\\colors.py -> build\\lib.win-amd64-cpython-310\\matplotlib\n",
      "  copying lib\\matplotlib\\container.py -> build\\lib.win-amd64-cpython-310\\matplotlib\n",
      "  copying lib\\matplotlib\\contour.py -> build\\lib.win-amd64-cpython-310\\matplotlib\n",
      "  copying lib\\matplotlib\\dates.py -> build\\lib.win-amd64-cpython-310\\matplotlib\n",
      "  copying lib\\matplotlib\\docstring.py -> build\\lib.win-amd64-cpython-310\\matplotlib\n",
      "  copying lib\\matplotlib\\dviread.py -> build\\lib.win-amd64-cpython-310\\matplotlib\n",
      "  copying lib\\matplotlib\\figure.py -> build\\lib.win-amd64-cpython-310\\matplotlib\n",
      "  copying lib\\matplotlib\\fontconfig_pattern.py -> build\\lib.win-amd64-cpython-310\\matplotlib\n",
      "  copying lib\\matplotlib\\font_manager.py -> build\\lib.win-amd64-cpython-310\\matplotlib\n",
      "  copying lib\\matplotlib\\gridspec.py -> build\\lib.win-amd64-cpython-310\\matplotlib\n",
      "  copying lib\\matplotlib\\hatch.py -> build\\lib.win-amd64-cpython-310\\matplotlib\n",
      "  copying lib\\matplotlib\\image.py -> build\\lib.win-amd64-cpython-310\\matplotlib\n",
      "  copying lib\\matplotlib\\legend.py -> build\\lib.win-amd64-cpython-310\\matplotlib\n",
      "  copying lib\\matplotlib\\legend_handler.py -> build\\lib.win-amd64-cpython-310\\matplotlib\n",
      "  copying lib\\matplotlib\\lines.py -> build\\lib.win-amd64-cpython-310\\matplotlib\n",
      "  copying lib\\matplotlib\\markers.py -> build\\lib.win-amd64-cpython-310\\matplotlib\n",
      "  copying lib\\matplotlib\\mathtext.py -> build\\lib.win-amd64-cpython-310\\matplotlib\n",
      "  copying lib\\matplotlib\\mlab.py -> build\\lib.win-amd64-cpython-310\\matplotlib\n",
      "  copying lib\\matplotlib\\offsetbox.py -> build\\lib.win-amd64-cpython-310\\matplotlib\n",
      "  copying lib\\matplotlib\\patches.py -> build\\lib.win-amd64-cpython-310\\matplotlib\n",
      "  copying lib\\matplotlib\\path.py -> build\\lib.win-amd64-cpython-310\\matplotlib\n",
      "  copying lib\\matplotlib\\patheffects.py -> build\\lib.win-amd64-cpython-310\\matplotlib\n",
      "  copying lib\\matplotlib\\pylab.py -> build\\lib.win-amd64-cpython-310\\matplotlib\n",
      "  copying lib\\matplotlib\\pyplot.py -> build\\lib.win-amd64-cpython-310\\matplotlib\n",
      "  copying lib\\matplotlib\\quiver.py -> build\\lib.win-amd64-cpython-310\\matplotlib\n",
      "  copying lib\\matplotlib\\rcsetup.py -> build\\lib.win-amd64-cpython-310\\matplotlib\n",
      "  copying lib\\matplotlib\\sankey.py -> build\\lib.win-amd64-cpython-310\\matplotlib\n",
      "  copying lib\\matplotlib\\scale.py -> build\\lib.win-amd64-cpython-310\\matplotlib\n",
      "  copying lib\\matplotlib\\spines.py -> build\\lib.win-amd64-cpython-310\\matplotlib\n",
      "  copying lib\\matplotlib\\stackplot.py -> build\\lib.win-amd64-cpython-310\\matplotlib\n",
      "  copying lib\\matplotlib\\streamplot.py -> build\\lib.win-amd64-cpython-310\\matplotlib\n",
      "  copying lib\\matplotlib\\table.py -> build\\lib.win-amd64-cpython-310\\matplotlib\n",
      "  copying lib\\matplotlib\\texmanager.py -> build\\lib.win-amd64-cpython-310\\matplotlib\n",
      "  copying lib\\matplotlib\\text.py -> build\\lib.win-amd64-cpython-310\\matplotlib\n",
      "  copying lib\\matplotlib\\textpath.py -> build\\lib.win-amd64-cpython-310\\matplotlib\n",
      "  copying lib\\matplotlib\\ticker.py -> build\\lib.win-amd64-cpython-310\\matplotlib\n",
      "  copying lib\\matplotlib\\tight_bbox.py -> build\\lib.win-amd64-cpython-310\\matplotlib\n",
      "  copying lib\\matplotlib\\tight_layout.py -> build\\lib.win-amd64-cpython-310\\matplotlib\n",
      "  copying lib\\matplotlib\\transforms.py -> build\\lib.win-amd64-cpython-310\\matplotlib\n",
      "  copying lib\\matplotlib\\type1font.py -> build\\lib.win-amd64-cpython-310\\matplotlib\n",
      "  copying lib\\matplotlib\\units.py -> build\\lib.win-amd64-cpython-310\\matplotlib\n",
      "  copying lib\\matplotlib\\widgets.py -> build\\lib.win-amd64-cpython-310\\matplotlib\n",
      "  copying lib\\matplotlib\\_animation_data.py -> build\\lib.win-amd64-cpython-310\\matplotlib\n",
      "  copying lib\\matplotlib\\_cm.py -> build\\lib.win-amd64-cpython-310\\matplotlib\n",
      "  copying lib\\matplotlib\\_cm_listed.py -> build\\lib.win-amd64-cpython-310\\matplotlib\n",
      "  copying lib\\matplotlib\\_color_data.py -> build\\lib.win-amd64-cpython-310\\matplotlib\n",
      "  copying lib\\matplotlib\\_constrained_layout.py -> build\\lib.win-amd64-cpython-310\\matplotlib\n",
      "  copying lib\\matplotlib\\_layoutbox.py -> build\\lib.win-amd64-cpython-310\\matplotlib\n",
      "  copying lib\\matplotlib\\_mathtext_data.py -> build\\lib.win-amd64-cpython-310\\matplotlib\n",
      "  copying lib\\matplotlib\\_pylab_helpers.py -> build\\lib.win-amd64-cpython-310\\matplotlib\n",
      "  copying lib\\matplotlib\\_version.py -> build\\lib.win-amd64-cpython-310\\matplotlib\n",
      "  copying lib\\matplotlib\\__init__.py -> build\\lib.win-amd64-cpython-310\\matplotlib\n",
      "  creating build\\lib.win-amd64-cpython-310\\mpl_toolkits\n",
      "  copying lib\\mpl_toolkits\\__init__.py -> build\\lib.win-amd64-cpython-310\\mpl_toolkits\n",
      "  creating build\\lib.win-amd64-cpython-310\\matplotlib\\axes\n",
      "  copying lib\\matplotlib\\axes\\_axes.py -> build\\lib.win-amd64-cpython-310\\matplotlib\\axes\n",
      "  copying lib\\matplotlib\\axes\\_base.py -> build\\lib.win-amd64-cpython-310\\matplotlib\\axes\n",
      "  copying lib\\matplotlib\\axes\\_secondary_axes.py -> build\\lib.win-amd64-cpython-310\\matplotlib\\axes\n",
      "  copying lib\\matplotlib\\axes\\_subplots.py -> build\\lib.win-amd64-cpython-310\\matplotlib\\axes\n",
      "  copying lib\\matplotlib\\axes\\__init__.py -> build\\lib.win-amd64-cpython-310\\matplotlib\\axes\n",
      "  creating build\\lib.win-amd64-cpython-310\\matplotlib\\backends\n",
      "  copying lib\\matplotlib\\backends\\backend_agg.py -> build\\lib.win-amd64-cpython-310\\matplotlib\\backends\n",
      "  copying lib\\matplotlib\\backends\\backend_cairo.py -> build\\lib.win-amd64-cpython-310\\matplotlib\\backends\n",
      "  copying lib\\matplotlib\\backends\\backend_gtk3.py -> build\\lib.win-amd64-cpython-310\\matplotlib\\backends\n",
      "  copying lib\\matplotlib\\backends\\backend_gtk3agg.py -> build\\lib.win-amd64-cpython-310\\matplotlib\\backends\n",
      "  copying lib\\matplotlib\\backends\\backend_gtk3cairo.py -> build\\lib.win-amd64-cpython-310\\matplotlib\\backends\n",
      "  copying lib\\matplotlib\\backends\\backend_macosx.py -> build\\lib.win-amd64-cpython-310\\matplotlib\\backends\n",
      "  copying lib\\matplotlib\\backends\\backend_mixed.py -> build\\lib.win-amd64-cpython-310\\matplotlib\\backends\n",
      "  copying lib\\matplotlib\\backends\\backend_nbagg.py -> build\\lib.win-amd64-cpython-310\\matplotlib\\backends\n",
      "  copying lib\\matplotlib\\backends\\backend_pdf.py -> build\\lib.win-amd64-cpython-310\\matplotlib\\backends\n",
      "  copying lib\\matplotlib\\backends\\backend_pgf.py -> build\\lib.win-amd64-cpython-310\\matplotlib\\backends\n",
      "  copying lib\\matplotlib\\backends\\backend_ps.py -> build\\lib.win-amd64-cpython-310\\matplotlib\\backends\n",
      "  copying lib\\matplotlib\\backends\\backend_qt4.py -> build\\lib.win-amd64-cpython-310\\matplotlib\\backends\n",
      "  copying lib\\matplotlib\\backends\\backend_qt4agg.py -> build\\lib.win-amd64-cpython-310\\matplotlib\\backends\n",
      "  copying lib\\matplotlib\\backends\\backend_qt4cairo.py -> build\\lib.win-amd64-cpython-310\\matplotlib\\backends\n",
      "  copying lib\\matplotlib\\backends\\backend_qt5.py -> build\\lib.win-amd64-cpython-310\\matplotlib\\backends\n",
      "  copying lib\\matplotlib\\backends\\backend_qt5agg.py -> build\\lib.win-amd64-cpython-310\\matplotlib\\backends\n",
      "  copying lib\\matplotlib\\backends\\backend_qt5cairo.py -> build\\lib.win-amd64-cpython-310\\matplotlib\\backends\n",
      "  copying lib\\matplotlib\\backends\\backend_svg.py -> build\\lib.win-amd64-cpython-310\\matplotlib\\backends\n",
      "  copying lib\\matplotlib\\backends\\backend_template.py -> build\\lib.win-amd64-cpython-310\\matplotlib\\backends\n",
      "  copying lib\\matplotlib\\backends\\backend_tkagg.py -> build\\lib.win-amd64-cpython-310\\matplotlib\\backends\n",
      "  copying lib\\matplotlib\\backends\\backend_tkcairo.py -> build\\lib.win-amd64-cpython-310\\matplotlib\\backends\n",
      "  copying lib\\matplotlib\\backends\\backend_webagg.py -> build\\lib.win-amd64-cpython-310\\matplotlib\\backends\n",
      "  copying lib\\matplotlib\\backends\\backend_webagg_core.py -> build\\lib.win-amd64-cpython-310\\matplotlib\\backends\n",
      "  copying lib\\matplotlib\\backends\\backend_wx.py -> build\\lib.win-amd64-cpython-310\\matplotlib\\backends\n",
      "  copying lib\\matplotlib\\backends\\backend_wxagg.py -> build\\lib.win-amd64-cpython-310\\matplotlib\\backends\n",
      "  copying lib\\matplotlib\\backends\\backend_wxcairo.py -> build\\lib.win-amd64-cpython-310\\matplotlib\\backends\n",
      "  copying lib\\matplotlib\\backends\\qt_compat.py -> build\\lib.win-amd64-cpython-310\\matplotlib\\backends\n",
      "  copying lib\\matplotlib\\backends\\tkagg.py -> build\\lib.win-amd64-cpython-310\\matplotlib\\backends\n",
      "  copying lib\\matplotlib\\backends\\windowing.py -> build\\lib.win-amd64-cpython-310\\matplotlib\\backends\n",
      "  copying lib\\matplotlib\\backends\\wx_compat.py -> build\\lib.win-amd64-cpython-310\\matplotlib\\backends\n",
      "  copying lib\\matplotlib\\backends\\_backend_pdf_ps.py -> build\\lib.win-amd64-cpython-310\\matplotlib\\backends\n",
      "  copying lib\\matplotlib\\backends\\_backend_tk.py -> build\\lib.win-amd64-cpython-310\\matplotlib\\backends\n",
      "  copying lib\\matplotlib\\backends\\__init__.py -> build\\lib.win-amd64-cpython-310\\matplotlib\\backends\n",
      "  creating build\\lib.win-amd64-cpython-310\\matplotlib\\cbook\n",
      "  copying lib\\matplotlib\\cbook\\deprecation.py -> build\\lib.win-amd64-cpython-310\\matplotlib\\cbook\n",
      "  copying lib\\matplotlib\\cbook\\__init__.py -> build\\lib.win-amd64-cpython-310\\matplotlib\\cbook\n",
      "  creating build\\lib.win-amd64-cpython-310\\matplotlib\\compat\n",
      "  copying lib\\matplotlib\\compat\\subprocess.py -> build\\lib.win-amd64-cpython-310\\matplotlib\\compat\n",
      "  copying lib\\matplotlib\\compat\\__init__.py -> build\\lib.win-amd64-cpython-310\\matplotlib\\compat\n",
      "  creating build\\lib.win-amd64-cpython-310\\matplotlib\\projections\n",
      "  copying lib\\matplotlib\\projections\\geo.py -> build\\lib.win-amd64-cpython-310\\matplotlib\\projections\n",
      "  copying lib\\matplotlib\\projections\\polar.py -> build\\lib.win-amd64-cpython-310\\matplotlib\\projections\n",
      "  copying lib\\matplotlib\\projections\\__init__.py -> build\\lib.win-amd64-cpython-310\\matplotlib\\projections\n",
      "  creating build\\lib.win-amd64-cpython-310\\matplotlib\\sphinxext\n",
      "  copying lib\\matplotlib\\sphinxext\\mathmpl.py -> build\\lib.win-amd64-cpython-310\\matplotlib\\sphinxext\n",
      "  copying lib\\matplotlib\\sphinxext\\plot_directive.py -> build\\lib.win-amd64-cpython-310\\matplotlib\\sphinxext\n",
      "  copying lib\\matplotlib\\sphinxext\\__init__.py -> build\\lib.win-amd64-cpython-310\\matplotlib\\sphinxext\n",
      "  creating build\\lib.win-amd64-cpython-310\\matplotlib\\style\n",
      "  copying lib\\matplotlib\\style\\core.py -> build\\lib.win-amd64-cpython-310\\matplotlib\\style\n",
      "  copying lib\\matplotlib\\style\\__init__.py -> build\\lib.win-amd64-cpython-310\\matplotlib\\style\n",
      "  creating build\\lib.win-amd64-cpython-310\\matplotlib\\testing\n",
      "  copying lib\\matplotlib\\testing\\compare.py -> build\\lib.win-amd64-cpython-310\\matplotlib\\testing\n",
      "  copying lib\\matplotlib\\testing\\conftest.py -> build\\lib.win-amd64-cpython-310\\matplotlib\\testing\n",
      "  copying lib\\matplotlib\\testing\\decorators.py -> build\\lib.win-amd64-cpython-310\\matplotlib\\testing\n",
      "  copying lib\\matplotlib\\testing\\determinism.py -> build\\lib.win-amd64-cpython-310\\matplotlib\\testing\n",
      "  copying lib\\matplotlib\\testing\\disable_internet.py -> build\\lib.win-amd64-cpython-310\\matplotlib\\testing\n",
      "  copying lib\\matplotlib\\testing\\exceptions.py -> build\\lib.win-amd64-cpython-310\\matplotlib\\testing\n",
      "  copying lib\\matplotlib\\testing\\__init__.py -> build\\lib.win-amd64-cpython-310\\matplotlib\\testing\n",
      "  creating build\\lib.win-amd64-cpython-310\\matplotlib\\tri\n",
      "  copying lib\\matplotlib\\tri\\triangulation.py -> build\\lib.win-amd64-cpython-310\\matplotlib\\tri\n",
      "  copying lib\\matplotlib\\tri\\tricontour.py -> build\\lib.win-amd64-cpython-310\\matplotlib\\tri\n",
      "  copying lib\\matplotlib\\tri\\trifinder.py -> build\\lib.win-amd64-cpython-310\\matplotlib\\tri\n",
      "  copying lib\\matplotlib\\tri\\triinterpolate.py -> build\\lib.win-amd64-cpython-310\\matplotlib\\tri\n",
      "  copying lib\\matplotlib\\tri\\tripcolor.py -> build\\lib.win-amd64-cpython-310\\matplotlib\\tri\n",
      "  copying lib\\matplotlib\\tri\\triplot.py -> build\\lib.win-amd64-cpython-310\\matplotlib\\tri\n",
      "  copying lib\\matplotlib\\tri\\trirefine.py -> build\\lib.win-amd64-cpython-310\\matplotlib\\tri\n",
      "  copying lib\\matplotlib\\tri\\tritools.py -> build\\lib.win-amd64-cpython-310\\matplotlib\\tri\n",
      "  copying lib\\matplotlib\\tri\\__init__.py -> build\\lib.win-amd64-cpython-310\\matplotlib\\tri\n",
      "  creating build\\lib.win-amd64-cpython-310\\matplotlib\\backends\\qt_editor\n",
      "  copying lib\\matplotlib\\backends\\qt_editor\\figureoptions.py -> build\\lib.win-amd64-cpython-310\\matplotlib\\backends\\qt_editor\n",
      "  copying lib\\matplotlib\\backends\\qt_editor\\formlayout.py -> build\\lib.win-amd64-cpython-310\\matplotlib\\backends\\qt_editor\n",
      "  copying lib\\matplotlib\\backends\\qt_editor\\formsubplottool.py -> build\\lib.win-amd64-cpython-310\\matplotlib\\backends\\qt_editor\n",
      "  copying lib\\matplotlib\\backends\\qt_editor\\_formlayout.py -> build\\lib.win-amd64-cpython-310\\matplotlib\\backends\\qt_editor\n",
      "  copying lib\\matplotlib\\backends\\qt_editor\\__init__.py -> build\\lib.win-amd64-cpython-310\\matplotlib\\backends\\qt_editor\n",
      "  creating build\\lib.win-amd64-cpython-310\\matplotlib\\testing\\jpl_units\n",
      "  copying lib\\matplotlib\\testing\\jpl_units\\Duration.py -> build\\lib.win-amd64-cpython-310\\matplotlib\\testing\\jpl_units\n",
      "  copying lib\\matplotlib\\testing\\jpl_units\\Epoch.py -> build\\lib.win-amd64-cpython-310\\matplotlib\\testing\\jpl_units\n",
      "  copying lib\\matplotlib\\testing\\jpl_units\\EpochConverter.py -> build\\lib.win-amd64-cpython-310\\matplotlib\\testing\\jpl_units\n",
      "  copying lib\\matplotlib\\testing\\jpl_units\\StrConverter.py -> build\\lib.win-amd64-cpython-310\\matplotlib\\testing\\jpl_units\n",
      "  copying lib\\matplotlib\\testing\\jpl_units\\UnitDbl.py -> build\\lib.win-amd64-cpython-310\\matplotlib\\testing\\jpl_units\n",
      "  copying lib\\matplotlib\\testing\\jpl_units\\UnitDblConverter.py -> build\\lib.win-amd64-cpython-310\\matplotlib\\testing\\jpl_units\n",
      "  copying lib\\matplotlib\\testing\\jpl_units\\UnitDblFormatter.py -> build\\lib.win-amd64-cpython-310\\matplotlib\\testing\\jpl_units\n",
      "  copying lib\\matplotlib\\testing\\jpl_units\\__init__.py -> build\\lib.win-amd64-cpython-310\\matplotlib\\testing\\jpl_units\n",
      "  creating build\\lib.win-amd64-cpython-310\\mpl_toolkits\\axes_grid\n",
      "  copying lib\\mpl_toolkits\\axes_grid\\anchored_artists.py -> build\\lib.win-amd64-cpython-310\\mpl_toolkits\\axes_grid\n",
      "  copying lib\\mpl_toolkits\\axes_grid\\angle_helper.py -> build\\lib.win-amd64-cpython-310\\mpl_toolkits\\axes_grid\n",
      "  copying lib\\mpl_toolkits\\axes_grid\\axes_divider.py -> build\\lib.win-amd64-cpython-310\\mpl_toolkits\\axes_grid\n",
      "  copying lib\\mpl_toolkits\\axes_grid\\axes_grid.py -> build\\lib.win-amd64-cpython-310\\mpl_toolkits\\axes_grid\n",
      "  copying lib\\mpl_toolkits\\axes_grid\\axes_rgb.py -> build\\lib.win-amd64-cpython-310\\mpl_toolkits\\axes_grid\n",
      "  copying lib\\mpl_toolkits\\axes_grid\\axes_size.py -> build\\lib.win-amd64-cpython-310\\mpl_toolkits\\axes_grid\n",
      "  copying lib\\mpl_toolkits\\axes_grid\\axislines.py -> build\\lib.win-amd64-cpython-310\\mpl_toolkits\\axes_grid\n",
      "  copying lib\\mpl_toolkits\\axes_grid\\axisline_style.py -> build\\lib.win-amd64-cpython-310\\mpl_toolkits\\axes_grid\n",
      "  copying lib\\mpl_toolkits\\axes_grid\\axis_artist.py -> build\\lib.win-amd64-cpython-310\\mpl_toolkits\\axes_grid\n",
      "  copying lib\\mpl_toolkits\\axes_grid\\clip_path.py -> build\\lib.win-amd64-cpython-310\\mpl_toolkits\\axes_grid\n",
      "  copying lib\\mpl_toolkits\\axes_grid\\colorbar.py -> build\\lib.win-amd64-cpython-310\\mpl_toolkits\\axes_grid\n",
      "  copying lib\\mpl_toolkits\\axes_grid\\floating_axes.py -> build\\lib.win-amd64-cpython-310\\mpl_toolkits\\axes_grid\n",
      "  copying lib\\mpl_toolkits\\axes_grid\\grid_finder.py -> build\\lib.win-amd64-cpython-310\\mpl_toolkits\\axes_grid\n",
      "  copying lib\\mpl_toolkits\\axes_grid\\grid_helper_curvelinear.py -> build\\lib.win-amd64-cpython-310\\mpl_toolkits\\axes_grid\n",
      "  copying lib\\mpl_toolkits\\axes_grid\\inset_locator.py -> build\\lib.win-amd64-cpython-310\\mpl_toolkits\\axes_grid\n",
      "  copying lib\\mpl_toolkits\\axes_grid\\parasite_axes.py -> build\\lib.win-amd64-cpython-310\\mpl_toolkits\\axes_grid\n",
      "  copying lib\\mpl_toolkits\\axes_grid\\__init__.py -> build\\lib.win-amd64-cpython-310\\mpl_toolkits\\axes_grid\n",
      "  creating build\\lib.win-amd64-cpython-310\\mpl_toolkits\\axes_grid1\n",
      "  copying lib\\mpl_toolkits\\axes_grid1\\anchored_artists.py -> build\\lib.win-amd64-cpython-310\\mpl_toolkits\\axes_grid1\n",
      "  copying lib\\mpl_toolkits\\axes_grid1\\axes_divider.py -> build\\lib.win-amd64-cpython-310\\mpl_toolkits\\axes_grid1\n",
      "  copying lib\\mpl_toolkits\\axes_grid1\\axes_grid.py -> build\\lib.win-amd64-cpython-310\\mpl_toolkits\\axes_grid1\n",
      "  copying lib\\mpl_toolkits\\axes_grid1\\axes_rgb.py -> build\\lib.win-amd64-cpython-310\\mpl_toolkits\\axes_grid1\n",
      "  copying lib\\mpl_toolkits\\axes_grid1\\axes_size.py -> build\\lib.win-amd64-cpython-310\\mpl_toolkits\\axes_grid1\n",
      "  copying lib\\mpl_toolkits\\axes_grid1\\colorbar.py -> build\\lib.win-amd64-cpython-310\\mpl_toolkits\\axes_grid1\n",
      "  copying lib\\mpl_toolkits\\axes_grid1\\inset_locator.py -> build\\lib.win-amd64-cpython-310\\mpl_toolkits\\axes_grid1\n",
      "  copying lib\\mpl_toolkits\\axes_grid1\\mpl_axes.py -> build\\lib.win-amd64-cpython-310\\mpl_toolkits\\axes_grid1\n",
      "  copying lib\\mpl_toolkits\\axes_grid1\\parasite_axes.py -> build\\lib.win-amd64-cpython-310\\mpl_toolkits\\axes_grid1\n",
      "  copying lib\\mpl_toolkits\\axes_grid1\\__init__.py -> build\\lib.win-amd64-cpython-310\\mpl_toolkits\\axes_grid1\n",
      "  creating build\\lib.win-amd64-cpython-310\\mpl_toolkits\\axisartist\n",
      "  copying lib\\mpl_toolkits\\axisartist\\angle_helper.py -> build\\lib.win-amd64-cpython-310\\mpl_toolkits\\axisartist\n",
      "  copying lib\\mpl_toolkits\\axisartist\\axes_divider.py -> build\\lib.win-amd64-cpython-310\\mpl_toolkits\\axisartist\n",
      "  copying lib\\mpl_toolkits\\axisartist\\axes_grid.py -> build\\lib.win-amd64-cpython-310\\mpl_toolkits\\axisartist\n",
      "  copying lib\\mpl_toolkits\\axisartist\\axes_rgb.py -> build\\lib.win-amd64-cpython-310\\mpl_toolkits\\axisartist\n",
      "  copying lib\\mpl_toolkits\\axisartist\\axislines.py -> build\\lib.win-amd64-cpython-310\\mpl_toolkits\\axisartist\n",
      "  copying lib\\mpl_toolkits\\axisartist\\axisline_style.py -> build\\lib.win-amd64-cpython-310\\mpl_toolkits\\axisartist\n",
      "  copying lib\\mpl_toolkits\\axisartist\\axis_artist.py -> build\\lib.win-amd64-cpython-310\\mpl_toolkits\\axisartist\n",
      "  copying lib\\mpl_toolkits\\axisartist\\clip_path.py -> build\\lib.win-amd64-cpython-310\\mpl_toolkits\\axisartist\n",
      "  copying lib\\mpl_toolkits\\axisartist\\floating_axes.py -> build\\lib.win-amd64-cpython-310\\mpl_toolkits\\axisartist\n",
      "  copying lib\\mpl_toolkits\\axisartist\\grid_finder.py -> build\\lib.win-amd64-cpython-310\\mpl_toolkits\\axisartist\n",
      "  copying lib\\mpl_toolkits\\axisartist\\grid_helper_curvelinear.py -> build\\lib.win-amd64-cpython-310\\mpl_toolkits\\axisartist\n",
      "  copying lib\\mpl_toolkits\\axisartist\\parasite_axes.py -> build\\lib.win-amd64-cpython-310\\mpl_toolkits\\axisartist\n",
      "  copying lib\\mpl_toolkits\\axisartist\\__init__.py -> build\\lib.win-amd64-cpython-310\\mpl_toolkits\\axisartist\n",
      "  creating build\\lib.win-amd64-cpython-310\\mpl_toolkits\\mplot3d\n",
      "  copying lib\\mpl_toolkits\\mplot3d\\art3d.py -> build\\lib.win-amd64-cpython-310\\mpl_toolkits\\mplot3d\n",
      "  copying lib\\mpl_toolkits\\mplot3d\\axes3d.py -> build\\lib.win-amd64-cpython-310\\mpl_toolkits\\mplot3d\n",
      "  copying lib\\mpl_toolkits\\mplot3d\\axis3d.py -> build\\lib.win-amd64-cpython-310\\mpl_toolkits\\mplot3d\n",
      "  copying lib\\mpl_toolkits\\mplot3d\\proj3d.py -> build\\lib.win-amd64-cpython-310\\mpl_toolkits\\mplot3d\n",
      "  copying lib\\mpl_toolkits\\mplot3d\\__init__.py -> build\\lib.win-amd64-cpython-310\\mpl_toolkits\\mplot3d\n",
      "  creating build\\lib.win-amd64-cpython-310\\matplotlib\\mpl-data\n",
      "  creating build\\lib.win-amd64-cpython-310\\matplotlib\\mpl-data\\fonts\n",
      "  creating build\\lib.win-amd64-cpython-310\\matplotlib\\mpl-data\\fonts\\afm\n",
      "  copying lib\\matplotlib\\mpl-data\\fonts\\afm\\phvbo8an.afm -> build\\lib.win-amd64-cpython-310\\matplotlib\\mpl-data\\fonts\\afm\n",
      "  creating build\\lib.win-amd64-cpython-310\\matplotlib\\backends\\web_backend\n",
      "  creating build\\lib.win-amd64-cpython-310\\matplotlib\\backends\\web_backend\\js\n",
      "  copying lib\\matplotlib\\backends\\web_backend\\js\\mpl.js -> build\\lib.win-amd64-cpython-310\\matplotlib\\backends\\web_backend\\js\n",
      "  creating build\\lib.win-amd64-cpython-310\\matplotlib\\mpl-data\\sample_data\n",
      "  copying lib\\matplotlib\\mpl-data\\sample_data\\ct.raw.gz -> build\\lib.win-amd64-cpython-310\\matplotlib\\mpl-data\\sample_data\n",
      "  creating build\\lib.win-amd64-cpython-310\\matplotlib\\backends\\web_backend\\jquery-ui-1.12.1\n",
      "  creating build\\lib.win-amd64-cpython-310\\matplotlib\\backends\\web_backend\\jquery-ui-1.12.1\\images\n",
      "  copying lib\\matplotlib\\backends\\web_backend\\jquery-ui-1.12.1\\images\\ui-icons_555555_256x240.png -> build\\lib.win-amd64-cpython-310\\matplotlib\\backends\\web_backend\\jquery-ui-1.12.1\\images\n",
      "  creating build\\lib.win-amd64-cpython-310\\matplotlib\\mpl-data\\images\n",
      "  copying lib\\matplotlib\\mpl-data\\images\\forward.pdf -> build\\lib.win-amd64-cpython-310\\matplotlib\\mpl-data\\images\n",
      "  copying lib\\matplotlib\\mpl-data\\sample_data\\topobathy.npz -> build\\lib.win-amd64-cpython-310\\matplotlib\\mpl-data\\sample_data\n",
      "  copying lib\\matplotlib\\mpl-data\\images\\forward.png -> build\\lib.win-amd64-cpython-310\\matplotlib\\mpl-data\\images\n",
      "  copying lib\\matplotlib\\mpl-data\\images\\matplotlib_large.png -> build\\lib.win-amd64-cpython-310\\matplotlib\\mpl-data\\images\n",
      "  copying lib\\matplotlib\\backends\\web_backend\\jquery-ui-1.12.1\\images\\ui-icons_777777_256x240.png -> build\\lib.win-amd64-cpython-310\\matplotlib\\backends\\web_backend\\jquery-ui-1.12.1\\images\n",
      "  copying lib\\matplotlib\\mpl-data\\fonts\\afm\\cmex10.afm -> build\\lib.win-amd64-cpython-310\\matplotlib\\mpl-data\\fonts\\afm\n",
      "  copying lib\\matplotlib\\mpl-data\\images\\filesave.svg -> build\\lib.win-amd64-cpython-310\\matplotlib\\mpl-data\\images\n",
      "  copying lib\\matplotlib\\mpl-data\\fonts\\afm\\phvbo8a.afm -> build\\lib.win-amd64-cpython-310\\matplotlib\\mpl-data\\fonts\\afm\n",
      "  creating build\\lib.win-amd64-cpython-310\\matplotlib\\mpl-data\\stylelib\n",
      "  copying lib\\matplotlib\\mpl-data\\stylelib\\seaborn-whitegrid.mplstyle -> build\\lib.win-amd64-cpython-310\\matplotlib\\mpl-data\\stylelib\n",
      "  copying lib\\matplotlib\\mpl-data\\stylelib\\seaborn-ticks.mplstyle -> build\\lib.win-amd64-cpython-310\\matplotlib\\mpl-data\\stylelib\n",
      "  creating build\\lib.win-amd64-cpython-310\\matplotlib\\mpl-data\\fonts\\ttf\n",
      "  copying lib\\matplotlib\\mpl-data\\fonts\\ttf\\cmsy10.ttf -> build\\lib.win-amd64-cpython-310\\matplotlib\\mpl-data\\fonts\\ttf\n",
      "  copying lib\\matplotlib\\mpl-data\\sample_data\\jacksboro_fault_dem.npz -> build\\lib.win-amd64-cpython-310\\matplotlib\\mpl-data\\sample_data\n",
      "  copying lib\\matplotlib\\mpl-data\\fonts\\ttf\\DejaVuSerif-Bold.ttf -> build\\lib.win-amd64-cpython-310\\matplotlib\\mpl-data\\fonts\\ttf\n",
      "  copying lib\\matplotlib\\backends\\web_backend\\js\\nbagg_mpl.js -> build\\lib.win-amd64-cpython-310\\matplotlib\\backends\\web_backend\\js\n",
      "  copying lib\\matplotlib\\mpl-data\\images\\qt4_editor_options.svg -> build\\lib.win-amd64-cpython-310\\matplotlib\\mpl-data\\images\n",
      "  copying lib\\matplotlib\\mpl-data\\sample_data\\None_vs_nearest-pdf.png -> build\\lib.win-amd64-cpython-310\\matplotlib\\mpl-data\\sample_data\n",
      "  copying lib\\matplotlib\\mpl-data\\fonts\\ttf\\STIXGeneralItalic.ttf -> build\\lib.win-amd64-cpython-310\\matplotlib\\mpl-data\\fonts\\ttf\n",
      "  copying lib\\matplotlib\\mpl-data\\images\\subplots.gif -> build\\lib.win-amd64-cpython-310\\matplotlib\\mpl-data\\images\n",
      "  copying lib\\matplotlib\\mpl-data\\images\\subplots.pdf -> build\\lib.win-amd64-cpython-310\\matplotlib\\mpl-data\\images\n",
      "  copying lib\\matplotlib\\mpl-data\\images\\back_large.gif -> build\\lib.win-amd64-cpython-310\\matplotlib\\mpl-data\\images\n",
      "  copying lib\\matplotlib\\mpl-data\\images\\zoom_to_rect_large.gif -> build\\lib.win-amd64-cpython-310\\matplotlib\\mpl-data\\images\n",
      "  copying lib\\matplotlib\\mpl-data\\fonts\\ttf\\DejaVuSans-BoldOblique.ttf -> build\\lib.win-amd64-cpython-310\\matplotlib\\mpl-data\\fonts\\ttf\n",
      "  copying lib\\matplotlib\\mpl-data\\fonts\\ttf\\DejaVuSans-Oblique.ttf -> build\\lib.win-amd64-cpython-310\\matplotlib\\mpl-data\\fonts\\ttf\n",
      "  copying lib\\matplotlib\\backends\\web_backend\\jquery-ui-1.12.1\\jquery-ui.min.js -> build\\lib.win-amd64-cpython-310\\matplotlib\\backends\\web_backend\\jquery-ui-1.12.1\n",
      "  copying lib\\matplotlib\\mpl-data\\fonts\\ttf\\DejaVuSansMono.ttf -> build\\lib.win-amd64-cpython-310\\matplotlib\\mpl-data\\fonts\\ttf\n",
      "  copying lib\\matplotlib\\mpl-data\\images\\home_large.png -> build\\lib.win-amd64-cpython-310\\matplotlib\\mpl-data\\images\n",
      "  copying lib\\matplotlib\\backends\\web_backend\\jquery-ui-1.12.1\\index.html -> build\\lib.win-amd64-cpython-310\\matplotlib\\backends\\web_backend\\jquery-ui-1.12.1\n",
      "  copying lib\\matplotlib\\mpl-data\\stylelib\\seaborn-dark.mplstyle -> build\\lib.win-amd64-cpython-310\\matplotlib\\mpl-data\\stylelib\n",
      "  creating build\\lib.win-amd64-cpython-310\\matplotlib\\mpl-data\\fonts\\pdfcorefonts\n",
      "  copying lib\\matplotlib\\mpl-data\\fonts\\pdfcorefonts\\Courier-Oblique.afm -> build\\lib.win-amd64-cpython-310\\matplotlib\\mpl-data\\fonts\\pdfcorefonts\n",
      "  copying lib\\matplotlib\\mpl-data\\fonts\\pdfcorefonts\\Courier-Bold.afm -> build\\lib.win-amd64-cpython-310\\matplotlib\\mpl-data\\fonts\\pdfcorefonts\n",
      "  copying lib\\matplotlib\\mpl-data\\fonts\\afm\\ptmri8a.afm -> build\\lib.win-amd64-cpython-310\\matplotlib\\mpl-data\\fonts\\afm\n",
      "  copying lib\\matplotlib\\mpl-data\\fonts\\ttf\\STIXNonUni.ttf -> build\\lib.win-amd64-cpython-310\\matplotlib\\mpl-data\\fonts\\ttf\n",
      "  copying lib\\matplotlib\\mpl-data\\fonts\\afm\\pagko8a.afm -> build\\lib.win-amd64-cpython-310\\matplotlib\\mpl-data\\fonts\\afm\n",
      "  copying lib\\matplotlib\\mpl-data\\fonts\\ttf\\STIXSizThreeSymBol.ttf -> build\\lib.win-amd64-cpython-310\\matplotlib\\mpl-data\\fonts\\ttf\n",
      "  copying lib\\matplotlib\\mpl-data\\fonts\\afm\\pagdo8a.afm -> build\\lib.win-amd64-cpython-310\\matplotlib\\mpl-data\\fonts\\afm\n",
      "  copying lib\\matplotlib\\mpl-data\\fonts\\afm\\putr8a.afm -> build\\lib.win-amd64-cpython-310\\matplotlib\\mpl-data\\fonts\\afm\n",
      "  copying lib\\matplotlib\\mpl-data\\fonts\\pdfcorefonts\\Courier-BoldOblique.afm -> build\\lib.win-amd64-cpython-310\\matplotlib\\mpl-data\\fonts\\pdfcorefonts\n",
      "  copying lib\\matplotlib\\mpl-data\\images\\forward_large.gif -> build\\lib.win-amd64-cpython-310\\matplotlib\\mpl-data\\images\n",
      "  creating build\\lib.win-amd64-cpython-310\\matplotlib\\backends\\web_backend\\jquery\n",
      "  creating build\\lib.win-amd64-cpython-310\\matplotlib\\backends\\web_backend\\jquery\\js\n",
      "  copying lib\\matplotlib\\backends\\web_backend\\jquery\\js\\jquery.min.js -> build\\lib.win-amd64-cpython-310\\matplotlib\\backends\\web_backend\\jquery\\js\n",
      "  copying lib\\matplotlib\\mpl-data\\sample_data\\Minduka_Present_Blue_Pack.png -> build\\lib.win-amd64-cpython-310\\matplotlib\\mpl-data\\sample_data\n",
      "  copying lib\\matplotlib\\mpl-data\\images\\move_large.png -> build\\lib.win-amd64-cpython-310\\matplotlib\\mpl-data\\images\n",
      "  copying lib\\matplotlib\\mpl-data\\stylelib\\fivethirtyeight.mplstyle -> build\\lib.win-amd64-cpython-310\\matplotlib\\mpl-data\\stylelib\n",
      "  copying lib\\matplotlib\\mpl-data\\images\\qt4_editor_options.pdf -> build\\lib.win-amd64-cpython-310\\matplotlib\\mpl-data\\images\n",
      "  copying lib\\matplotlib\\mpl-data\\images\\back_large.png -> build\\lib.win-amd64-cpython-310\\matplotlib\\mpl-data\\images\n",
      "  copying lib\\matplotlib\\mpl-data\\images\\help_large.ppm -> build\\lib.win-amd64-cpython-310\\matplotlib\\mpl-data\\images\n",
      "  copying lib\\matplotlib\\mpl-data\\fonts\\afm\\pncr8a.afm -> build\\lib.win-amd64-cpython-310\\matplotlib\\mpl-data\\fonts\\afm\n",
      "  copying lib\\matplotlib\\mpl-data\\images\\forward.gif -> build\\lib.win-amd64-cpython-310\\matplotlib\\mpl-data\\images\n",
      "  copying lib\\matplotlib\\mpl-data\\fonts\\afm\\pplbi8a.afm -> build\\lib.win-amd64-cpython-310\\matplotlib\\mpl-data\\fonts\\afm\n",
      "  copying lib\\matplotlib\\mpl-data\\fonts\\pdfcorefonts\\Helvetica.afm -> build\\lib.win-amd64-cpython-310\\matplotlib\\mpl-data\\fonts\\pdfcorefonts\n",
      "  copying lib\\matplotlib\\mpl-data\\stylelib\\seaborn-paper.mplstyle -> build\\lib.win-amd64-cpython-310\\matplotlib\\mpl-data\\stylelib\n",
      "  copying lib\\matplotlib\\mpl-data\\fonts\\afm\\cmsy10.afm -> build\\lib.win-amd64-cpython-310\\matplotlib\\mpl-data\\fonts\\afm\n",
      "  copying lib\\matplotlib\\mpl-data\\fonts\\afm\\cmr10.afm -> build\\lib.win-amd64-cpython-310\\matplotlib\\mpl-data\\fonts\\afm\n",
      "  copying lib\\matplotlib\\mpl-data\\stylelib\\grayscale.mplstyle -> build\\lib.win-amd64-cpython-310\\matplotlib\\mpl-data\\stylelib\n",
      "  copying lib\\matplotlib\\mpl-data\\fonts\\ttf\\STIXSizThreeSymReg.ttf -> build\\lib.win-amd64-cpython-310\\matplotlib\\mpl-data\\fonts\\ttf\n",
      "  copying lib\\matplotlib\\mpl-data\\sample_data\\percent_bachelors_degrees_women_usa.csv -> build\\lib.win-amd64-cpython-310\\matplotlib\\mpl-data\\sample_data\n",
      "  copying lib\\matplotlib\\mpl-data\\fonts\\ttf\\STIXGeneralBol.ttf -> build\\lib.win-amd64-cpython-310\\matplotlib\\mpl-data\\fonts\\ttf\n",
      "  copying lib\\matplotlib\\mpl-data\\images\\subplots_large.png -> build\\lib.win-amd64-cpython-310\\matplotlib\\mpl-data\\images\n",
      "  copying lib\\matplotlib\\mpl-data\\images\\hand.pdf -> build\\lib.win-amd64-cpython-310\\matplotlib\\mpl-data\\images\n",
      "  copying lib\\matplotlib\\mpl-data\\stylelib\\seaborn-poster.mplstyle -> build\\lib.win-amd64-cpython-310\\matplotlib\\mpl-data\\stylelib\n",
      "  copying lib\\matplotlib\\mpl-data\\stylelib\\tableau-colorblind10.mplstyle -> build\\lib.win-amd64-cpython-310\\matplotlib\\mpl-data\\stylelib\n",
      "  copying lib\\matplotlib\\mpl-data\\images\\back.gif -> build\\lib.win-amd64-cpython-310\\matplotlib\\mpl-data\\images\n",
      "  copying lib\\matplotlib\\mpl-data\\images\\move.pdf -> build\\lib.win-amd64-cpython-310\\matplotlib\\mpl-data\\images\n",
      "  copying lib\\matplotlib\\mpl-data\\stylelib\\seaborn-pastel.mplstyle -> build\\lib.win-amd64-cpython-310\\matplotlib\\mpl-data\\stylelib\n",
      "  copying lib\\matplotlib\\backends\\web_backend\\jquery-ui-1.12.1\\package.json -> build\\lib.win-amd64-cpython-310\\matplotlib\\backends\\web_backend\\jquery-ui-1.12.1\n",
      "  copying lib\\matplotlib\\mpl-data\\fonts\\afm\\phvb8a.afm -> build\\lib.win-amd64-cpython-310\\matplotlib\\mpl-data\\fonts\\afm\n",
      "  creating build\\lib.win-amd64-cpython-310\\matplotlib\\backends\\web_backend\\css\n",
      "  copying lib\\matplotlib\\backends\\web_backend\\css\\fbm.css -> build\\lib.win-amd64-cpython-310\\matplotlib\\backends\\web_backend\\css\n",
      "  copying lib\\matplotlib\\mpl-data\\images\\home.svg -> build\\lib.win-amd64-cpython-310\\matplotlib\\mpl-data\\images\n",
      "  copying lib\\matplotlib\\mpl-data\\sample_data\\grace_hopper.png -> build\\lib.win-amd64-cpython-310\\matplotlib\\mpl-data\\sample_data\n",
      "  copying lib\\matplotlib\\backends\\web_backend\\css\\page.css -> build\\lib.win-amd64-cpython-310\\matplotlib\\backends\\web_backend\\css\n",
      "  copying lib\\matplotlib\\mpl-data\\fonts\\ttf\\DejaVuSerifDisplay.ttf -> build\\lib.win-amd64-cpython-310\\matplotlib\\mpl-data\\fonts\\ttf\n",
      "  copying lib\\matplotlib\\mpl-data\\stylelib\\fast.mplstyle -> build\\lib.win-amd64-cpython-310\\matplotlib\\mpl-data\\stylelib\n",
      "  copying lib\\matplotlib\\mpl-data\\images\\subplots.svg -> build\\lib.win-amd64-cpython-310\\matplotlib\\mpl-data\\images\n",
      "  copying lib\\matplotlib\\mpl-data\\fonts\\ttf\\cmmi10.ttf -> build\\lib.win-amd64-cpython-310\\matplotlib\\mpl-data\\fonts\\ttf\n",
      "  copying lib\\matplotlib\\mpl-data\\images\\filesave.gif -> build\\lib.win-amd64-cpython-310\\matplotlib\\mpl-data\\images\n",
      "  copying lib\\matplotlib\\backends\\web_backend\\jquery-ui-1.12.1\\images\\ui-icons_444444_256x240.png -> build\\lib.win-amd64-cpython-310\\matplotlib\\backends\\web_backend\\jquery-ui-1.12.1\\images\n",
      "  copying lib\\matplotlib\\mpl-data\\images\\help.svg -> build\\lib.win-amd64-cpython-310\\matplotlib\\mpl-data\\images\n",
      "  copying lib\\matplotlib\\mpl-data\\images\\filesave_large.png -> build\\lib.win-amd64-cpython-310\\matplotlib\\mpl-data\\images\n",
      "  copying lib\\matplotlib\\mpl-data\\images\\zoom_to_rect_large.png -> build\\lib.win-amd64-cpython-310\\matplotlib\\mpl-data\\images\n",
      "  copying lib\\matplotlib\\mpl-data\\images\\qt4_editor_options.png -> build\\lib.win-amd64-cpython-310\\matplotlib\\mpl-data\\images\n",
      "  copying lib\\matplotlib\\mpl-data\\fonts\\ttf\\DejaVuSerif.ttf -> build\\lib.win-amd64-cpython-310\\matplotlib\\mpl-data\\fonts\\ttf\n",
      "  copying lib\\matplotlib\\mpl-data\\fonts\\ttf\\cmex10.ttf -> build\\lib.win-amd64-cpython-310\\matplotlib\\mpl-data\\fonts\\ttf\n",
      "  copying lib\\matplotlib\\mpl-data\\fonts\\afm\\phvb8an.afm -> build\\lib.win-amd64-cpython-310\\matplotlib\\mpl-data\\fonts\\afm\n",
      "  copying lib\\matplotlib\\mpl-data\\fonts\\ttf\\STIXSizOneSymReg.ttf -> build\\lib.win-amd64-cpython-310\\matplotlib\\mpl-data\\fonts\\ttf\n",
      "  copying lib\\matplotlib\\mpl-data\\sample_data\\ada.png -> build\\lib.win-amd64-cpython-310\\matplotlib\\mpl-data\\sample_data\n",
      "  copying lib\\matplotlib\\mpl-data\\images\\matplotlib.svg -> build\\lib.win-amd64-cpython-310\\matplotlib\\mpl-data\\images\n",
      "  copying lib\\matplotlib\\mpl-data\\images\\help.pdf -> build\\lib.win-amd64-cpython-310\\matplotlib\\mpl-data\\images\n",
      "  copying lib\\matplotlib\\mpl-data\\stylelib\\seaborn-colorblind.mplstyle -> build\\lib.win-amd64-cpython-310\\matplotlib\\mpl-data\\stylelib\n",
      "  copying lib\\matplotlib\\mpl-data\\fonts\\afm\\pagk8a.afm -> build\\lib.win-amd64-cpython-310\\matplotlib\\mpl-data\\fonts\\afm\n",
      "  copying lib\\matplotlib\\mpl-data\\fonts\\ttf\\cmss10.ttf -> build\\lib.win-amd64-cpython-310\\matplotlib\\mpl-data\\fonts\\ttf\n",
      "  copying lib\\matplotlib\\mpl-data\\images\\back.svg -> build\\lib.win-amd64-cpython-310\\matplotlib\\mpl-data\\images\n",
      "  copying lib\\matplotlib\\mpl-data\\images\\move.png -> build\\lib.win-amd64-cpython-310\\matplotlib\\mpl-data\\images\n",
      "  copying lib\\matplotlib\\mpl-data\\stylelib\\Solarize_Light2.mplstyle -> build\\lib.win-amd64-cpython-310\\matplotlib\\mpl-data\\stylelib\n",
      "  copying lib\\matplotlib\\mpl-data\\stylelib\\seaborn.mplstyle -> build\\lib.win-amd64-cpython-310\\matplotlib\\mpl-data\\stylelib\n",
      "  copying lib\\matplotlib\\mpl-data\\matplotlibrc -> build\\lib.win-amd64-cpython-310\\matplotlib\\mpl-data\n",
      "  copying lib\\matplotlib\\mpl-data\\fonts\\ttf\\STIXSizTwoSymReg.ttf -> build\\lib.win-amd64-cpython-310\\matplotlib\\mpl-data\\fonts\\ttf\n",
      "  copying lib\\matplotlib\\mpl-data\\images\\home.gif -> build\\lib.win-amd64-cpython-310\\matplotlib\\mpl-data\\images\n",
      "  copying lib\\matplotlib\\backends\\web_backend\\jquery-ui-1.12.1\\LICENSE.txt -> build\\lib.win-amd64-cpython-310\\matplotlib\\backends\\web_backend\\jquery-ui-1.12.1\n",
      "  copying lib\\matplotlib\\mpl-data\\fonts\\afm\\ptmb8a.afm -> build\\lib.win-amd64-cpython-310\\matplotlib\\mpl-data\\fonts\\afm\n",
      "  copying lib\\matplotlib\\backends\\web_backend\\jquery-ui-1.12.1\\images\\ui-icons_777620_256x240.png -> build\\lib.win-amd64-cpython-310\\matplotlib\\backends\\web_backend\\jquery-ui-1.12.1\\images\n",
      "  copying lib\\matplotlib\\mpl-data\\fonts\\afm\\pbkd8a.afm -> build\\lib.win-amd64-cpython-310\\matplotlib\\mpl-data\\fonts\\afm\n",
      "  copying lib\\matplotlib\\mpl-data\\fonts\\ttf\\STIXGeneral.ttf -> build\\lib.win-amd64-cpython-310\\matplotlib\\mpl-data\\fonts\\ttf\n",
      "  copying lib\\matplotlib\\mpl-data\\images\\forward_large.png -> build\\lib.win-amd64-cpython-310\\matplotlib\\mpl-data\\images\n",
      "  copying lib\\matplotlib\\mpl-data\\images\\matplotlib.ppm -> build\\lib.win-amd64-cpython-310\\matplotlib\\mpl-data\\images\n",
      "  copying lib\\matplotlib\\mpl-data\\images\\hand_large.gif -> build\\lib.win-amd64-cpython-310\\matplotlib\\mpl-data\\images\n",
      "  copying lib\\matplotlib\\mpl-data\\fonts\\afm\\putbi8a.afm -> build\\lib.win-amd64-cpython-310\\matplotlib\\mpl-data\\fonts\\afm\n",
      "  copying lib\\matplotlib\\mpl-data\\fonts\\afm\\pagd8a.afm -> build\\lib.win-amd64-cpython-310\\matplotlib\\mpl-data\\fonts\\afm\n",
      "  copying lib\\matplotlib\\mpl-data\\fonts\\afm\\ptmr8a.afm -> build\\lib.win-amd64-cpython-310\\matplotlib\\mpl-data\\fonts\\afm\n",
      "  copying lib\\matplotlib\\mpl-data\\images\\hand.svg -> build\\lib.win-amd64-cpython-310\\matplotlib\\mpl-data\\images\n",
      "  copying lib\\matplotlib\\mpl-data\\fonts\\afm\\phvlo8a.afm -> build\\lib.win-amd64-cpython-310\\matplotlib\\mpl-data\\fonts\\afm\n",
      "  copying lib\\matplotlib\\mpl-data\\images\\filesave.png -> build\\lib.win-amd64-cpython-310\\matplotlib\\mpl-data\\images\n",
      "  copying lib\\matplotlib\\mpl-data\\fonts\\pdfcorefonts\\readme.txt -> build\\lib.win-amd64-cpython-310\\matplotlib\\mpl-data\\fonts\\pdfcorefonts\n",
      "  copying lib\\matplotlib\\mpl-data\\images\\help.png -> build\\lib.win-amd64-cpython-310\\matplotlib\\mpl-data\\images\n",
      "  copying lib\\matplotlib\\mpl-data\\stylelib\\seaborn-dark-palette.mplstyle -> build\\lib.win-amd64-cpython-310\\matplotlib\\mpl-data\\stylelib\n",
      "  copying lib\\matplotlib\\mpl-data\\stylelib\\_classic_test.mplstyle -> build\\lib.win-amd64-cpython-310\\matplotlib\\mpl-data\\stylelib\n",
      "  copying lib\\matplotlib\\mpl-data\\images\\home.png -> build\\lib.win-amd64-cpython-310\\matplotlib\\mpl-data\\images\n",
      "  copying lib\\matplotlib\\mpl-data\\images\\matplotlib.pdf -> build\\lib.win-amd64-cpython-310\\matplotlib\\mpl-data\\images\n",
      "  copying lib\\matplotlib\\backends\\web_backend\\jquery-ui-1.12.1\\jquery-ui.theme.min.css -> build\\lib.win-amd64-cpython-310\\matplotlib\\backends\\web_backend\\jquery-ui-1.12.1\n",
      "  copying lib\\matplotlib\\mpl-data\\fonts\\ttf\\STIXSizFiveSymReg.ttf -> build\\lib.win-amd64-cpython-310\\matplotlib\\mpl-data\\fonts\\ttf\n",
      "  copying lib\\matplotlib\\mpl-data\\images\\forward.svg -> build\\lib.win-amd64-cpython-310\\matplotlib\\mpl-data\\images\n",
      "  copying lib\\matplotlib\\mpl-data\\sample_data\\s1045.ima.gz -> build\\lib.win-amd64-cpython-310\\matplotlib\\mpl-data\\sample_data\n",
      "  copying lib\\matplotlib\\backends\\web_backend\\js\\mpl_tornado.js -> build\\lib.win-amd64-cpython-310\\matplotlib\\backends\\web_backend\\js\n",
      "  copying lib\\matplotlib\\backends\\web_backend\\jquery-ui-1.12.1\\jquery-ui.theme.css -> build\\lib.win-amd64-cpython-310\\matplotlib\\backends\\web_backend\\jquery-ui-1.12.1\n",
      "  copying lib\\matplotlib\\mpl-data\\images\\subplots.png -> build\\lib.win-amd64-cpython-310\\matplotlib\\mpl-data\\images\n",
      "  copying lib\\matplotlib\\mpl-data\\fonts\\ttf\\STIXNonUniIta.ttf -> build\\lib.win-amd64-cpython-310\\matplotlib\\mpl-data\\fonts\\ttf\n",
      "  copying lib\\matplotlib\\mpl-data\\stylelib\\seaborn-muted.mplstyle -> build\\lib.win-amd64-cpython-310\\matplotlib\\mpl-data\\stylelib\n",
      "  copying lib\\matplotlib\\mpl-data\\fonts\\ttf\\LICENSE_STIX -> build\\lib.win-amd64-cpython-310\\matplotlib\\mpl-data\\fonts\\ttf\n",
      "  copying lib\\matplotlib\\mpl-data\\fonts\\pdfcorefonts\\Helvetica-BoldOblique.afm -> build\\lib.win-amd64-cpython-310\\matplotlib\\mpl-data\\fonts\\pdfcorefonts\n",
      "  copying lib\\matplotlib\\mpl-data\\fonts\\ttf\\DejaVuSansMono-Oblique.ttf -> build\\lib.win-amd64-cpython-310\\matplotlib\\mpl-data\\fonts\\ttf\n",
      "  copying lib\\matplotlib\\mpl-data\\fonts\\ttf\\DejaVuSansDisplay.ttf -> build\\lib.win-amd64-cpython-310\\matplotlib\\mpl-data\\fonts\\ttf\n",
      "  copying lib\\matplotlib\\backends\\web_backend\\jquery-ui-1.12.1\\jquery-ui.structure.css -> build\\lib.win-amd64-cpython-310\\matplotlib\\backends\\web_backend\\jquery-ui-1.12.1\n",
      "  copying lib\\matplotlib\\mpl-data\\sample_data\\eeg.dat -> build\\lib.win-amd64-cpython-310\\matplotlib\\mpl-data\\sample_data\n",
      "  copying lib\\matplotlib\\backends\\web_backend\\jquery-ui-1.12.1\\jquery-ui.js -> build\\lib.win-amd64-cpython-310\\matplotlib\\backends\\web_backend\\jquery-ui-1.12.1\n",
      "  copying lib\\matplotlib\\mpl-data\\images\\subplots_large.gif -> build\\lib.win-amd64-cpython-310\\matplotlib\\mpl-data\\images\n",
      "  copying lib\\matplotlib\\mpl-data\\fonts\\ttf\\STIXNonUniBol.ttf -> build\\lib.win-amd64-cpython-310\\matplotlib\\mpl-data\\fonts\\ttf\n",
      "  copying lib\\matplotlib\\mpl-data\\sample_data\\membrane.dat -> build\\lib.win-amd64-cpython-310\\matplotlib\\mpl-data\\sample_data\n",
      "  copying lib\\matplotlib\\mpl-data\\fonts\\afm\\pcrr8a.afm -> build\\lib.win-amd64-cpython-310\\matplotlib\\mpl-data\\fonts\\afm\n",
      "  copying lib\\matplotlib\\mpl-data\\images\\home_large.gif -> build\\lib.win-amd64-cpython-310\\matplotlib\\mpl-data\\images\n",
      "  copying lib\\matplotlib\\backends\\web_backend\\all_figures.html -> build\\lib.win-amd64-cpython-310\\matplotlib\\backends\\web_backend\n",
      "  copying lib\\matplotlib\\mpl-data\\fonts\\pdfcorefonts\\Symbol.afm -> build\\lib.win-amd64-cpython-310\\matplotlib\\mpl-data\\fonts\\pdfcorefonts\n",
      "  copying lib\\matplotlib\\mpl-data\\images\\help_large.png -> build\\lib.win-amd64-cpython-310\\matplotlib\\mpl-data\\images\n",
      "  copying lib\\matplotlib\\mpl-data\\stylelib\\seaborn-deep.mplstyle -> build\\lib.win-amd64-cpython-310\\matplotlib\\mpl-data\\stylelib\n",
      "  copying lib\\matplotlib\\mpl-data\\fonts\\afm\\pncbi8a.afm -> build\\lib.win-amd64-cpython-310\\matplotlib\\mpl-data\\fonts\\afm\n",
      "  copying lib\\matplotlib\\mpl-data\\images\\move.gif -> build\\lib.win-amd64-cpython-310\\matplotlib\\mpl-data\\images\n",
      "  copying lib\\matplotlib\\mpl-data\\stylelib\\bmh.mplstyle -> build\\lib.win-amd64-cpython-310\\matplotlib\\mpl-data\\stylelib\n",
      "  copying lib\\matplotlib\\mpl-data\\images\\matplotlib.png -> build\\lib.win-amd64-cpython-310\\matplotlib\\mpl-data\\images\n",
      "  copying lib\\matplotlib\\mpl-data\\stylelib\\seaborn-notebook.mplstyle -> build\\lib.win-amd64-cpython-310\\matplotlib\\mpl-data\\stylelib\n",
      "  copying lib\\matplotlib\\mpl-data\\fonts\\ttf\\STIXSizFourSymBol.ttf -> build\\lib.win-amd64-cpython-310\\matplotlib\\mpl-data\\fonts\\ttf\n",
      "  copying lib\\matplotlib\\mpl-data\\stylelib\\seaborn-white.mplstyle -> build\\lib.win-amd64-cpython-310\\matplotlib\\mpl-data\\stylelib\n",
      "  copying lib\\matplotlib\\mpl-data\\fonts\\pdfcorefonts\\Courier.afm -> build\\lib.win-amd64-cpython-310\\matplotlib\\mpl-data\\fonts\\pdfcorefonts\n",
      "  copying lib\\matplotlib\\mpl-data\\fonts\\pdfcorefonts\\Times-Roman.afm -> build\\lib.win-amd64-cpython-310\\matplotlib\\mpl-data\\fonts\\pdfcorefonts\n",
      "  copying lib\\matplotlib\\mpl-data\\stylelib\\seaborn-talk.mplstyle -> build\\lib.win-amd64-cpython-310\\matplotlib\\mpl-data\\stylelib\n",
      "  copying lib\\matplotlib\\backends\\web_backend\\css\\boilerplate.css -> build\\lib.win-amd64-cpython-310\\matplotlib\\backends\\web_backend\\css\n",
      "  copying lib\\matplotlib\\mpl-data\\fonts\\afm\\pplri8a.afm -> build\\lib.win-amd64-cpython-310\\matplotlib\\mpl-data\\fonts\\afm\n",
      "  copying lib\\matplotlib\\mpl-data\\sample_data\\aapl.npz -> build\\lib.win-amd64-cpython-310\\matplotlib\\mpl-data\\sample_data\n",
      "  copying lib\\matplotlib\\backends\\web_backend\\jquery\\js\\jquery.js -> build\\lib.win-amd64-cpython-310\\matplotlib\\backends\\web_backend\\jquery\\js\n",
      "  copying lib\\matplotlib\\mpl-data\\sample_data\\msft.csv -> build\\lib.win-amd64-cpython-310\\matplotlib\\mpl-data\\sample_data\n",
      "  copying lib\\matplotlib\\mpl-data\\fonts\\afm\\phvr8a.afm -> build\\lib.win-amd64-cpython-310\\matplotlib\\mpl-data\\fonts\\afm\n",
      "  copying lib\\matplotlib\\mpl-data\\fonts\\ttf\\DejaVuSansMono-Bold.ttf -> build\\lib.win-amd64-cpython-310\\matplotlib\\mpl-data\\fonts\\ttf\n",
      "  copying lib\\matplotlib\\mpl-data\\fonts\\afm\\putri8a.afm -> build\\lib.win-amd64-cpython-310\\matplotlib\\mpl-data\\fonts\\afm\n",
      "  creating build\\lib.win-amd64-cpython-310\\matplotlib\\mpl-data\\sample_data\\axes_grid\n",
      "  copying lib\\matplotlib\\mpl-data\\sample_data\\axes_grid\\bivariate_normal.npy -> build\\lib.win-amd64-cpython-310\\matplotlib\\mpl-data\\sample_data\\axes_grid\n",
      "  copying lib\\matplotlib\\mpl-data\\fonts\\ttf\\STIXGeneralBolIta.ttf -> build\\lib.win-amd64-cpython-310\\matplotlib\\mpl-data\\fonts\\ttf\n",
      "  copying lib\\matplotlib\\mpl-data\\images\\zoom_to_rect.pdf -> build\\lib.win-amd64-cpython-310\\matplotlib\\mpl-data\\images\n",
      "  copying lib\\matplotlib\\mpl-data\\fonts\\afm\\cmmi10.afm -> build\\lib.win-amd64-cpython-310\\matplotlib\\mpl-data\\fonts\\afm\n",
      "  copying lib\\matplotlib\\mpl-data\\images\\qt4_editor_options_large.png -> build\\lib.win-amd64-cpython-310\\matplotlib\\mpl-data\\images\n",
      "  copying lib\\matplotlib\\mpl-data\\fonts\\pdfcorefonts\\Helvetica-Oblique.afm -> build\\lib.win-amd64-cpython-310\\matplotlib\\mpl-data\\fonts\\pdfcorefonts\n",
      "  copying lib\\matplotlib\\mpl-data\\fonts\\afm\\pzcmi8a.afm -> build\\lib.win-amd64-cpython-310\\matplotlib\\mpl-data\\fonts\\afm\n",
      "  copying lib\\matplotlib\\mpl-data\\fonts\\afm\\putb8a.afm -> build\\lib.win-amd64-cpython-310\\matplotlib\\mpl-data\\fonts\\afm\n",
      "  copying lib\\matplotlib\\mpl-data\\fonts\\afm\\pcrb8a.afm -> build\\lib.win-amd64-cpython-310\\matplotlib\\mpl-data\\fonts\\afm\n",
      "  copying lib\\matplotlib\\mpl-data\\fonts\\ttf\\STIXSizFourSymReg.ttf -> build\\lib.win-amd64-cpython-310\\matplotlib\\mpl-data\\fonts\\ttf\n",
      "  copying lib\\matplotlib\\mpl-data\\sample_data\\data_x_x2_x3.csv -> build\\lib.win-amd64-cpython-310\\matplotlib\\mpl-data\\sample_data\n",
      "  copying lib\\matplotlib\\mpl-data\\sample_data\\goog.npz -> build\\lib.win-amd64-cpython-310\\matplotlib\\mpl-data\\sample_data\n",
      "  copying lib\\matplotlib\\mpl-data\\fonts\\afm\\pcrro8a.afm -> build\\lib.win-amd64-cpython-310\\matplotlib\\mpl-data\\fonts\\afm\n",
      "  copying lib\\matplotlib\\mpl-data\\fonts\\ttf\\cmtt10.ttf -> build\\lib.win-amd64-cpython-310\\matplotlib\\mpl-data\\fonts\\ttf\n",
      "  copying lib\\matplotlib\\mpl-data\\fonts\\afm\\pbkdi8a.afm -> build\\lib.win-amd64-cpython-310\\matplotlib\\mpl-data\\fonts\\afm\n",
      "  copying lib\\matplotlib\\backends\\web_backend\\single_figure.html -> build\\lib.win-amd64-cpython-310\\matplotlib\\backends\\web_backend\n",
      "  copying lib\\matplotlib\\mpl-data\\fonts\\afm\\psyr.afm -> build\\lib.win-amd64-cpython-310\\matplotlib\\mpl-data\\fonts\\afm\n",
      "  copying lib\\matplotlib\\mpl-data\\fonts\\afm\\pzdr.afm -> build\\lib.win-amd64-cpython-310\\matplotlib\\mpl-data\\fonts\\afm\n",
      "  copying lib\\matplotlib\\mpl-data\\images\\hand.png -> build\\lib.win-amd64-cpython-310\\matplotlib\\mpl-data\\images\n",
      "  copying lib\\matplotlib\\mpl-data\\stylelib\\classic.mplstyle -> build\\lib.win-amd64-cpython-310\\matplotlib\\mpl-data\\stylelib\n",
      "  copying lib\\matplotlib\\mpl-data\\stylelib\\seaborn-bright.mplstyle -> build\\lib.win-amd64-cpython-310\\matplotlib\\mpl-data\\stylelib\n",
      "  copying lib\\matplotlib\\backends\\web_backend\\jquery-ui-1.12.1\\jquery-ui.structure.min.css -> build\\lib.win-amd64-cpython-310\\matplotlib\\backends\\web_backend\\jquery-ui-1.12.1\n",
      "  copying lib\\matplotlib\\mpl-data\\images\\back.png -> build\\lib.win-amd64-cpython-310\\matplotlib\\mpl-data\\images\n",
      "  copying lib\\matplotlib\\mpl-data\\stylelib\\ggplot.mplstyle -> build\\lib.win-amd64-cpython-310\\matplotlib\\mpl-data\\stylelib\n",
      "  copying lib\\matplotlib\\mpl-data\\fonts\\ttf\\DejaVuSansMono-BoldOblique.ttf -> build\\lib.win-amd64-cpython-310\\matplotlib\\mpl-data\\fonts\\ttf\n",
      "  copying lib\\matplotlib\\backends\\web_backend\\ipython_inline_figure.html -> build\\lib.win-amd64-cpython-310\\matplotlib\\backends\\web_backend\n",
      "  copying lib\\matplotlib\\mpl-data\\images\\home.pdf -> build\\lib.win-amd64-cpython-310\\matplotlib\\mpl-data\\images\n",
      "  copying lib\\matplotlib\\mpl-data\\fonts\\pdfcorefonts\\Times-BoldItalic.afm -> build\\lib.win-amd64-cpython-310\\matplotlib\\mpl-data\\fonts\\pdfcorefonts\n",
      "  copying lib\\matplotlib\\mpl-data\\fonts\\ttf\\STIXSizTwoSymBol.ttf -> build\\lib.win-amd64-cpython-310\\matplotlib\\mpl-data\\fonts\\ttf\n",
      "  copying lib\\matplotlib\\mpl-data\\fonts\\pdfcorefonts\\Times-Italic.afm -> build\\lib.win-amd64-cpython-310\\matplotlib\\mpl-data\\fonts\\pdfcorefonts\n",
      "  copying lib\\matplotlib\\mpl-data\\images\\hand.gif -> build\\lib.win-amd64-cpython-310\\matplotlib\\mpl-data\\images\n",
      "  copying lib\\matplotlib\\backends\\web_backend\\jquery-ui-1.12.1\\AUTHORS.txt -> build\\lib.win-amd64-cpython-310\\matplotlib\\backends\\web_backend\\jquery-ui-1.12.1\n",
      "  creating build\\lib.win-amd64-cpython-310\\matplotlib\\backends\\web_backend\\jquery-ui-1.12.1\\external\n",
      "  creating build\\lib.win-amd64-cpython-310\\matplotlib\\backends\\web_backend\\jquery-ui-1.12.1\\external\\jquery\n",
      "  copying lib\\matplotlib\\backends\\web_backend\\jquery-ui-1.12.1\\external\\jquery\\jquery.js -> build\\lib.win-amd64-cpython-310\\matplotlib\\backends\\web_backend\\jquery-ui-1.12.1\\external\\jquery\n",
      "  copying lib\\matplotlib\\mpl-data\\images\\zoom_to_rect.gif -> build\\lib.win-amd64-cpython-310\\matplotlib\\mpl-data\\images\n",
      "  copying lib\\matplotlib\\mpl-data\\fonts\\ttf\\cmb10.ttf -> build\\lib.win-amd64-cpython-310\\matplotlib\\mpl-data\\fonts\\ttf\n",
      "  copying lib\\matplotlib\\mpl-data\\fonts\\pdfcorefonts\\Times-Bold.afm -> build\\lib.win-amd64-cpython-310\\matplotlib\\mpl-data\\fonts\\pdfcorefonts\n",
      "  copying lib\\matplotlib\\backends\\web_backend\\nbagg_uat.ipynb -> build\\lib.win-amd64-cpython-310\\matplotlib\\backends\\web_backend\n",
      "  copying lib\\matplotlib\\mpl-data\\fonts\\afm\\pbkli8a.afm -> build\\lib.win-amd64-cpython-310\\matplotlib\\mpl-data\\fonts\\afm\n",
      "  copying lib\\matplotlib\\mpl-data\\fonts\\ttf\\DejaVuSans-Bold.ttf -> build\\lib.win-amd64-cpython-310\\matplotlib\\mpl-data\\fonts\\ttf\n",
      "  copying lib\\matplotlib\\mpl-data\\fonts\\ttf\\STIXNonUniBolIta.ttf -> build\\lib.win-amd64-cpython-310\\matplotlib\\mpl-data\\fonts\\ttf\n",
      "  copying lib\\matplotlib\\mpl-data\\fonts\\afm\\pplb8a.afm -> build\\lib.win-amd64-cpython-310\\matplotlib\\mpl-data\\fonts\\afm\n",
      "  copying lib\\matplotlib\\mpl-data\\stylelib\\seaborn-darkgrid.mplstyle -> build\\lib.win-amd64-cpython-310\\matplotlib\\mpl-data\\stylelib\n",
      "  copying lib\\matplotlib\\backends\\web_backend\\jquery-ui-1.12.1\\jquery-ui.css -> build\\lib.win-amd64-cpython-310\\matplotlib\\backends\\web_backend\\jquery-ui-1.12.1\n",
      "  copying lib\\matplotlib\\mpl-data\\fonts\\ttf\\STIXSizOneSymBol.ttf -> build\\lib.win-amd64-cpython-310\\matplotlib\\mpl-data\\fonts\\ttf\n",
      "  copying lib\\matplotlib\\mpl-data\\images\\back.pdf -> build\\lib.win-amd64-cpython-310\\matplotlib\\mpl-data\\images\n",
      "  copying lib\\matplotlib\\mpl-data\\fonts\\ttf\\DejaVuSans.ttf -> build\\lib.win-amd64-cpython-310\\matplotlib\\mpl-data\\fonts\\ttf\n",
      "  copying lib\\matplotlib\\mpl-data\\sample_data\\README.txt -> build\\lib.win-amd64-cpython-310\\matplotlib\\mpl-data\\sample_data\n",
      "  copying lib\\matplotlib\\mpl-data\\fonts\\afm\\cmtt10.afm -> build\\lib.win-amd64-cpython-310\\matplotlib\\mpl-data\\fonts\\afm\n",
      "  copying lib\\matplotlib\\mpl-data\\fonts\\afm\\pncb8a.afm -> build\\lib.win-amd64-cpython-310\\matplotlib\\mpl-data\\fonts\\afm\n",
      "  copying lib\\matplotlib\\mpl-data\\fonts\\afm\\phvl8a.afm -> build\\lib.win-amd64-cpython-310\\matplotlib\\mpl-data\\fonts\\afm\n",
      "  copying lib\\matplotlib\\mpl-data\\images\\help.ppm -> build\\lib.win-amd64-cpython-310\\matplotlib\\mpl-data\\images\n",
      "  copying lib\\matplotlib\\mpl-data\\sample_data\\logo2.png -> build\\lib.win-amd64-cpython-310\\matplotlib\\mpl-data\\sample_data\n",
      "  copying lib\\matplotlib\\mpl-data\\images\\move_large.gif -> build\\lib.win-amd64-cpython-310\\matplotlib\\mpl-data\\images\n",
      "  copying lib\\matplotlib\\mpl-data\\fonts\\afm\\phvr8an.afm -> build\\lib.win-amd64-cpython-310\\matplotlib\\mpl-data\\fonts\\afm\n",
      "  copying lib\\matplotlib\\mpl-data\\images\\filesave_large.gif -> build\\lib.win-amd64-cpython-310\\matplotlib\\mpl-data\\images\n",
      "  copying lib\\matplotlib\\mpl-data\\images\\zoom_to_rect.svg -> build\\lib.win-amd64-cpython-310\\matplotlib\\mpl-data\\images\n",
      "  copying lib\\matplotlib\\mpl-data\\fonts\\ttf\\DejaVuSerif-BoldItalic.ttf -> build\\lib.win-amd64-cpython-310\\matplotlib\\mpl-data\\fonts\\ttf\n",
      "  copying lib\\matplotlib\\backends\\web_backend\\jquery-ui-1.12.1\\images\\ui-icons_ffffff_256x240.png -> build\\lib.win-amd64-cpython-310\\matplotlib\\backends\\web_backend\\jquery-ui-1.12.1\\images\n",
      "  copying lib\\matplotlib\\mpl-data\\sample_data\\demodata.csv -> build\\lib.win-amd64-cpython-310\\matplotlib\\mpl-data\\sample_data\n",
      "  copying lib\\matplotlib\\mpl-data\\sample_data\\embedding_in_wx3.xrc -> build\\lib.win-amd64-cpython-310\\matplotlib\\mpl-data\\sample_data\n",
      "  copying lib\\matplotlib\\mpl-data\\fonts\\ttf\\LICENSE_DEJAVU -> build\\lib.win-amd64-cpython-310\\matplotlib\\mpl-data\\fonts\\ttf\n",
      "  copying lib\\matplotlib\\mpl-data\\fonts\\pdfcorefonts\\ZapfDingbats.afm -> build\\lib.win-amd64-cpython-310\\matplotlib\\mpl-data\\fonts\\pdfcorefonts\n",
      "  copying lib\\matplotlib\\mpl-data\\fonts\\afm\\pbkl8a.afm -> build\\lib.win-amd64-cpython-310\\matplotlib\\mpl-data\\fonts\\afm\n",
      "  copying lib\\matplotlib\\mpl-data\\images\\move.svg -> build\\lib.win-amd64-cpython-310\\matplotlib\\mpl-data\\images\n",
      "  copying lib\\matplotlib\\mpl-data\\fonts\\afm\\pplr8a.afm -> build\\lib.win-amd64-cpython-310\\matplotlib\\mpl-data\\fonts\\afm\n",
      "  copying lib\\matplotlib\\mpl-data\\stylelib\\dark_background.mplstyle -> build\\lib.win-amd64-cpython-310\\matplotlib\\mpl-data\\stylelib\n",
      "  copying lib\\matplotlib\\backends\\web_backend\\jquery-ui-1.12.1\\jquery-ui.min.css -> build\\lib.win-amd64-cpython-310\\matplotlib\\backends\\web_backend\\jquery-ui-1.12.1\n",
      "  copying lib\\matplotlib\\mpl-data\\fonts\\afm\\phvro8an.afm -> build\\lib.win-amd64-cpython-310\\matplotlib\\mpl-data\\fonts\\afm\n",
      "  copying lib\\matplotlib\\mpl-data\\fonts\\afm\\ptmbi8a.afm -> build\\lib.win-amd64-cpython-310\\matplotlib\\mpl-data\\fonts\\afm\n",
      "  copying lib\\matplotlib\\mpl-data\\images\\zoom_to_rect.png -> build\\lib.win-amd64-cpython-310\\matplotlib\\mpl-data\\images\n",
      "  copying lib\\matplotlib\\mpl-data\\sample_data\\grace_hopper.jpg -> build\\lib.win-amd64-cpython-310\\matplotlib\\mpl-data\\sample_data\n",
      "  copying lib\\matplotlib\\backends\\web_backend\\jquery-ui-1.12.1\\images\\ui-icons_cc0000_256x240.png -> build\\lib.win-amd64-cpython-310\\matplotlib\\backends\\web_backend\\jquery-ui-1.12.1\\images\n",
      "  copying lib\\matplotlib\\mpl-data\\fonts\\ttf\\DejaVuSerif-Italic.ttf -> build\\lib.win-amd64-cpython-310\\matplotlib\\mpl-data\\fonts\\ttf\n",
      "  copying lib\\matplotlib\\mpl-data\\fonts\\ttf\\cmr10.ttf -> build\\lib.win-amd64-cpython-310\\matplotlib\\mpl-data\\fonts\\ttf\n",
      "  copying lib\\matplotlib\\mpl-data\\fonts\\afm\\pncri8a.afm -> build\\lib.win-amd64-cpython-310\\matplotlib\\mpl-data\\fonts\\afm\n",
      "  copying lib\\matplotlib\\mpl-data\\fonts\\afm\\phvro8a.afm -> build\\lib.win-amd64-cpython-310\\matplotlib\\mpl-data\\fonts\\afm\n",
      "  copying lib\\matplotlib\\mpl-data\\fonts\\pdfcorefonts\\Helvetica-Bold.afm -> build\\lib.win-amd64-cpython-310\\matplotlib\\mpl-data\\fonts\\pdfcorefonts\n",
      "  copying lib\\matplotlib\\mpl-data\\fonts\\afm\\pcrbo8a.afm -> build\\lib.win-amd64-cpython-310\\matplotlib\\mpl-data\\fonts\\afm\n",
      "  copying lib\\matplotlib\\mpl-data\\images\\filesave.pdf -> build\\lib.win-amd64-cpython-310\\matplotlib\\mpl-data\\images\n",
      "  UPDATING build\\lib.win-amd64-cpython-310\\matplotlib\\_version.py\n",
      "  set build\\lib.win-amd64-cpython-310\\matplotlib\\_version.py to '3.1.1'\n",
      "  running build_ext\n",
      "  building 'matplotlib.ft2font' extension\n",
      "  error: Microsoft Visual C++ 14.0 or greater is required. Get it with \"Microsoft C++ Build Tools\": https://visualstudio.microsoft.com/visual-cpp-build-tools/\n",
      "  [end of output]\n",
      "  \n",
      "  note: This error originates from a subprocess, and is likely not a problem with pip.\n",
      "  ERROR: Failed building wheel for matplotlib\n",
      "ERROR: Could not build wheels for matplotlib, which is required to install pyproject.toml-based projects\n"
     ]
    }
   ],
   "source": [
    "!pip install plotly==5.5.0\n",
    "!pip install pandas==0.25.1\n",
    "!pip install numpy==1.14.5\n",
    "!pip install matplotlib==3.1.1"
   ]
  },
  {
   "cell_type": "code",
   "execution_count": 56,
   "id": "1529ba34",
   "metadata": {
    "colab": {
     "referenced_widgets": [
      "5b5a477e8c984f25920305ba8e83e886",
      ""
     ]
    },
    "execution": {
     "iopub.execute_input": "2023-01-07T18:24:46.316458Z",
     "iopub.status.busy": "2023-01-07T18:24:46.316182Z",
     "iopub.status.idle": "2023-01-07T18:24:49.643127Z",
     "shell.execute_reply": "2023-01-07T18:24:49.642084Z",
     "shell.execute_reply.started": "2023-01-07T18:24:46.316426Z"
    },
    "id": "1529ba34",
    "outputId": "54cc02fe-fafd-4a07-e26a-a2342ca18fc8"
   },
   "outputs": [],
   "source": [
    "from pyspark.sql import functions as F\n",
    "from pyspark.ml.feature import Bucketizer\n",
    "\n",
    "import matplotlib.pyplot as plt\n",
    "import pandas as pd\n",
    "import numpy as np\n",
    "\n",
    "# Import for typecasting columns\n",
    "from pyspark.sql.types import IntegerType,BooleanType,DateType,FloatType,StringType\n",
    "from pyspark.sql.types import ArrayType"
   ]
  },
  {
   "cell_type": "markdown",
   "id": "fcbf57cc",
   "metadata": {
    "id": "fcbf57cc"
   },
   "source": [
    "## <font color = BLUE >  Defining Custom Functions  </font>"
   ]
  },
  {
   "cell_type": "code",
   "execution_count": 57,
   "id": "4d1f3522",
   "metadata": {
    "colab": {
     "referenced_widgets": [
      "d067b6cb18904e84965b86147bbcec84",
      ""
     ]
    },
    "execution": {
     "iopub.execute_input": "2023-01-07T18:24:52.526539Z",
     "iopub.status.busy": "2023-01-07T18:24:52.526215Z",
     "iopub.status.idle": "2023-01-07T18:24:52.603054Z",
     "shell.execute_reply": "2023-01-07T18:24:52.602112Z",
     "shell.execute_reply.started": "2023-01-07T18:24:52.526485Z"
    },
    "id": "4d1f3522",
    "outputId": "fdfad08d-6937-408c-9259-7d680dc15416"
   },
   "outputs": [],
   "source": [
    "def get_quantiles(df, col_name, quantiles_list = [0.01, 0.25, 0.5, 0.75, 0.99]):\n",
    "    \"\"\"\n",
    "    Takes a numerical column and returns column values at requested quantiles\n",
    "\n",
    "    Inputs \n",
    "    Argument 1: Dataframe\n",
    "    Argument 2: Name of the column\n",
    "    Argument 3: A list of quantiles you want to find. Default value [0.01, 0.25, 0.5, 0.75, 0.99]\n",
    "\n",
    "    Output \n",
    "    Returns a dictionary with quantiles as keys and column quantile values as values \n",
    "    \"\"\"\n",
    "    # Get min, max and quantile values for given column\n",
    "    min_val = df.agg(F.min(col_name)).first()[0]\n",
    "    max_val = df.agg(F.max(col_name)).first()[0]\n",
    "    quantiles_vals = df.approxQuantile(col_name,\n",
    "                                       quantiles_list,\n",
    "                                       0)\n",
    "  \n",
    "    # Store min, quantiles and max in output dict, sequentially\n",
    "    quantiles_dict = {0.0:min_val}\n",
    "    quantiles_dict.update(dict(zip(quantiles_list, quantiles_vals)))\n",
    "    quantiles_dict.update({1.0:max_val})\n",
    "    return(quantiles_dict)"
   ]
  },
  {
   "cell_type": "code",
   "execution_count": 58,
   "id": "32be0b8c",
   "metadata": {
    "colab": {
     "referenced_widgets": [
      "288a0607a5ac4818b5d8709fb419efff",
      ""
     ]
    },
    "execution": {
     "iopub.execute_input": "2023-01-07T18:24:57.448662Z",
     "iopub.status.busy": "2023-01-07T18:24:57.448351Z",
     "iopub.status.idle": "2023-01-07T18:24:57.550052Z",
     "shell.execute_reply": "2023-01-07T18:24:57.549266Z",
     "shell.execute_reply.started": "2023-01-07T18:24:57.448628Z"
    },
    "id": "32be0b8c",
    "outputId": "e1432eed-f840-4d7f-a0be-d0491e63ad26"
   },
   "outputs": [],
   "source": [
    "def plot_bucketwise_statistics (summary, bucketizer):\n",
    "    \"\"\"\n",
    "    Takes in a dataframe and a bucketizer object and plots the summary statistics for each bucket in the dataframe. \n",
    "  \n",
    "    Inputs\n",
    "    Argument 1: Pandas dataframe obtained from bucket_col_print_summary function \n",
    "    Argument 2: Bucketizer object obtained from bucket_col_print_summary function\n",
    "  \n",
    "    Output\n",
    "    Displays a plot of bucketwise average ratings nunber of ratings of a parameter.   \n",
    "    \"\"\"\n",
    "    # Creating bucket labels from splits\n",
    "    classlist = bucketizer.getSplits()\n",
    "    number_of_classes = len(classlist) - 1\n",
    "\n",
    "    class_labels = []\n",
    "    hover_labels = []\n",
    "    for i in range (number_of_classes):\n",
    "        hover_labels.append(str(classlist[i])+\"-\"+str(classlist[i+1]) +\" (Bucket name: \"+ str(int(i)) +\")\"  )\n",
    "        class_labels.append(str(classlist[i])+\"-\"+str(classlist[i+1]) )\n",
    "  \n",
    "    summary[\"Scaled_number\"] = (summary[\"n_ratings\"]-summary[\"n_ratings\"].min())/(summary[\"n_ratings\"].max()-summary[\"n_ratings\"].min()) + 1.5\n",
    "    summary['Bucket_Names'] = class_labels\n",
    "  \n",
    "    # making plot\n",
    "    x = summary[\"Bucket_Names\"]\n",
    "    y1 = summary[\"avg_rating\"]\n",
    "    y2 = summary[\"n_ratings\"]\n",
    "    err = summary[\"stddev_rating\"]  \n",
    "\n",
    "    # Plot scatter here\n",
    "    plt.rcParams[\"figure.figsize\"] = [summary.shape[0]+2, 6.0]\n",
    "    plt.rcParams[\"figure.autolayout\"] = True\n",
    "    fig, ax1 = plt.subplots()\n",
    "\n",
    "    bar = ax1.bar(x, y1, color = \"#262261\")\n",
    "    ax1.errorbar(x, y1, yerr=err, fmt=\"o\", color=\"#EE4036\")\n",
    "    ax1.set(ylim=(0, 7))\n",
    "  \n",
    "    #ax1.bar_label(bar , fmt='%.2f', label_type='edge')  \n",
    "    def barlabel(x_list,y_list):\n",
    "        for i in range(len(x_list)):\n",
    "            ax1.text(i,y_list[i] + 0.2,y_list[i], ha = 'center',\n",
    "  \t\t\t         fontdict=dict(size=10),\n",
    "  \t\t\t         bbox=dict(facecolor='#262261', alpha=0.2)         \n",
    "  \t\t\t        )\n",
    "    barlabel(summary[\"Bucket_Names\"].tolist() ,summary[\"avg_rating\"].round(2).tolist())\n",
    "  \n",
    "    ax2 = ax1.twinx()\n",
    "    ax2.scatter(x, y2, s=summary[\"Scaled_number\"]*500, c = '#FAAF40')  \n",
    "    ax2.set(ylim=(0, summary[\"n_ratings\"].max()*1.15))\n",
    "    def scatterlabel(x_list,y_list):\n",
    "  \t    for i in range(len(x_list)):\n",
    "  \t\t    ax2.text(i,y_list[i] + 15000,y_list[i], ha = 'center',\n",
    "  \t\t\t\t\t fontdict=dict(size=10),\n",
    "                     bbox=dict(facecolor='#FAAF40', alpha=0.5)\n",
    "  \t\t\t\t\t)\n",
    "    scatterlabel(summary[\"Bucket_Names\"].tolist() ,summary[\"n_ratings\"].tolist())\n",
    "  \n",
    "    # giving labels to the axises\n",
    "    ax1.set_xlabel(bucketizer.getOutputCol(), fontdict=dict(size=14)) \n",
    "    ax1.set_ylabel(\"Average Ratings\",fontdict=dict(size=14))\n",
    "  \n",
    "    # secondary y-axis label\n",
    "    ax2.set_ylabel('Number of Ratings',fontdict=dict(size=14))\n",
    "  \n",
    "    #plot Title\n",
    "    plt.title('Bucketwise average ratings and number of ratings for \\n'+bucketizer.getInputCol(), \n",
    "              fontdict=dict(size=14))  "
   ]
  },
  {
   "cell_type": "code",
   "execution_count": 59,
   "id": "0075f12c",
   "metadata": {
    "colab": {
     "referenced_widgets": [
      "99cd244724af467aa6b25b2195c59ef0",
      ""
     ]
    },
    "execution": {
     "iopub.execute_input": "2023-01-07T18:25:05.029130Z",
     "iopub.status.busy": "2023-01-07T18:25:05.028783Z",
     "iopub.status.idle": "2023-01-07T18:25:05.104448Z",
     "shell.execute_reply": "2023-01-07T18:25:05.103748Z",
     "shell.execute_reply.started": "2023-01-07T18:25:05.029096Z"
    },
    "id": "0075f12c",
    "outputId": "d1a3422f-4854-47e2-c917-7f9c177d2121"
   },
   "outputs": [],
   "source": [
    "def bucket_col_print_summary(df, splits, inputCol, outputCol):\n",
    "    \"\"\"\n",
    "    Given a numerical column in a data frame, adds a bucketized version of the column to the data frame, according to splits provided.\n",
    "    Also prints a summary of ratings seen in each bucket made.\n",
    "\n",
    "    Inputs \n",
    "    Argument 1: Data Frame \n",
    "    Argument 2: Values at which the column will be split\n",
    "    Argument 3: Name of the input column (numerical column)\n",
    "    Argument 4: Name of the output column (bucketized numerical column)\n",
    "\n",
    "    Output: \n",
    "    1) New dataframe with the output column added\n",
    "    2) Bucketizer object trained from the input column \n",
    "    3) Pandas dataframe with summary statistics for ratings seen in buckets of the output column\n",
    "    Also plots summary statistics for ratings seen in buckets of the output column\n",
    "    \"\"\"\n",
    "\n",
    "    # Dropping bucket if it already exists\n",
    "    if outputCol in df.columns:\n",
    "        df = df.drop(outputCol)\n",
    "\n",
    "    # Training bucketizer\n",
    "    bucketizer = Bucketizer(splits = splits,\n",
    "                            inputCol  = inputCol,\n",
    "                            outputCol = outputCol)\n",
    "    \n",
    "    df = bucketizer.setHandleInvalid(\"keep\").transform(df)\n",
    "\n",
    "    # Printing meta information on buckets created\n",
    "    print(\"Added bucketized column {}\".format(outputCol))\n",
    "    print(\"\")\n",
    "    print(\"Bucketing done for split definition: {}\".format(splits))\n",
    "    print(\"\")  \n",
    "    print(\"Printing summary statistics for ratings in buckets below:\")\n",
    "\n",
    "    # Creating a summary statistics dataframe and passing it to the plotting function\n",
    "    summary =  (df\n",
    "                .groupBy(outputCol)\n",
    "                .agg(F.avg('rating').alias('avg_rating'),\n",
    "                     F.stddev('rating').alias('stddev_rating'),\n",
    "                     F.count('rating').alias('n_ratings'))\n",
    "                .sort(outputCol)\n",
    "                .toPandas())\n",
    "  \n",
    "    plot_bucketwise_statistics(summary,bucketizer)\n",
    "  \n",
    "    return df, bucketizer, summary"
   ]
  },
  {
   "cell_type": "code",
   "execution_count": 60,
   "id": "0f166698",
   "metadata": {
    "colab": {
     "referenced_widgets": [
      "4916a58e39d748dc862e4faa8ded903c",
      ""
     ]
    },
    "execution": {
     "iopub.execute_input": "2023-01-07T18:25:10.690235Z",
     "iopub.status.busy": "2023-01-07T18:25:10.689950Z",
     "iopub.status.idle": "2023-01-07T18:25:10.763304Z",
     "shell.execute_reply": "2023-01-07T18:25:10.762457Z",
     "shell.execute_reply.started": "2023-01-07T18:25:10.690203Z"
    },
    "id": "0f166698",
    "outputId": "386fd9ba-bb27-49b8-9142-fa5a247c23dc"
   },
   "outputs": [],
   "source": [
    "def get_column_distribution_summary(df, col_name):\n",
    "    \"\"\"\n",
    "    Takes a column in a data frame and prints the summary statistics (average, standard deviation, count and distinct count) for all unique values in that column.\n",
    "  \n",
    "    Inputs \n",
    "    Argument 1: Dataframe \n",
    "    Argument 2: Name of the column\n",
    "  \n",
    "    Output\n",
    "    Returns nothing \n",
    "    Prints a Dataframe with summary statistics\n",
    "    \"\"\"\n",
    "    print(df\n",
    "          .groupBy(col_name)\n",
    "          .agg(F.avg('rating').alias('avg_rating'),\n",
    "               F.stddev('rating').alias('stddev_rating'),\n",
    "               F.count('rating').alias('n_ratings'),\n",
    "               F.countDistinct('id').alias('n_recipes'))\n",
    "          .sort(F.col(col_name).asc())\n",
    "          .show(50))"
   ]
  },
  {
   "cell_type": "code",
   "execution_count": 61,
   "id": "f4cc0014",
   "metadata": {
    "colab": {
     "referenced_widgets": [
      "17fd9a74b5bb425d8eb21bdd402a62fd",
      ""
     ]
    },
    "execution": {
     "iopub.execute_input": "2023-01-07T18:25:12.485228Z",
     "iopub.status.busy": "2023-01-07T18:25:12.484941Z",
     "iopub.status.idle": "2023-01-07T18:25:12.558964Z",
     "shell.execute_reply": "2023-01-07T18:25:12.558128Z",
     "shell.execute_reply.started": "2023-01-07T18:25:12.485195Z"
    },
    "id": "f4cc0014",
    "outputId": "d526bd30-1b83-4313-e317-4ac9c0758969"
   },
   "outputs": [],
   "source": [
    "def get_n_items_satisfying_condition (df, condition, aggregation_level = \"recipe\"):\n",
    "    \"\"\"\n",
    "    Given a condition, find the number of recipes / reviews that match the condition.\n",
    "    Also calculates the percentage of such recipes / reviews as a percentage of all recipes / reviews.\n",
    "  \n",
    "    Inputs \n",
    "    Argument 1: Dataframe \n",
    "    Argument 2: Logical expression describing a condition, string type. eg: \"minutes == 0\"\n",
    "    Argument 3: Aggregation level for determining \"items\", either  \"recipe\" or \"review\". Default value == \"recipe\"\n",
    "  \n",
    "    Output: Returns no object.\n",
    "    Prints the following:\n",
    "    1) Number of recipes / reviews that satisfy the condition\n",
    "    2) Total number of recipes / reviews in the dataframe\n",
    "    3) Percentage of recipes / reviews that satisfy the condition\n",
    "    \"\"\"\n",
    "    # Find out num rows satisfying the condition\n",
    "    if aggregation_level == \"recipe\": \n",
    "        number_of_rows_satisfying_condition = (df\n",
    "                                             .filter(condition)\n",
    "                                             .agg(F.countDistinct(\"id\"))).first()[0]\n",
    "      \n",
    "        n_rows_total = (df.agg(F.countDistinct(\"id\"))).first()[0]\n",
    "    if aggregation_level == \"review\":\n",
    "        number_of_rows_satisfying_condition = (df\n",
    "                                             .filter(condition)\n",
    "                                             .agg(F.countDistinct(\"id\",\"user_id\"))).first()[0]\n",
    "        n_rows_total = (df.agg(F.countDistinct(\"id\",\"user_id\"))).first()[0]\n",
    "  \n",
    "    # Find out % rows satisfying the conditon and print a properly formatted output\n",
    "    perc_rows = round(number_of_rows_satisfying_condition * 100/ n_rows_total, 2)\n",
    "    print('Condition String                   : \"{}\"'.format(condition))\n",
    "    print(\"Num {}s Satisfying Condition   : {} [{}%]\".format(aggregation_level.title(), number_of_rows_satisfying_condition, perc_rows))\n",
    "    print(\"Total Num {}s                  : {}\".format(aggregation_level.title(), n_rows_total))"
   ]
  },
  {
   "cell_type": "markdown",
   "id": "cba09b6a",
   "metadata": {
    "id": "cba09b6a"
   },
   "source": [
    "## <font color = BLUE >  Read the data  </font>"
   ]
  },
  {
   "cell_type": "markdown",
   "id": "dd871481",
   "metadata": {
    "id": "dd871481"
   },
   "source": [
    "- Read interaction_level_df_processed"
   ]
  },
  {
   "cell_type": "code",
   "execution_count": 62,
   "id": "bbb96f11",
   "metadata": {},
   "outputs": [],
   "source": [
    "spark.stop()  # Stop the current Spark session\n",
    "spark = SparkSession.builder.appName(\"RecipeRecommendation\").getOrCreate()\n",
    "  # Start a new Spark session\n"
   ]
  },
  {
   "cell_type": "code",
   "execution_count": 63,
   "id": "2435d5bf",
   "metadata": {},
   "outputs": [],
   "source": [
    "# Stop the current Spark session\n",
    "spark.stop()\n",
    "\n",
    "# Set HADOOP_HOME environment variable\n",
    "import os\n",
    "os.environ['HADOOP_HOME'] = 'C:\\\\Hadoop'  # Adjust the path according to your Hadoop installation\n",
    "\n",
    "# Start a new Spark session\n",
    "spark = SparkSession.builder.appName(\"RecipeRecommendation\").getOrCreate()\n"
   ]
  },
  {
   "cell_type": "code",
   "execution_count": 64,
   "id": "f764155f",
   "metadata": {},
   "outputs": [
    {
     "name": "stdout",
     "output_type": "stream",
     "text": [
      "Error reading Parquet file: An error occurred while calling o511.parquet.\n",
      ": java.lang.UnsatisfiedLinkError: org.apache.hadoop.io.nativeio.NativeIO$Windows.access0(Ljava/lang/String;I)Z\r\n",
      "\tat org.apache.hadoop.io.nativeio.NativeIO$Windows.access0(Native Method)\r\n",
      "\tat org.apache.hadoop.io.nativeio.NativeIO$Windows.access(NativeIO.java:793)\r\n",
      "\tat org.apache.hadoop.fs.FileUtil.canRead(FileUtil.java:1249)\r\n",
      "\tat org.apache.hadoop.fs.FileUtil.list(FileUtil.java:1454)\r\n",
      "\tat org.apache.hadoop.fs.RawLocalFileSystem.listStatus(RawLocalFileSystem.java:601)\r\n",
      "\tat org.apache.hadoop.fs.FileSystem.listStatus(FileSystem.java:1972)\r\n",
      "\tat org.apache.hadoop.fs.FileSystem.listStatus(FileSystem.java:2014)\r\n",
      "\tat org.apache.hadoop.fs.ChecksumFileSystem.listStatus(ChecksumFileSystem.java:761)\r\n",
      "\tat org.apache.spark.util.HadoopFSUtils$.listLeafFiles(HadoopFSUtils.scala:180)\r\n",
      "\tat org.apache.spark.util.HadoopFSUtils$.$anonfun$parallelListLeafFilesInternal$1(HadoopFSUtils.scala:95)\r\n",
      "\tat scala.collection.TraversableLike.$anonfun$map$1(TraversableLike.scala:286)\r\n",
      "\tat scala.collection.mutable.ResizableArray.foreach(ResizableArray.scala:62)\r\n",
      "\tat scala.collection.mutable.ResizableArray.foreach$(ResizableArray.scala:55)\r\n",
      "\tat scala.collection.mutable.ArrayBuffer.foreach(ArrayBuffer.scala:49)\r\n",
      "\tat scala.collection.TraversableLike.map(TraversableLike.scala:286)\r\n",
      "\tat scala.collection.TraversableLike.map$(TraversableLike.scala:279)\r\n",
      "\tat scala.collection.AbstractTraversable.map(Traversable.scala:108)\r\n",
      "\tat org.apache.spark.util.HadoopFSUtils$.parallelListLeafFilesInternal(HadoopFSUtils.scala:85)\r\n",
      "\tat org.apache.spark.util.HadoopFSUtils$.parallelListLeafFiles(HadoopFSUtils.scala:69)\r\n",
      "\tat org.apache.spark.sql.execution.datasources.InMemoryFileIndex$.bulkListLeafFiles(InMemoryFileIndex.scala:162)\r\n",
      "\tat org.apache.spark.sql.execution.datasources.InMemoryFileIndex.listLeafFiles(InMemoryFileIndex.scala:133)\r\n",
      "\tat org.apache.spark.sql.execution.datasources.InMemoryFileIndex.refresh0(InMemoryFileIndex.scala:96)\r\n",
      "\tat org.apache.spark.sql.execution.datasources.InMemoryFileIndex.<init>(InMemoryFileIndex.scala:68)\r\n",
      "\tat org.apache.spark.sql.execution.datasources.DataSource.createInMemoryFileIndex(DataSource.scala:539)\r\n",
      "\tat org.apache.spark.sql.execution.datasources.DataSource.resolveRelation(DataSource.scala:405)\r\n",
      "\tat org.apache.spark.sql.DataFrameReader.loadV1Source(DataFrameReader.scala:229)\r\n",
      "\tat org.apache.spark.sql.DataFrameReader.$anonfun$load$2(DataFrameReader.scala:211)\r\n",
      "\tat scala.Option.getOrElse(Option.scala:189)\r\n",
      "\tat org.apache.spark.sql.DataFrameReader.load(DataFrameReader.scala:211)\r\n",
      "\tat org.apache.spark.sql.DataFrameReader.parquet(DataFrameReader.scala:563)\r\n",
      "\tat sun.reflect.NativeMethodAccessorImpl.invoke0(Native Method)\r\n",
      "\tat sun.reflect.NativeMethodAccessorImpl.invoke(Unknown Source)\r\n",
      "\tat sun.reflect.DelegatingMethodAccessorImpl.invoke(Unknown Source)\r\n",
      "\tat java.lang.reflect.Method.invoke(Unknown Source)\r\n",
      "\tat py4j.reflection.MethodInvoker.invoke(MethodInvoker.java:244)\r\n",
      "\tat py4j.reflection.ReflectionEngine.invoke(ReflectionEngine.java:374)\r\n",
      "\tat py4j.Gateway.invoke(Gateway.java:282)\r\n",
      "\tat py4j.commands.AbstractCommand.invokeMethod(AbstractCommand.java:132)\r\n",
      "\tat py4j.commands.CallCommand.execute(CallCommand.java:79)\r\n",
      "\tat py4j.ClientServerConnection.waitForCommands(ClientServerConnection.java:182)\r\n",
      "\tat py4j.ClientServerConnection.run(ClientServerConnection.java:106)\r\n",
      "\tat java.lang.Thread.run(Unknown Source)\r\n",
      "\n"
     ]
    }
   ],
   "source": [
    "from pyspark.sql import SparkSession\n",
    "\n",
    "# Stop any existing Spark session and start a new one\n",
    "spark.stop()\n",
    "spark = SparkSession.builder.appName(\"RecipeRecommendation\").getOrCreate()\n",
    "\n",
    "\n",
    "# Try reading the Parquet file again\n",
    "try:\n",
    "    interaction_level_df_processed = spark.read.parquet(\"interaction_level_df\")\n",
    "    interaction_level_df_processed.show(5)  # Show the first 5 rows to verify if the read was successful\n",
    "except Exception as e:\n",
    "    print(\"Error reading Parquet file:\", e)\n"
   ]
  },
  {
   "cell_type": "code",
   "execution_count": 65,
   "id": "7c23b9f9",
   "metadata": {},
   "outputs": [
    {
     "data": {
      "text/plain": [
       "33"
      ]
     },
     "execution_count": 65,
     "metadata": {},
     "output_type": "execute_result"
    }
   ],
   "source": [
    "len(interaction_level_df.columns)"
   ]
  },
  {
   "cell_type": "code",
   "execution_count": 66,
   "id": "65228dfb",
   "metadata": {},
   "outputs": [],
   "source": [
    "from pyspark.sql import SparkSession\n",
    "\n",
    "# Create a Spark session\n",
    "spark = SparkSession.builder \\\n",
    "    .appName(\"interaction_level_df\") \\\n",
    "    .getOrCreate()\n"
   ]
  },
  {
   "cell_type": "code",
   "execution_count": 67,
   "id": "739d7593",
   "metadata": {
    "colab": {
     "referenced_widgets": [
      "c18e3faf07294bbb807650c86ebeb5b6",
      ""
     ]
    },
    "execution": {
     "iopub.execute_input": "2023-01-07T18:25:22.592090Z",
     "iopub.status.busy": "2023-01-07T18:25:22.591805Z",
     "iopub.status.idle": "2023-01-07T18:25:31.970116Z",
     "shell.execute_reply": "2023-01-07T18:25:31.968940Z",
     "shell.execute_reply.started": "2023-01-07T18:25:22.592057Z"
    },
    "id": "739d7593",
    "outputId": "cc3a0d4b-a3e3-4c28-97da-6bbfb101fd02"
   },
   "outputs": [],
   "source": [
    "# Code check cell\n",
    "# Do not edit cells with assert commands\n",
    "# If an error is shown after running this cell, please recheck your code.  \n",
    "\n",
    "assert len(interaction_level_df.columns) == 33, \"There is a mistake in reading the data.\""
   ]
  },
  {
   "cell_type": "markdown",
   "id": "6012613c",
   "metadata": {
    "id": "6012613c"
   },
   "source": [
    "## <font color = BLUE >  Bucketing and Cleaning Numerical Features  </font>"
   ]
  },
  {
   "cell_type": "markdown",
   "id": "09a755e7",
   "metadata": {
    "id": "09a755e7"
   },
   "source": [
    "### 1. years_since_submission_on_review_date\n",
    "[Review Time Since Submission]\n",
    "\n",
    "Recipes more than 6 years old are rated low"
   ]
  },
  {
   "cell_type": "code",
   "execution_count": 68,
   "id": "ff4df000",
   "metadata": {
    "colab": {
     "referenced_widgets": [
      "343fac45be6b44b7a90a29b280c364a8",
      ""
     ]
    },
    "execution": {
     "iopub.execute_input": "2023-01-07T18:26:13.677566Z",
     "iopub.status.busy": "2023-01-07T18:26:13.677285Z",
     "iopub.status.idle": "2023-01-07T18:27:03.380588Z",
     "shell.execute_reply": "2023-01-07T18:27:03.378876Z",
     "shell.execute_reply.started": "2023-01-07T18:26:13.677533Z"
    },
    "id": "ff4df000",
    "outputId": "58a82594-84fb-4a67-f356-267c7678442c"
   },
   "outputs": [
    {
     "name": "stdout",
     "output_type": "stream",
     "text": [
      "0.25     5.5\n",
      "0.50     9.0\n",
      "0.75    12.5\n",
      "Name: years_since_submission_on_review_date, dtype: float64\n"
     ]
    }
   ],
   "source": [
    "import pandas as pd\n",
    "\n",
    "# Assuming df is your DataFrame with the relevant data\n",
    "interaction_level_df = pd.DataFrame({\n",
    "    'years_since_submission_on_review_date': [2, 4, 6, 8, 10, 12, 14, 16]\n",
    "})\n",
    "\n",
    "def get_quantiles(df, col_name, quantiles=[0.25, 0.5, 0.75]):\n",
    "    quantile_values = df[col_name].quantile(quantiles)\n",
    "    return quantile_values\n",
    "\n",
    "quantiles = get_quantiles(df=interaction_level_df, col_name=\"years_since_submission_on_review_date\")\n",
    "print(quantiles)\n"
   ]
  },
  {
   "cell_type": "code",
   "execution_count": 69,
   "id": "3313e228",
   "metadata": {
    "colab": {
     "referenced_widgets": [
      "f62d29ec549e4855937aa61232ebc138",
      ""
     ]
    },
    "execution": {
     "iopub.execute_input": "2023-01-07T18:27:05.013382Z",
     "iopub.status.busy": "2023-01-07T18:27:05.013102Z",
     "iopub.status.idle": "2023-01-07T18:27:32.601119Z",
     "shell.execute_reply": "2023-01-07T18:27:32.600045Z",
     "shell.execute_reply.started": "2023-01-07T18:27:05.013350Z"
    },
    "id": "3313e228",
    "outputId": "09ae5ad3-9f07-4281-e7bc-2687cf3fa581"
   },
   "outputs": [
    {
     "name": "stdout",
     "output_type": "stream",
     "text": [
      "years_since_submission_on_review_date\n",
      "2    1\n",
      "4    1\n",
      "dtype: int64\n"
     ]
    }
   ],
   "source": [
    "import pandas as pd\n",
    "\n",
    "# Assuming df is your DataFrame with the relevant data\n",
    "interaction_level_df = pd.DataFrame({\n",
    "    'years_since_submission_on_review_date': [2, 4, 6, 8, 10, 12, 14, 16]\n",
    "})\n",
    "\n",
    "def get_n_items_satisfying_condition(df, condition, aggregation_level):\n",
    "    if aggregation_level.lower() == 'years_since_submission_on_review_date':\n",
    "        count = df[df.eval(condition)].groupby(aggregation_level).size()\n",
    "    else:\n",
    "        raise ValueError(\"Invalid aggregation level. Choose 'years_since_submission_on_review_date'.\")\n",
    "\n",
    "    return count\n",
    "\n",
    "count_reviews = get_n_items_satisfying_condition(df=interaction_level_df,\n",
    "                                                 condition='years_since_submission_on_review_date < 6',\n",
    "                                                 aggregation_level=\"years_since_submission_on_review_date\")\n",
    "print(count_reviews)\n"
   ]
  },
  {
   "cell_type": "code",
   "execution_count": 70,
   "id": "9d03d26a",
   "metadata": {
    "colab": {
     "referenced_widgets": [
      "67cfec82bfb14f69ba67d7d54b19ae9e",
      ""
     ]
    },
    "execution": {
     "iopub.execute_input": "2023-01-07T18:27:35.044147Z",
     "iopub.status.busy": "2023-01-07T18:27:35.043879Z",
     "iopub.status.idle": "2023-01-07T18:27:35.679576Z",
     "shell.execute_reply": "2023-01-07T18:27:35.678529Z",
     "shell.execute_reply.started": "2023-01-07T18:27:35.044114Z"
    },
    "id": "9d03d26a",
    "outputId": "2b4d9874-fd87-4162-d451-53791360557c"
   },
   "outputs": [],
   "source": [
    "# Only keep interactions with review dates >= recipe submission date\n",
    "\n",
    "interaction_level_df = (interaction_level_df\n",
    "                        .filter('years_since_submission_on_review_date >= 0'))"
   ]
  },
  {
   "cell_type": "code",
   "execution_count": 71,
   "id": "7f6a88f1",
   "metadata": {
    "colab": {
     "referenced_widgets": [
      "e1ea7edcc2994fe3a262f39527d04770",
      ""
     ]
    },
    "execution": {
     "iopub.execute_input": "2023-01-07T18:27:55.241152Z",
     "iopub.status.busy": "2023-01-07T18:27:55.240694Z",
     "iopub.status.idle": "2023-01-07T18:28:13.133464Z",
     "shell.execute_reply": "2023-01-07T18:28:13.132132Z",
     "shell.execute_reply.started": "2023-01-07T18:27:55.241098Z"
    },
    "id": "7f6a88f1",
    "outputId": "59a3c246-f52b-4bef-83c5-7dc8ec2ac2c3"
   },
   "outputs": [
    {
     "name": "stdout",
     "output_type": "stream",
     "text": [
      "Added bucketized column years_since_submission_on_review_date_bucket\n"
     ]
    }
   ],
   "source": [
    "from pyspark.sql import SparkSession\n",
    "from pyspark.ml.feature import Bucketizer\n",
    "import pandas as pd\n",
    "\n",
    "# Create a Spark session\n",
    "spark = SparkSession.builder \\\n",
    "    .appName(\"example\") \\\n",
    "    .getOrCreate()\n",
    "\n",
    "# Assuming interaction_level_df is a PySpark DataFrame\n",
    "interaction_level_df = spark.createDataFrame(pd.DataFrame({\n",
    "    'years_since_submission_on_review_date': [2, 4, 6, 8, 10, 12, 14, 16]\n",
    "}))\n",
    "\n",
    "def bucket_col_print_summary(df, splits, inputCol, outputCol):\n",
    "    # Training bucketizer\n",
    "    bucketizer = Bucketizer(splits=splits, inputCol=inputCol, outputCol=outputCol)\n",
    "    df = bucketizer.setHandleInvalid(\"keep\").transform(df)\n",
    "    # Printing meta information on buckets created\n",
    "    print(\"Added bucketized column {}\".format(outputCol))\n",
    "    return df\n",
    "\n",
    "splits = [0, 1, 3, 6, float('Inf')]\n",
    "inputCol = \"years_since_submission_on_review_date\"\n",
    "outputCol = \"years_since_submission_on_review_date_bucket\"\n",
    "\n",
    "interaction_level_df = bucket_col_print_summary(df=interaction_level_df,\n",
    "                                                splits=splits,\n",
    "                                                inputCol=inputCol,\n",
    "                                                outputCol=outputCol)\n"
   ]
  },
  {
   "cell_type": "code",
   "execution_count": 72,
   "id": "1a7b01f5",
   "metadata": {
    "colab": {
     "referenced_widgets": [
      ""
     ]
    },
    "execution": {
     "iopub.execute_input": "2023-01-07T18:28:16.169655Z",
     "iopub.status.busy": "2023-01-07T18:28:16.169268Z",
     "iopub.status.idle": "2023-01-07T18:28:16.519595Z",
     "shell.execute_reply": "2023-01-07T18:28:16.518607Z",
     "shell.execute_reply.started": "2023-01-07T18:28:16.169595Z"
    },
    "id": "1a7b01f5",
    "outputId": "0840d2a6-fb89-46af-fe01-5b3da12650a3"
   },
   "outputs": [],
   "source": [
    "%matplotlib inline\n",
    "import matplotlib.pyplot as plt\n",
    "\n",
    "# Your Matplotlib code here"
   ]
  },
  {
   "cell_type": "markdown",
   "id": "7cc2ae5f",
   "metadata": {
    "id": "7cc2ae5f"
   },
   "source": [
    "#### **2. `minutes`** \n",
    "\n",
    "[prep time]\n",
    "- Somewhat relevant\n",
    "- Low prep time is preferred"
   ]
  },
  {
   "cell_type": "code",
   "execution_count": 73,
   "id": "7b728eb2",
   "metadata": {
    "colab": {
     "referenced_widgets": [
      "c0e98aa6828e47e0a67de923d219003b",
      ""
     ]
    },
    "execution": {
     "iopub.execute_input": "2023-01-07T18:28:22.810615Z",
     "iopub.status.busy": "2023-01-07T18:28:22.810348Z",
     "iopub.status.idle": "2023-01-07T18:29:08.439717Z",
     "shell.execute_reply": "2023-01-07T18:29:08.438691Z",
     "shell.execute_reply.started": "2023-01-07T18:28:22.810583Z"
    },
    "id": "7b728eb2",
    "outputId": "33661511-cc68-4f54-9809-aea875d9aa69"
   },
   "outputs": [
    {
     "name": "stdout",
     "output_type": "stream",
     "text": [
      "0.01    10.9\n",
      "0.05    14.5\n",
      "0.25    32.5\n",
      "0.50    55.0\n",
      "0.75    77.5\n",
      "0.95    95.5\n",
      "0.99    99.1\n",
      "Name: minutes, dtype: float64\n"
     ]
    }
   ],
   "source": [
    "import pandas as pd\n",
    "\n",
    "# Assuming df is your DataFrame with the relevant data\n",
    "interaction_level_df = pd.DataFrame({\n",
    "    'minutes': [10, 20, 30, 40, 50, 60, 70, 80, 90, 100]\n",
    "})\n",
    "\n",
    "def get_quantiles(df, col_name, quantiles_list=[0.25, 0.5, 0.75]):\n",
    "    quantile_values = df[col_name].quantile(quantiles_list)\n",
    "    return quantile_values\n",
    "\n",
    "quantiles = get_quantiles(df=interaction_level_df,\n",
    "                          col_name=\"minutes\",\n",
    "                          quantiles_list=[0.01, 0.05, 0.25, 0.5, 0.75, 0.95, 0.99])\n",
    "print(quantiles)\n"
   ]
  },
  {
   "cell_type": "code",
   "execution_count": 74,
   "id": "b2cd52af",
   "metadata": {
    "colab": {
     "referenced_widgets": [
      "c723fe8108754403a85bf0fe66436916",
      ""
     ]
    },
    "execution": {
     "iopub.execute_input": "2023-01-07T18:29:10.161984Z",
     "iopub.status.busy": "2023-01-07T18:29:10.161545Z",
     "iopub.status.idle": "2023-01-07T18:29:12.590213Z",
     "shell.execute_reply": "2023-01-07T18:29:12.561253Z",
     "shell.execute_reply.started": "2023-01-07T18:29:10.161930Z"
    },
    "id": "b2cd52af",
    "outputId": "87e4cb9c-0150-40c1-ffbb-a7aea22c10e6"
   },
   "outputs": [
    {
     "name": "stdout",
     "output_type": "stream",
     "text": [
      "   minutes\n",
      "0      900\n",
      "1      930\n",
      "2      930\n",
      "3      850\n",
      "4      920\n"
     ]
    }
   ],
   "source": [
    "import pandas as pd\n",
    "\n",
    "# Assuming df is your DataFrame with the relevant data\n",
    "interaction_level_df = pd.DataFrame({\n",
    "    'minutes': [900, 950, 1000, 850, 920]\n",
    "})\n",
    "\n",
    "# Cap the values in the \"minutes\" column at 930 minutes\n",
    "interaction_level_df['minutes'] = interaction_level_df['minutes'].clip(upper=930)\n",
    "\n",
    "print(interaction_level_df)\n"
   ]
  },
  {
   "cell_type": "code",
   "execution_count": 75,
   "id": "7cd770e3",
   "metadata": {
    "colab": {
     "referenced_widgets": [
      "47cfd0d53b22432e83ba5bcd6b5bc129",
      ""
     ]
    },
    "execution": {
     "iopub.execute_input": "2023-01-07T18:29:16.996542Z",
     "iopub.status.busy": "2023-01-07T18:29:16.996249Z",
     "iopub.status.idle": "2023-01-07T18:29:34.486048Z",
     "shell.execute_reply": "2023-01-07T18:29:34.485077Z",
     "shell.execute_reply.started": "2023-01-07T18:29:16.996509Z"
    },
    "id": "7cd770e3",
    "outputId": "12285879-dc30-4aa9-e57a-53b5c47780cf"
   },
   "outputs": [
    {
     "name": "stdout",
     "output_type": "stream",
     "text": [
      "   minutes  n_steps recipe_name\n",
      "0        0        1    Recipe 1\n"
     ]
    }
   ],
   "source": [
    "import pandas as pd\n",
    "\n",
    "# Assuming df is your DataFrame with the relevant data\n",
    "interaction_level_df = pd.DataFrame({\n",
    "    'minutes': [0, 10, 15, 0, 20],\n",
    "    'n_steps': [1, 2, 1, 3, 1],\n",
    "    'recipe_name': ['Recipe 1', 'Recipe 2', 'Recipe 3', 'Recipe 4', 'Recipe 5']\n",
    "})\n",
    "\n",
    "# Filter rows where minutes is 0 and n_steps is 1, then display the first 5 rows\n",
    "filtered_df = interaction_level_df[(interaction_level_df['minutes'] == 0) & (interaction_level_df['n_steps'] == 1)]\n",
    "print(filtered_df.head(5))\n"
   ]
  },
  {
   "cell_type": "code",
   "execution_count": 76,
   "id": "c2e60bec",
   "metadata": {},
   "outputs": [
    {
     "name": "stdout",
     "output_type": "stream",
     "text": [
      "recipe_name\n",
      "Recipe 1    1\n",
      "Recipe 4    1\n",
      "Name: recipe_name, dtype: int64\n"
     ]
    }
   ],
   "source": [
    "import pandas as pd\n",
    "\n",
    "# Assuming df is your DataFrame with the relevant data\n",
    "interaction_level_df = pd.DataFrame({\n",
    "    'minutes': [0, 10, 15, 0, 20],\n",
    "    'n_steps': [1, 2, 1, 3, 1],\n",
    "    'recipe_name': ['Recipe 1', 'Recipe 2', 'Recipe 3', 'Recipe 4', 'Recipe 5']\n",
    "})\n",
    "\n",
    "def get_n_items_satisfying_condition(df, condition, aggregation_level):\n",
    "    if aggregation_level.lower() == 'recipe_name':  # Adjusted to 'recipe_name'\n",
    "        count = df[df.eval(condition)].groupby(aggregation_level)['recipe_name'].size()\n",
    "    else:\n",
    "        raise ValueError(\"Invalid aggregation level. Choose 'recipe_name'.\")  # Adjusted message\n",
    "\n",
    "    return count\n",
    "\n",
    "count_recipes = get_n_items_satisfying_condition(df=interaction_level_df,\n",
    "                                                 condition='minutes == 0',\n",
    "                                                 aggregation_level=\"recipe_name\")\n",
    "print(count_recipes)\n"
   ]
  },
  {
   "cell_type": "code",
   "execution_count": 77,
   "id": "ff63e651",
   "metadata": {
    "colab": {
     "referenced_widgets": [
      "c62d3ce8edc143db8d4a41dd4b091d8e",
      ""
     ]
    },
    "execution": {
     "iopub.execute_input": "2023-01-07T18:29:36.468154Z",
     "iopub.status.busy": "2023-01-07T18:29:36.467758Z",
     "iopub.status.idle": "2023-01-07T18:29:53.943715Z",
     "shell.execute_reply": "2023-01-07T18:29:53.942470Z",
     "shell.execute_reply.started": "2023-01-07T18:29:36.468109Z"
    },
    "id": "ff63e651",
    "outputId": "52accc74-4c07-4e1d-eb0b-e9dfa447579b"
   },
   "outputs": [],
   "source": [
    "# Remove recipes with cook time zero\n",
    "\n",
    "interaction_level_df = interaction_level_df.filter(\"minutes > 0\")"
   ]
  },
  {
   "cell_type": "code",
   "execution_count": 78,
   "id": "40e623f8",
   "metadata": {
    "colab": {
     "referenced_widgets": [
      "9f38abb4db1e4eebaf7e3d4f90ff4a88",
      ""
     ]
    },
    "execution": {
     "iopub.execute_input": "2023-01-07T18:29:56.123023Z",
     "iopub.status.busy": "2023-01-07T18:29:56.122732Z",
     "iopub.status.idle": "2023-01-07T18:30:37.809482Z",
     "shell.execute_reply": "2023-01-07T18:30:37.808610Z",
     "shell.execute_reply.started": "2023-01-07T18:29:56.122989Z"
    },
    "id": "40e623f8",
    "outputId": "71736ea0-1326-4242-fc01-1194beefcb88"
   },
   "outputs": [
    {
     "name": "stdout",
     "output_type": "stream",
     "text": [
      "recipe_name\n",
      "Recipe 1    1\n",
      "Recipe 4    1\n",
      "Name: recipe_name, dtype: int64\n"
     ]
    }
   ],
   "source": [
    "import pandas as pd\n",
    "\n",
    "# Assuming df is your DataFrame with the relevant data\n",
    "interaction_level_df = pd.DataFrame({\n",
    "    'minutes': [0, 10, 15, 0, 20],\n",
    "    'n_steps': [1, 2, 1, 3, 1],\n",
    "    'recipe_name': ['Recipe 1', 'Recipe 2', 'Recipe 3', 'Recipe 4', 'Recipe 5']\n",
    "})\n",
    "\n",
    "def get_n_items_satisfying_condition(df, condition, aggregation_level):\n",
    "    if aggregation_level.lower() == 'recipe_name':  # Adjusted to 'recipe_name'\n",
    "        count = df[df.eval(condition)].groupby(aggregation_level)['recipe_name'].size()\n",
    "    else:\n",
    "        raise ValueError(\"Invalid aggregation level. Choose 'recipe_name'.\")  # Adjusted message\n",
    "\n",
    "    return count\n",
    "\n",
    "count_recipes = get_n_items_satisfying_condition(df=interaction_level_df,\n",
    "                                                 condition='minutes == 0',\n",
    "                                                 aggregation_level=\"recipe_name\")\n",
    "print(count_recipes)\n"
   ]
  },
  {
   "cell_type": "code",
   "execution_count": 79,
   "id": "afc7983f",
   "metadata": {},
   "outputs": [],
   "source": [
    "from pyspark.sql import SparkSession\n",
    "\n",
    "spark = SparkSession.builder \\\n",
    "    .appName(\"BucketizerExample\") \\\n",
    "    .config(\"spark.executor.memory\", \"4g\") \\\n",
    "    .config(\"spark.executor.heartbeatInterval\", \"100s\") \\\n",
    "    .config(\"spark.network.timeout\", \"300s\") \\\n",
    "    .getOrCreate()\n",
    "\n",
    "# Your code here...\n",
    "\n",
    "spark.stop()  # Don't forget to stop the Spark session when you're done\n"
   ]
  },
  {
   "cell_type": "code",
   "execution_count": 80,
   "id": "c379f95d",
   "metadata": {},
   "outputs": [],
   "source": [
    "spark = SparkSession.builder \\\n",
    "    .appName(\"BucketizerExample\") \\\n",
    "    .config(\"spark.executor.heartbeatInterval\", \"60s\") \\\n",
    "    .config(\"spark.network.timeout\", \"360s\") \\\n",
    "    .config(\"spark.executor.instances\", \"4\") \\\n",
    "    .config(\"spark.executor.memory\", \"4g\") \\\n",
    "    .config(\"spark.executor.cores\", \"2\") \\\n",
    "    .getOrCreate()\n"
   ]
  },
  {
   "cell_type": "code",
   "execution_count": 81,
   "id": "a20fff35",
   "metadata": {},
   "outputs": [],
   "source": [
    "from pyspark.sql import SparkSession\n",
    "\n",
    "spark = SparkSession.builder \\\n",
    "    .appName(\"BucketizerExample\") \\\n",
    "    .config(\"spark.executor.memory\", \"4g\") \\\n",
    "    .config(\"spark.executor.cores\", \"2\") \\\n",
    "    .config(\"spark.driver.memory\", \"2g\") \\\n",
    "    .getOrCreate()\n",
    "\n",
    "# Your code here...\n",
    "\n",
    "spark.stop()  # Don't forget to stop the Spark session when you're done\n"
   ]
  },
  {
   "cell_type": "code",
   "execution_count": 82,
   "id": "3b694b92",
   "metadata": {},
   "outputs": [
    {
     "name": "stdout",
     "output_type": "stream",
     "text": [
      "Added bucketized column prep_time_bucket\n",
      "An error occurred: An error occurred while calling o666.showString.\n",
      ": org.apache.spark.SparkException: Job aborted due to stage failure: Task 0 in stage 0.0 failed 1 times, most recent failure: Lost task 0.0 in stage 0.0 (TID 0) (DESKTOP-E9SKAKK executor driver): org.apache.spark.SparkException: Python worker failed to connect back.\n",
      "\tat org.apache.spark.api.python.PythonWorkerFactory.createSimpleWorker(PythonWorkerFactory.scala:203)\n",
      "\tat org.apache.spark.api.python.PythonWorkerFactory.create(PythonWorkerFactory.scala:109)\n",
      "\tat org.apache.spark.SparkEnv.createPythonWorker(SparkEnv.scala:124)\n",
      "\tat org.apache.spark.api.python.BasePythonRunner.compute(PythonRunner.scala:174)\n",
      "\tat org.apache.spark.api.python.PythonRDD.compute(PythonRDD.scala:67)\n",
      "\tat org.apache.spark.rdd.RDD.computeOrReadCheckpoint(RDD.scala:367)\n",
      "\tat org.apache.spark.rdd.RDD.iterator(RDD.scala:331)\n",
      "\tat org.apache.spark.rdd.MapPartitionsRDD.compute(MapPartitionsRDD.scala:52)\n",
      "\tat org.apache.spark.rdd.RDD.computeOrReadCheckpoint(RDD.scala:367)\n",
      "\tat org.apache.spark.rdd.RDD.iterator(RDD.scala:331)\n",
      "\tat org.apache.spark.rdd.MapPartitionsRDD.compute(MapPartitionsRDD.scala:52)\n",
      "\tat org.apache.spark.rdd.RDD.computeOrReadCheckpoint(RDD.scala:367)\n",
      "\tat org.apache.spark.rdd.RDD.iterator(RDD.scala:331)\n",
      "\tat org.apache.spark.rdd.MapPartitionsRDD.compute(MapPartitionsRDD.scala:52)\n",
      "\tat org.apache.spark.rdd.RDD.computeOrReadCheckpoint(RDD.scala:367)\n",
      "\tat org.apache.spark.rdd.RDD.iterator(RDD.scala:331)\n",
      "\tat org.apache.spark.rdd.MapPartitionsRDD.compute(MapPartitionsRDD.scala:52)\n",
      "\tat org.apache.spark.rdd.RDD.computeOrReadCheckpoint(RDD.scala:367)\n",
      "\tat org.apache.spark.rdd.RDD.iterator(RDD.scala:331)\n",
      "\tat org.apache.spark.rdd.MapPartitionsRDD.compute(MapPartitionsRDD.scala:52)\n",
      "\tat org.apache.spark.rdd.RDD.computeOrReadCheckpoint(RDD.scala:367)\n",
      "\tat org.apache.spark.rdd.RDD.iterator(RDD.scala:331)\n",
      "\tat org.apache.spark.scheduler.ResultTask.runTask(ResultTask.scala:93)\n",
      "\tat org.apache.spark.TaskContext.runTaskWithListeners(TaskContext.scala:166)\n",
      "\tat org.apache.spark.scheduler.Task.run(Task.scala:141)\n",
      "\tat org.apache.spark.executor.Executor$TaskRunner.$anonfun$run$4(Executor.scala:620)\n",
      "\tat org.apache.spark.util.SparkErrorUtils.tryWithSafeFinally(SparkErrorUtils.scala:64)\n",
      "\tat org.apache.spark.util.SparkErrorUtils.tryWithSafeFinally$(SparkErrorUtils.scala:61)\n",
      "\tat org.apache.spark.util.Utils$.tryWithSafeFinally(Utils.scala:94)\n",
      "\tat org.apache.spark.executor.Executor$TaskRunner.run(Executor.scala:623)\n",
      "\tat java.util.concurrent.ThreadPoolExecutor.runWorker(Unknown Source)\n",
      "\tat java.util.concurrent.ThreadPoolExecutor$Worker.run(Unknown Source)\n",
      "\tat java.lang.Thread.run(Unknown Source)\n",
      "Caused by: java.net.SocketTimeoutException: Accept timed out\n",
      "\tat java.net.DualStackPlainSocketImpl.waitForNewConnection(Native Method)\n",
      "\tat java.net.DualStackPlainSocketImpl.socketAccept(Unknown Source)\n",
      "\tat java.net.AbstractPlainSocketImpl.accept(Unknown Source)\n",
      "\tat java.net.PlainSocketImpl.accept(Unknown Source)\n",
      "\tat java.net.ServerSocket.implAccept(Unknown Source)\n",
      "\tat java.net.ServerSocket.accept(Unknown Source)\n",
      "\tat org.apache.spark.api.python.PythonWorkerFactory.createSimpleWorker(PythonWorkerFactory.scala:190)\n",
      "\t... 32 more\n",
      "\n",
      "Driver stacktrace:\n",
      "\tat org.apache.spark.scheduler.DAGScheduler.failJobAndIndependentStages(DAGScheduler.scala:2856)\n",
      "\tat org.apache.spark.scheduler.DAGScheduler.$anonfun$abortStage$2(DAGScheduler.scala:2792)\n",
      "\tat org.apache.spark.scheduler.DAGScheduler.$anonfun$abortStage$2$adapted(DAGScheduler.scala:2791)\n",
      "\tat scala.collection.mutable.ResizableArray.foreach(ResizableArray.scala:62)\n",
      "\tat scala.collection.mutable.ResizableArray.foreach$(ResizableArray.scala:55)\n",
      "\tat scala.collection.mutable.ArrayBuffer.foreach(ArrayBuffer.scala:49)\n",
      "\tat org.apache.spark.scheduler.DAGScheduler.abortStage(DAGScheduler.scala:2791)\n",
      "\tat org.apache.spark.scheduler.DAGScheduler.$anonfun$handleTaskSetFailed$1(DAGScheduler.scala:1247)\n",
      "\tat org.apache.spark.scheduler.DAGScheduler.$anonfun$handleTaskSetFailed$1$adapted(DAGScheduler.scala:1247)\n",
      "\tat scala.Option.foreach(Option.scala:407)\n",
      "\tat org.apache.spark.scheduler.DAGScheduler.handleTaskSetFailed(DAGScheduler.scala:1247)\n",
      "\tat org.apache.spark.scheduler.DAGSchedulerEventProcessLoop.doOnReceive(DAGScheduler.scala:3060)\n",
      "\tat org.apache.spark.scheduler.DAGSchedulerEventProcessLoop.onReceive(DAGScheduler.scala:2994)\n",
      "\tat org.apache.spark.scheduler.DAGSchedulerEventProcessLoop.onReceive(DAGScheduler.scala:2983)\n",
      "\tat org.apache.spark.util.EventLoop$$anon$1.run(EventLoop.scala:49)\n",
      "\tat org.apache.spark.scheduler.DAGScheduler.runJob(DAGScheduler.scala:989)\n",
      "\tat org.apache.spark.SparkContext.runJob(SparkContext.scala:2398)\n",
      "\tat org.apache.spark.SparkContext.runJob(SparkContext.scala:2419)\n",
      "\tat org.apache.spark.SparkContext.runJob(SparkContext.scala:2438)\n",
      "\tat org.apache.spark.sql.execution.SparkPlan.executeTake(SparkPlan.scala:530)\n",
      "\tat org.apache.spark.sql.execution.SparkPlan.executeTake(SparkPlan.scala:483)\n",
      "\tat org.apache.spark.sql.execution.CollectLimitExec.executeCollect(limit.scala:61)\n",
      "\tat org.apache.spark.sql.Dataset.collectFromPlan(Dataset.scala:4332)\n",
      "\tat org.apache.spark.sql.Dataset.$anonfun$head$1(Dataset.scala:3314)\n",
      "\tat org.apache.spark.sql.Dataset.$anonfun$withAction$2(Dataset.scala:4322)\n",
      "\tat org.apache.spark.sql.execution.QueryExecution$.withInternalError(QueryExecution.scala:546)\n",
      "\tat org.apache.spark.sql.Dataset.$anonfun$withAction$1(Dataset.scala:4320)\n",
      "\tat org.apache.spark.sql.execution.SQLExecution$.$anonfun$withNewExecutionId$6(SQLExecution.scala:125)\n",
      "\tat org.apache.spark.sql.execution.SQLExecution$.withSQLConfPropagated(SQLExecution.scala:201)\n",
      "\tat org.apache.spark.sql.execution.SQLExecution$.$anonfun$withNewExecutionId$1(SQLExecution.scala:108)\n",
      "\tat org.apache.spark.sql.SparkSession.withActive(SparkSession.scala:900)\n",
      "\tat org.apache.spark.sql.execution.SQLExecution$.withNewExecutionId(SQLExecution.scala:66)\n",
      "\tat org.apache.spark.sql.Dataset.withAction(Dataset.scala:4320)\n",
      "\tat org.apache.spark.sql.Dataset.head(Dataset.scala:3314)\n",
      "\tat org.apache.spark.sql.Dataset.take(Dataset.scala:3537)\n",
      "\tat org.apache.spark.sql.Dataset.getRows(Dataset.scala:280)\n",
      "\tat org.apache.spark.sql.Dataset.showString(Dataset.scala:315)\n",
      "\tat sun.reflect.NativeMethodAccessorImpl.invoke0(Native Method)\n",
      "\tat sun.reflect.NativeMethodAccessorImpl.invoke(Unknown Source)\n",
      "\tat sun.reflect.DelegatingMethodAccessorImpl.invoke(Unknown Source)\n",
      "\tat java.lang.reflect.Method.invoke(Unknown Source)\n",
      "\tat py4j.reflection.MethodInvoker.invoke(MethodInvoker.java:244)\n",
      "\tat py4j.reflection.ReflectionEngine.invoke(ReflectionEngine.java:374)\n",
      "\tat py4j.Gateway.invoke(Gateway.java:282)\n",
      "\tat py4j.commands.AbstractCommand.invokeMethod(AbstractCommand.java:132)\n",
      "\tat py4j.commands.CallCommand.execute(CallCommand.java:79)\n",
      "\tat py4j.ClientServerConnection.waitForCommands(ClientServerConnection.java:182)\n",
      "\tat py4j.ClientServerConnection.run(ClientServerConnection.java:106)\n",
      "\tat java.lang.Thread.run(Unknown Source)\n",
      "Caused by: org.apache.spark.SparkException: Python worker failed to connect back.\n",
      "\tat org.apache.spark.api.python.PythonWorkerFactory.createSimpleWorker(PythonWorkerFactory.scala:203)\n",
      "\tat org.apache.spark.api.python.PythonWorkerFactory.create(PythonWorkerFactory.scala:109)\n",
      "\tat org.apache.spark.SparkEnv.createPythonWorker(SparkEnv.scala:124)\n",
      "\tat org.apache.spark.api.python.BasePythonRunner.compute(PythonRunner.scala:174)\n",
      "\tat org.apache.spark.api.python.PythonRDD.compute(PythonRDD.scala:67)\n",
      "\tat org.apache.spark.rdd.RDD.computeOrReadCheckpoint(RDD.scala:367)\n",
      "\tat org.apache.spark.rdd.RDD.iterator(RDD.scala:331)\n",
      "\tat org.apache.spark.rdd.MapPartitionsRDD.compute(MapPartitionsRDD.scala:52)\n",
      "\tat org.apache.spark.rdd.RDD.computeOrReadCheckpoint(RDD.scala:367)\n",
      "\tat org.apache.spark.rdd.RDD.iterator(RDD.scala:331)\n",
      "\tat org.apache.spark.rdd.MapPartitionsRDD.compute(MapPartitionsRDD.scala:52)\n",
      "\tat org.apache.spark.rdd.RDD.computeOrReadCheckpoint(RDD.scala:367)\n",
      "\tat org.apache.spark.rdd.RDD.iterator(RDD.scala:331)\n",
      "\tat org.apache.spark.rdd.MapPartitionsRDD.compute(MapPartitionsRDD.scala:52)\n",
      "\tat org.apache.spark.rdd.RDD.computeOrReadCheckpoint(RDD.scala:367)\n",
      "\tat org.apache.spark.rdd.RDD.iterator(RDD.scala:331)\n",
      "\tat org.apache.spark.rdd.MapPartitionsRDD.compute(MapPartitionsRDD.scala:52)\n",
      "\tat org.apache.spark.rdd.RDD.computeOrReadCheckpoint(RDD.scala:367)\n",
      "\tat org.apache.spark.rdd.RDD.iterator(RDD.scala:331)\n",
      "\tat org.apache.spark.rdd.MapPartitionsRDD.compute(MapPartitionsRDD.scala:52)\n",
      "\tat org.apache.spark.rdd.RDD.computeOrReadCheckpoint(RDD.scala:367)\n",
      "\tat org.apache.spark.rdd.RDD.iterator(RDD.scala:331)\n",
      "\tat org.apache.spark.scheduler.ResultTask.runTask(ResultTask.scala:93)\n",
      "\tat org.apache.spark.TaskContext.runTaskWithListeners(TaskContext.scala:166)\n",
      "\tat org.apache.spark.scheduler.Task.run(Task.scala:141)\n",
      "\tat org.apache.spark.executor.Executor$TaskRunner.$anonfun$run$4(Executor.scala:620)\n",
      "\tat org.apache.spark.util.SparkErrorUtils.tryWithSafeFinally(SparkErrorUtils.scala:64)\n",
      "\tat org.apache.spark.util.SparkErrorUtils.tryWithSafeFinally$(SparkErrorUtils.scala:61)\n",
      "\tat org.apache.spark.util.Utils$.tryWithSafeFinally(Utils.scala:94)\n",
      "\tat org.apache.spark.executor.Executor$TaskRunner.run(Executor.scala:623)\n",
      "\tat java.util.concurrent.ThreadPoolExecutor.runWorker(Unknown Source)\n",
      "\tat java.util.concurrent.ThreadPoolExecutor$Worker.run(Unknown Source)\n",
      "\t... 1 more\n",
      "Caused by: java.net.SocketTimeoutException: Accept timed out\n",
      "\tat java.net.DualStackPlainSocketImpl.waitForNewConnection(Native Method)\n",
      "\tat java.net.DualStackPlainSocketImpl.socketAccept(Unknown Source)\n",
      "\tat java.net.AbstractPlainSocketImpl.accept(Unknown Source)\n",
      "\tat java.net.PlainSocketImpl.accept(Unknown Source)\n",
      "\tat java.net.ServerSocket.implAccept(Unknown Source)\n",
      "\tat java.net.ServerSocket.accept(Unknown Source)\n",
      "\tat org.apache.spark.api.python.PythonWorkerFactory.createSimpleWorker(PythonWorkerFactory.scala:190)\n",
      "\t... 32 more\n",
      "\n",
      "None\n"
     ]
    }
   ],
   "source": [
    "from pyspark.sql import SparkSession\n",
    "from pyspark.ml.feature import Bucketizer\n",
    "from pyspark.sql.functions import col\n",
    "\n",
    "# Create a Spark session\n",
    "spark = SparkSession.builder \\\n",
    "    .appName(\"BucketizerExample\") \\\n",
    "    .getOrCreate()\n",
    "\n",
    "# Assuming interaction_level_df is your DataFrame with the relevant data\n",
    "interaction_level_df = spark.createDataFrame([\n",
    "    (0,),\n",
    "    (10,),\n",
    "    (15,),\n",
    "    (0,),\n",
    "    (20,)\n",
    "], [\"minutes\"])\n",
    "\n",
    "def bucket_col_print_summary(df, splits, inputCol, outputCol):\n",
    "    try:\n",
    "        # Training bucketizer\n",
    "        bucketizer = Bucketizer(splits=splits, inputCol=inputCol, outputCol=outputCol)\n",
    "        df_bucketized = bucketizer.setHandleInvalid(\"keep\").transform(df)\n",
    "        # Printing meta information on buckets created\n",
    "        print(\"Added bucketized column {}\".format(outputCol))\n",
    "        df_bucketized.show()  # Show the bucketized DataFrame\n",
    "        return df_bucketized, bucketizer, df_bucketized.toPandas()\n",
    "    except Exception as e:\n",
    "        print(\"An error occurred:\", str(e))\n",
    "        return df, None, None\n",
    "\n",
    "splits = [0, 5, 15, 30, 60, 300, 900, 1280, float('Inf')]\n",
    "inputCol = \"minutes\"\n",
    "outputCol = \"prep_time_bucket\"\n",
    "\n",
    "(interaction_level_df_bucketized, prep_time_bucketizer, prep_time_summary_pandas_df) = bucket_col_print_summary(\n",
    "    df=interaction_level_df,\n",
    "    splits=splits,\n",
    "    inputCol=inputCol,\n",
    "    outputCol=outputCol\n",
    ")\n",
    "\n",
    "# Assuming you want to convert the resulting DataFrame to Pandas for further analysis\n",
    "print(prep_time_summary_pandas_df)\n"
   ]
  },
  {
   "cell_type": "code",
   "execution_count": 83,
   "id": "3b724b23",
   "metadata": {
    "colab": {
     "referenced_widgets": [
      "d4bc230248434d109a25c1941d54d020",
      ""
     ]
    },
    "execution": {
     "iopub.execute_input": "2023-01-07T18:30:42.047845Z",
     "iopub.status.busy": "2023-01-07T18:30:42.047508Z",
     "iopub.status.idle": "2023-01-07T18:31:05.984099Z",
     "shell.execute_reply": "2023-01-07T18:31:05.983045Z",
     "shell.execute_reply.started": "2023-01-07T18:30:42.047800Z"
    },
    "id": "3b724b23",
    "outputId": "bbb09ded-b288-44a5-9e3b-c0e92dd1e0ef"
   },
   "outputs": [
    {
     "name": "stdout",
     "output_type": "stream",
     "text": [
      "Added bucketized column prep_time_bucket\n",
      "An error occurred: An error occurred while calling o691.showString.\n",
      ": org.apache.spark.SparkException: Job aborted due to stage failure: Task 0 in stage 1.0 failed 1 times, most recent failure: Lost task 0.0 in stage 1.0 (TID 1) (DESKTOP-E9SKAKK executor driver): org.apache.spark.SparkException: Python worker failed to connect back.\n",
      "\tat org.apache.spark.api.python.PythonWorkerFactory.createSimpleWorker(PythonWorkerFactory.scala:203)\n",
      "\tat org.apache.spark.api.python.PythonWorkerFactory.create(PythonWorkerFactory.scala:109)\n",
      "\tat org.apache.spark.SparkEnv.createPythonWorker(SparkEnv.scala:124)\n",
      "\tat org.apache.spark.api.python.BasePythonRunner.compute(PythonRunner.scala:174)\n",
      "\tat org.apache.spark.api.python.PythonRDD.compute(PythonRDD.scala:67)\n",
      "\tat org.apache.spark.rdd.RDD.computeOrReadCheckpoint(RDD.scala:367)\n",
      "\tat org.apache.spark.rdd.RDD.iterator(RDD.scala:331)\n",
      "\tat org.apache.spark.rdd.MapPartitionsRDD.compute(MapPartitionsRDD.scala:52)\n",
      "\tat org.apache.spark.rdd.RDD.computeOrReadCheckpoint(RDD.scala:367)\n",
      "\tat org.apache.spark.rdd.RDD.iterator(RDD.scala:331)\n",
      "\tat org.apache.spark.rdd.MapPartitionsRDD.compute(MapPartitionsRDD.scala:52)\n",
      "\tat org.apache.spark.rdd.RDD.computeOrReadCheckpoint(RDD.scala:367)\n",
      "\tat org.apache.spark.rdd.RDD.iterator(RDD.scala:331)\n",
      "\tat org.apache.spark.rdd.MapPartitionsRDD.compute(MapPartitionsRDD.scala:52)\n",
      "\tat org.apache.spark.rdd.RDD.computeOrReadCheckpoint(RDD.scala:367)\n",
      "\tat org.apache.spark.rdd.RDD.iterator(RDD.scala:331)\n",
      "\tat org.apache.spark.rdd.MapPartitionsRDD.compute(MapPartitionsRDD.scala:52)\n",
      "\tat org.apache.spark.rdd.RDD.computeOrReadCheckpoint(RDD.scala:367)\n",
      "\tat org.apache.spark.rdd.RDD.iterator(RDD.scala:331)\n",
      "\tat org.apache.spark.rdd.MapPartitionsRDD.compute(MapPartitionsRDD.scala:52)\n",
      "\tat org.apache.spark.rdd.RDD.computeOrReadCheckpoint(RDD.scala:367)\n",
      "\tat org.apache.spark.rdd.RDD.iterator(RDD.scala:331)\n",
      "\tat org.apache.spark.scheduler.ResultTask.runTask(ResultTask.scala:93)\n",
      "\tat org.apache.spark.TaskContext.runTaskWithListeners(TaskContext.scala:166)\n",
      "\tat org.apache.spark.scheduler.Task.run(Task.scala:141)\n",
      "\tat org.apache.spark.executor.Executor$TaskRunner.$anonfun$run$4(Executor.scala:620)\n",
      "\tat org.apache.spark.util.SparkErrorUtils.tryWithSafeFinally(SparkErrorUtils.scala:64)\n",
      "\tat org.apache.spark.util.SparkErrorUtils.tryWithSafeFinally$(SparkErrorUtils.scala:61)\n",
      "\tat org.apache.spark.util.Utils$.tryWithSafeFinally(Utils.scala:94)\n",
      "\tat org.apache.spark.executor.Executor$TaskRunner.run(Executor.scala:623)\n",
      "\tat java.util.concurrent.ThreadPoolExecutor.runWorker(Unknown Source)\n",
      "\tat java.util.concurrent.ThreadPoolExecutor$Worker.run(Unknown Source)\n",
      "\tat java.lang.Thread.run(Unknown Source)\n",
      "Caused by: java.net.SocketTimeoutException: Accept timed out\n",
      "\tat java.net.DualStackPlainSocketImpl.waitForNewConnection(Native Method)\n",
      "\tat java.net.DualStackPlainSocketImpl.socketAccept(Unknown Source)\n",
      "\tat java.net.AbstractPlainSocketImpl.accept(Unknown Source)\n",
      "\tat java.net.PlainSocketImpl.accept(Unknown Source)\n",
      "\tat java.net.ServerSocket.implAccept(Unknown Source)\n",
      "\tat java.net.ServerSocket.accept(Unknown Source)\n",
      "\tat org.apache.spark.api.python.PythonWorkerFactory.createSimpleWorker(PythonWorkerFactory.scala:190)\n",
      "\t... 32 more\n",
      "\n",
      "Driver stacktrace:\n",
      "\tat org.apache.spark.scheduler.DAGScheduler.failJobAndIndependentStages(DAGScheduler.scala:2856)\n",
      "\tat org.apache.spark.scheduler.DAGScheduler.$anonfun$abortStage$2(DAGScheduler.scala:2792)\n",
      "\tat org.apache.spark.scheduler.DAGScheduler.$anonfun$abortStage$2$adapted(DAGScheduler.scala:2791)\n",
      "\tat scala.collection.mutable.ResizableArray.foreach(ResizableArray.scala:62)\n",
      "\tat scala.collection.mutable.ResizableArray.foreach$(ResizableArray.scala:55)\n",
      "\tat scala.collection.mutable.ArrayBuffer.foreach(ArrayBuffer.scala:49)\n",
      "\tat org.apache.spark.scheduler.DAGScheduler.abortStage(DAGScheduler.scala:2791)\n",
      "\tat org.apache.spark.scheduler.DAGScheduler.$anonfun$handleTaskSetFailed$1(DAGScheduler.scala:1247)\n",
      "\tat org.apache.spark.scheduler.DAGScheduler.$anonfun$handleTaskSetFailed$1$adapted(DAGScheduler.scala:1247)\n",
      "\tat scala.Option.foreach(Option.scala:407)\n",
      "\tat org.apache.spark.scheduler.DAGScheduler.handleTaskSetFailed(DAGScheduler.scala:1247)\n",
      "\tat org.apache.spark.scheduler.DAGSchedulerEventProcessLoop.doOnReceive(DAGScheduler.scala:3060)\n",
      "\tat org.apache.spark.scheduler.DAGSchedulerEventProcessLoop.onReceive(DAGScheduler.scala:2994)\n",
      "\tat org.apache.spark.scheduler.DAGSchedulerEventProcessLoop.onReceive(DAGScheduler.scala:2983)\n",
      "\tat org.apache.spark.util.EventLoop$$anon$1.run(EventLoop.scala:49)\n",
      "\tat org.apache.spark.scheduler.DAGScheduler.runJob(DAGScheduler.scala:989)\n",
      "\tat org.apache.spark.SparkContext.runJob(SparkContext.scala:2398)\n",
      "\tat org.apache.spark.SparkContext.runJob(SparkContext.scala:2419)\n",
      "\tat org.apache.spark.SparkContext.runJob(SparkContext.scala:2438)\n",
      "\tat org.apache.spark.sql.execution.SparkPlan.executeTake(SparkPlan.scala:530)\n",
      "\tat org.apache.spark.sql.execution.SparkPlan.executeTake(SparkPlan.scala:483)\n",
      "\tat org.apache.spark.sql.execution.CollectLimitExec.executeCollect(limit.scala:61)\n",
      "\tat org.apache.spark.sql.Dataset.collectFromPlan(Dataset.scala:4332)\n",
      "\tat org.apache.spark.sql.Dataset.$anonfun$head$1(Dataset.scala:3314)\n",
      "\tat org.apache.spark.sql.Dataset.$anonfun$withAction$2(Dataset.scala:4322)\n",
      "\tat org.apache.spark.sql.execution.QueryExecution$.withInternalError(QueryExecution.scala:546)\n",
      "\tat org.apache.spark.sql.Dataset.$anonfun$withAction$1(Dataset.scala:4320)\n",
      "\tat org.apache.spark.sql.execution.SQLExecution$.$anonfun$withNewExecutionId$6(SQLExecution.scala:125)\n",
      "\tat org.apache.spark.sql.execution.SQLExecution$.withSQLConfPropagated(SQLExecution.scala:201)\n",
      "\tat org.apache.spark.sql.execution.SQLExecution$.$anonfun$withNewExecutionId$1(SQLExecution.scala:108)\n",
      "\tat org.apache.spark.sql.SparkSession.withActive(SparkSession.scala:900)\n",
      "\tat org.apache.spark.sql.execution.SQLExecution$.withNewExecutionId(SQLExecution.scala:66)\n",
      "\tat org.apache.spark.sql.Dataset.withAction(Dataset.scala:4320)\n",
      "\tat org.apache.spark.sql.Dataset.head(Dataset.scala:3314)\n",
      "\tat org.apache.spark.sql.Dataset.take(Dataset.scala:3537)\n",
      "\tat org.apache.spark.sql.Dataset.getRows(Dataset.scala:280)\n",
      "\tat org.apache.spark.sql.Dataset.showString(Dataset.scala:315)\n",
      "\tat sun.reflect.NativeMethodAccessorImpl.invoke0(Native Method)\n",
      "\tat sun.reflect.NativeMethodAccessorImpl.invoke(Unknown Source)\n",
      "\tat sun.reflect.DelegatingMethodAccessorImpl.invoke(Unknown Source)\n",
      "\tat java.lang.reflect.Method.invoke(Unknown Source)\n",
      "\tat py4j.reflection.MethodInvoker.invoke(MethodInvoker.java:244)\n",
      "\tat py4j.reflection.ReflectionEngine.invoke(ReflectionEngine.java:374)\n",
      "\tat py4j.Gateway.invoke(Gateway.java:282)\n",
      "\tat py4j.commands.AbstractCommand.invokeMethod(AbstractCommand.java:132)\n",
      "\tat py4j.commands.CallCommand.execute(CallCommand.java:79)\n",
      "\tat py4j.ClientServerConnection.waitForCommands(ClientServerConnection.java:182)\n",
      "\tat py4j.ClientServerConnection.run(ClientServerConnection.java:106)\n",
      "\tat java.lang.Thread.run(Unknown Source)\n",
      "Caused by: org.apache.spark.SparkException: Python worker failed to connect back.\n",
      "\tat org.apache.spark.api.python.PythonWorkerFactory.createSimpleWorker(PythonWorkerFactory.scala:203)\n",
      "\tat org.apache.spark.api.python.PythonWorkerFactory.create(PythonWorkerFactory.scala:109)\n",
      "\tat org.apache.spark.SparkEnv.createPythonWorker(SparkEnv.scala:124)\n",
      "\tat org.apache.spark.api.python.BasePythonRunner.compute(PythonRunner.scala:174)\n",
      "\tat org.apache.spark.api.python.PythonRDD.compute(PythonRDD.scala:67)\n",
      "\tat org.apache.spark.rdd.RDD.computeOrReadCheckpoint(RDD.scala:367)\n",
      "\tat org.apache.spark.rdd.RDD.iterator(RDD.scala:331)\n",
      "\tat org.apache.spark.rdd.MapPartitionsRDD.compute(MapPartitionsRDD.scala:52)\n",
      "\tat org.apache.spark.rdd.RDD.computeOrReadCheckpoint(RDD.scala:367)\n",
      "\tat org.apache.spark.rdd.RDD.iterator(RDD.scala:331)\n",
      "\tat org.apache.spark.rdd.MapPartitionsRDD.compute(MapPartitionsRDD.scala:52)\n",
      "\tat org.apache.spark.rdd.RDD.computeOrReadCheckpoint(RDD.scala:367)\n",
      "\tat org.apache.spark.rdd.RDD.iterator(RDD.scala:331)\n",
      "\tat org.apache.spark.rdd.MapPartitionsRDD.compute(MapPartitionsRDD.scala:52)\n",
      "\tat org.apache.spark.rdd.RDD.computeOrReadCheckpoint(RDD.scala:367)\n",
      "\tat org.apache.spark.rdd.RDD.iterator(RDD.scala:331)\n",
      "\tat org.apache.spark.rdd.MapPartitionsRDD.compute(MapPartitionsRDD.scala:52)\n",
      "\tat org.apache.spark.rdd.RDD.computeOrReadCheckpoint(RDD.scala:367)\n",
      "\tat org.apache.spark.rdd.RDD.iterator(RDD.scala:331)\n",
      "\tat org.apache.spark.rdd.MapPartitionsRDD.compute(MapPartitionsRDD.scala:52)\n",
      "\tat org.apache.spark.rdd.RDD.computeOrReadCheckpoint(RDD.scala:367)\n",
      "\tat org.apache.spark.rdd.RDD.iterator(RDD.scala:331)\n",
      "\tat org.apache.spark.scheduler.ResultTask.runTask(ResultTask.scala:93)\n",
      "\tat org.apache.spark.TaskContext.runTaskWithListeners(TaskContext.scala:166)\n",
      "\tat org.apache.spark.scheduler.Task.run(Task.scala:141)\n",
      "\tat org.apache.spark.executor.Executor$TaskRunner.$anonfun$run$4(Executor.scala:620)\n",
      "\tat org.apache.spark.util.SparkErrorUtils.tryWithSafeFinally(SparkErrorUtils.scala:64)\n",
      "\tat org.apache.spark.util.SparkErrorUtils.tryWithSafeFinally$(SparkErrorUtils.scala:61)\n",
      "\tat org.apache.spark.util.Utils$.tryWithSafeFinally(Utils.scala:94)\n",
      "\tat org.apache.spark.executor.Executor$TaskRunner.run(Executor.scala:623)\n",
      "\tat java.util.concurrent.ThreadPoolExecutor.runWorker(Unknown Source)\n",
      "\tat java.util.concurrent.ThreadPoolExecutor$Worker.run(Unknown Source)\n",
      "\t... 1 more\n",
      "Caused by: java.net.SocketTimeoutException: Accept timed out\n",
      "\tat java.net.DualStackPlainSocketImpl.waitForNewConnection(Native Method)\n",
      "\tat java.net.DualStackPlainSocketImpl.socketAccept(Unknown Source)\n",
      "\tat java.net.AbstractPlainSocketImpl.accept(Unknown Source)\n",
      "\tat java.net.PlainSocketImpl.accept(Unknown Source)\n",
      "\tat java.net.ServerSocket.implAccept(Unknown Source)\n",
      "\tat java.net.ServerSocket.accept(Unknown Source)\n",
      "\tat org.apache.spark.api.python.PythonWorkerFactory.createSimpleWorker(PythonWorkerFactory.scala:190)\n",
      "\t... 32 more\n",
      "\n"
     ]
    }
   ],
   "source": [
    "splits = [0, 5, 15, 30, 60, 300, 900, 1280, float('Inf')]\n",
    "inputCol  = \"minutes\"\n",
    "outputCol = \"prep_time_bucket\"\n",
    "\n",
    "(interaction_level_df, prep_time_bucketizer, prep_time_summary_pandas_df) = bucket_col_print_summary(df = interaction_level_df,\n",
    "                                                                              splits = splits,\n",
    "                                                                              inputCol  = inputCol,\n",
    "                                                                              outputCol = outputCol)"
   ]
  },
  {
   "cell_type": "code",
   "execution_count": 84,
   "id": "9a8b9a31",
   "metadata": {},
   "outputs": [],
   "source": [
    "%matplotlib inline\n",
    "import matplotlib.pyplot as plt\n",
    "\n",
    "# Your Matplotlib code here\n"
   ]
  },
  {
   "cell_type": "markdown",
   "id": "976f2783",
   "metadata": {
    "id": "976f2783"
   },
   "source": [
    "### 3. n_steps\n",
    "\n",
    "1) Clearly relevant\n",
    "\n",
    "2) Recipes with less than 2 steps are rated high\n",
    "\n",
    "3) Recipes with more than 29 steps are rated very low"
   ]
  },
  {
   "cell_type": "code",
   "execution_count": 85,
   "id": "d43bd70e",
   "metadata": {
    "colab": {
     "referenced_widgets": [
      "1427c305c2494017bbfee55818bfc9cd",
      ""
     ]
    },
    "execution": {
     "iopub.execute_input": "2023-01-07T18:31:16.897331Z",
     "iopub.status.busy": "2023-01-07T18:31:16.897055Z",
     "iopub.status.idle": "2023-01-07T18:32:11.272102Z",
     "shell.execute_reply": "2023-01-07T18:32:11.271094Z",
     "shell.execute_reply.started": "2023-01-07T18:31:16.897300Z"
    },
    "id": "d43bd70e",
    "outputId": "908fe180-980d-435b-c63f-d0a7e093b1d6"
   },
   "outputs": [
    {
     "name": "stdout",
     "output_type": "stream",
     "text": [
      "0.25    1.0\n",
      "0.50    2.0\n",
      "0.75    2.0\n",
      "Name: n_steps, dtype: float64\n"
     ]
    }
   ],
   "source": [
    "import pandas as pd\n",
    "\n",
    "# Assuming df is your DataFrame with the relevant data\n",
    "interaction_level_df = pd.DataFrame({\n",
    "    'minutes': [10, 20, 30, 40, 50, 60, 70, 80, 90, 100],\n",
    "    'n_steps': [1, 2, 1, 3, 2, 1, 3, 2, 1, 2]\n",
    "})\n",
    "\n",
    "def get_quantiles(df, col_name, quantiles_list=[0.25, 0.5, 0.75]):\n",
    "    quantile_values = df[col_name].quantile(quantiles_list)\n",
    "    return quantile_values\n",
    "\n",
    "quantiles = get_quantiles(df=interaction_level_df, col_name=\"n_steps\")\n",
    "print(quantiles)\n"
   ]
  },
  {
   "cell_type": "code",
   "execution_count": 86,
   "id": "86395dd8",
   "metadata": {
    "colab": {
     "referenced_widgets": [
      "b0f1022554cc41d89fb33640e236f8c5",
      ""
     ]
    },
    "execution": {
     "iopub.execute_input": "2023-01-07T18:32:12.897745Z",
     "iopub.status.busy": "2023-01-07T18:32:12.897481Z",
     "iopub.status.idle": "2023-01-07T18:32:30.300001Z",
     "shell.execute_reply": "2023-01-07T18:32:30.298869Z",
     "shell.execute_reply.started": "2023-01-07T18:32:12.897714Z"
    },
    "id": "86395dd8",
    "outputId": "315d07f6-ce44-45f2-9915-9a698094ef5f"
   },
   "outputs": [
    {
     "name": "stdout",
     "output_type": "stream",
     "text": [
      "   minutes  n_steps\n",
      "0       10        0\n",
      "3       40        0\n"
     ]
    }
   ],
   "source": [
    "import pandas as pd\n",
    "\n",
    "# Assuming interaction_level_df is your DataFrame with the relevant data\n",
    "interaction_level_df = pd.DataFrame({\n",
    "    'minutes': [10, 20, 30, 40, 50],\n",
    "    'n_steps': [0, 2, 1, 0, 2]\n",
    "})\n",
    "\n",
    "# Filter rows where 'n_steps' is 0\n",
    "filtered_df = interaction_level_df[interaction_level_df['n_steps'] == 0]\n",
    "print(filtered_df.head(5))\n"
   ]
  },
  {
   "cell_type": "code",
   "execution_count": 87,
   "id": "664203d3",
   "metadata": {
    "colab": {
     "referenced_widgets": [
      "02a96817054a4b91b02945b2e0eaef6c",
      ""
     ]
    },
    "execution": {
     "iopub.execute_input": "2023-01-07T18:32:37.326687Z",
     "iopub.status.busy": "2023-01-07T18:32:37.326366Z",
     "iopub.status.idle": "2023-01-07T18:33:02.929940Z",
     "shell.execute_reply": "2023-01-07T18:33:02.929068Z",
     "shell.execute_reply.started": "2023-01-07T18:32:37.326652Z"
    },
    "id": "664203d3",
    "outputId": "c7fe80e9-54a6-45db-ae69-83424445391a"
   },
   "outputs": [
    {
     "name": "stdout",
     "output_type": "stream",
     "text": [
      "recipe_name\n",
      "Recipe 1    1\n",
      "Recipe 4    1\n",
      "Name: recipe_name, dtype: int64\n"
     ]
    }
   ],
   "source": [
    "import pandas as pd\n",
    "\n",
    "# Assuming df is your DataFrame with the relevant data\n",
    "interaction_level_df = pd.DataFrame({\n",
    "    'minutes': [10, 20, 30, 40, 50],\n",
    "    'n_steps': [0, 2, 1, 0, 2],\n",
    "    'recipe_name': ['Recipe 1', 'Recipe 2', 'Recipe 3', 'Recipe 4', 'Recipe 5']\n",
    "})\n",
    "\n",
    "def get_n_items_satisfying_condition(df, condition, aggregation_level):\n",
    "    if aggregation_level.lower() == 'recipe_name':  # Adjusted to 'recipe_name'\n",
    "        count = df[df.eval(condition)].groupby(aggregation_level)['recipe_name'].size()\n",
    "    else:\n",
    "        raise ValueError(\"Invalid aggregation level. Choose 'recipe_name'.\")  # Adjusted message\n",
    "\n",
    "    return count\n",
    "\n",
    "count_recipes = get_n_items_satisfying_condition(df=interaction_level_df,\n",
    "                                                 condition='n_steps == 0',\n",
    "                                                 aggregation_level=\"recipe_name\")  # Adjusted to 'recipe_name'\n",
    "print(count_recipes)\n"
   ]
  },
  {
   "cell_type": "code",
   "execution_count": 88,
   "id": "8f8fd587",
   "metadata": {
    "colab": {
     "referenced_widgets": [
      "197b4cec9a324ef997459e5063a3867f",
      ""
     ]
    },
    "execution": {
     "iopub.execute_input": "2023-01-07T18:33:04.632950Z",
     "iopub.status.busy": "2023-01-07T18:33:04.632642Z",
     "iopub.status.idle": "2023-01-07T18:33:04.728990Z",
     "shell.execute_reply": "2023-01-07T18:33:04.728102Z",
     "shell.execute_reply.started": "2023-01-07T18:33:04.632918Z"
    },
    "id": "8f8fd587",
    "outputId": "692d509f-a2a6-457e-fe89-a81269728f48"
   },
   "outputs": [],
   "source": [
    "# Remove recipes with n_steps zero\n",
    "\n",
    "interaction_level_df = interaction_level_df.filter(\"n_steps > 0\")"
   ]
  },
  {
   "cell_type": "code",
   "execution_count": 89,
   "id": "d401ed59",
   "metadata": {
    "colab": {
     "referenced_widgets": [
      "96cce9cf7d3c43ad9da4b7e38676b3f0",
      ""
     ]
    },
    "execution": {
     "iopub.execute_input": "2023-01-07T18:33:06.705237Z",
     "iopub.status.busy": "2023-01-07T18:33:06.704940Z",
     "iopub.status.idle": "2023-01-07T18:33:22.254377Z",
     "shell.execute_reply": "2023-01-07T18:33:22.253495Z",
     "shell.execute_reply.started": "2023-01-07T18:33:06.705204Z"
    },
    "id": "d401ed59",
    "outputId": "ee993351-58fa-4fee-f754-16bae2b62e91"
   },
   "outputs": [
    {
     "name": "stdout",
     "output_type": "stream",
     "text": [
      "An error occurred: 'DataFrame' object has no attribute '_jdf'\n"
     ]
    }
   ],
   "source": [
    "splits = [0, 2, 6, 8, 12, 29, float('Inf')]\n",
    "inputCol  = \"n_steps\"\n",
    "outputCol = \"n_steps_bucket\"\n",
    "\n",
    "(interaction_level_df, n_steps_bucketizer, n_steps_pandas_df) = bucket_col_print_summary(df = interaction_level_df,\n",
    "                                                                              splits = splits,\n",
    "                                                                              inputCol  = inputCol,\n",
    "                                                                              outputCol = outputCol)"
   ]
  },
  {
   "cell_type": "code",
   "execution_count": 90,
   "id": "292d69de",
   "metadata": {
    "colab": {
     "referenced_widgets": [
      ""
     ]
    },
    "execution": {
     "iopub.execute_input": "2023-01-07T18:33:23.930268Z",
     "iopub.status.busy": "2023-01-07T18:33:23.929980Z",
     "iopub.status.idle": "2023-01-07T18:33:24.707478Z",
     "shell.execute_reply": "2023-01-07T18:33:24.706554Z",
     "shell.execute_reply.started": "2023-01-07T18:33:23.930235Z"
    },
    "id": "292d69de",
    "outputId": "70c5e308-26f4-46dc-e375-717e8d816805"
   },
   "outputs": [],
   "source": [
    "%matplotlib inline\n"
   ]
  },
  {
   "cell_type": "markdown",
   "id": "c45e82e8",
   "metadata": {
    "id": "c45e82e8"
   },
   "source": [
    "### 4. n_ingredients\n",
    "\n",
    "Not relevant"
   ]
  },
  {
   "cell_type": "code",
   "execution_count": 91,
   "id": "68847e47",
   "metadata": {
    "colab": {
     "referenced_widgets": [
      "e9eb7e9168a24948b18681bf9eefe419",
      ""
     ]
    },
    "execution": {
     "iopub.execute_input": "2023-01-07T18:33:31.460996Z",
     "iopub.status.busy": "2023-01-07T18:33:31.460540Z",
     "iopub.status.idle": "2023-01-07T18:34:19.257333Z",
     "shell.execute_reply": "2023-01-07T18:34:19.256403Z",
     "shell.execute_reply.started": "2023-01-07T18:33:31.460945Z"
    },
    "id": "68847e47",
    "outputId": "ad98f952-7fbb-4633-e53f-450d574560ff"
   },
   "outputs": [
    {
     "name": "stdout",
     "output_type": "stream",
     "text": [
      "0.25    3.0\n",
      "0.50    5.0\n",
      "0.75    6.0\n",
      "Name: n_ingredients, dtype: float64\n"
     ]
    }
   ],
   "source": [
    "import pandas as pd\n",
    "\n",
    "# Assuming df is your DataFrame with the relevant data\n",
    "interaction_level_df = pd.DataFrame({\n",
    "    'minutes': [10, 20, 30, 40, 50],\n",
    "    'n_ingredients': [5, 8, 3, 6, 2],\n",
    "    'recipe_name': ['Recipe 1', 'Recipe 2', 'Recipe 3', 'Recipe 4', 'Recipe 5']\n",
    "})\n",
    "\n",
    "def get_quantiles(df, col_name, quantiles_list=[0.25, 0.5, 0.75]):\n",
    "    quantile_values = df[col_name].quantile(quantiles_list)\n",
    "    return quantile_values\n",
    "\n",
    "quantiles_n_ingredients = get_quantiles(df=interaction_level_df, col_name=\"n_ingredients\")\n",
    "print(quantiles_n_ingredients)\n"
   ]
  },
  {
   "cell_type": "code",
   "execution_count": 92,
   "id": "76fccd3a",
   "metadata": {
    "colab": {
     "referenced_widgets": [
      "535edb3315054c5484c431bcfb24ea57",
      ""
     ]
    },
    "execution": {
     "iopub.execute_input": "2023-01-07T18:34:20.904299Z",
     "iopub.status.busy": "2023-01-07T18:34:20.904011Z",
     "iopub.status.idle": "2023-01-07T18:34:36.404082Z",
     "shell.execute_reply": "2023-01-07T18:34:36.403077Z",
     "shell.execute_reply.started": "2023-01-07T18:34:20.904268Z"
    },
    "id": "76fccd3a",
    "outputId": "900e37f5-a6a2-4f94-db72-d23b1df422fb"
   },
   "outputs": [
    {
     "name": "stdout",
     "output_type": "stream",
     "text": [
      "An error occurred: 'DataFrame' object has no attribute '_jdf'\n"
     ]
    }
   ],
   "source": [
    "splits = [0, 6, 9, 11, float('Inf')]\n",
    "inputCol  = \"n_ingredients\"\n",
    "outputCol = \"n_ingredients_bucket\"\n",
    "\n",
    "(interaction_level_df, n_ingredients_bucketizer, n_ingredients_pandas_df) = bucket_col_print_summary(df = interaction_level_df,\n",
    "                                                                              splits = splits,\n",
    "                                                                              inputCol  = inputCol,\n",
    "                                                                              outputCol = outputCol)"
   ]
  },
  {
   "cell_type": "code",
   "execution_count": 93,
   "id": "7f97b45a",
   "metadata": {
    "colab": {
     "referenced_widgets": [
      ""
     ]
    },
    "execution": {
     "iopub.execute_input": "2023-01-07T18:34:38.205901Z",
     "iopub.status.busy": "2023-01-07T18:34:38.205628Z",
     "iopub.status.idle": "2023-01-07T18:34:38.472859Z",
     "shell.execute_reply": "2023-01-07T18:34:38.471861Z",
     "shell.execute_reply.started": "2023-01-07T18:34:38.205869Z"
    },
    "id": "7f97b45a",
    "outputId": "a1900bd5-00f7-4efe-f7b6-44bea1b0a3f9"
   },
   "outputs": [],
   "source": [
    "%matplotlib inline\n",
    "import matplotlib.pyplot as plt\n"
   ]
  },
  {
   "cell_type": "markdown",
   "id": "5764f961",
   "metadata": {
    "id": "5764f961"
   },
   "source": [
    "### 5. nutrition columns\n",
    "\n",
    "- `calories` - Calories per serving seems irrelevant\n",
    "- `fat (per 100 cal)` - Calories per serving seems irrelevant\n",
    "- `sugar (per 100 cal)` - Calories per serving seems irrelevant\n",
    "- `sodium (per 100 cal)` - Calories per serving seems irrelevant\n",
    "- `protein (per 100 cal)` - Calories per serving seems irrelevant\n",
    "- `sat. fat (per 100 cal)` - Calories per serving seems irrelevant\n",
    "- `carbs (per 100 cal)` - Calories per serving seems irrelevant"
   ]
  },
  {
   "cell_type": "code",
   "execution_count": 94,
   "id": "b319005f",
   "metadata": {
    "colab": {
     "referenced_widgets": [
      "66900aba080e4f9ab6ed09b0babe9a88",
      ""
     ]
    },
    "execution": {
     "iopub.execute_input": "2023-01-07T18:34:44.496962Z",
     "iopub.status.busy": "2023-01-07T18:34:44.496667Z",
     "iopub.status.idle": "2023-01-07T18:34:44.569812Z",
     "shell.execute_reply": "2023-01-07T18:34:44.569111Z",
     "shell.execute_reply.started": "2023-01-07T18:34:44.496931Z"
    },
    "id": "b319005f",
    "outputId": "683e7588-d10e-427b-cec0-b286da85b31a"
   },
   "outputs": [
    {
     "data": {
      "text/plain": [
       "Index(['minutes', 'n_ingredients', 'recipe_name'], dtype='object')"
      ]
     },
     "execution_count": 94,
     "metadata": {},
     "output_type": "execute_result"
    }
   ],
   "source": [
    "interaction_level_df.columns "
   ]
  },
  {
   "cell_type": "code",
   "execution_count": 95,
   "id": "f1887c78",
   "metadata": {
    "colab": {
     "referenced_widgets": [
      "67da94e2ad9846638b993fd0f19f7e20",
      ""
     ]
    },
    "execution": {
     "iopub.execute_input": "2023-01-07T18:34:47.549082Z",
     "iopub.status.busy": "2023-01-07T18:34:47.548777Z",
     "iopub.status.idle": "2023-01-07T18:34:47.635649Z",
     "shell.execute_reply": "2023-01-07T18:34:47.634766Z",
     "shell.execute_reply.started": "2023-01-07T18:34:47.549050Z"
    },
    "id": "f1887c78",
    "outputId": "d13ff4eb-8e99-4ab5-f320-f76a9dbd8d9d"
   },
   "outputs": [],
   "source": [
    "nutrition_cols = ['calories', \n",
    "                  'total_fat_PDV', \n",
    "                  'sugar_PDV', \n",
    "                  'sodium_PDV', \n",
    "                  'protein_PDV', \n",
    "                  'saturated_fat_PDV', \n",
    "                  'carbohydrates_PDV', \n",
    "                  'total_fat_per_100_cal', \n",
    "                  'sugar_per_100_cal', \n",
    "                  'sodium_per_100_cal', \n",
    "                  'protein_per_100_cal', \n",
    "                  'saturated_fat_per_100_cal', \n",
    "                  'carbohydrates_per_100_cal']\n",
    "\n",
    "quantiles_list = [0.00, 0.05, 0.25, 0.5, 0.75, 0.95, 1.00]\n",
    "nutrition_col_quantiles = pd.DataFrame(index = quantiles_list)"
   ]
  },
  {
   "cell_type": "code",
   "execution_count": 96,
   "id": "e7caa355",
   "metadata": {
    "colab": {
     "referenced_widgets": [
      "c1822134ef77464e99e590491a99b3ab",
      ""
     ]
    },
    "id": "e7caa355",
    "outputId": "1f40b4b3-e7cc-4d3a-caa9-b83f2c96bd00",
    "tags": []
   },
   "outputs": [
    {
     "name": "stdout",
     "output_type": "stream",
     "text": [
      "Index(['minutes', 'n_ingredients', 'recipe_name'], dtype='object')\n",
      "Column 'calories' not found in DataFrame.\n",
      "Column 'protein' not found in DataFrame.\n",
      "Column 'fat' not found in DataFrame.\n",
      "Column 'carbs' not found in DataFrame.\n",
      "Column 'fiber' not found in DataFrame.\n",
      "{}\n"
     ]
    }
   ],
   "source": [
    "# Print the columns of your DataFrame to check for the correct column names\n",
    "print(interaction_level_df.columns)\n",
    "\n",
    "# Assuming nutrition_cols is a list of column names\n",
    "nutrition_cols = ['calories', 'protein', 'fat', 'carbs', 'fiber']\n",
    "\n",
    "# Assuming quantiles_list is defined somewhere in your code\n",
    "quantiles_list = [0.25, 0.5, 0.75]\n",
    "\n",
    "# Create an empty dictionary to store quantiles for each column\n",
    "nutrition_col_quantiles = {}\n",
    "\n",
    "for col in nutrition_cols:\n",
    "    if col in interaction_level_df.columns:\n",
    "        # Check if the column exists in the DataFrame\n",
    "        nutrition_col_quantiles[col] = (get_quantiles(df=interaction_level_df,\n",
    "                                                      col_name=col,\n",
    "                                                      quantiles_list=quantiles_list)\n",
    "                                        .values())\n",
    "    else:\n",
    "        print(f\"Column '{col}' not found in DataFrame.\")\n",
    "\n",
    "# Print the dictionary containing quantiles for each column\n",
    "print(nutrition_col_quantiles)\n"
   ]
  },
  {
   "cell_type": "code",
   "execution_count": 97,
   "id": "eea1fe47",
   "metadata": {
    "colab": {
     "referenced_widgets": [
      "dd616fa9399b4462b4d80e5f71e12090",
      ""
     ]
    },
    "id": "eea1fe47",
    "outputId": "d6269f33-d96b-4e14-9698-81a44bf88329"
   },
   "outputs": [
    {
     "name": "stdout",
     "output_type": "stream",
     "text": [
      "KeyError: 'calories' not found in nutrition_col_quantiles. Skipping...\n",
      "KeyError: 'protein' not found in nutrition_col_quantiles. Skipping...\n",
      "KeyError: 'fat' not found in nutrition_col_quantiles. Skipping...\n",
      "KeyError: 'carbs' not found in nutrition_col_quantiles. Skipping...\n",
      "KeyError: 'fiber' not found in nutrition_col_quantiles. Skipping...\n",
      "Empty DataFrame\n",
      "Columns: []\n",
      "Index: [0.00-0.25, 0.25-0.50, 0.50-0.75, 0.75-0.95, 0.95 - 1.00]\n"
     ]
    }
   ],
   "source": [
    "nutrition_col_quantile_summary = pd.DataFrame(index=[\"0.00-0.25\", \"0.25-0.50\", \"0.50-0.75\", \"0.75-0.95\", \"0.95 - 1.00\"])\n",
    "\n",
    "for col in nutrition_cols:\n",
    "    try:\n",
    "        quantile_values = nutrition_col_quantiles[col]  # Access values directly from the dictionary\n",
    "        splits = [0] + [round(quantile_values[q], 2) for q in [0.25, 0.5, 0.75, 0.95]] + [float('Inf')]\n",
    "        inputCol = col\n",
    "        outputCol = col + \"_bucket\"\n",
    "\n",
    "        if outputCol in interaction_level_df.columns:\n",
    "            interaction_level_df = interaction_level_df.drop(outputCol)\n",
    "\n",
    "        # Training bucketizer\n",
    "        bucketizer = Bucketizer(splits=splits, inputCol=inputCol, outputCol=outputCol)\n",
    "        interaction_level_df = bucketizer.setHandleInvalid(\"keep\").transform(interaction_level_df)\n",
    "\n",
    "        # Calculate average rating and update the summary DataFrame\n",
    "        avg_rating_df = (interaction_level_df\n",
    "                         .groupBy(outputCol)\n",
    "                         .agg(F.avg('rating').alias('avg_rating'))\n",
    "                         .sort(outputCol))\n",
    "\n",
    "        avg_rating_values = avg_rating_df.select('avg_rating').toPandas().values.flatten()\n",
    "        nutrition_col_quantile_summary[col] = avg_rating_values\n",
    "    except KeyError:\n",
    "        print(f\"KeyError: '{col}' not found in nutrition_col_quantiles. Skipping...\")\n",
    "        continue\n",
    "\n",
    "# Print or inspect the summary DataFrame\n",
    "print(nutrition_col_quantile_summary)\n"
   ]
  },
  {
   "cell_type": "code",
   "execution_count": 98,
   "id": "08ccae08",
   "metadata": {
    "colab": {
     "referenced_widgets": [
      "81e3bcd3ef9044d785d87ec28659006c",
      ""
     ]
    },
    "id": "08ccae08",
    "outputId": "cc98b137-68bd-4e25-a9dd-aaf9887b97bf"
   },
   "outputs": [],
   "source": [
    "# set the max columns to none\n",
    "pd.set_option('display.max_columns', None)"
   ]
  },
  {
   "cell_type": "code",
   "execution_count": 99,
   "id": "ac45ea5c",
   "metadata": {
    "colab": {
     "referenced_widgets": [
      "c16efc1192744042af4ccd7330dd57f8",
      ""
     ]
    },
    "id": "ac45ea5c",
    "outputId": "924dad1e-b3dd-436b-bab7-c90edcaf10b9"
   },
   "outputs": [
    {
     "data": {
      "text/html": [
       "<div>\n",
       "<style scoped>\n",
       "    .dataframe tbody tr th:only-of-type {\n",
       "        vertical-align: middle;\n",
       "    }\n",
       "\n",
       "    .dataframe tbody tr th {\n",
       "        vertical-align: top;\n",
       "    }\n",
       "\n",
       "    .dataframe thead th {\n",
       "        text-align: right;\n",
       "    }\n",
       "</style>\n",
       "<table border=\"1\" class=\"dataframe\">\n",
       "  <thead>\n",
       "    <tr style=\"text-align: right;\">\n",
       "      <th></th>\n",
       "    </tr>\n",
       "  </thead>\n",
       "  <tbody>\n",
       "    <tr>\n",
       "      <th>0.00-0.25</th>\n",
       "    </tr>\n",
       "    <tr>\n",
       "      <th>0.25-0.50</th>\n",
       "    </tr>\n",
       "    <tr>\n",
       "      <th>0.50-0.75</th>\n",
       "    </tr>\n",
       "    <tr>\n",
       "      <th>0.75-0.95</th>\n",
       "    </tr>\n",
       "    <tr>\n",
       "      <th>0.95 - 1.00</th>\n",
       "    </tr>\n",
       "  </tbody>\n",
       "</table>\n",
       "</div>"
      ],
      "text/plain": [
       "Empty DataFrame\n",
       "Columns: []\n",
       "Index: [0.00-0.25, 0.25-0.50, 0.50-0.75, 0.75-0.95, 0.95 - 1.00]"
      ]
     },
     "execution_count": 99,
     "metadata": {},
     "output_type": "execute_result"
    }
   ],
   "source": [
    "nutrition_col_quantile_summary"
   ]
  },
  {
   "cell_type": "markdown",
   "id": "96328590",
   "metadata": {
    "id": "96328590"
   },
   "source": [
    "### ##########02_EDA-CompleteSolution Completed#############"
   ]
  },
  {
   "cell_type": "markdown",
   "id": "4a0b3811",
   "metadata": {
    "id": "4a0b3811"
   },
   "source": [
    "# <font color = Black >  03_FEATURE_EXTRACTION_PART_02  </font>"
   ]
  },
  {
   "cell_type": "markdown",
   "id": "46358d8f",
   "metadata": {
    "id": "46358d8f"
   },
   "source": [
    "## <font color = BLUE >  Initial Setup  </font>"
   ]
  },
  {
   "cell_type": "code",
   "execution_count": 100,
   "id": "ccf99f8e",
   "metadata": {
    "colab": {
     "referenced_widgets": [
      "78b8b0c841f6447991b52cd3026294c9",
      ""
     ]
    },
    "id": "ccf99f8e",
    "outputId": "31dd7ce1-ee74-48bf-af49-dcb1eb168947"
   },
   "outputs": [],
   "source": [
    "from pyspark.sql import SparkSession"
   ]
  },
  {
   "cell_type": "code",
   "execution_count": 101,
   "id": "5936a876",
   "metadata": {
    "colab": {
     "referenced_widgets": [
      "fe3e7b2175ec4e49a5c9cc2528f6c236",
      ""
     ]
    },
    "id": "5936a876",
    "outputId": "cd3e5bef-77a9-4c98-fee0-55dcc4c890c8"
   },
   "outputs": [],
   "source": [
    "from pyspark.sql import SparkSession\n",
    "spark = SparkSession.builder.appName(\"Basics\").getOrCreate()"
   ]
  },
  {
   "cell_type": "code",
   "execution_count": 102,
   "id": "86828fb0",
   "metadata": {
    "colab": {
     "referenced_widgets": [
      "0320cf4b92874ed99574e8367bae7146",
      ""
     ]
    },
    "id": "86828fb0",
    "outputId": "ad12f799-1a02-4ca5-f1fd-84dcbb840984"
   },
   "outputs": [
    {
     "data": {
      "text/html": [
       "\n",
       "            <div>\n",
       "                <p><b>SparkSession - in-memory</b></p>\n",
       "                \n",
       "        <div>\n",
       "            <p><b>SparkContext</b></p>\n",
       "\n",
       "            <p><a href=\"http://DESKTOP-E9SKAKK:4040\">Spark UI</a></p>\n",
       "\n",
       "            <dl>\n",
       "              <dt>Version</dt>\n",
       "                <dd><code>v3.5.1</code></dd>\n",
       "              <dt>Master</dt>\n",
       "                <dd><code>local[*]</code></dd>\n",
       "              <dt>AppName</dt>\n",
       "                <dd><code>BucketizerExample</code></dd>\n",
       "            </dl>\n",
       "        </div>\n",
       "        \n",
       "            </div>\n",
       "        "
      ],
      "text/plain": [
       "<pyspark.sql.session.SparkSession at 0x1b7f0421d20>"
      ]
     },
     "execution_count": 102,
     "metadata": {},
     "output_type": "execute_result"
    }
   ],
   "source": [
    "spark"
   ]
  },
  {
   "cell_type": "code",
   "execution_count": 103,
   "id": "3f6e5987",
   "metadata": {
    "colab": {
     "referenced_widgets": [
      "5d62ac068dfc44c89b3f711cdac91b49",
      ""
     ]
    },
    "id": "3f6e5987",
    "outputId": "d89964b1-3f3f-4edf-ab16-98eeced76e2a"
   },
   "outputs": [
    {
     "name": "stdout",
     "output_type": "stream",
     "text": [
      "Requirement already satisfied: plotly==5.5.0 in c:\\users\\owner\\documents\\ana jupy\\lib\\site-packages (5.5.0)\n",
      "Collecting pandas==0.25.1\n",
      "  Using cached pandas-0.25.1.tar.gz (12.6 MB)\n",
      "  Preparing metadata (setup.py): started\n",
      "  Preparing metadata (setup.py): finished with status 'done'\n",
      "Collecting numpy==1.14.5\n",
      "  Using cached numpy-1.14.5.zip (4.9 MB)\n",
      "  Preparing metadata (setup.py): started\n",
      "  Preparing metadata (setup.py): finished with status 'done'\n",
      "Collecting matplotlib==3.1.1\n",
      "  Using cached matplotlib-3.1.1.tar.gz (37.8 MB)\n",
      "  Preparing metadata (setup.py): started\n",
      "  Preparing metadata (setup.py): finished with status 'done'\n",
      "Requirement already satisfied: tenacity>=6.2.0 in c:\\users\\owner\\documents\\ana jupy\\lib\\site-packages (from plotly==5.5.0) (8.0.1)\n",
      "Requirement already satisfied: six in c:\\users\\owner\\documents\\ana jupy\\lib\\site-packages (from plotly==5.5.0) (1.16.0)\n",
      "Requirement already satisfied: python-dateutil>=2.6.1 in c:\\users\\owner\\documents\\ana jupy\\lib\\site-packages (from pandas==0.25.1) (2.8.2)\n",
      "Requirement already satisfied: pytz>=2017.2 in c:\\users\\owner\\documents\\ana jupy\\lib\\site-packages (from pandas==0.25.1) (2022.7)\n",
      "Requirement already satisfied: cycler>=0.10 in c:\\users\\owner\\documents\\ana jupy\\lib\\site-packages (from matplotlib==3.1.1) (0.11.0)\n",
      "Requirement already satisfied: kiwisolver>=1.0.1 in c:\\users\\owner\\documents\\ana jupy\\lib\\site-packages (from matplotlib==3.1.1) (1.4.4)\n",
      "Requirement already satisfied: pyparsing!=2.0.4,!=2.1.2,!=2.1.6,>=2.0.1 in c:\\users\\owner\\documents\\ana jupy\\lib\\site-packages (from matplotlib==3.1.1) (3.0.9)\n",
      "Building wheels for collected packages: pandas, numpy, matplotlib\n",
      "  Building wheel for pandas (setup.py): started\n",
      "  Building wheel for pandas (setup.py): finished with status 'error'\n",
      "  Running setup.py clean for pandas\n",
      "  Building wheel for numpy (setup.py): started\n",
      "  Building wheel for numpy (setup.py): finished with status 'error'\n",
      "  Running setup.py clean for numpy\n",
      "  Building wheel for matplotlib (setup.py): started\n",
      "  Building wheel for matplotlib (setup.py): finished with status 'error'\n",
      "  Running setup.py clean for matplotlib\n",
      "Failed to build pandas numpy matplotlib\n",
      "Note: you may need to restart the kernel to use updated packages.\n"
     ]
    },
    {
     "name": "stderr",
     "output_type": "stream",
     "text": [
      "  error: subprocess-exited-with-error\n",
      "  \n",
      "  python setup.py bdist_wheel did not run successfully.\n",
      "  exit code: 1\n",
      "  \n",
      "  [907 lines of output]\n",
      "  running bdist_wheel\n",
      "  running build\n",
      "  running build_py\n",
      "  creating build\n",
      "  creating build\\lib.win-amd64-cpython-310\n",
      "  creating build\\lib.win-amd64-cpython-310\\pandas\n",
      "  copying pandas\\conftest.py -> build\\lib.win-amd64-cpython-310\\pandas\n",
      "  copying pandas\\testing.py -> build\\lib.win-amd64-cpython-310\\pandas\n",
      "  copying pandas\\_typing.py -> build\\lib.win-amd64-cpython-310\\pandas\n",
      "  copying pandas\\_version.py -> build\\lib.win-amd64-cpython-310\\pandas\n",
      "  copying pandas\\__init__.py -> build\\lib.win-amd64-cpython-310\\pandas\n",
      "  creating build\\lib.win-amd64-cpython-310\\pandas\\api\n",
      "  copying pandas\\api\\__init__.py -> build\\lib.win-amd64-cpython-310\\pandas\\api\n",
      "  creating build\\lib.win-amd64-cpython-310\\pandas\\arrays\n",
      "  copying pandas\\arrays\\__init__.py -> build\\lib.win-amd64-cpython-310\\pandas\\arrays\n",
      "  creating build\\lib.win-amd64-cpython-310\\pandas\\compat\n",
      "  copying pandas\\compat\\chainmap.py -> build\\lib.win-amd64-cpython-310\\pandas\\compat\n",
      "  copying pandas\\compat\\pickle_compat.py -> build\\lib.win-amd64-cpython-310\\pandas\\compat\n",
      "  copying pandas\\compat\\_optional.py -> build\\lib.win-amd64-cpython-310\\pandas\\compat\n",
      "  copying pandas\\compat\\__init__.py -> build\\lib.win-amd64-cpython-310\\pandas\\compat\n",
      "  creating build\\lib.win-amd64-cpython-310\\pandas\\core\n",
      "  copying pandas\\core\\accessor.py -> build\\lib.win-amd64-cpython-310\\pandas\\core\n",
      "  copying pandas\\core\\algorithms.py -> build\\lib.win-amd64-cpython-310\\pandas\\core\n",
      "  copying pandas\\core\\api.py -> build\\lib.win-amd64-cpython-310\\pandas\\core\n",
      "  copying pandas\\core\\apply.py -> build\\lib.win-amd64-cpython-310\\pandas\\core\n",
      "  copying pandas\\core\\base.py -> build\\lib.win-amd64-cpython-310\\pandas\\core\n",
      "  copying pandas\\core\\common.py -> build\\lib.win-amd64-cpython-310\\pandas\\core\n",
      "  copying pandas\\core\\config_init.py -> build\\lib.win-amd64-cpython-310\\pandas\\core\n",
      "  copying pandas\\core\\frame.py -> build\\lib.win-amd64-cpython-310\\pandas\\core\n",
      "  copying pandas\\core\\generic.py -> build\\lib.win-amd64-cpython-310\\pandas\\core\n",
      "  copying pandas\\core\\index.py -> build\\lib.win-amd64-cpython-310\\pandas\\core\n",
      "  copying pandas\\core\\indexers.py -> build\\lib.win-amd64-cpython-310\\pandas\\core\n",
      "  copying pandas\\core\\indexing.py -> build\\lib.win-amd64-cpython-310\\pandas\\core\n",
      "  copying pandas\\core\\missing.py -> build\\lib.win-amd64-cpython-310\\pandas\\core\n",
      "  copying pandas\\core\\nanops.py -> build\\lib.win-amd64-cpython-310\\pandas\\core\n",
      "  copying pandas\\core\\resample.py -> build\\lib.win-amd64-cpython-310\\pandas\\core\n",
      "  copying pandas\\core\\series.py -> build\\lib.win-amd64-cpython-310\\pandas\\core\n",
      "  copying pandas\\core\\sorting.py -> build\\lib.win-amd64-cpython-310\\pandas\\core\n",
      "  copying pandas\\core\\strings.py -> build\\lib.win-amd64-cpython-310\\pandas\\core\n",
      "  copying pandas\\core\\window.py -> build\\lib.win-amd64-cpython-310\\pandas\\core\n",
      "  copying pandas\\core\\__init__.py -> build\\lib.win-amd64-cpython-310\\pandas\\core\n",
      "  creating build\\lib.win-amd64-cpython-310\\pandas\\errors\n",
      "  copying pandas\\errors\\__init__.py -> build\\lib.win-amd64-cpython-310\\pandas\\errors\n",
      "  creating build\\lib.win-amd64-cpython-310\\pandas\\io\n",
      "  copying pandas\\io\\api.py -> build\\lib.win-amd64-cpython-310\\pandas\\io\n",
      "  copying pandas\\io\\clipboards.py -> build\\lib.win-amd64-cpython-310\\pandas\\io\n",
      "  copying pandas\\io\\common.py -> build\\lib.win-amd64-cpython-310\\pandas\\io\n",
      "  copying pandas\\io\\date_converters.py -> build\\lib.win-amd64-cpython-310\\pandas\\io\n",
      "  copying pandas\\io\\feather_format.py -> build\\lib.win-amd64-cpython-310\\pandas\\io\n",
      "  copying pandas\\io\\gbq.py -> build\\lib.win-amd64-cpython-310\\pandas\\io\n",
      "  copying pandas\\io\\gcs.py -> build\\lib.win-amd64-cpython-310\\pandas\\io\n",
      "  copying pandas\\io\\html.py -> build\\lib.win-amd64-cpython-310\\pandas\\io\n",
      "  copying pandas\\io\\packers.py -> build\\lib.win-amd64-cpython-310\\pandas\\io\n",
      "  copying pandas\\io\\parquet.py -> build\\lib.win-amd64-cpython-310\\pandas\\io\n",
      "  copying pandas\\io\\parsers.py -> build\\lib.win-amd64-cpython-310\\pandas\\io\n",
      "  copying pandas\\io\\pickle.py -> build\\lib.win-amd64-cpython-310\\pandas\\io\n",
      "  copying pandas\\io\\pytables.py -> build\\lib.win-amd64-cpython-310\\pandas\\io\n",
      "  copying pandas\\io\\s3.py -> build\\lib.win-amd64-cpython-310\\pandas\\io\n",
      "  copying pandas\\io\\spss.py -> build\\lib.win-amd64-cpython-310\\pandas\\io\n",
      "  copying pandas\\io\\sql.py -> build\\lib.win-amd64-cpython-310\\pandas\\io\n",
      "  copying pandas\\io\\stata.py -> build\\lib.win-amd64-cpython-310\\pandas\\io\n",
      "  copying pandas\\io\\__init__.py -> build\\lib.win-amd64-cpython-310\\pandas\\io\n",
      "  creating build\\lib.win-amd64-cpython-310\\pandas\\plotting\n",
      "  copying pandas\\plotting\\_core.py -> build\\lib.win-amd64-cpython-310\\pandas\\plotting\n",
      "  copying pandas\\plotting\\_misc.py -> build\\lib.win-amd64-cpython-310\\pandas\\plotting\n",
      "  copying pandas\\plotting\\__init__.py -> build\\lib.win-amd64-cpython-310\\pandas\\plotting\n",
      "  creating build\\lib.win-amd64-cpython-310\\pandas\\tests\n",
      "  copying pandas\\tests\\test_algos.py -> build\\lib.win-amd64-cpython-310\\pandas\\tests\n",
      "  copying pandas\\tests\\test_base.py -> build\\lib.win-amd64-cpython-310\\pandas\\tests\n",
      "  copying pandas\\tests\\test_common.py -> build\\lib.win-amd64-cpython-310\\pandas\\tests\n",
      "  copying pandas\\tests\\test_compat.py -> build\\lib.win-amd64-cpython-310\\pandas\\tests\n",
      "  copying pandas\\tests\\test_downstream.py -> build\\lib.win-amd64-cpython-310\\pandas\\tests\n",
      "  copying pandas\\tests\\test_errors.py -> build\\lib.win-amd64-cpython-310\\pandas\\tests\n",
      "  copying pandas\\tests\\test_expressions.py -> build\\lib.win-amd64-cpython-310\\pandas\\tests\n",
      "  copying pandas\\tests\\test_join.py -> build\\lib.win-amd64-cpython-310\\pandas\\tests\n",
      "  copying pandas\\tests\\test_lib.py -> build\\lib.win-amd64-cpython-310\\pandas\\tests\n",
      "  copying pandas\\tests\\test_multilevel.py -> build\\lib.win-amd64-cpython-310\\pandas\\tests\n",
      "  copying pandas\\tests\\test_nanops.py -> build\\lib.win-amd64-cpython-310\\pandas\\tests\n",
      "  copying pandas\\tests\\test_optional_dependency.py -> build\\lib.win-amd64-cpython-310\\pandas\\tests\n",
      "  copying pandas\\tests\\test_register_accessor.py -> build\\lib.win-amd64-cpython-310\\pandas\\tests\n",
      "  copying pandas\\tests\\test_sorting.py -> build\\lib.win-amd64-cpython-310\\pandas\\tests\n",
      "  copying pandas\\tests\\test_strings.py -> build\\lib.win-amd64-cpython-310\\pandas\\tests\n",
      "  copying pandas\\tests\\test_take.py -> build\\lib.win-amd64-cpython-310\\pandas\\tests\n",
      "  copying pandas\\tests\\__init__.py -> build\\lib.win-amd64-cpython-310\\pandas\\tests\n",
      "  creating build\\lib.win-amd64-cpython-310\\pandas\\tseries\n",
      "  copying pandas\\tseries\\api.py -> build\\lib.win-amd64-cpython-310\\pandas\\tseries\n",
      "  copying pandas\\tseries\\converter.py -> build\\lib.win-amd64-cpython-310\\pandas\\tseries\n",
      "  copying pandas\\tseries\\frequencies.py -> build\\lib.win-amd64-cpython-310\\pandas\\tseries\n",
      "  copying pandas\\tseries\\holiday.py -> build\\lib.win-amd64-cpython-310\\pandas\\tseries\n",
      "  copying pandas\\tseries\\offsets.py -> build\\lib.win-amd64-cpython-310\\pandas\\tseries\n",
      "  copying pandas\\tseries\\plotting.py -> build\\lib.win-amd64-cpython-310\\pandas\\tseries\n",
      "  copying pandas\\tseries\\__init__.py -> build\\lib.win-amd64-cpython-310\\pandas\\tseries\n",
      "  creating build\\lib.win-amd64-cpython-310\\pandas\\util\n",
      "  copying pandas\\util\\testing.py -> build\\lib.win-amd64-cpython-310\\pandas\\util\n",
      "  copying pandas\\util\\_decorators.py -> build\\lib.win-amd64-cpython-310\\pandas\\util\n",
      "  copying pandas\\util\\_depr_module.py -> build\\lib.win-amd64-cpython-310\\pandas\\util\n",
      "  copying pandas\\util\\_doctools.py -> build\\lib.win-amd64-cpython-310\\pandas\\util\n",
      "  copying pandas\\util\\_exceptions.py -> build\\lib.win-amd64-cpython-310\\pandas\\util\n",
      "  copying pandas\\util\\_print_versions.py -> build\\lib.win-amd64-cpython-310\\pandas\\util\n",
      "  copying pandas\\util\\_tester.py -> build\\lib.win-amd64-cpython-310\\pandas\\util\n",
      "  copying pandas\\util\\_test_decorators.py -> build\\lib.win-amd64-cpython-310\\pandas\\util\n",
      "  copying pandas\\util\\_validators.py -> build\\lib.win-amd64-cpython-310\\pandas\\util\n",
      "  copying pandas\\util\\__init__.py -> build\\lib.win-amd64-cpython-310\\pandas\\util\n",
      "  creating build\\lib.win-amd64-cpython-310\\pandas\\_config\n",
      "  copying pandas\\_config\\config.py -> build\\lib.win-amd64-cpython-310\\pandas\\_config\n",
      "  copying pandas\\_config\\dates.py -> build\\lib.win-amd64-cpython-310\\pandas\\_config\n",
      "  copying pandas\\_config\\display.py -> build\\lib.win-amd64-cpython-310\\pandas\\_config\n",
      "  copying pandas\\_config\\localization.py -> build\\lib.win-amd64-cpython-310\\pandas\\_config\n",
      "  copying pandas\\_config\\__init__.py -> build\\lib.win-amd64-cpython-310\\pandas\\_config\n",
      "  creating build\\lib.win-amd64-cpython-310\\pandas\\_libs\n",
      "  copying pandas\\_libs\\__init__.py -> build\\lib.win-amd64-cpython-310\\pandas\\_libs\n",
      "  creating build\\lib.win-amd64-cpython-310\\pandas\\api\\extensions\n",
      "  copying pandas\\api\\extensions\\__init__.py -> build\\lib.win-amd64-cpython-310\\pandas\\api\\extensions\n",
      "  creating build\\lib.win-amd64-cpython-310\\pandas\\api\\types\n",
      "  copying pandas\\api\\types\\__init__.py -> build\\lib.win-amd64-cpython-310\\pandas\\api\\types\n",
      "  creating build\\lib.win-amd64-cpython-310\\pandas\\compat\\numpy\n",
      "  copying pandas\\compat\\numpy\\function.py -> build\\lib.win-amd64-cpython-310\\pandas\\compat\\numpy\n",
      "  copying pandas\\compat\\numpy\\__init__.py -> build\\lib.win-amd64-cpython-310\\pandas\\compat\\numpy\n",
      "  creating build\\lib.win-amd64-cpython-310\\pandas\\core\\arrays\n",
      "  copying pandas\\core\\arrays\\array_.py -> build\\lib.win-amd64-cpython-310\\pandas\\core\\arrays\n",
      "  copying pandas\\core\\arrays\\base.py -> build\\lib.win-amd64-cpython-310\\pandas\\core\\arrays\n",
      "  copying pandas\\core\\arrays\\categorical.py -> build\\lib.win-amd64-cpython-310\\pandas\\core\\arrays\n",
      "  copying pandas\\core\\arrays\\datetimelike.py -> build\\lib.win-amd64-cpython-310\\pandas\\core\\arrays\n",
      "  copying pandas\\core\\arrays\\datetimes.py -> build\\lib.win-amd64-cpython-310\\pandas\\core\\arrays\n",
      "  copying pandas\\core\\arrays\\integer.py -> build\\lib.win-amd64-cpython-310\\pandas\\core\\arrays\n",
      "  copying pandas\\core\\arrays\\interval.py -> build\\lib.win-amd64-cpython-310\\pandas\\core\\arrays\n",
      "  copying pandas\\core\\arrays\\numpy_.py -> build\\lib.win-amd64-cpython-310\\pandas\\core\\arrays\n",
      "  copying pandas\\core\\arrays\\period.py -> build\\lib.win-amd64-cpython-310\\pandas\\core\\arrays\n",
      "  copying pandas\\core\\arrays\\sparse.py -> build\\lib.win-amd64-cpython-310\\pandas\\core\\arrays\n",
      "  copying pandas\\core\\arrays\\timedeltas.py -> build\\lib.win-amd64-cpython-310\\pandas\\core\\arrays\n",
      "  copying pandas\\core\\arrays\\_ranges.py -> build\\lib.win-amd64-cpython-310\\pandas\\core\\arrays\n",
      "  copying pandas\\core\\arrays\\__init__.py -> build\\lib.win-amd64-cpython-310\\pandas\\core\\arrays\n",
      "  creating build\\lib.win-amd64-cpython-310\\pandas\\core\\computation\n",
      "  copying pandas\\core\\computation\\align.py -> build\\lib.win-amd64-cpython-310\\pandas\\core\\computation\n",
      "  copying pandas\\core\\computation\\api.py -> build\\lib.win-amd64-cpython-310\\pandas\\core\\computation\n",
      "  copying pandas\\core\\computation\\check.py -> build\\lib.win-amd64-cpython-310\\pandas\\core\\computation\n",
      "  copying pandas\\core\\computation\\common.py -> build\\lib.win-amd64-cpython-310\\pandas\\core\\computation\n",
      "  copying pandas\\core\\computation\\engines.py -> build\\lib.win-amd64-cpython-310\\pandas\\core\\computation\n",
      "  copying pandas\\core\\computation\\eval.py -> build\\lib.win-amd64-cpython-310\\pandas\\core\\computation\n",
      "  copying pandas\\core\\computation\\expr.py -> build\\lib.win-amd64-cpython-310\\pandas\\core\\computation\n",
      "  copying pandas\\core\\computation\\expressions.py -> build\\lib.win-amd64-cpython-310\\pandas\\core\\computation\n",
      "  copying pandas\\core\\computation\\ops.py -> build\\lib.win-amd64-cpython-310\\pandas\\core\\computation\n",
      "  copying pandas\\core\\computation\\pytables.py -> build\\lib.win-amd64-cpython-310\\pandas\\core\\computation\n",
      "  copying pandas\\core\\computation\\scope.py -> build\\lib.win-amd64-cpython-310\\pandas\\core\\computation\n",
      "  copying pandas\\core\\computation\\__init__.py -> build\\lib.win-amd64-cpython-310\\pandas\\core\\computation\n",
      "  creating build\\lib.win-amd64-cpython-310\\pandas\\core\\dtypes\n",
      "  copying pandas\\core\\dtypes\\api.py -> build\\lib.win-amd64-cpython-310\\pandas\\core\\dtypes\n",
      "  copying pandas\\core\\dtypes\\base.py -> build\\lib.win-amd64-cpython-310\\pandas\\core\\dtypes\n",
      "  copying pandas\\core\\dtypes\\cast.py -> build\\lib.win-amd64-cpython-310\\pandas\\core\\dtypes\n",
      "  copying pandas\\core\\dtypes\\common.py -> build\\lib.win-amd64-cpython-310\\pandas\\core\\dtypes\n",
      "  copying pandas\\core\\dtypes\\concat.py -> build\\lib.win-amd64-cpython-310\\pandas\\core\\dtypes\n",
      "  copying pandas\\core\\dtypes\\dtypes.py -> build\\lib.win-amd64-cpython-310\\pandas\\core\\dtypes\n",
      "  copying pandas\\core\\dtypes\\generic.py -> build\\lib.win-amd64-cpython-310\\pandas\\core\\dtypes\n",
      "  copying pandas\\core\\dtypes\\inference.py -> build\\lib.win-amd64-cpython-310\\pandas\\core\\dtypes\n",
      "  copying pandas\\core\\dtypes\\missing.py -> build\\lib.win-amd64-cpython-310\\pandas\\core\\dtypes\n",
      "  copying pandas\\core\\dtypes\\__init__.py -> build\\lib.win-amd64-cpython-310\\pandas\\core\\dtypes\n",
      "  creating build\\lib.win-amd64-cpython-310\\pandas\\core\\groupby\n",
      "  copying pandas\\core\\groupby\\base.py -> build\\lib.win-amd64-cpython-310\\pandas\\core\\groupby\n",
      "  copying pandas\\core\\groupby\\categorical.py -> build\\lib.win-amd64-cpython-310\\pandas\\core\\groupby\n",
      "  copying pandas\\core\\groupby\\generic.py -> build\\lib.win-amd64-cpython-310\\pandas\\core\\groupby\n",
      "  copying pandas\\core\\groupby\\groupby.py -> build\\lib.win-amd64-cpython-310\\pandas\\core\\groupby\n",
      "  copying pandas\\core\\groupby\\grouper.py -> build\\lib.win-amd64-cpython-310\\pandas\\core\\groupby\n",
      "  copying pandas\\core\\groupby\\ops.py -> build\\lib.win-amd64-cpython-310\\pandas\\core\\groupby\n",
      "  copying pandas\\core\\groupby\\__init__.py -> build\\lib.win-amd64-cpython-310\\pandas\\core\\groupby\n",
      "  creating build\\lib.win-amd64-cpython-310\\pandas\\core\\indexes\n",
      "  copying pandas\\core\\indexes\\accessors.py -> build\\lib.win-amd64-cpython-310\\pandas\\core\\indexes\n",
      "  copying pandas\\core\\indexes\\api.py -> build\\lib.win-amd64-cpython-310\\pandas\\core\\indexes\n",
      "  copying pandas\\core\\indexes\\base.py -> build\\lib.win-amd64-cpython-310\\pandas\\core\\indexes\n",
      "  copying pandas\\core\\indexes\\category.py -> build\\lib.win-amd64-cpython-310\\pandas\\core\\indexes\n",
      "  copying pandas\\core\\indexes\\datetimelike.py -> build\\lib.win-amd64-cpython-310\\pandas\\core\\indexes\n",
      "  copying pandas\\core\\indexes\\datetimes.py -> build\\lib.win-amd64-cpython-310\\pandas\\core\\indexes\n",
      "  copying pandas\\core\\indexes\\frozen.py -> build\\lib.win-amd64-cpython-310\\pandas\\core\\indexes\n",
      "  copying pandas\\core\\indexes\\interval.py -> build\\lib.win-amd64-cpython-310\\pandas\\core\\indexes\n",
      "  copying pandas\\core\\indexes\\multi.py -> build\\lib.win-amd64-cpython-310\\pandas\\core\\indexes\n",
      "  copying pandas\\core\\indexes\\numeric.py -> build\\lib.win-amd64-cpython-310\\pandas\\core\\indexes\n",
      "  copying pandas\\core\\indexes\\period.py -> build\\lib.win-amd64-cpython-310\\pandas\\core\\indexes\n",
      "  copying pandas\\core\\indexes\\range.py -> build\\lib.win-amd64-cpython-310\\pandas\\core\\indexes\n",
      "  copying pandas\\core\\indexes\\timedeltas.py -> build\\lib.win-amd64-cpython-310\\pandas\\core\\indexes\n",
      "  copying pandas\\core\\indexes\\__init__.py -> build\\lib.win-amd64-cpython-310\\pandas\\core\\indexes\n",
      "  creating build\\lib.win-amd64-cpython-310\\pandas\\core\\internals\n",
      "  copying pandas\\core\\internals\\arrays.py -> build\\lib.win-amd64-cpython-310\\pandas\\core\\internals\n",
      "  copying pandas\\core\\internals\\blocks.py -> build\\lib.win-amd64-cpython-310\\pandas\\core\\internals\n",
      "  copying pandas\\core\\internals\\concat.py -> build\\lib.win-amd64-cpython-310\\pandas\\core\\internals\n",
      "  copying pandas\\core\\internals\\construction.py -> build\\lib.win-amd64-cpython-310\\pandas\\core\\internals\n",
      "  copying pandas\\core\\internals\\managers.py -> build\\lib.win-amd64-cpython-310\\pandas\\core\\internals\n",
      "  copying pandas\\core\\internals\\__init__.py -> build\\lib.win-amd64-cpython-310\\pandas\\core\\internals\n",
      "  creating build\\lib.win-amd64-cpython-310\\pandas\\core\\ops\n",
      "  copying pandas\\core\\ops\\docstrings.py -> build\\lib.win-amd64-cpython-310\\pandas\\core\\ops\n",
      "  copying pandas\\core\\ops\\missing.py -> build\\lib.win-amd64-cpython-310\\pandas\\core\\ops\n",
      "  copying pandas\\core\\ops\\roperator.py -> build\\lib.win-amd64-cpython-310\\pandas\\core\\ops\n",
      "  copying pandas\\core\\ops\\__init__.py -> build\\lib.win-amd64-cpython-310\\pandas\\core\\ops\n",
      "  creating build\\lib.win-amd64-cpython-310\\pandas\\core\\reshape\n",
      "  copying pandas\\core\\reshape\\api.py -> build\\lib.win-amd64-cpython-310\\pandas\\core\\reshape\n",
      "  copying pandas\\core\\reshape\\concat.py -> build\\lib.win-amd64-cpython-310\\pandas\\core\\reshape\n",
      "  copying pandas\\core\\reshape\\melt.py -> build\\lib.win-amd64-cpython-310\\pandas\\core\\reshape\n",
      "  copying pandas\\core\\reshape\\merge.py -> build\\lib.win-amd64-cpython-310\\pandas\\core\\reshape\n",
      "  copying pandas\\core\\reshape\\pivot.py -> build\\lib.win-amd64-cpython-310\\pandas\\core\\reshape\n",
      "  copying pandas\\core\\reshape\\reshape.py -> build\\lib.win-amd64-cpython-310\\pandas\\core\\reshape\n",
      "  copying pandas\\core\\reshape\\tile.py -> build\\lib.win-amd64-cpython-310\\pandas\\core\\reshape\n",
      "  copying pandas\\core\\reshape\\util.py -> build\\lib.win-amd64-cpython-310\\pandas\\core\\reshape\n",
      "  copying pandas\\core\\reshape\\__init__.py -> build\\lib.win-amd64-cpython-310\\pandas\\core\\reshape\n",
      "  creating build\\lib.win-amd64-cpython-310\\pandas\\core\\sparse\n",
      "  copying pandas\\core\\sparse\\api.py -> build\\lib.win-amd64-cpython-310\\pandas\\core\\sparse\n",
      "  copying pandas\\core\\sparse\\frame.py -> build\\lib.win-amd64-cpython-310\\pandas\\core\\sparse\n",
      "  copying pandas\\core\\sparse\\scipy_sparse.py -> build\\lib.win-amd64-cpython-310\\pandas\\core\\sparse\n",
      "  copying pandas\\core\\sparse\\series.py -> build\\lib.win-amd64-cpython-310\\pandas\\core\\sparse\n",
      "  copying pandas\\core\\sparse\\__init__.py -> build\\lib.win-amd64-cpython-310\\pandas\\core\\sparse\n",
      "  creating build\\lib.win-amd64-cpython-310\\pandas\\core\\tools\n",
      "  copying pandas\\core\\tools\\datetimes.py -> build\\lib.win-amd64-cpython-310\\pandas\\core\\tools\n",
      "  copying pandas\\core\\tools\\numeric.py -> build\\lib.win-amd64-cpython-310\\pandas\\core\\tools\n",
      "  copying pandas\\core\\tools\\timedeltas.py -> build\\lib.win-amd64-cpython-310\\pandas\\core\\tools\n",
      "  copying pandas\\core\\tools\\__init__.py -> build\\lib.win-amd64-cpython-310\\pandas\\core\\tools\n",
      "  creating build\\lib.win-amd64-cpython-310\\pandas\\core\\util\n",
      "  copying pandas\\core\\util\\hashing.py -> build\\lib.win-amd64-cpython-310\\pandas\\core\\util\n",
      "  copying pandas\\core\\util\\__init__.py -> build\\lib.win-amd64-cpython-310\\pandas\\core\\util\n",
      "  creating build\\lib.win-amd64-cpython-310\\pandas\\io\\clipboard\n",
      "  copying pandas\\io\\clipboard\\clipboards.py -> build\\lib.win-amd64-cpython-310\\pandas\\io\\clipboard\n",
      "  copying pandas\\io\\clipboard\\exceptions.py -> build\\lib.win-amd64-cpython-310\\pandas\\io\\clipboard\n",
      "  copying pandas\\io\\clipboard\\windows.py -> build\\lib.win-amd64-cpython-310\\pandas\\io\\clipboard\n",
      "  copying pandas\\io\\clipboard\\__init__.py -> build\\lib.win-amd64-cpython-310\\pandas\\io\\clipboard\n",
      "  creating build\\lib.win-amd64-cpython-310\\pandas\\io\\excel\n",
      "  copying pandas\\io\\excel\\_base.py -> build\\lib.win-amd64-cpython-310\\pandas\\io\\excel\n",
      "  copying pandas\\io\\excel\\_odfreader.py -> build\\lib.win-amd64-cpython-310\\pandas\\io\\excel\n",
      "  copying pandas\\io\\excel\\_openpyxl.py -> build\\lib.win-amd64-cpython-310\\pandas\\io\\excel\n",
      "  copying pandas\\io\\excel\\_util.py -> build\\lib.win-amd64-cpython-310\\pandas\\io\\excel\n",
      "  copying pandas\\io\\excel\\_xlrd.py -> build\\lib.win-amd64-cpython-310\\pandas\\io\\excel\n",
      "  copying pandas\\io\\excel\\_xlsxwriter.py -> build\\lib.win-amd64-cpython-310\\pandas\\io\\excel\n",
      "  copying pandas\\io\\excel\\_xlwt.py -> build\\lib.win-amd64-cpython-310\\pandas\\io\\excel\n",
      "  copying pandas\\io\\excel\\__init__.py -> build\\lib.win-amd64-cpython-310\\pandas\\io\\excel\n",
      "  creating build\\lib.win-amd64-cpython-310\\pandas\\io\\formats\n",
      "  copying pandas\\io\\formats\\console.py -> build\\lib.win-amd64-cpython-310\\pandas\\io\\formats\n",
      "  copying pandas\\io\\formats\\css.py -> build\\lib.win-amd64-cpython-310\\pandas\\io\\formats\n",
      "  copying pandas\\io\\formats\\csvs.py -> build\\lib.win-amd64-cpython-310\\pandas\\io\\formats\n",
      "  copying pandas\\io\\formats\\excel.py -> build\\lib.win-amd64-cpython-310\\pandas\\io\\formats\n",
      "  copying pandas\\io\\formats\\format.py -> build\\lib.win-amd64-cpython-310\\pandas\\io\\formats\n",
      "  copying pandas\\io\\formats\\html.py -> build\\lib.win-amd64-cpython-310\\pandas\\io\\formats\n",
      "  copying pandas\\io\\formats\\latex.py -> build\\lib.win-amd64-cpython-310\\pandas\\io\\formats\n",
      "  copying pandas\\io\\formats\\printing.py -> build\\lib.win-amd64-cpython-310\\pandas\\io\\formats\n",
      "  copying pandas\\io\\formats\\style.py -> build\\lib.win-amd64-cpython-310\\pandas\\io\\formats\n",
      "  copying pandas\\io\\formats\\__init__.py -> build\\lib.win-amd64-cpython-310\\pandas\\io\\formats\n",
      "  creating build\\lib.win-amd64-cpython-310\\pandas\\io\\json\n",
      "  copying pandas\\io\\json\\_json.py -> build\\lib.win-amd64-cpython-310\\pandas\\io\\json\n",
      "  copying pandas\\io\\json\\_normalize.py -> build\\lib.win-amd64-cpython-310\\pandas\\io\\json\n",
      "  copying pandas\\io\\json\\_table_schema.py -> build\\lib.win-amd64-cpython-310\\pandas\\io\\json\n",
      "  copying pandas\\io\\json\\__init__.py -> build\\lib.win-amd64-cpython-310\\pandas\\io\\json\n",
      "  creating build\\lib.win-amd64-cpython-310\\pandas\\io\\msgpack\n",
      "  copying pandas\\io\\msgpack\\exceptions.py -> build\\lib.win-amd64-cpython-310\\pandas\\io\\msgpack\n",
      "  copying pandas\\io\\msgpack\\_version.py -> build\\lib.win-amd64-cpython-310\\pandas\\io\\msgpack\n",
      "  copying pandas\\io\\msgpack\\__init__.py -> build\\lib.win-amd64-cpython-310\\pandas\\io\\msgpack\n",
      "  creating build\\lib.win-amd64-cpython-310\\pandas\\io\\sas\n",
      "  copying pandas\\io\\sas\\sas7bdat.py -> build\\lib.win-amd64-cpython-310\\pandas\\io\\sas\n",
      "  copying pandas\\io\\sas\\sasreader.py -> build\\lib.win-amd64-cpython-310\\pandas\\io\\sas\n",
      "  copying pandas\\io\\sas\\sas_constants.py -> build\\lib.win-amd64-cpython-310\\pandas\\io\\sas\n",
      "  copying pandas\\io\\sas\\sas_xport.py -> build\\lib.win-amd64-cpython-310\\pandas\\io\\sas\n",
      "  copying pandas\\io\\sas\\__init__.py -> build\\lib.win-amd64-cpython-310\\pandas\\io\\sas\n",
      "  creating build\\lib.win-amd64-cpython-310\\pandas\\plotting\\_matplotlib\n",
      "  copying pandas\\plotting\\_matplotlib\\boxplot.py -> build\\lib.win-amd64-cpython-310\\pandas\\plotting\\_matplotlib\n",
      "  copying pandas\\plotting\\_matplotlib\\compat.py -> build\\lib.win-amd64-cpython-310\\pandas\\plotting\\_matplotlib\n",
      "  copying pandas\\plotting\\_matplotlib\\converter.py -> build\\lib.win-amd64-cpython-310\\pandas\\plotting\\_matplotlib\n",
      "  copying pandas\\plotting\\_matplotlib\\core.py -> build\\lib.win-amd64-cpython-310\\pandas\\plotting\\_matplotlib\n",
      "  copying pandas\\plotting\\_matplotlib\\hist.py -> build\\lib.win-amd64-cpython-310\\pandas\\plotting\\_matplotlib\n",
      "  copying pandas\\plotting\\_matplotlib\\misc.py -> build\\lib.win-amd64-cpython-310\\pandas\\plotting\\_matplotlib\n",
      "  copying pandas\\plotting\\_matplotlib\\style.py -> build\\lib.win-amd64-cpython-310\\pandas\\plotting\\_matplotlib\n",
      "  copying pandas\\plotting\\_matplotlib\\timeseries.py -> build\\lib.win-amd64-cpython-310\\pandas\\plotting\\_matplotlib\n",
      "  copying pandas\\plotting\\_matplotlib\\tools.py -> build\\lib.win-amd64-cpython-310\\pandas\\plotting\\_matplotlib\n",
      "  copying pandas\\plotting\\_matplotlib\\__init__.py -> build\\lib.win-amd64-cpython-310\\pandas\\plotting\\_matplotlib\n",
      "  creating build\\lib.win-amd64-cpython-310\\pandas\\tests\\api\n",
      "  copying pandas\\tests\\api\\test_api.py -> build\\lib.win-amd64-cpython-310\\pandas\\tests\\api\n",
      "  copying pandas\\tests\\api\\test_types.py -> build\\lib.win-amd64-cpython-310\\pandas\\tests\\api\n",
      "  copying pandas\\tests\\api\\__init__.py -> build\\lib.win-amd64-cpython-310\\pandas\\tests\\api\n",
      "  creating build\\lib.win-amd64-cpython-310\\pandas\\tests\\arithmetic\n",
      "  copying pandas\\tests\\arithmetic\\conftest.py -> build\\lib.win-amd64-cpython-310\\pandas\\tests\\arithmetic\n",
      "  copying pandas\\tests\\arithmetic\\test_datetime64.py -> build\\lib.win-amd64-cpython-310\\pandas\\tests\\arithmetic\n",
      "  copying pandas\\tests\\arithmetic\\test_numeric.py -> build\\lib.win-amd64-cpython-310\\pandas\\tests\\arithmetic\n",
      "  copying pandas\\tests\\arithmetic\\test_object.py -> build\\lib.win-amd64-cpython-310\\pandas\\tests\\arithmetic\n",
      "  copying pandas\\tests\\arithmetic\\test_period.py -> build\\lib.win-amd64-cpython-310\\pandas\\tests\\arithmetic\n",
      "  copying pandas\\tests\\arithmetic\\test_timedelta64.py -> build\\lib.win-amd64-cpython-310\\pandas\\tests\\arithmetic\n",
      "  copying pandas\\tests\\arithmetic\\__init__.py -> build\\lib.win-amd64-cpython-310\\pandas\\tests\\arithmetic\n",
      "  creating build\\lib.win-amd64-cpython-310\\pandas\\tests\\arrays\n",
      "  copying pandas\\tests\\arrays\\test_array.py -> build\\lib.win-amd64-cpython-310\\pandas\\tests\\arrays\n",
      "  copying pandas\\tests\\arrays\\test_datetimelike.py -> build\\lib.win-amd64-cpython-310\\pandas\\tests\\arrays\n",
      "  copying pandas\\tests\\arrays\\test_datetimes.py -> build\\lib.win-amd64-cpython-310\\pandas\\tests\\arrays\n",
      "  copying pandas\\tests\\arrays\\test_integer.py -> build\\lib.win-amd64-cpython-310\\pandas\\tests\\arrays\n",
      "  copying pandas\\tests\\arrays\\test_numpy.py -> build\\lib.win-amd64-cpython-310\\pandas\\tests\\arrays\n",
      "  copying pandas\\tests\\arrays\\test_period.py -> build\\lib.win-amd64-cpython-310\\pandas\\tests\\arrays\n",
      "  copying pandas\\tests\\arrays\\test_timedeltas.py -> build\\lib.win-amd64-cpython-310\\pandas\\tests\\arrays\n",
      "  copying pandas\\tests\\arrays\\__init__.py -> build\\lib.win-amd64-cpython-310\\pandas\\tests\\arrays\n",
      "  creating build\\lib.win-amd64-cpython-310\\pandas\\tests\\computation\n",
      "  copying pandas\\tests\\computation\\test_compat.py -> build\\lib.win-amd64-cpython-310\\pandas\\tests\\computation\n",
      "  copying pandas\\tests\\computation\\test_eval.py -> build\\lib.win-amd64-cpython-310\\pandas\\tests\\computation\n",
      "  copying pandas\\tests\\computation\\__init__.py -> build\\lib.win-amd64-cpython-310\\pandas\\tests\\computation\n",
      "  creating build\\lib.win-amd64-cpython-310\\pandas\\tests\\config\n",
      "  copying pandas\\tests\\config\\test_config.py -> build\\lib.win-amd64-cpython-310\\pandas\\tests\\config\n",
      "  copying pandas\\tests\\config\\test_localization.py -> build\\lib.win-amd64-cpython-310\\pandas\\tests\\config\n",
      "  copying pandas\\tests\\config\\__init__.py -> build\\lib.win-amd64-cpython-310\\pandas\\tests\\config\n",
      "  creating build\\lib.win-amd64-cpython-310\\pandas\\tests\\dtypes\n",
      "  copying pandas\\tests\\dtypes\\test_common.py -> build\\lib.win-amd64-cpython-310\\pandas\\tests\\dtypes\n",
      "  copying pandas\\tests\\dtypes\\test_concat.py -> build\\lib.win-amd64-cpython-310\\pandas\\tests\\dtypes\n",
      "  copying pandas\\tests\\dtypes\\test_dtypes.py -> build\\lib.win-amd64-cpython-310\\pandas\\tests\\dtypes\n",
      "  copying pandas\\tests\\dtypes\\test_generic.py -> build\\lib.win-amd64-cpython-310\\pandas\\tests\\dtypes\n",
      "  copying pandas\\tests\\dtypes\\test_inference.py -> build\\lib.win-amd64-cpython-310\\pandas\\tests\\dtypes\n",
      "  copying pandas\\tests\\dtypes\\test_missing.py -> build\\lib.win-amd64-cpython-310\\pandas\\tests\\dtypes\n",
      "  copying pandas\\tests\\dtypes\\__init__.py -> build\\lib.win-amd64-cpython-310\\pandas\\tests\\dtypes\n",
      "  creating build\\lib.win-amd64-cpython-310\\pandas\\tests\\extension\n",
      "  copying pandas\\tests\\extension\\conftest.py -> build\\lib.win-amd64-cpython-310\\pandas\\tests\\extension\n",
      "  copying pandas\\tests\\extension\\test_categorical.py -> build\\lib.win-amd64-cpython-310\\pandas\\tests\\extension\n",
      "  copying pandas\\tests\\extension\\test_common.py -> build\\lib.win-amd64-cpython-310\\pandas\\tests\\extension\n",
      "  copying pandas\\tests\\extension\\test_datetime.py -> build\\lib.win-amd64-cpython-310\\pandas\\tests\\extension\n",
      "  copying pandas\\tests\\extension\\test_external_block.py -> build\\lib.win-amd64-cpython-310\\pandas\\tests\\extension\n",
      "  copying pandas\\tests\\extension\\test_integer.py -> build\\lib.win-amd64-cpython-310\\pandas\\tests\\extension\n",
      "  copying pandas\\tests\\extension\\test_interval.py -> build\\lib.win-amd64-cpython-310\\pandas\\tests\\extension\n",
      "  copying pandas\\tests\\extension\\test_numpy.py -> build\\lib.win-amd64-cpython-310\\pandas\\tests\\extension\n",
      "  copying pandas\\tests\\extension\\test_period.py -> build\\lib.win-amd64-cpython-310\\pandas\\tests\\extension\n",
      "  copying pandas\\tests\\extension\\test_sparse.py -> build\\lib.win-amd64-cpython-310\\pandas\\tests\\extension\n",
      "  copying pandas\\tests\\extension\\__init__.py -> build\\lib.win-amd64-cpython-310\\pandas\\tests\\extension\n",
      "  creating build\\lib.win-amd64-cpython-310\\pandas\\tests\\frame\n",
      "  copying pandas\\tests\\frame\\common.py -> build\\lib.win-amd64-cpython-310\\pandas\\tests\\frame\n",
      "  copying pandas\\tests\\frame\\conftest.py -> build\\lib.win-amd64-cpython-310\\pandas\\tests\\frame\n",
      "  copying pandas\\tests\\frame\\test_alter_axes.py -> build\\lib.win-amd64-cpython-310\\pandas\\tests\\frame\n",
      "  copying pandas\\tests\\frame\\test_analytics.py -> build\\lib.win-amd64-cpython-310\\pandas\\tests\\frame\n",
      "  copying pandas\\tests\\frame\\test_api.py -> build\\lib.win-amd64-cpython-310\\pandas\\tests\\frame\n",
      "  copying pandas\\tests\\frame\\test_apply.py -> build\\lib.win-amd64-cpython-310\\pandas\\tests\\frame\n",
      "  copying pandas\\tests\\frame\\test_arithmetic.py -> build\\lib.win-amd64-cpython-310\\pandas\\tests\\frame\n",
      "  copying pandas\\tests\\frame\\test_asof.py -> build\\lib.win-amd64-cpython-310\\pandas\\tests\\frame\n",
      "  copying pandas\\tests\\frame\\test_axis_select_reindex.py -> build\\lib.win-amd64-cpython-310\\pandas\\tests\\frame\n",
      "  copying pandas\\tests\\frame\\test_block_internals.py -> build\\lib.win-amd64-cpython-310\\pandas\\tests\\frame\n",
      "  copying pandas\\tests\\frame\\test_combine_concat.py -> build\\lib.win-amd64-cpython-310\\pandas\\tests\\frame\n",
      "  copying pandas\\tests\\frame\\test_constructors.py -> build\\lib.win-amd64-cpython-310\\pandas\\tests\\frame\n",
      "  copying pandas\\tests\\frame\\test_convert_to.py -> build\\lib.win-amd64-cpython-310\\pandas\\tests\\frame\n",
      "  copying pandas\\tests\\frame\\test_dtypes.py -> build\\lib.win-amd64-cpython-310\\pandas\\tests\\frame\n",
      "  copying pandas\\tests\\frame\\test_duplicates.py -> build\\lib.win-amd64-cpython-310\\pandas\\tests\\frame\n",
      "  copying pandas\\tests\\frame\\test_explode.py -> build\\lib.win-amd64-cpython-310\\pandas\\tests\\frame\n",
      "  copying pandas\\tests\\frame\\test_indexing.py -> build\\lib.win-amd64-cpython-310\\pandas\\tests\\frame\n",
      "  copying pandas\\tests\\frame\\test_join.py -> build\\lib.win-amd64-cpython-310\\pandas\\tests\\frame\n",
      "  copying pandas\\tests\\frame\\test_missing.py -> build\\lib.win-amd64-cpython-310\\pandas\\tests\\frame\n",
      "  copying pandas\\tests\\frame\\test_mutate_columns.py -> build\\lib.win-amd64-cpython-310\\pandas\\tests\\frame\n",
      "  copying pandas\\tests\\frame\\test_nonunique_indexes.py -> build\\lib.win-amd64-cpython-310\\pandas\\tests\\frame\n",
      "  copying pandas\\tests\\frame\\test_operators.py -> build\\lib.win-amd64-cpython-310\\pandas\\tests\\frame\n",
      "  copying pandas\\tests\\frame\\test_period.py -> build\\lib.win-amd64-cpython-310\\pandas\\tests\\frame\n",
      "  copying pandas\\tests\\frame\\test_quantile.py -> build\\lib.win-amd64-cpython-310\\pandas\\tests\\frame\n",
      "  copying pandas\\tests\\frame\\test_query_eval.py -> build\\lib.win-amd64-cpython-310\\pandas\\tests\\frame\n",
      "  copying pandas\\tests\\frame\\test_rank.py -> build\\lib.win-amd64-cpython-310\\pandas\\tests\\frame\n",
      "  copying pandas\\tests\\frame\\test_replace.py -> build\\lib.win-amd64-cpython-310\\pandas\\tests\\frame\n",
      "  copying pandas\\tests\\frame\\test_repr_info.py -> build\\lib.win-amd64-cpython-310\\pandas\\tests\\frame\n",
      "  copying pandas\\tests\\frame\\test_reshape.py -> build\\lib.win-amd64-cpython-310\\pandas\\tests\\frame\n",
      "  copying pandas\\tests\\frame\\test_sorting.py -> build\\lib.win-amd64-cpython-310\\pandas\\tests\\frame\n",
      "  copying pandas\\tests\\frame\\test_sort_values_level_as_str.py -> build\\lib.win-amd64-cpython-310\\pandas\\tests\\frame\n",
      "  copying pandas\\tests\\frame\\test_subclass.py -> build\\lib.win-amd64-cpython-310\\pandas\\tests\\frame\n",
      "  copying pandas\\tests\\frame\\test_timeseries.py -> build\\lib.win-amd64-cpython-310\\pandas\\tests\\frame\n",
      "  copying pandas\\tests\\frame\\test_timezones.py -> build\\lib.win-amd64-cpython-310\\pandas\\tests\\frame\n",
      "  copying pandas\\tests\\frame\\test_to_csv.py -> build\\lib.win-amd64-cpython-310\\pandas\\tests\\frame\n",
      "  copying pandas\\tests\\frame\\test_validate.py -> build\\lib.win-amd64-cpython-310\\pandas\\tests\\frame\n",
      "  copying pandas\\tests\\frame\\__init__.py -> build\\lib.win-amd64-cpython-310\\pandas\\tests\\frame\n",
      "  creating build\\lib.win-amd64-cpython-310\\pandas\\tests\\generic\n",
      "  copying pandas\\tests\\generic\\test_frame.py -> build\\lib.win-amd64-cpython-310\\pandas\\tests\\generic\n",
      "  copying pandas\\tests\\generic\\test_generic.py -> build\\lib.win-amd64-cpython-310\\pandas\\tests\\generic\n",
      "  copying pandas\\tests\\generic\\test_label_or_level_utils.py -> build\\lib.win-amd64-cpython-310\\pandas\\tests\\generic\n",
      "  copying pandas\\tests\\generic\\test_series.py -> build\\lib.win-amd64-cpython-310\\pandas\\tests\\generic\n",
      "  copying pandas\\tests\\generic\\__init__.py -> build\\lib.win-amd64-cpython-310\\pandas\\tests\\generic\n",
      "  creating build\\lib.win-amd64-cpython-310\\pandas\\tests\\groupby\n",
      "  copying pandas\\tests\\groupby\\conftest.py -> build\\lib.win-amd64-cpython-310\\pandas\\tests\\groupby\n",
      "  copying pandas\\tests\\groupby\\test_apply.py -> build\\lib.win-amd64-cpython-310\\pandas\\tests\\groupby\n",
      "  copying pandas\\tests\\groupby\\test_bin_groupby.py -> build\\lib.win-amd64-cpython-310\\pandas\\tests\\groupby\n",
      "  copying pandas\\tests\\groupby\\test_categorical.py -> build\\lib.win-amd64-cpython-310\\pandas\\tests\\groupby\n",
      "  copying pandas\\tests\\groupby\\test_counting.py -> build\\lib.win-amd64-cpython-310\\pandas\\tests\\groupby\n",
      "  copying pandas\\tests\\groupby\\test_filters.py -> build\\lib.win-amd64-cpython-310\\pandas\\tests\\groupby\n",
      "  copying pandas\\tests\\groupby\\test_function.py -> build\\lib.win-amd64-cpython-310\\pandas\\tests\\groupby\n",
      "  copying pandas\\tests\\groupby\\test_groupby.py -> build\\lib.win-amd64-cpython-310\\pandas\\tests\\groupby\n",
      "  copying pandas\\tests\\groupby\\test_grouping.py -> build\\lib.win-amd64-cpython-310\\pandas\\tests\\groupby\n",
      "  copying pandas\\tests\\groupby\\test_index_as_string.py -> build\\lib.win-amd64-cpython-310\\pandas\\tests\\groupby\n",
      "  copying pandas\\tests\\groupby\\test_nth.py -> build\\lib.win-amd64-cpython-310\\pandas\\tests\\groupby\n",
      "  copying pandas\\tests\\groupby\\test_rank.py -> build\\lib.win-amd64-cpython-310\\pandas\\tests\\groupby\n",
      "  copying pandas\\tests\\groupby\\test_timegrouper.py -> build\\lib.win-amd64-cpython-310\\pandas\\tests\\groupby\n",
      "  copying pandas\\tests\\groupby\\test_transform.py -> build\\lib.win-amd64-cpython-310\\pandas\\tests\\groupby\n",
      "  copying pandas\\tests\\groupby\\test_value_counts.py -> build\\lib.win-amd64-cpython-310\\pandas\\tests\\groupby\n",
      "  copying pandas\\tests\\groupby\\test_whitelist.py -> build\\lib.win-amd64-cpython-310\\pandas\\tests\\groupby\n",
      "  copying pandas\\tests\\groupby\\__init__.py -> build\\lib.win-amd64-cpython-310\\pandas\\tests\\groupby\n",
      "  creating build\\lib.win-amd64-cpython-310\\pandas\\tests\\indexes\n",
      "  copying pandas\\tests\\indexes\\common.py -> build\\lib.win-amd64-cpython-310\\pandas\\tests\\indexes\n",
      "  copying pandas\\tests\\indexes\\conftest.py -> build\\lib.win-amd64-cpython-310\\pandas\\tests\\indexes\n",
      "  copying pandas\\tests\\indexes\\datetimelike.py -> build\\lib.win-amd64-cpython-310\\pandas\\tests\\indexes\n",
      "  copying pandas\\tests\\indexes\\test_base.py -> build\\lib.win-amd64-cpython-310\\pandas\\tests\\indexes\n",
      "  copying pandas\\tests\\indexes\\test_category.py -> build\\lib.win-amd64-cpython-310\\pandas\\tests\\indexes\n",
      "  copying pandas\\tests\\indexes\\test_common.py -> build\\lib.win-amd64-cpython-310\\pandas\\tests\\indexes\n",
      "  copying pandas\\tests\\indexes\\test_frozen.py -> build\\lib.win-amd64-cpython-310\\pandas\\tests\\indexes\n",
      "  copying pandas\\tests\\indexes\\test_numeric.py -> build\\lib.win-amd64-cpython-310\\pandas\\tests\\indexes\n",
      "  copying pandas\\tests\\indexes\\test_numpy_compat.py -> build\\lib.win-amd64-cpython-310\\pandas\\tests\\indexes\n",
      "  copying pandas\\tests\\indexes\\test_range.py -> build\\lib.win-amd64-cpython-310\\pandas\\tests\\indexes\n",
      "  copying pandas\\tests\\indexes\\test_setops.py -> build\\lib.win-amd64-cpython-310\\pandas\\tests\\indexes\n",
      "  copying pandas\\tests\\indexes\\__init__.py -> build\\lib.win-amd64-cpython-310\\pandas\\tests\\indexes\n",
      "  creating build\\lib.win-amd64-cpython-310\\pandas\\tests\\indexing\n",
      "  copying pandas\\tests\\indexing\\common.py -> build\\lib.win-amd64-cpython-310\\pandas\\tests\\indexing\n",
      "  copying pandas\\tests\\indexing\\conftest.py -> build\\lib.win-amd64-cpython-310\\pandas\\tests\\indexing\n",
      "  copying pandas\\tests\\indexing\\test_callable.py -> build\\lib.win-amd64-cpython-310\\pandas\\tests\\indexing\n",
      "  copying pandas\\tests\\indexing\\test_categorical.py -> build\\lib.win-amd64-cpython-310\\pandas\\tests\\indexing\n",
      "  copying pandas\\tests\\indexing\\test_chaining_and_caching.py -> build\\lib.win-amd64-cpython-310\\pandas\\tests\\indexing\n",
      "  copying pandas\\tests\\indexing\\test_coercion.py -> build\\lib.win-amd64-cpython-310\\pandas\\tests\\indexing\n",
      "  copying pandas\\tests\\indexing\\test_datetime.py -> build\\lib.win-amd64-cpython-310\\pandas\\tests\\indexing\n",
      "  copying pandas\\tests\\indexing\\test_floats.py -> build\\lib.win-amd64-cpython-310\\pandas\\tests\\indexing\n",
      "  copying pandas\\tests\\indexing\\test_iloc.py -> build\\lib.win-amd64-cpython-310\\pandas\\tests\\indexing\n",
      "  copying pandas\\tests\\indexing\\test_indexing.py -> build\\lib.win-amd64-cpython-310\\pandas\\tests\\indexing\n",
      "  copying pandas\\tests\\indexing\\test_indexing_engines.py -> build\\lib.win-amd64-cpython-310\\pandas\\tests\\indexing\n",
      "  copying pandas\\tests\\indexing\\test_indexing_slow.py -> build\\lib.win-amd64-cpython-310\\pandas\\tests\\indexing\n",
      "  copying pandas\\tests\\indexing\\test_ix.py -> build\\lib.win-amd64-cpython-310\\pandas\\tests\\indexing\n",
      "  copying pandas\\tests\\indexing\\test_loc.py -> build\\lib.win-amd64-cpython-310\\pandas\\tests\\indexing\n",
      "  copying pandas\\tests\\indexing\\test_partial.py -> build\\lib.win-amd64-cpython-310\\pandas\\tests\\indexing\n",
      "  copying pandas\\tests\\indexing\\test_scalar.py -> build\\lib.win-amd64-cpython-310\\pandas\\tests\\indexing\n",
      "  copying pandas\\tests\\indexing\\test_timedelta.py -> build\\lib.win-amd64-cpython-310\\pandas\\tests\\indexing\n",
      "  copying pandas\\tests\\indexing\\__init__.py -> build\\lib.win-amd64-cpython-310\\pandas\\tests\\indexing\n",
      "  creating build\\lib.win-amd64-cpython-310\\pandas\\tests\\internals\n",
      "  copying pandas\\tests\\internals\\test_internals.py -> build\\lib.win-amd64-cpython-310\\pandas\\tests\\internals\n",
      "  copying pandas\\tests\\internals\\__init__.py -> build\\lib.win-amd64-cpython-310\\pandas\\tests\\internals\n",
      "  creating build\\lib.win-amd64-cpython-310\\pandas\\tests\\io\n",
      "  copying pandas\\tests\\io\\conftest.py -> build\\lib.win-amd64-cpython-310\\pandas\\tests\\io\n",
      "  copying pandas\\tests\\io\\generate_legacy_storage_files.py -> build\\lib.win-amd64-cpython-310\\pandas\\tests\\io\n",
      "  copying pandas\\tests\\io\\test_clipboard.py -> build\\lib.win-amd64-cpython-310\\pandas\\tests\\io\n",
      "  copying pandas\\tests\\io\\test_common.py -> build\\lib.win-amd64-cpython-310\\pandas\\tests\\io\n",
      "  copying pandas\\tests\\io\\test_compression.py -> build\\lib.win-amd64-cpython-310\\pandas\\tests\\io\n",
      "  copying pandas\\tests\\io\\test_date_converters.py -> build\\lib.win-amd64-cpython-310\\pandas\\tests\\io\n",
      "  copying pandas\\tests\\io\\test_feather.py -> build\\lib.win-amd64-cpython-310\\pandas\\tests\\io\n",
      "  copying pandas\\tests\\io\\test_gbq.py -> build\\lib.win-amd64-cpython-310\\pandas\\tests\\io\n",
      "  copying pandas\\tests\\io\\test_gcs.py -> build\\lib.win-amd64-cpython-310\\pandas\\tests\\io\n",
      "  copying pandas\\tests\\io\\test_html.py -> build\\lib.win-amd64-cpython-310\\pandas\\tests\\io\n",
      "  copying pandas\\tests\\io\\test_packers.py -> build\\lib.win-amd64-cpython-310\\pandas\\tests\\io\n",
      "  copying pandas\\tests\\io\\test_parquet.py -> build\\lib.win-amd64-cpython-310\\pandas\\tests\\io\n",
      "  copying pandas\\tests\\io\\test_pickle.py -> build\\lib.win-amd64-cpython-310\\pandas\\tests\\io\n",
      "  copying pandas\\tests\\io\\test_s3.py -> build\\lib.win-amd64-cpython-310\\pandas\\tests\\io\n",
      "  copying pandas\\tests\\io\\test_spss.py -> build\\lib.win-amd64-cpython-310\\pandas\\tests\\io\n",
      "  copying pandas\\tests\\io\\test_sql.py -> build\\lib.win-amd64-cpython-310\\pandas\\tests\\io\n",
      "  copying pandas\\tests\\io\\test_stata.py -> build\\lib.win-amd64-cpython-310\\pandas\\tests\\io\n",
      "  copying pandas\\tests\\io\\__init__.py -> build\\lib.win-amd64-cpython-310\\pandas\\tests\\io\n",
      "  creating build\\lib.win-amd64-cpython-310\\pandas\\tests\\plotting\n",
      "  copying pandas\\tests\\plotting\\common.py -> build\\lib.win-amd64-cpython-310\\pandas\\tests\\plotting\n",
      "  copying pandas\\tests\\plotting\\test_backend.py -> build\\lib.win-amd64-cpython-310\\pandas\\tests\\plotting\n",
      "  copying pandas\\tests\\plotting\\test_boxplot_method.py -> build\\lib.win-amd64-cpython-310\\pandas\\tests\\plotting\n",
      "  copying pandas\\tests\\plotting\\test_converter.py -> build\\lib.win-amd64-cpython-310\\pandas\\tests\\plotting\n",
      "  copying pandas\\tests\\plotting\\test_datetimelike.py -> build\\lib.win-amd64-cpython-310\\pandas\\tests\\plotting\n",
      "  copying pandas\\tests\\plotting\\test_frame.py -> build\\lib.win-amd64-cpython-310\\pandas\\tests\\plotting\n",
      "  copying pandas\\tests\\plotting\\test_groupby.py -> build\\lib.win-amd64-cpython-310\\pandas\\tests\\plotting\n",
      "  copying pandas\\tests\\plotting\\test_hist_method.py -> build\\lib.win-amd64-cpython-310\\pandas\\tests\\plotting\n",
      "  copying pandas\\tests\\plotting\\test_misc.py -> build\\lib.win-amd64-cpython-310\\pandas\\tests\\plotting\n",
      "  copying pandas\\tests\\plotting\\test_series.py -> build\\lib.win-amd64-cpython-310\\pandas\\tests\\plotting\n",
      "  copying pandas\\tests\\plotting\\__init__.py -> build\\lib.win-amd64-cpython-310\\pandas\\tests\\plotting\n",
      "  creating build\\lib.win-amd64-cpython-310\\pandas\\tests\\reductions\n",
      "  copying pandas\\tests\\reductions\\test_reductions.py -> build\\lib.win-amd64-cpython-310\\pandas\\tests\\reductions\n",
      "  copying pandas\\tests\\reductions\\test_stat_reductions.py -> build\\lib.win-amd64-cpython-310\\pandas\\tests\\reductions\n",
      "  copying pandas\\tests\\reductions\\__init__.py -> build\\lib.win-amd64-cpython-310\\pandas\\tests\\reductions\n",
      "  creating build\\lib.win-amd64-cpython-310\\pandas\\tests\\resample\n",
      "  copying pandas\\tests\\resample\\conftest.py -> build\\lib.win-amd64-cpython-310\\pandas\\tests\\resample\n",
      "  copying pandas\\tests\\resample\\test_base.py -> build\\lib.win-amd64-cpython-310\\pandas\\tests\\resample\n",
      "  copying pandas\\tests\\resample\\test_datetime_index.py -> build\\lib.win-amd64-cpython-310\\pandas\\tests\\resample\n",
      "  copying pandas\\tests\\resample\\test_period_index.py -> build\\lib.win-amd64-cpython-310\\pandas\\tests\\resample\n",
      "  copying pandas\\tests\\resample\\test_resampler_grouper.py -> build\\lib.win-amd64-cpython-310\\pandas\\tests\\resample\n",
      "  copying pandas\\tests\\resample\\test_resample_api.py -> build\\lib.win-amd64-cpython-310\\pandas\\tests\\resample\n",
      "  copying pandas\\tests\\resample\\test_timedelta.py -> build\\lib.win-amd64-cpython-310\\pandas\\tests\\resample\n",
      "  copying pandas\\tests\\resample\\test_time_grouper.py -> build\\lib.win-amd64-cpython-310\\pandas\\tests\\resample\n",
      "  copying pandas\\tests\\resample\\__init__.py -> build\\lib.win-amd64-cpython-310\\pandas\\tests\\resample\n",
      "  creating build\\lib.win-amd64-cpython-310\\pandas\\tests\\reshape\n",
      "  copying pandas\\tests\\reshape\\test_concat.py -> build\\lib.win-amd64-cpython-310\\pandas\\tests\\reshape\n",
      "  copying pandas\\tests\\reshape\\test_cut.py -> build\\lib.win-amd64-cpython-310\\pandas\\tests\\reshape\n",
      "  copying pandas\\tests\\reshape\\test_melt.py -> build\\lib.win-amd64-cpython-310\\pandas\\tests\\reshape\n",
      "  copying pandas\\tests\\reshape\\test_pivot.py -> build\\lib.win-amd64-cpython-310\\pandas\\tests\\reshape\n",
      "  copying pandas\\tests\\reshape\\test_qcut.py -> build\\lib.win-amd64-cpython-310\\pandas\\tests\\reshape\n",
      "  copying pandas\\tests\\reshape\\test_reshape.py -> build\\lib.win-amd64-cpython-310\\pandas\\tests\\reshape\n",
      "  copying pandas\\tests\\reshape\\test_union_categoricals.py -> build\\lib.win-amd64-cpython-310\\pandas\\tests\\reshape\n",
      "  copying pandas\\tests\\reshape\\test_util.py -> build\\lib.win-amd64-cpython-310\\pandas\\tests\\reshape\n",
      "  copying pandas\\tests\\reshape\\__init__.py -> build\\lib.win-amd64-cpython-310\\pandas\\tests\\reshape\n",
      "  creating build\\lib.win-amd64-cpython-310\\pandas\\tests\\scalar\n",
      "  copying pandas\\tests\\scalar\\test_nat.py -> build\\lib.win-amd64-cpython-310\\pandas\\tests\\scalar\n",
      "  copying pandas\\tests\\scalar\\__init__.py -> build\\lib.win-amd64-cpython-310\\pandas\\tests\\scalar\n",
      "  creating build\\lib.win-amd64-cpython-310\\pandas\\tests\\series\n",
      "  copying pandas\\tests\\series\\common.py -> build\\lib.win-amd64-cpython-310\\pandas\\tests\\series\n",
      "  copying pandas\\tests\\series\\conftest.py -> build\\lib.win-amd64-cpython-310\\pandas\\tests\\series\n",
      "  copying pandas\\tests\\series\\test_alter_axes.py -> build\\lib.win-amd64-cpython-310\\pandas\\tests\\series\n",
      "  copying pandas\\tests\\series\\test_analytics.py -> build\\lib.win-amd64-cpython-310\\pandas\\tests\\series\n",
      "  copying pandas\\tests\\series\\test_api.py -> build\\lib.win-amd64-cpython-310\\pandas\\tests\\series\n",
      "  copying pandas\\tests\\series\\test_apply.py -> build\\lib.win-amd64-cpython-310\\pandas\\tests\\series\n",
      "  copying pandas\\tests\\series\\test_arithmetic.py -> build\\lib.win-amd64-cpython-310\\pandas\\tests\\series\n",
      "  copying pandas\\tests\\series\\test_asof.py -> build\\lib.win-amd64-cpython-310\\pandas\\tests\\series\n",
      "  copying pandas\\tests\\series\\test_block_internals.py -> build\\lib.win-amd64-cpython-310\\pandas\\tests\\series\n",
      "  copying pandas\\tests\\series\\test_combine_concat.py -> build\\lib.win-amd64-cpython-310\\pandas\\tests\\series\n",
      "  copying pandas\\tests\\series\\test_constructors.py -> build\\lib.win-amd64-cpython-310\\pandas\\tests\\series\n",
      "  copying pandas\\tests\\series\\test_datetime_values.py -> build\\lib.win-amd64-cpython-310\\pandas\\tests\\series\n",
      "  copying pandas\\tests\\series\\test_dtypes.py -> build\\lib.win-amd64-cpython-310\\pandas\\tests\\series\n",
      "  copying pandas\\tests\\series\\test_duplicates.py -> build\\lib.win-amd64-cpython-310\\pandas\\tests\\series\n",
      "  copying pandas\\tests\\series\\test_explode.py -> build\\lib.win-amd64-cpython-310\\pandas\\tests\\series\n",
      "  copying pandas\\tests\\series\\test_internals.py -> build\\lib.win-amd64-cpython-310\\pandas\\tests\\series\n",
      "  copying pandas\\tests\\series\\test_io.py -> build\\lib.win-amd64-cpython-310\\pandas\\tests\\series\n",
      "  copying pandas\\tests\\series\\test_missing.py -> build\\lib.win-amd64-cpython-310\\pandas\\tests\\series\n",
      "  copying pandas\\tests\\series\\test_operators.py -> build\\lib.win-amd64-cpython-310\\pandas\\tests\\series\n",
      "  copying pandas\\tests\\series\\test_period.py -> build\\lib.win-amd64-cpython-310\\pandas\\tests\\series\n",
      "  copying pandas\\tests\\series\\test_quantile.py -> build\\lib.win-amd64-cpython-310\\pandas\\tests\\series\n",
      "  copying pandas\\tests\\series\\test_rank.py -> build\\lib.win-amd64-cpython-310\\pandas\\tests\\series\n",
      "  copying pandas\\tests\\series\\test_replace.py -> build\\lib.win-amd64-cpython-310\\pandas\\tests\\series\n",
      "  copying pandas\\tests\\series\\test_repr.py -> build\\lib.win-amd64-cpython-310\\pandas\\tests\\series\n",
      "  copying pandas\\tests\\series\\test_sorting.py -> build\\lib.win-amd64-cpython-310\\pandas\\tests\\series\n",
      "  copying pandas\\tests\\series\\test_subclass.py -> build\\lib.win-amd64-cpython-310\\pandas\\tests\\series\n",
      "  copying pandas\\tests\\series\\test_timeseries.py -> build\\lib.win-amd64-cpython-310\\pandas\\tests\\series\n",
      "  copying pandas\\tests\\series\\test_timezones.py -> build\\lib.win-amd64-cpython-310\\pandas\\tests\\series\n",
      "  copying pandas\\tests\\series\\test_ufunc.py -> build\\lib.win-amd64-cpython-310\\pandas\\tests\\series\n",
      "  copying pandas\\tests\\series\\test_validate.py -> build\\lib.win-amd64-cpython-310\\pandas\\tests\\series\n",
      "  copying pandas\\tests\\series\\__init__.py -> build\\lib.win-amd64-cpython-310\\pandas\\tests\\series\n",
      "  creating build\\lib.win-amd64-cpython-310\\pandas\\tests\\sparse\n",
      "  copying pandas\\tests\\sparse\\common.py -> build\\lib.win-amd64-cpython-310\\pandas\\tests\\sparse\n",
      "  copying pandas\\tests\\sparse\\test_combine_concat.py -> build\\lib.win-amd64-cpython-310\\pandas\\tests\\sparse\n",
      "  copying pandas\\tests\\sparse\\test_format.py -> build\\lib.win-amd64-cpython-310\\pandas\\tests\\sparse\n",
      "  copying pandas\\tests\\sparse\\test_groupby.py -> build\\lib.win-amd64-cpython-310\\pandas\\tests\\sparse\n",
      "  copying pandas\\tests\\sparse\\test_indexing.py -> build\\lib.win-amd64-cpython-310\\pandas\\tests\\sparse\n",
      "  copying pandas\\tests\\sparse\\test_pivot.py -> build\\lib.win-amd64-cpython-310\\pandas\\tests\\sparse\n",
      "  copying pandas\\tests\\sparse\\test_reshape.py -> build\\lib.win-amd64-cpython-310\\pandas\\tests\\sparse\n",
      "  copying pandas\\tests\\sparse\\__init__.py -> build\\lib.win-amd64-cpython-310\\pandas\\tests\\sparse\n",
      "  creating build\\lib.win-amd64-cpython-310\\pandas\\tests\\tools\n",
      "  copying pandas\\tests\\tools\\test_numeric.py -> build\\lib.win-amd64-cpython-310\\pandas\\tests\\tools\n",
      "  copying pandas\\tests\\tools\\__init__.py -> build\\lib.win-amd64-cpython-310\\pandas\\tests\\tools\n",
      "  creating build\\lib.win-amd64-cpython-310\\pandas\\tests\\tseries\n",
      "  copying pandas\\tests\\tseries\\__init__.py -> build\\lib.win-amd64-cpython-310\\pandas\\tests\\tseries\n",
      "  creating build\\lib.win-amd64-cpython-310\\pandas\\tests\\tslibs\n",
      "  copying pandas\\tests\\tslibs\\test_api.py -> build\\lib.win-amd64-cpython-310\\pandas\\tests\\tslibs\n",
      "  copying pandas\\tests\\tslibs\\test_array_to_datetime.py -> build\\lib.win-amd64-cpython-310\\pandas\\tests\\tslibs\n",
      "  copying pandas\\tests\\tslibs\\test_ccalendar.py -> build\\lib.win-amd64-cpython-310\\pandas\\tests\\tslibs\n",
      "  copying pandas\\tests\\tslibs\\test_conversion.py -> build\\lib.win-amd64-cpython-310\\pandas\\tests\\tslibs\n",
      "  copying pandas\\tests\\tslibs\\test_libfrequencies.py -> build\\lib.win-amd64-cpython-310\\pandas\\tests\\tslibs\n",
      "  copying pandas\\tests\\tslibs\\test_liboffsets.py -> build\\lib.win-amd64-cpython-310\\pandas\\tests\\tslibs\n",
      "  copying pandas\\tests\\tslibs\\test_normalize_date.py -> build\\lib.win-amd64-cpython-310\\pandas\\tests\\tslibs\n",
      "  copying pandas\\tests\\tslibs\\test_parse_iso8601.py -> build\\lib.win-amd64-cpython-310\\pandas\\tests\\tslibs\n",
      "  copying pandas\\tests\\tslibs\\test_parsing.py -> build\\lib.win-amd64-cpython-310\\pandas\\tests\\tslibs\n",
      "  copying pandas\\tests\\tslibs\\test_period_asfreq.py -> build\\lib.win-amd64-cpython-310\\pandas\\tests\\tslibs\n",
      "  copying pandas\\tests\\tslibs\\test_timedeltas.py -> build\\lib.win-amd64-cpython-310\\pandas\\tests\\tslibs\n",
      "  copying pandas\\tests\\tslibs\\test_timezones.py -> build\\lib.win-amd64-cpython-310\\pandas\\tests\\tslibs\n",
      "  copying pandas\\tests\\tslibs\\__init__.py -> build\\lib.win-amd64-cpython-310\\pandas\\tests\\tslibs\n",
      "  creating build\\lib.win-amd64-cpython-310\\pandas\\tests\\util\n",
      "  copying pandas\\tests\\util\\conftest.py -> build\\lib.win-amd64-cpython-310\\pandas\\tests\\util\n",
      "  copying pandas\\tests\\util\\test_assert_almost_equal.py -> build\\lib.win-amd64-cpython-310\\pandas\\tests\\util\n",
      "  copying pandas\\tests\\util\\test_assert_categorical_equal.py -> build\\lib.win-amd64-cpython-310\\pandas\\tests\\util\n",
      "  copying pandas\\tests\\util\\test_assert_extension_array_equal.py -> build\\lib.win-amd64-cpython-310\\pandas\\tests\\util\n",
      "  copying pandas\\tests\\util\\test_assert_frame_equal.py -> build\\lib.win-amd64-cpython-310\\pandas\\tests\\util\n",
      "  copying pandas\\tests\\util\\test_assert_index_equal.py -> build\\lib.win-amd64-cpython-310\\pandas\\tests\\util\n",
      "  copying pandas\\tests\\util\\test_assert_interval_array_equal.py -> build\\lib.win-amd64-cpython-310\\pandas\\tests\\util\n",
      "  copying pandas\\tests\\util\\test_assert_numpy_array_equal.py -> build\\lib.win-amd64-cpython-310\\pandas\\tests\\util\n",
      "  copying pandas\\tests\\util\\test_assert_produces_warning.py -> build\\lib.win-amd64-cpython-310\\pandas\\tests\\util\n",
      "  copying pandas\\tests\\util\\test_assert_series_equal.py -> build\\lib.win-amd64-cpython-310\\pandas\\tests\\util\n",
      "  copying pandas\\tests\\util\\test_deprecate.py -> build\\lib.win-amd64-cpython-310\\pandas\\tests\\util\n",
      "  copying pandas\\tests\\util\\test_deprecate_kwarg.py -> build\\lib.win-amd64-cpython-310\\pandas\\tests\\util\n",
      "  copying pandas\\tests\\util\\test_hashing.py -> build\\lib.win-amd64-cpython-310\\pandas\\tests\\util\n",
      "  copying pandas\\tests\\util\\test_move.py -> build\\lib.win-amd64-cpython-310\\pandas\\tests\\util\n",
      "  copying pandas\\tests\\util\\test_safe_import.py -> build\\lib.win-amd64-cpython-310\\pandas\\tests\\util\n",
      "  copying pandas\\tests\\util\\test_util.py -> build\\lib.win-amd64-cpython-310\\pandas\\tests\\util\n",
      "  copying pandas\\tests\\util\\test_validate_args.py -> build\\lib.win-amd64-cpython-310\\pandas\\tests\\util\n",
      "  copying pandas\\tests\\util\\test_validate_args_and_kwargs.py -> build\\lib.win-amd64-cpython-310\\pandas\\tests\\util\n",
      "  copying pandas\\tests\\util\\test_validate_kwargs.py -> build\\lib.win-amd64-cpython-310\\pandas\\tests\\util\n",
      "  copying pandas\\tests\\util\\__init__.py -> build\\lib.win-amd64-cpython-310\\pandas\\tests\\util\n",
      "  creating build\\lib.win-amd64-cpython-310\\pandas\\tests\\window\n",
      "  copying pandas\\tests\\window\\common.py -> build\\lib.win-amd64-cpython-310\\pandas\\tests\\window\n",
      "  copying pandas\\tests\\window\\conftest.py -> build\\lib.win-amd64-cpython-310\\pandas\\tests\\window\n",
      "  copying pandas\\tests\\window\\test_api.py -> build\\lib.win-amd64-cpython-310\\pandas\\tests\\window\n",
      "  copying pandas\\tests\\window\\test_dtypes.py -> build\\lib.win-amd64-cpython-310\\pandas\\tests\\window\n",
      "  copying pandas\\tests\\window\\test_ewm.py -> build\\lib.win-amd64-cpython-310\\pandas\\tests\\window\n",
      "  copying pandas\\tests\\window\\test_expanding.py -> build\\lib.win-amd64-cpython-310\\pandas\\tests\\window\n",
      "  copying pandas\\tests\\window\\test_grouper.py -> build\\lib.win-amd64-cpython-310\\pandas\\tests\\window\n",
      "  copying pandas\\tests\\window\\test_moments.py -> build\\lib.win-amd64-cpython-310\\pandas\\tests\\window\n",
      "  copying pandas\\tests\\window\\test_pairwise.py -> build\\lib.win-amd64-cpython-310\\pandas\\tests\\window\n",
      "  copying pandas\\tests\\window\\test_rolling.py -> build\\lib.win-amd64-cpython-310\\pandas\\tests\\window\n",
      "  copying pandas\\tests\\window\\test_timeseries_window.py -> build\\lib.win-amd64-cpython-310\\pandas\\tests\\window\n",
      "  copying pandas\\tests\\window\\test_window.py -> build\\lib.win-amd64-cpython-310\\pandas\\tests\\window\n",
      "  copying pandas\\tests\\window\\__init__.py -> build\\lib.win-amd64-cpython-310\\pandas\\tests\\window\n",
      "  creating build\\lib.win-amd64-cpython-310\\pandas\\tests\\arrays\\categorical\n",
      "  copying pandas\\tests\\arrays\\categorical\\common.py -> build\\lib.win-amd64-cpython-310\\pandas\\tests\\arrays\\categorical\n",
      "  copying pandas\\tests\\arrays\\categorical\\conftest.py -> build\\lib.win-amd64-cpython-310\\pandas\\tests\\arrays\\categorical\n",
      "  copying pandas\\tests\\arrays\\categorical\\test_algos.py -> build\\lib.win-amd64-cpython-310\\pandas\\tests\\arrays\\categorical\n",
      "  copying pandas\\tests\\arrays\\categorical\\test_analytics.py -> build\\lib.win-amd64-cpython-310\\pandas\\tests\\arrays\\categorical\n",
      "  copying pandas\\tests\\arrays\\categorical\\test_api.py -> build\\lib.win-amd64-cpython-310\\pandas\\tests\\arrays\\categorical\n",
      "  copying pandas\\tests\\arrays\\categorical\\test_constructors.py -> build\\lib.win-amd64-cpython-310\\pandas\\tests\\arrays\\categorical\n",
      "  copying pandas\\tests\\arrays\\categorical\\test_dtypes.py -> build\\lib.win-amd64-cpython-310\\pandas\\tests\\arrays\\categorical\n",
      "  copying pandas\\tests\\arrays\\categorical\\test_indexing.py -> build\\lib.win-amd64-cpython-310\\pandas\\tests\\arrays\\categorical\n",
      "  copying pandas\\tests\\arrays\\categorical\\test_missing.py -> build\\lib.win-amd64-cpython-310\\pandas\\tests\\arrays\\categorical\n",
      "  copying pandas\\tests\\arrays\\categorical\\test_operators.py -> build\\lib.win-amd64-cpython-310\\pandas\\tests\\arrays\\categorical\n",
      "  copying pandas\\tests\\arrays\\categorical\\test_repr.py -> build\\lib.win-amd64-cpython-310\\pandas\\tests\\arrays\\categorical\n",
      "  copying pandas\\tests\\arrays\\categorical\\test_sorting.py -> build\\lib.win-amd64-cpython-310\\pandas\\tests\\arrays\\categorical\n",
      "  copying pandas\\tests\\arrays\\categorical\\test_subclass.py -> build\\lib.win-amd64-cpython-310\\pandas\\tests\\arrays\\categorical\n",
      "  copying pandas\\tests\\arrays\\categorical\\test_warnings.py -> build\\lib.win-amd64-cpython-310\\pandas\\tests\\arrays\\categorical\n",
      "  copying pandas\\tests\\arrays\\categorical\\__init__.py -> build\\lib.win-amd64-cpython-310\\pandas\\tests\\arrays\\categorical\n",
      "  creating build\\lib.win-amd64-cpython-310\\pandas\\tests\\arrays\\interval\n",
      "  copying pandas\\tests\\arrays\\interval\\test_interval.py -> build\\lib.win-amd64-cpython-310\\pandas\\tests\\arrays\\interval\n",
      "  copying pandas\\tests\\arrays\\interval\\test_ops.py -> build\\lib.win-amd64-cpython-310\\pandas\\tests\\arrays\\interval\n",
      "  copying pandas\\tests\\arrays\\interval\\__init__.py -> build\\lib.win-amd64-cpython-310\\pandas\\tests\\arrays\\interval\n",
      "  creating build\\lib.win-amd64-cpython-310\\pandas\\tests\\arrays\\sparse\n",
      "  copying pandas\\tests\\arrays\\sparse\\test_accessor.py -> build\\lib.win-amd64-cpython-310\\pandas\\tests\\arrays\\sparse\n",
      "  copying pandas\\tests\\arrays\\sparse\\test_arithmetics.py -> build\\lib.win-amd64-cpython-310\\pandas\\tests\\arrays\\sparse\n",
      "  copying pandas\\tests\\arrays\\sparse\\test_array.py -> build\\lib.win-amd64-cpython-310\\pandas\\tests\\arrays\\sparse\n",
      "  copying pandas\\tests\\arrays\\sparse\\test_dtype.py -> build\\lib.win-amd64-cpython-310\\pandas\\tests\\arrays\\sparse\n",
      "  copying pandas\\tests\\arrays\\sparse\\test_libsparse.py -> build\\lib.win-amd64-cpython-310\\pandas\\tests\\arrays\\sparse\n",
      "  copying pandas\\tests\\arrays\\sparse\\__init__.py -> build\\lib.win-amd64-cpython-310\\pandas\\tests\\arrays\\sparse\n",
      "  creating build\\lib.win-amd64-cpython-310\\pandas\\tests\\dtypes\\cast\n",
      "  copying pandas\\tests\\dtypes\\cast\\test_construct_from_scalar.py -> build\\lib.win-amd64-cpython-310\\pandas\\tests\\dtypes\\cast\n",
      "  copying pandas\\tests\\dtypes\\cast\\test_construct_ndarray.py -> build\\lib.win-amd64-cpython-310\\pandas\\tests\\dtypes\\cast\n",
      "  copying pandas\\tests\\dtypes\\cast\\test_construct_object_arr.py -> build\\lib.win-amd64-cpython-310\\pandas\\tests\\dtypes\\cast\n",
      "  copying pandas\\tests\\dtypes\\cast\\test_convert_objects.py -> build\\lib.win-amd64-cpython-310\\pandas\\tests\\dtypes\\cast\n",
      "  copying pandas\\tests\\dtypes\\cast\\test_downcast.py -> build\\lib.win-amd64-cpython-310\\pandas\\tests\\dtypes\\cast\n",
      "  copying pandas\\tests\\dtypes\\cast\\test_find_common_type.py -> build\\lib.win-amd64-cpython-310\\pandas\\tests\\dtypes\\cast\n",
      "  copying pandas\\tests\\dtypes\\cast\\test_infer_datetimelike.py -> build\\lib.win-amd64-cpython-310\\pandas\\tests\\dtypes\\cast\n",
      "  copying pandas\\tests\\dtypes\\cast\\test_infer_dtype.py -> build\\lib.win-amd64-cpython-310\\pandas\\tests\\dtypes\\cast\n",
      "  copying pandas\\tests\\dtypes\\cast\\test_promote.py -> build\\lib.win-amd64-cpython-310\\pandas\\tests\\dtypes\\cast\n",
      "  copying pandas\\tests\\dtypes\\cast\\test_upcast.py -> build\\lib.win-amd64-cpython-310\\pandas\\tests\\dtypes\\cast\n",
      "  copying pandas\\tests\\dtypes\\cast\\__init__.py -> build\\lib.win-amd64-cpython-310\\pandas\\tests\\dtypes\\cast\n",
      "  creating build\\lib.win-amd64-cpython-310\\pandas\\tests\\extension\\arrow\n",
      "  copying pandas\\tests\\extension\\arrow\\bool.py -> build\\lib.win-amd64-cpython-310\\pandas\\tests\\extension\\arrow\n",
      "  copying pandas\\tests\\extension\\arrow\\test_bool.py -> build\\lib.win-amd64-cpython-310\\pandas\\tests\\extension\\arrow\n",
      "  copying pandas\\tests\\extension\\arrow\\__init__.py -> build\\lib.win-amd64-cpython-310\\pandas\\tests\\extension\\arrow\n",
      "  creating build\\lib.win-amd64-cpython-310\\pandas\\tests\\extension\\base\n",
      "  copying pandas\\tests\\extension\\base\\base.py -> build\\lib.win-amd64-cpython-310\\pandas\\tests\\extension\\base\n",
      "  copying pandas\\tests\\extension\\base\\casting.py -> build\\lib.win-amd64-cpython-310\\pandas\\tests\\extension\\base\n",
      "  copying pandas\\tests\\extension\\base\\constructors.py -> build\\lib.win-amd64-cpython-310\\pandas\\tests\\extension\\base\n",
      "  copying pandas\\tests\\extension\\base\\dtype.py -> build\\lib.win-amd64-cpython-310\\pandas\\tests\\extension\\base\n",
      "  copying pandas\\tests\\extension\\base\\getitem.py -> build\\lib.win-amd64-cpython-310\\pandas\\tests\\extension\\base\n",
      "  copying pandas\\tests\\extension\\base\\groupby.py -> build\\lib.win-amd64-cpython-310\\pandas\\tests\\extension\\base\n",
      "  copying pandas\\tests\\extension\\base\\interface.py -> build\\lib.win-amd64-cpython-310\\pandas\\tests\\extension\\base\n",
      "  copying pandas\\tests\\extension\\base\\io.py -> build\\lib.win-amd64-cpython-310\\pandas\\tests\\extension\\base\n",
      "  copying pandas\\tests\\extension\\base\\methods.py -> build\\lib.win-amd64-cpython-310\\pandas\\tests\\extension\\base\n",
      "  copying pandas\\tests\\extension\\base\\missing.py -> build\\lib.win-amd64-cpython-310\\pandas\\tests\\extension\\base\n",
      "  copying pandas\\tests\\extension\\base\\ops.py -> build\\lib.win-amd64-cpython-310\\pandas\\tests\\extension\\base\n",
      "  copying pandas\\tests\\extension\\base\\printing.py -> build\\lib.win-amd64-cpython-310\\pandas\\tests\\extension\\base\n",
      "  copying pandas\\tests\\extension\\base\\reduce.py -> build\\lib.win-amd64-cpython-310\\pandas\\tests\\extension\\base\n",
      "  copying pandas\\tests\\extension\\base\\reshaping.py -> build\\lib.win-amd64-cpython-310\\pandas\\tests\\extension\\base\n",
      "  copying pandas\\tests\\extension\\base\\setitem.py -> build\\lib.win-amd64-cpython-310\\pandas\\tests\\extension\\base\n",
      "  copying pandas\\tests\\extension\\base\\__init__.py -> build\\lib.win-amd64-cpython-310\\pandas\\tests\\extension\\base\n",
      "  creating build\\lib.win-amd64-cpython-310\\pandas\\tests\\extension\\decimal\n",
      "  copying pandas\\tests\\extension\\decimal\\array.py -> build\\lib.win-amd64-cpython-310\\pandas\\tests\\extension\\decimal\n",
      "  copying pandas\\tests\\extension\\decimal\\test_decimal.py -> build\\lib.win-amd64-cpython-310\\pandas\\tests\\extension\\decimal\n",
      "  copying pandas\\tests\\extension\\decimal\\__init__.py -> build\\lib.win-amd64-cpython-310\\pandas\\tests\\extension\\decimal\n",
      "  creating build\\lib.win-amd64-cpython-310\\pandas\\tests\\extension\\json\n",
      "  copying pandas\\tests\\extension\\json\\array.py -> build\\lib.win-amd64-cpython-310\\pandas\\tests\\extension\\json\n",
      "  copying pandas\\tests\\extension\\json\\test_json.py -> build\\lib.win-amd64-cpython-310\\pandas\\tests\\extension\\json\n",
      "  copying pandas\\tests\\extension\\json\\__init__.py -> build\\lib.win-amd64-cpython-310\\pandas\\tests\\extension\\json\n",
      "  creating build\\lib.win-amd64-cpython-310\\pandas\\tests\\groupby\\aggregate\n",
      "  copying pandas\\tests\\groupby\\aggregate\\test_aggregate.py -> build\\lib.win-amd64-cpython-310\\pandas\\tests\\groupby\\aggregate\n",
      "  copying pandas\\tests\\groupby\\aggregate\\test_cython.py -> build\\lib.win-amd64-cpython-310\\pandas\\tests\\groupby\\aggregate\n",
      "  copying pandas\\tests\\groupby\\aggregate\\test_other.py -> build\\lib.win-amd64-cpython-310\\pandas\\tests\\groupby\\aggregate\n",
      "  copying pandas\\tests\\groupby\\aggregate\\__init__.py -> build\\lib.win-amd64-cpython-310\\pandas\\tests\\groupby\\aggregate\n",
      "  creating build\\lib.win-amd64-cpython-310\\pandas\\tests\\indexes\\datetimes\n",
      "  copying pandas\\tests\\indexes\\datetimes\\test_arithmetic.py -> build\\lib.win-amd64-cpython-310\\pandas\\tests\\indexes\\datetimes\n",
      "  copying pandas\\tests\\indexes\\datetimes\\test_astype.py -> build\\lib.win-amd64-cpython-310\\pandas\\tests\\indexes\\datetimes\n",
      "  copying pandas\\tests\\indexes\\datetimes\\test_construction.py -> build\\lib.win-amd64-cpython-310\\pandas\\tests\\indexes\\datetimes\n",
      "  copying pandas\\tests\\indexes\\datetimes\\test_datetime.py -> build\\lib.win-amd64-cpython-310\\pandas\\tests\\indexes\\datetimes\n",
      "  copying pandas\\tests\\indexes\\datetimes\\test_datetimelike.py -> build\\lib.win-amd64-cpython-310\\pandas\\tests\\indexes\\datetimes\n",
      "  copying pandas\\tests\\indexes\\datetimes\\test_date_range.py -> build\\lib.win-amd64-cpython-310\\pandas\\tests\\indexes\\datetimes\n",
      "  copying pandas\\tests\\indexes\\datetimes\\test_formats.py -> build\\lib.win-amd64-cpython-310\\pandas\\tests\\indexes\\datetimes\n",
      "  copying pandas\\tests\\indexes\\datetimes\\test_indexing.py -> build\\lib.win-amd64-cpython-310\\pandas\\tests\\indexes\\datetimes\n",
      "  copying pandas\\tests\\indexes\\datetimes\\test_misc.py -> build\\lib.win-amd64-cpython-310\\pandas\\tests\\indexes\\datetimes\n",
      "  copying pandas\\tests\\indexes\\datetimes\\test_missing.py -> build\\lib.win-amd64-cpython-310\\pandas\\tests\\indexes\\datetimes\n",
      "  copying pandas\\tests\\indexes\\datetimes\\test_ops.py -> build\\lib.win-amd64-cpython-310\\pandas\\tests\\indexes\\datetimes\n",
      "  copying pandas\\tests\\indexes\\datetimes\\test_partial_slicing.py -> build\\lib.win-amd64-cpython-310\\pandas\\tests\\indexes\\datetimes\n",
      "  copying pandas\\tests\\indexes\\datetimes\\test_scalar_compat.py -> build\\lib.win-amd64-cpython-310\\pandas\\tests\\indexes\\datetimes\n",
      "  copying pandas\\tests\\indexes\\datetimes\\test_setops.py -> build\\lib.win-amd64-cpython-310\\pandas\\tests\\indexes\\datetimes\n",
      "  copying pandas\\tests\\indexes\\datetimes\\test_timezones.py -> build\\lib.win-amd64-cpython-310\\pandas\\tests\\indexes\\datetimes\n",
      "  copying pandas\\tests\\indexes\\datetimes\\test_tools.py -> build\\lib.win-amd64-cpython-310\\pandas\\tests\\indexes\\datetimes\n",
      "  copying pandas\\tests\\indexes\\datetimes\\__init__.py -> build\\lib.win-amd64-cpython-310\\pandas\\tests\\indexes\\datetimes\n",
      "  creating build\\lib.win-amd64-cpython-310\\pandas\\tests\\indexes\\interval\n",
      "  copying pandas\\tests\\indexes\\interval\\test_astype.py -> build\\lib.win-amd64-cpython-310\\pandas\\tests\\indexes\\interval\n",
      "  copying pandas\\tests\\indexes\\interval\\test_construction.py -> build\\lib.win-amd64-cpython-310\\pandas\\tests\\indexes\\interval\n",
      "  copying pandas\\tests\\indexes\\interval\\test_interval.py -> build\\lib.win-amd64-cpython-310\\pandas\\tests\\indexes\\interval\n",
      "  copying pandas\\tests\\indexes\\interval\\test_interval_new.py -> build\\lib.win-amd64-cpython-310\\pandas\\tests\\indexes\\interval\n",
      "  copying pandas\\tests\\indexes\\interval\\test_interval_range.py -> build\\lib.win-amd64-cpython-310\\pandas\\tests\\indexes\\interval\n",
      "  copying pandas\\tests\\indexes\\interval\\test_interval_tree.py -> build\\lib.win-amd64-cpython-310\\pandas\\tests\\indexes\\interval\n",
      "  copying pandas\\tests\\indexes\\interval\\test_setops.py -> build\\lib.win-amd64-cpython-310\\pandas\\tests\\indexes\\interval\n",
      "  copying pandas\\tests\\indexes\\interval\\__init__.py -> build\\lib.win-amd64-cpython-310\\pandas\\tests\\indexes\\interval\n",
      "  creating build\\lib.win-amd64-cpython-310\\pandas\\tests\\indexes\\multi\n",
      "  copying pandas\\tests\\indexes\\multi\\conftest.py -> build\\lib.win-amd64-cpython-310\\pandas\\tests\\indexes\\multi\n",
      "  copying pandas\\tests\\indexes\\multi\\test_analytics.py -> build\\lib.win-amd64-cpython-310\\pandas\\tests\\indexes\\multi\n",
      "  copying pandas\\tests\\indexes\\multi\\test_astype.py -> build\\lib.win-amd64-cpython-310\\pandas\\tests\\indexes\\multi\n",
      "  copying pandas\\tests\\indexes\\multi\\test_compat.py -> build\\lib.win-amd64-cpython-310\\pandas\\tests\\indexes\\multi\n",
      "  copying pandas\\tests\\indexes\\multi\\test_constructor.py -> build\\lib.win-amd64-cpython-310\\pandas\\tests\\indexes\\multi\n",
      "  copying pandas\\tests\\indexes\\multi\\test_contains.py -> build\\lib.win-amd64-cpython-310\\pandas\\tests\\indexes\\multi\n",
      "  copying pandas\\tests\\indexes\\multi\\test_conversion.py -> build\\lib.win-amd64-cpython-310\\pandas\\tests\\indexes\\multi\n",
      "  copying pandas\\tests\\indexes\\multi\\test_copy.py -> build\\lib.win-amd64-cpython-310\\pandas\\tests\\indexes\\multi\n",
      "  copying pandas\\tests\\indexes\\multi\\test_drop.py -> build\\lib.win-amd64-cpython-310\\pandas\\tests\\indexes\\multi\n",
      "  copying pandas\\tests\\indexes\\multi\\test_duplicates.py -> build\\lib.win-amd64-cpython-310\\pandas\\tests\\indexes\\multi\n",
      "  copying pandas\\tests\\indexes\\multi\\test_equivalence.py -> build\\lib.win-amd64-cpython-310\\pandas\\tests\\indexes\\multi\n",
      "  copying pandas\\tests\\indexes\\multi\\test_format.py -> build\\lib.win-amd64-cpython-310\\pandas\\tests\\indexes\\multi\n",
      "  copying pandas\\tests\\indexes\\multi\\test_get_set.py -> build\\lib.win-amd64-cpython-310\\pandas\\tests\\indexes\\multi\n",
      "  copying pandas\\tests\\indexes\\multi\\test_indexing.py -> build\\lib.win-amd64-cpython-310\\pandas\\tests\\indexes\\multi\n",
      "  copying pandas\\tests\\indexes\\multi\\test_integrity.py -> build\\lib.win-amd64-cpython-310\\pandas\\tests\\indexes\\multi\n",
      "  copying pandas\\tests\\indexes\\multi\\test_join.py -> build\\lib.win-amd64-cpython-310\\pandas\\tests\\indexes\\multi\n",
      "  copying pandas\\tests\\indexes\\multi\\test_missing.py -> build\\lib.win-amd64-cpython-310\\pandas\\tests\\indexes\\multi\n",
      "  copying pandas\\tests\\indexes\\multi\\test_monotonic.py -> build\\lib.win-amd64-cpython-310\\pandas\\tests\\indexes\\multi\n",
      "  copying pandas\\tests\\indexes\\multi\\test_names.py -> build\\lib.win-amd64-cpython-310\\pandas\\tests\\indexes\\multi\n",
      "  copying pandas\\tests\\indexes\\multi\\test_partial_indexing.py -> build\\lib.win-amd64-cpython-310\\pandas\\tests\\indexes\\multi\n",
      "  copying pandas\\tests\\indexes\\multi\\test_reindex.py -> build\\lib.win-amd64-cpython-310\\pandas\\tests\\indexes\\multi\n",
      "  copying pandas\\tests\\indexes\\multi\\test_reshape.py -> build\\lib.win-amd64-cpython-310\\pandas\\tests\\indexes\\multi\n",
      "  copying pandas\\tests\\indexes\\multi\\test_set_ops.py -> build\\lib.win-amd64-cpython-310\\pandas\\tests\\indexes\\multi\n",
      "  copying pandas\\tests\\indexes\\multi\\test_sorting.py -> build\\lib.win-amd64-cpython-310\\pandas\\tests\\indexes\\multi\n",
      "  copying pandas\\tests\\indexes\\multi\\__init__.py -> build\\lib.win-amd64-cpython-310\\pandas\\tests\\indexes\\multi\n",
      "  creating build\\lib.win-amd64-cpython-310\\pandas\\tests\\indexes\\period\n",
      "  copying pandas\\tests\\indexes\\period\\test_arithmetic.py -> build\\lib.win-amd64-cpython-310\\pandas\\tests\\indexes\\period\n",
      "  copying pandas\\tests\\indexes\\period\\test_asfreq.py -> build\\lib.win-amd64-cpython-310\\pandas\\tests\\indexes\\period\n",
      "  copying pandas\\tests\\indexes\\period\\test_astype.py -> build\\lib.win-amd64-cpython-310\\pandas\\tests\\indexes\\period\n",
      "  copying pandas\\tests\\indexes\\period\\test_construction.py -> build\\lib.win-amd64-cpython-310\\pandas\\tests\\indexes\\period\n",
      "  copying pandas\\tests\\indexes\\period\\test_formats.py -> build\\lib.win-amd64-cpython-310\\pandas\\tests\\indexes\\period\n",
      "  copying pandas\\tests\\indexes\\period\\test_indexing.py -> build\\lib.win-amd64-cpython-310\\pandas\\tests\\indexes\\period\n",
      "  copying pandas\\tests\\indexes\\period\\test_ops.py -> build\\lib.win-amd64-cpython-310\\pandas\\tests\\indexes\\period\n",
      "  copying pandas\\tests\\indexes\\period\\test_partial_slicing.py -> build\\lib.win-amd64-cpython-310\\pandas\\tests\\indexes\\period\n",
      "  copying pandas\\tests\\indexes\\period\\test_period.py -> build\\lib.win-amd64-cpython-310\\pandas\\tests\\indexes\\period\n",
      "  copying pandas\\tests\\indexes\\period\\test_period_range.py -> build\\lib.win-amd64-cpython-310\\pandas\\tests\\indexes\\period\n",
      "  copying pandas\\tests\\indexes\\period\\test_scalar_compat.py -> build\\lib.win-amd64-cpython-310\\pandas\\tests\\indexes\\period\n",
      "  copying pandas\\tests\\indexes\\period\\test_setops.py -> build\\lib.win-amd64-cpython-310\\pandas\\tests\\indexes\\period\n",
      "  copying pandas\\tests\\indexes\\period\\test_tools.py -> build\\lib.win-amd64-cpython-310\\pandas\\tests\\indexes\\period\n",
      "  copying pandas\\tests\\indexes\\period\\__init__.py -> build\\lib.win-amd64-cpython-310\\pandas\\tests\\indexes\\period\n",
      "  creating build\\lib.win-amd64-cpython-310\\pandas\\tests\\indexes\\timedeltas\n",
      "  copying pandas\\tests\\indexes\\timedeltas\\test_arithmetic.py -> build\\lib.win-amd64-cpython-310\\pandas\\tests\\indexes\\timedeltas\n",
      "  copying pandas\\tests\\indexes\\timedeltas\\test_astype.py -> build\\lib.win-amd64-cpython-310\\pandas\\tests\\indexes\\timedeltas\n",
      "  copying pandas\\tests\\indexes\\timedeltas\\test_construction.py -> build\\lib.win-amd64-cpython-310\\pandas\\tests\\indexes\\timedeltas\n",
      "  copying pandas\\tests\\indexes\\timedeltas\\test_formats.py -> build\\lib.win-amd64-cpython-310\\pandas\\tests\\indexes\\timedeltas\n",
      "  copying pandas\\tests\\indexes\\timedeltas\\test_indexing.py -> build\\lib.win-amd64-cpython-310\\pandas\\tests\\indexes\\timedeltas\n",
      "  copying pandas\\tests\\indexes\\timedeltas\\test_ops.py -> build\\lib.win-amd64-cpython-310\\pandas\\tests\\indexes\\timedeltas\n",
      "  copying pandas\\tests\\indexes\\timedeltas\\test_partial_slicing.py -> build\\lib.win-amd64-cpython-310\\pandas\\tests\\indexes\\timedeltas\n",
      "  copying pandas\\tests\\indexes\\timedeltas\\test_scalar_compat.py -> build\\lib.win-amd64-cpython-310\\pandas\\tests\\indexes\\timedeltas\n",
      "  copying pandas\\tests\\indexes\\timedeltas\\test_setops.py -> build\\lib.win-amd64-cpython-310\\pandas\\tests\\indexes\\timedeltas\n",
      "  copying pandas\\tests\\indexes\\timedeltas\\test_timedelta.py -> build\\lib.win-amd64-cpython-310\\pandas\\tests\\indexes\\timedeltas\n",
      "  copying pandas\\tests\\indexes\\timedeltas\\test_timedelta_range.py -> build\\lib.win-amd64-cpython-310\\pandas\\tests\\indexes\\timedeltas\n",
      "  copying pandas\\tests\\indexes\\timedeltas\\test_tools.py -> build\\lib.win-amd64-cpython-310\\pandas\\tests\\indexes\\timedeltas\n",
      "  copying pandas\\tests\\indexes\\timedeltas\\__init__.py -> build\\lib.win-amd64-cpython-310\\pandas\\tests\\indexes\\timedeltas\n",
      "  creating build\\lib.win-amd64-cpython-310\\pandas\\tests\\indexing\\interval\n",
      "  copying pandas\\tests\\indexing\\interval\\test_interval.py -> build\\lib.win-amd64-cpython-310\\pandas\\tests\\indexing\\interval\n",
      "  copying pandas\\tests\\indexing\\interval\\test_interval_new.py -> build\\lib.win-amd64-cpython-310\\pandas\\tests\\indexing\\interval\n",
      "  copying pandas\\tests\\indexing\\interval\\__init__.py -> build\\lib.win-amd64-cpython-310\\pandas\\tests\\indexing\\interval\n",
      "  creating build\\lib.win-amd64-cpython-310\\pandas\\tests\\indexing\\multiindex\n",
      "  copying pandas\\tests\\indexing\\multiindex\\conftest.py -> build\\lib.win-amd64-cpython-310\\pandas\\tests\\indexing\\multiindex\n",
      "  copying pandas\\tests\\indexing\\multiindex\\test_chaining_and_caching.py -> build\\lib.win-amd64-cpython-310\\pandas\\tests\\indexing\\multiindex\n",
      "  copying pandas\\tests\\indexing\\multiindex\\test_datetime.py -> build\\lib.win-amd64-cpython-310\\pandas\\tests\\indexing\\multiindex\n",
      "  copying pandas\\tests\\indexing\\multiindex\\test_getitem.py -> build\\lib.win-amd64-cpython-310\\pandas\\tests\\indexing\\multiindex\n",
      "  copying pandas\\tests\\indexing\\multiindex\\test_iloc.py -> build\\lib.win-amd64-cpython-310\\pandas\\tests\\indexing\\multiindex\n",
      "  copying pandas\\tests\\indexing\\multiindex\\test_indexing_slow.py -> build\\lib.win-amd64-cpython-310\\pandas\\tests\\indexing\\multiindex\n",
      "  copying pandas\\tests\\indexing\\multiindex\\test_ix.py -> build\\lib.win-amd64-cpython-310\\pandas\\tests\\indexing\\multiindex\n",
      "  copying pandas\\tests\\indexing\\multiindex\\test_loc.py -> build\\lib.win-amd64-cpython-310\\pandas\\tests\\indexing\\multiindex\n",
      "  copying pandas\\tests\\indexing\\multiindex\\test_multiindex.py -> build\\lib.win-amd64-cpython-310\\pandas\\tests\\indexing\\multiindex\n",
      "  copying pandas\\tests\\indexing\\multiindex\\test_partial.py -> build\\lib.win-amd64-cpython-310\\pandas\\tests\\indexing\\multiindex\n",
      "  copying pandas\\tests\\indexing\\multiindex\\test_setitem.py -> build\\lib.win-amd64-cpython-310\\pandas\\tests\\indexing\\multiindex\n",
      "  copying pandas\\tests\\indexing\\multiindex\\test_set_ops.py -> build\\lib.win-amd64-cpython-310\\pandas\\tests\\indexing\\multiindex\n",
      "  copying pandas\\tests\\indexing\\multiindex\\test_slice.py -> build\\lib.win-amd64-cpython-310\\pandas\\tests\\indexing\\multiindex\n",
      "  copying pandas\\tests\\indexing\\multiindex\\test_sorted.py -> build\\lib.win-amd64-cpython-310\\pandas\\tests\\indexing\\multiindex\n",
      "  copying pandas\\tests\\indexing\\multiindex\\test_xs.py -> build\\lib.win-amd64-cpython-310\\pandas\\tests\\indexing\\multiindex\n",
      "  copying pandas\\tests\\indexing\\multiindex\\__init__.py -> build\\lib.win-amd64-cpython-310\\pandas\\tests\\indexing\\multiindex\n",
      "  creating build\\lib.win-amd64-cpython-310\\pandas\\tests\\io\\excel\n",
      "  copying pandas\\tests\\io\\excel\\conftest.py -> build\\lib.win-amd64-cpython-310\\pandas\\tests\\io\\excel\n",
      "  copying pandas\\tests\\io\\excel\\test_odf.py -> build\\lib.win-amd64-cpython-310\\pandas\\tests\\io\\excel\n",
      "  copying pandas\\tests\\io\\excel\\test_openpyxl.py -> build\\lib.win-amd64-cpython-310\\pandas\\tests\\io\\excel\n",
      "  copying pandas\\tests\\io\\excel\\test_readers.py -> build\\lib.win-amd64-cpython-310\\pandas\\tests\\io\\excel\n",
      "  copying pandas\\tests\\io\\excel\\test_style.py -> build\\lib.win-amd64-cpython-310\\pandas\\tests\\io\\excel\n",
      "  copying pandas\\tests\\io\\excel\\test_writers.py -> build\\lib.win-amd64-cpython-310\\pandas\\tests\\io\\excel\n",
      "  copying pandas\\tests\\io\\excel\\test_xlrd.py -> build\\lib.win-amd64-cpython-310\\pandas\\tests\\io\\excel\n",
      "  copying pandas\\tests\\io\\excel\\test_xlsxwriter.py -> build\\lib.win-amd64-cpython-310\\pandas\\tests\\io\\excel\n",
      "  copying pandas\\tests\\io\\excel\\test_xlwt.py -> build\\lib.win-amd64-cpython-310\\pandas\\tests\\io\\excel\n",
      "  copying pandas\\tests\\io\\excel\\__init__.py -> build\\lib.win-amd64-cpython-310\\pandas\\tests\\io\\excel\n",
      "  creating build\\lib.win-amd64-cpython-310\\pandas\\tests\\io\\formats\n",
      "  copying pandas\\tests\\io\\formats\\test_console.py -> build\\lib.win-amd64-cpython-310\\pandas\\tests\\io\\formats\n",
      "  copying pandas\\tests\\io\\formats\\test_css.py -> build\\lib.win-amd64-cpython-310\\pandas\\tests\\io\\formats\n",
      "  copying pandas\\tests\\io\\formats\\test_eng_formatting.py -> build\\lib.win-amd64-cpython-310\\pandas\\tests\\io\\formats\n",
      "  copying pandas\\tests\\io\\formats\\test_format.py -> build\\lib.win-amd64-cpython-310\\pandas\\tests\\io\\formats\n",
      "  copying pandas\\tests\\io\\formats\\test_printing.py -> build\\lib.win-amd64-cpython-310\\pandas\\tests\\io\\formats\n",
      "  copying pandas\\tests\\io\\formats\\test_style.py -> build\\lib.win-amd64-cpython-310\\pandas\\tests\\io\\formats\n",
      "  copying pandas\\tests\\io\\formats\\test_to_csv.py -> build\\lib.win-amd64-cpython-310\\pandas\\tests\\io\\formats\n",
      "  copying pandas\\tests\\io\\formats\\test_to_excel.py -> build\\lib.win-amd64-cpython-310\\pandas\\tests\\io\\formats\n",
      "  copying pandas\\tests\\io\\formats\\test_to_html.py -> build\\lib.win-amd64-cpython-310\\pandas\\tests\\io\\formats\n",
      "  copying pandas\\tests\\io\\formats\\test_to_latex.py -> build\\lib.win-amd64-cpython-310\\pandas\\tests\\io\\formats\n",
      "  copying pandas\\tests\\io\\formats\\__init__.py -> build\\lib.win-amd64-cpython-310\\pandas\\tests\\io\\formats\n",
      "  creating build\\lib.win-amd64-cpython-310\\pandas\\tests\\io\\json\n",
      "  copying pandas\\tests\\io\\json\\test_compression.py -> build\\lib.win-amd64-cpython-310\\pandas\\tests\\io\\json\n",
      "  copying pandas\\tests\\io\\json\\test_json_table_schema.py -> build\\lib.win-amd64-cpython-310\\pandas\\tests\\io\\json\n",
      "  copying pandas\\tests\\io\\json\\test_normalize.py -> build\\lib.win-amd64-cpython-310\\pandas\\tests\\io\\json\n",
      "  copying pandas\\tests\\io\\json\\test_pandas.py -> build\\lib.win-amd64-cpython-310\\pandas\\tests\\io\\json\n",
      "  copying pandas\\tests\\io\\json\\test_readlines.py -> build\\lib.win-amd64-cpython-310\\pandas\\tests\\io\\json\n",
      "  copying pandas\\tests\\io\\json\\test_ujson.py -> build\\lib.win-amd64-cpython-310\\pandas\\tests\\io\\json\n",
      "  copying pandas\\tests\\io\\json\\__init__.py -> build\\lib.win-amd64-cpython-310\\pandas\\tests\\io\\json\n",
      "  creating build\\lib.win-amd64-cpython-310\\pandas\\tests\\io\\msgpack\n",
      "  copying pandas\\tests\\io\\msgpack\\common.py -> build\\lib.win-amd64-cpython-310\\pandas\\tests\\io\\msgpack\n",
      "  copying pandas\\tests\\io\\msgpack\\test_buffer.py -> build\\lib.win-amd64-cpython-310\\pandas\\tests\\io\\msgpack\n",
      "  copying pandas\\tests\\io\\msgpack\\test_case.py -> build\\lib.win-amd64-cpython-310\\pandas\\tests\\io\\msgpack\n",
      "  copying pandas\\tests\\io\\msgpack\\test_except.py -> build\\lib.win-amd64-cpython-310\\pandas\\tests\\io\\msgpack\n",
      "  copying pandas\\tests\\io\\msgpack\\test_extension.py -> build\\lib.win-amd64-cpython-310\\pandas\\tests\\io\\msgpack\n",
      "  copying pandas\\tests\\io\\msgpack\\test_format.py -> build\\lib.win-amd64-cpython-310\\pandas\\tests\\io\\msgpack\n",
      "  copying pandas\\tests\\io\\msgpack\\test_limits.py -> build\\lib.win-amd64-cpython-310\\pandas\\tests\\io\\msgpack\n",
      "  copying pandas\\tests\\io\\msgpack\\test_newspec.py -> build\\lib.win-amd64-cpython-310\\pandas\\tests\\io\\msgpack\n",
      "  copying pandas\\tests\\io\\msgpack\\test_obj.py -> build\\lib.win-amd64-cpython-310\\pandas\\tests\\io\\msgpack\n",
      "  copying pandas\\tests\\io\\msgpack\\test_pack.py -> build\\lib.win-amd64-cpython-310\\pandas\\tests\\io\\msgpack\n",
      "  copying pandas\\tests\\io\\msgpack\\test_read_size.py -> build\\lib.win-amd64-cpython-310\\pandas\\tests\\io\\msgpack\n",
      "  copying pandas\\tests\\io\\msgpack\\test_seq.py -> build\\lib.win-amd64-cpython-310\\pandas\\tests\\io\\msgpack\n",
      "  copying pandas\\tests\\io\\msgpack\\test_sequnpack.py -> build\\lib.win-amd64-cpython-310\\pandas\\tests\\io\\msgpack\n",
      "  copying pandas\\tests\\io\\msgpack\\test_subtype.py -> build\\lib.win-amd64-cpython-310\\pandas\\tests\\io\\msgpack\n",
      "  copying pandas\\tests\\io\\msgpack\\test_unpack.py -> build\\lib.win-amd64-cpython-310\\pandas\\tests\\io\\msgpack\n",
      "  copying pandas\\tests\\io\\msgpack\\test_unpack_raw.py -> build\\lib.win-amd64-cpython-310\\pandas\\tests\\io\\msgpack\n",
      "  copying pandas\\tests\\io\\msgpack\\__init__.py -> build\\lib.win-amd64-cpython-310\\pandas\\tests\\io\\msgpack\n",
      "  creating build\\lib.win-amd64-cpython-310\\pandas\\tests\\io\\parser\n",
      "  copying pandas\\tests\\io\\parser\\conftest.py -> build\\lib.win-amd64-cpython-310\\pandas\\tests\\io\\parser\n",
      "  copying pandas\\tests\\io\\parser\\test_comment.py -> build\\lib.win-amd64-cpython-310\\pandas\\tests\\io\\parser\n",
      "  copying pandas\\tests\\io\\parser\\test_common.py -> build\\lib.win-amd64-cpython-310\\pandas\\tests\\io\\parser\n",
      "  copying pandas\\tests\\io\\parser\\test_compression.py -> build\\lib.win-amd64-cpython-310\\pandas\\tests\\io\\parser\n",
      "  copying pandas\\tests\\io\\parser\\test_converters.py -> build\\lib.win-amd64-cpython-310\\pandas\\tests\\io\\parser\n",
      "  copying pandas\\tests\\io\\parser\\test_c_parser_only.py -> build\\lib.win-amd64-cpython-310\\pandas\\tests\\io\\parser\n",
      "  copying pandas\\tests\\io\\parser\\test_dialect.py -> build\\lib.win-amd64-cpython-310\\pandas\\tests\\io\\parser\n",
      "  copying pandas\\tests\\io\\parser\\test_dtypes.py -> build\\lib.win-amd64-cpython-310\\pandas\\tests\\io\\parser\n",
      "  copying pandas\\tests\\io\\parser\\test_header.py -> build\\lib.win-amd64-cpython-310\\pandas\\tests\\io\\parser\n",
      "  copying pandas\\tests\\io\\parser\\test_index_col.py -> build\\lib.win-amd64-cpython-310\\pandas\\tests\\io\\parser\n",
      "  copying pandas\\tests\\io\\parser\\test_mangle_dupes.py -> build\\lib.win-amd64-cpython-310\\pandas\\tests\\io\\parser\n",
      "  copying pandas\\tests\\io\\parser\\test_multi_thread.py -> build\\lib.win-amd64-cpython-310\\pandas\\tests\\io\\parser\n",
      "  copying pandas\\tests\\io\\parser\\test_na_values.py -> build\\lib.win-amd64-cpython-310\\pandas\\tests\\io\\parser\n",
      "  copying pandas\\tests\\io\\parser\\test_network.py -> build\\lib.win-amd64-cpython-310\\pandas\\tests\\io\\parser\n",
      "  copying pandas\\tests\\io\\parser\\test_parse_dates.py -> build\\lib.win-amd64-cpython-310\\pandas\\tests\\io\\parser\n",
      "  copying pandas\\tests\\io\\parser\\test_python_parser_only.py -> build\\lib.win-amd64-cpython-310\\pandas\\tests\\io\\parser\n",
      "  copying pandas\\tests\\io\\parser\\test_quoting.py -> build\\lib.win-amd64-cpython-310\\pandas\\tests\\io\\parser\n",
      "  copying pandas\\tests\\io\\parser\\test_read_fwf.py -> build\\lib.win-amd64-cpython-310\\pandas\\tests\\io\\parser\n",
      "  copying pandas\\tests\\io\\parser\\test_skiprows.py -> build\\lib.win-amd64-cpython-310\\pandas\\tests\\io\\parser\n",
      "  copying pandas\\tests\\io\\parser\\test_textreader.py -> build\\lib.win-amd64-cpython-310\\pandas\\tests\\io\\parser\n",
      "  copying pandas\\tests\\io\\parser\\test_unsupported.py -> build\\lib.win-amd64-cpython-310\\pandas\\tests\\io\\parser\n",
      "  copying pandas\\tests\\io\\parser\\test_usecols.py -> build\\lib.win-amd64-cpython-310\\pandas\\tests\\io\\parser\n",
      "  copying pandas\\tests\\io\\parser\\__init__.py -> build\\lib.win-amd64-cpython-310\\pandas\\tests\\io\\parser\n",
      "  creating build\\lib.win-amd64-cpython-310\\pandas\\tests\\io\\pytables\n",
      "  copying pandas\\tests\\io\\pytables\\test_compat.py -> build\\lib.win-amd64-cpython-310\\pandas\\tests\\io\\pytables\n",
      "  copying pandas\\tests\\io\\pytables\\test_pytables.py -> build\\lib.win-amd64-cpython-310\\pandas\\tests\\io\\pytables\n",
      "  copying pandas\\tests\\io\\pytables\\test_pytables_missing.py -> build\\lib.win-amd64-cpython-310\\pandas\\tests\\io\\pytables\n",
      "  copying pandas\\tests\\io\\pytables\\__init__.py -> build\\lib.win-amd64-cpython-310\\pandas\\tests\\io\\pytables\n",
      "  creating build\\lib.win-amd64-cpython-310\\pandas\\tests\\io\\sas\n",
      "  copying pandas\\tests\\io\\sas\\test_sas.py -> build\\lib.win-amd64-cpython-310\\pandas\\tests\\io\\sas\n",
      "  copying pandas\\tests\\io\\sas\\test_sas7bdat.py -> build\\lib.win-amd64-cpython-310\\pandas\\tests\\io\\sas\n",
      "  copying pandas\\tests\\io\\sas\\test_xport.py -> build\\lib.win-amd64-cpython-310\\pandas\\tests\\io\\sas\n",
      "  copying pandas\\tests\\io\\sas\\__init__.py -> build\\lib.win-amd64-cpython-310\\pandas\\tests\\io\\sas\n",
      "  creating build\\lib.win-amd64-cpython-310\\pandas\\tests\\reshape\\merge\n",
      "  copying pandas\\tests\\reshape\\merge\\test_join.py -> build\\lib.win-amd64-cpython-310\\pandas\\tests\\reshape\\merge\n",
      "  copying pandas\\tests\\reshape\\merge\\test_merge.py -> build\\lib.win-amd64-cpython-310\\pandas\\tests\\reshape\\merge\n",
      "  copying pandas\\tests\\reshape\\merge\\test_merge_asof.py -> build\\lib.win-amd64-cpython-310\\pandas\\tests\\reshape\\merge\n",
      "  copying pandas\\tests\\reshape\\merge\\test_merge_index_as_string.py -> build\\lib.win-amd64-cpython-310\\pandas\\tests\\reshape\\merge\n",
      "  copying pandas\\tests\\reshape\\merge\\test_merge_ordered.py -> build\\lib.win-amd64-cpython-310\\pandas\\tests\\reshape\\merge\n",
      "  copying pandas\\tests\\reshape\\merge\\test_multi.py -> build\\lib.win-amd64-cpython-310\\pandas\\tests\\reshape\\merge\n",
      "  copying pandas\\tests\\reshape\\merge\\__init__.py -> build\\lib.win-amd64-cpython-310\\pandas\\tests\\reshape\\merge\n",
      "  creating build\\lib.win-amd64-cpython-310\\pandas\\tests\\scalar\\interval\n",
      "  copying pandas\\tests\\scalar\\interval\\test_interval.py -> build\\lib.win-amd64-cpython-310\\pandas\\tests\\scalar\\interval\n",
      "  copying pandas\\tests\\scalar\\interval\\test_ops.py -> build\\lib.win-amd64-cpython-310\\pandas\\tests\\scalar\\interval\n",
      "  copying pandas\\tests\\scalar\\interval\\__init__.py -> build\\lib.win-amd64-cpython-310\\pandas\\tests\\scalar\\interval\n",
      "  creating build\\lib.win-amd64-cpython-310\\pandas\\tests\\scalar\\period\n",
      "  copying pandas\\tests\\scalar\\period\\test_asfreq.py -> build\\lib.win-amd64-cpython-310\\pandas\\tests\\scalar\\period\n",
      "  copying pandas\\tests\\scalar\\period\\test_period.py -> build\\lib.win-amd64-cpython-310\\pandas\\tests\\scalar\\period\n",
      "  copying pandas\\tests\\scalar\\period\\__init__.py -> build\\lib.win-amd64-cpython-310\\pandas\\tests\\scalar\\period\n",
      "  creating build\\lib.win-amd64-cpython-310\\pandas\\tests\\scalar\\timedelta\n",
      "  copying pandas\\tests\\scalar\\timedelta\\test_arithmetic.py -> build\\lib.win-amd64-cpython-310\\pandas\\tests\\scalar\\timedelta\n",
      "  copying pandas\\tests\\scalar\\timedelta\\test_construction.py -> build\\lib.win-amd64-cpython-310\\pandas\\tests\\scalar\\timedelta\n",
      "  copying pandas\\tests\\scalar\\timedelta\\test_formats.py -> build\\lib.win-amd64-cpython-310\\pandas\\tests\\scalar\\timedelta\n",
      "  copying pandas\\tests\\scalar\\timedelta\\test_timedelta.py -> build\\lib.win-amd64-cpython-310\\pandas\\tests\\scalar\\timedelta\n",
      "  copying pandas\\tests\\scalar\\timedelta\\__init__.py -> build\\lib.win-amd64-cpython-310\\pandas\\tests\\scalar\\timedelta\n",
      "  creating build\\lib.win-amd64-cpython-310\\pandas\\tests\\scalar\\timestamp\n",
      "  copying pandas\\tests\\scalar\\timestamp\\test_arithmetic.py -> build\\lib.win-amd64-cpython-310\\pandas\\tests\\scalar\\timestamp\n",
      "  copying pandas\\tests\\scalar\\timestamp\\test_comparisons.py -> build\\lib.win-amd64-cpython-310\\pandas\\tests\\scalar\\timestamp\n",
      "  copying pandas\\tests\\scalar\\timestamp\\test_rendering.py -> build\\lib.win-amd64-cpython-310\\pandas\\tests\\scalar\\timestamp\n",
      "  copying pandas\\tests\\scalar\\timestamp\\test_timestamp.py -> build\\lib.win-amd64-cpython-310\\pandas\\tests\\scalar\\timestamp\n",
      "  copying pandas\\tests\\scalar\\timestamp\\test_timezones.py -> build\\lib.win-amd64-cpython-310\\pandas\\tests\\scalar\\timestamp\n",
      "  copying pandas\\tests\\scalar\\timestamp\\test_unary_ops.py -> build\\lib.win-amd64-cpython-310\\pandas\\tests\\scalar\\timestamp\n",
      "  copying pandas\\tests\\scalar\\timestamp\\__init__.py -> build\\lib.win-amd64-cpython-310\\pandas\\tests\\scalar\\timestamp\n",
      "  creating build\\lib.win-amd64-cpython-310\\pandas\\tests\\series\\indexing\n",
      "  copying pandas\\tests\\series\\indexing\\conftest.py -> build\\lib.win-amd64-cpython-310\\pandas\\tests\\series\\indexing\n",
      "  copying pandas\\tests\\series\\indexing\\test_alter_index.py -> build\\lib.win-amd64-cpython-310\\pandas\\tests\\series\\indexing\n",
      "  copying pandas\\tests\\series\\indexing\\test_boolean.py -> build\\lib.win-amd64-cpython-310\\pandas\\tests\\series\\indexing\n",
      "  copying pandas\\tests\\series\\indexing\\test_callable.py -> build\\lib.win-amd64-cpython-310\\pandas\\tests\\series\\indexing\n",
      "  copying pandas\\tests\\series\\indexing\\test_datetime.py -> build\\lib.win-amd64-cpython-310\\pandas\\tests\\series\\indexing\n",
      "  copying pandas\\tests\\series\\indexing\\test_iloc.py -> build\\lib.win-amd64-cpython-310\\pandas\\tests\\series\\indexing\n",
      "  copying pandas\\tests\\series\\indexing\\test_indexing.py -> build\\lib.win-amd64-cpython-310\\pandas\\tests\\series\\indexing\n",
      "  copying pandas\\tests\\series\\indexing\\test_loc.py -> build\\lib.win-amd64-cpython-310\\pandas\\tests\\series\\indexing\n",
      "  copying pandas\\tests\\series\\indexing\\test_numeric.py -> build\\lib.win-amd64-cpython-310\\pandas\\tests\\series\\indexing\n",
      "  copying pandas\\tests\\series\\indexing\\__init__.py -> build\\lib.win-amd64-cpython-310\\pandas\\tests\\series\\indexing\n",
      "  creating build\\lib.win-amd64-cpython-310\\pandas\\tests\\sparse\\frame\n",
      "  copying pandas\\tests\\sparse\\frame\\conftest.py -> build\\lib.win-amd64-cpython-310\\pandas\\tests\\sparse\\frame\n",
      "  copying pandas\\tests\\sparse\\frame\\test_analytics.py -> build\\lib.win-amd64-cpython-310\\pandas\\tests\\sparse\\frame\n",
      "  copying pandas\\tests\\sparse\\frame\\test_apply.py -> build\\lib.win-amd64-cpython-310\\pandas\\tests\\sparse\\frame\n",
      "  copying pandas\\tests\\sparse\\frame\\test_frame.py -> build\\lib.win-amd64-cpython-310\\pandas\\tests\\sparse\\frame\n",
      "  copying pandas\\tests\\sparse\\frame\\test_indexing.py -> build\\lib.win-amd64-cpython-310\\pandas\\tests\\sparse\\frame\n",
      "  copying pandas\\tests\\sparse\\frame\\test_to_csv.py -> build\\lib.win-amd64-cpython-310\\pandas\\tests\\sparse\\frame\n",
      "  copying pandas\\tests\\sparse\\frame\\test_to_from_scipy.py -> build\\lib.win-amd64-cpython-310\\pandas\\tests\\sparse\\frame\n",
      "  copying pandas\\tests\\sparse\\frame\\__init__.py -> build\\lib.win-amd64-cpython-310\\pandas\\tests\\sparse\\frame\n",
      "  creating build\\lib.win-amd64-cpython-310\\pandas\\tests\\sparse\\series\n",
      "  copying pandas\\tests\\sparse\\series\\test_indexing.py -> build\\lib.win-amd64-cpython-310\\pandas\\tests\\sparse\\series\n",
      "  copying pandas\\tests\\sparse\\series\\test_series.py -> build\\lib.win-amd64-cpython-310\\pandas\\tests\\sparse\\series\n",
      "  copying pandas\\tests\\sparse\\series\\__init__.py -> build\\lib.win-amd64-cpython-310\\pandas\\tests\\sparse\\series\n",
      "  creating build\\lib.win-amd64-cpython-310\\pandas\\tests\\tseries\\frequencies\n",
      "  copying pandas\\tests\\tseries\\frequencies\\test_freq_code.py -> build\\lib.win-amd64-cpython-310\\pandas\\tests\\tseries\\frequencies\n",
      "  copying pandas\\tests\\tseries\\frequencies\\test_inference.py -> build\\lib.win-amd64-cpython-310\\pandas\\tests\\tseries\\frequencies\n",
      "  copying pandas\\tests\\tseries\\frequencies\\test_to_offset.py -> build\\lib.win-amd64-cpython-310\\pandas\\tests\\tseries\\frequencies\n",
      "  copying pandas\\tests\\tseries\\frequencies\\__init__.py -> build\\lib.win-amd64-cpython-310\\pandas\\tests\\tseries\\frequencies\n",
      "  creating build\\lib.win-amd64-cpython-310\\pandas\\tests\\tseries\\holiday\n",
      "  copying pandas\\tests\\tseries\\holiday\\test_calendar.py -> build\\lib.win-amd64-cpython-310\\pandas\\tests\\tseries\\holiday\n",
      "  copying pandas\\tests\\tseries\\holiday\\test_federal.py -> build\\lib.win-amd64-cpython-310\\pandas\\tests\\tseries\\holiday\n",
      "  copying pandas\\tests\\tseries\\holiday\\test_holiday.py -> build\\lib.win-amd64-cpython-310\\pandas\\tests\\tseries\\holiday\n",
      "  copying pandas\\tests\\tseries\\holiday\\test_observance.py -> build\\lib.win-amd64-cpython-310\\pandas\\tests\\tseries\\holiday\n",
      "  copying pandas\\tests\\tseries\\holiday\\__init__.py -> build\\lib.win-amd64-cpython-310\\pandas\\tests\\tseries\\holiday\n",
      "  creating build\\lib.win-amd64-cpython-310\\pandas\\tests\\tseries\\offsets\n",
      "  copying pandas\\tests\\tseries\\offsets\\common.py -> build\\lib.win-amd64-cpython-310\\pandas\\tests\\tseries\\offsets\n",
      "  copying pandas\\tests\\tseries\\offsets\\conftest.py -> build\\lib.win-amd64-cpython-310\\pandas\\tests\\tseries\\offsets\n",
      "  copying pandas\\tests\\tseries\\offsets\\test_fiscal.py -> build\\lib.win-amd64-cpython-310\\pandas\\tests\\tseries\\offsets\n",
      "  copying pandas\\tests\\tseries\\offsets\\test_offsets.py -> build\\lib.win-amd64-cpython-310\\pandas\\tests\\tseries\\offsets\n",
      "  copying pandas\\tests\\tseries\\offsets\\test_offsets_properties.py -> build\\lib.win-amd64-cpython-310\\pandas\\tests\\tseries\\offsets\n",
      "  copying pandas\\tests\\tseries\\offsets\\test_ticks.py -> build\\lib.win-amd64-cpython-310\\pandas\\tests\\tseries\\offsets\n",
      "  copying pandas\\tests\\tseries\\offsets\\test_yqm_offsets.py -> build\\lib.win-amd64-cpython-310\\pandas\\tests\\tseries\\offsets\n",
      "  copying pandas\\tests\\tseries\\offsets\\__init__.py -> build\\lib.win-amd64-cpython-310\\pandas\\tests\\tseries\\offsets\n",
      "  creating build\\lib.win-amd64-cpython-310\\pandas\\_libs\\tslibs\n",
      "  copying pandas\\_libs\\tslibs\\__init__.py -> build\\lib.win-amd64-cpython-310\\pandas\\_libs\\tslibs\n",
      "  creating build\\lib.win-amd64-cpython-310\\pandas\\io\\formats\\templates\n",
      "  copying pandas\\io\\formats\\templates\\html.tpl -> build\\lib.win-amd64-cpython-310\\pandas\\io\\formats\\templates\n",
      "  UPDATING build\\lib.win-amd64-cpython-310\\pandas/_version.py\n",
      "  set build\\lib.win-amd64-cpython-310\\pandas/_version.py to '0.25.1'\n",
      "  running build_ext\n",
      "  building 'pandas._libs.algos' extension\n",
      "  error: Microsoft Visual C++ 14.0 or greater is required. Get it with \"Microsoft C++ Build Tools\": https://visualstudio.microsoft.com/visual-cpp-build-tools/\n",
      "  [end of output]\n",
      "  \n",
      "  note: This error originates from a subprocess, and is likely not a problem with pip.\n",
      "  ERROR: Failed building wheel for pandas\n",
      "  error: subprocess-exited-with-error\n",
      "  \n",
      "  python setup.py bdist_wheel did not run successfully.\n",
      "  exit code: 1\n",
      "  \n",
      "  [264 lines of output]\n",
      "  Running from numpy source directory.\n",
      "  C:\\Users\\OWNER\\AppData\\Local\\Temp\\pip-install-3k67h74j\\numpy_409f8dab77ec432faa81777b47e14a94\\numpy\\distutils\\misc_util.py:464: SyntaxWarning: \"is\" with a literal. Did you mean \"==\"?\n",
      "    return is_string(s) and ('*' in s or '?' is s)\n",
      "  blas_opt_info:\n",
      "  blas_mkl_info:\n",
      "  No module named 'numpy.distutils._msvccompiler' in numpy.distutils; trying from distutils\n",
      "  customize MSVCCompiler\n",
      "    libraries mkl_rt not found in ['C:\\\\Users\\\\OWNER\\\\Documents\\\\ana jupy\\\\lib', 'C:\\\\', 'C:\\\\Users\\\\OWNER\\\\Documents\\\\ana jupy\\\\libs']\n",
      "    NOT AVAILABLE\n",
      "  \n",
      "  blis_info:\n",
      "  No module named 'numpy.distutils._msvccompiler' in numpy.distutils; trying from distutils\n",
      "  customize MSVCCompiler\n",
      "    libraries blis not found in ['C:\\\\Users\\\\OWNER\\\\Documents\\\\ana jupy\\\\lib', 'C:\\\\', 'C:\\\\Users\\\\OWNER\\\\Documents\\\\ana jupy\\\\libs']\n",
      "    NOT AVAILABLE\n",
      "  \n",
      "  openblas_info:\n",
      "  No module named 'numpy.distutils._msvccompiler' in numpy.distutils; trying from distutils\n",
      "  customize MSVCCompiler\n",
      "  No module named 'numpy.distutils._msvccompiler' in numpy.distutils; trying from distutils\n",
      "  customize MSVCCompiler\n",
      "    libraries openblas not found in ['C:\\\\Users\\\\OWNER\\\\Documents\\\\ana jupy\\\\lib', 'C:\\\\', 'C:\\\\Users\\\\OWNER\\\\Documents\\\\ana jupy\\\\libs']\n",
      "  get_default_fcompiler: matching types: '['gnu', 'intelv', 'absoft', 'compaqv', 'intelev', 'gnu95', 'g95', 'intelvem', 'intelem', 'flang']'\n",
      "  customize GnuFCompiler\n",
      "  Could not locate executable g77\n",
      "  Could not locate executable f77\n",
      "  customize IntelVisualFCompiler\n",
      "  Could not locate executable ifort\n",
      "  Could not locate executable ifl\n",
      "  customize AbsoftFCompiler\n",
      "  Could not locate executable f90\n",
      "  customize CompaqVisualFCompiler\n",
      "  Could not locate executable DF\n",
      "  customize IntelItaniumVisualFCompiler\n",
      "  Could not locate executable efl\n",
      "  customize Gnu95FCompiler\n",
      "  Could not locate executable gfortran\n",
      "  Could not locate executable f95\n",
      "  customize G95FCompiler\n",
      "  Could not locate executable g95\n",
      "  customize IntelEM64VisualFCompiler\n",
      "  customize IntelEM64TFCompiler\n",
      "  Could not locate executable efort\n",
      "  Could not locate executable efc\n",
      "  customize PGroupFlangCompiler\n",
      "  Could not locate executable flang\n",
      "  don't know how to compile Fortran code on platform 'nt'\n",
      "    NOT AVAILABLE\n",
      "  \n",
      "  atlas_3_10_blas_threads_info:\n",
      "  Setting PTATLAS=ATLAS\n",
      "  No module named 'numpy.distutils._msvccompiler' in numpy.distutils; trying from distutils\n",
      "  customize MSVCCompiler\n",
      "    libraries tatlas not found in ['C:\\\\Users\\\\OWNER\\\\Documents\\\\ana jupy\\\\lib', 'C:\\\\', 'C:\\\\Users\\\\OWNER\\\\Documents\\\\ana jupy\\\\libs']\n",
      "    NOT AVAILABLE\n",
      "  \n",
      "  atlas_3_10_blas_info:\n",
      "  No module named 'numpy.distutils._msvccompiler' in numpy.distutils; trying from distutils\n",
      "  customize MSVCCompiler\n",
      "    libraries satlas not found in ['C:\\\\Users\\\\OWNER\\\\Documents\\\\ana jupy\\\\lib', 'C:\\\\', 'C:\\\\Users\\\\OWNER\\\\Documents\\\\ana jupy\\\\libs']\n",
      "    NOT AVAILABLE\n",
      "  \n",
      "  atlas_blas_threads_info:\n",
      "  Setting PTATLAS=ATLAS\n",
      "  No module named 'numpy.distutils._msvccompiler' in numpy.distutils; trying from distutils\n",
      "  customize MSVCCompiler\n",
      "    libraries ptf77blas,ptcblas,atlas not found in ['C:\\\\Users\\\\OWNER\\\\Documents\\\\ana jupy\\\\lib', 'C:\\\\', 'C:\\\\Users\\\\OWNER\\\\Documents\\\\ana jupy\\\\libs']\n",
      "    NOT AVAILABLE\n",
      "  \n",
      "  atlas_blas_info:\n",
      "  No module named 'numpy.distutils._msvccompiler' in numpy.distutils; trying from distutils\n",
      "  customize MSVCCompiler\n",
      "    libraries f77blas,cblas,atlas not found in ['C:\\\\Users\\\\OWNER\\\\Documents\\\\ana jupy\\\\lib', 'C:\\\\', 'C:\\\\Users\\\\OWNER\\\\Documents\\\\ana jupy\\\\libs']\n",
      "    NOT AVAILABLE\n",
      "  \n",
      "  C:\\Users\\OWNER\\AppData\\Local\\Temp\\pip-install-3k67h74j\\numpy_409f8dab77ec432faa81777b47e14a94\\numpy\\distutils\\system_info.py:624: UserWarning:\n",
      "      Atlas (http://math-atlas.sourceforge.net/) libraries not found.\n",
      "      Directories to search for the libraries can be specified in the\n",
      "      numpy/distutils/site.cfg file (section [atlas]) or by setting\n",
      "      the ATLAS environment variable.\n",
      "    self.calc_info()\n",
      "  blas_info:\n",
      "  No module named 'numpy.distutils._msvccompiler' in numpy.distutils; trying from distutils\n",
      "  customize MSVCCompiler\n",
      "    libraries blas not found in ['C:\\\\Users\\\\OWNER\\\\Documents\\\\ana jupy\\\\lib', 'C:\\\\', 'C:\\\\Users\\\\OWNER\\\\Documents\\\\ana jupy\\\\libs']\n",
      "    NOT AVAILABLE\n",
      "  \n",
      "  C:\\Users\\OWNER\\AppData\\Local\\Temp\\pip-install-3k67h74j\\numpy_409f8dab77ec432faa81777b47e14a94\\numpy\\distutils\\system_info.py:624: UserWarning:\n",
      "      Blas (http://www.netlib.org/blas/) libraries not found.\n",
      "      Directories to search for the libraries can be specified in the\n",
      "      numpy/distutils/site.cfg file (section [blas]) or by setting\n",
      "      the BLAS environment variable.\n",
      "    self.calc_info()\n",
      "  blas_src_info:\n",
      "    NOT AVAILABLE\n",
      "  \n",
      "  C:\\Users\\OWNER\\AppData\\Local\\Temp\\pip-install-3k67h74j\\numpy_409f8dab77ec432faa81777b47e14a94\\numpy\\distutils\\system_info.py:624: UserWarning:\n",
      "      Blas (http://www.netlib.org/blas/) sources not found.\n",
      "      Directories to search for the sources can be specified in the\n",
      "      numpy/distutils/site.cfg file (section [blas_src]) or by setting\n",
      "      the BLAS_SRC environment variable.\n",
      "    self.calc_info()\n",
      "    NOT AVAILABLE\n",
      "  \n",
      "  'svnversion' is not recognized as an internal or external command,\n",
      "  operable program or batch file.\n",
      "  non-existing path in 'numpy\\\\distutils': 'site.cfg'\n",
      "  'svnversion' is not recognized as an internal or external command,\n",
      "  operable program or batch file.\n",
      "  F2PY Version 2\n",
      "  lapack_opt_info:\n",
      "  lapack_mkl_info:\n",
      "  No module named 'numpy.distutils._msvccompiler' in numpy.distutils; trying from distutils\n",
      "  customize MSVCCompiler\n",
      "    libraries mkl_rt not found in ['C:\\\\Users\\\\OWNER\\\\Documents\\\\ana jupy\\\\lib', 'C:\\\\', 'C:\\\\Users\\\\OWNER\\\\Documents\\\\ana jupy\\\\libs']\n",
      "    NOT AVAILABLE\n",
      "  \n",
      "  openblas_lapack_info:\n",
      "  No module named 'numpy.distutils._msvccompiler' in numpy.distutils; trying from distutils\n",
      "  customize MSVCCompiler\n",
      "  No module named 'numpy.distutils._msvccompiler' in numpy.distutils; trying from distutils\n",
      "  customize MSVCCompiler\n",
      "    libraries openblas not found in ['C:\\\\Users\\\\OWNER\\\\Documents\\\\ana jupy\\\\lib', 'C:\\\\', 'C:\\\\Users\\\\OWNER\\\\Documents\\\\ana jupy\\\\libs']\n",
      "    NOT AVAILABLE\n",
      "  \n",
      "  openblas_clapack_info:\n",
      "  No module named 'numpy.distutils._msvccompiler' in numpy.distutils; trying from distutils\n",
      "  customize MSVCCompiler\n",
      "  No module named 'numpy.distutils._msvccompiler' in numpy.distutils; trying from distutils\n",
      "  customize MSVCCompiler\n",
      "    libraries openblas,lapack not found in ['C:\\\\Users\\\\OWNER\\\\Documents\\\\ana jupy\\\\lib', 'C:\\\\', 'C:\\\\Users\\\\OWNER\\\\Documents\\\\ana jupy\\\\libs']\n",
      "    NOT AVAILABLE\n",
      "  \n",
      "  atlas_3_10_threads_info:\n",
      "  Setting PTATLAS=ATLAS\n",
      "  No module named 'numpy.distutils._msvccompiler' in numpy.distutils; trying from distutils\n",
      "  customize MSVCCompiler\n",
      "    libraries tatlas,tatlas not found in C:\\Users\\OWNER\\Documents\\ana jupy\\lib\n",
      "  No module named 'numpy.distutils._msvccompiler' in numpy.distutils; trying from distutils\n",
      "  customize MSVCCompiler\n",
      "    libraries lapack_atlas not found in C:\\Users\\OWNER\\Documents\\ana jupy\\lib\n",
      "  No module named 'numpy.distutils._msvccompiler' in numpy.distutils; trying from distutils\n",
      "  customize MSVCCompiler\n",
      "    libraries tatlas,tatlas not found in C:\\\n",
      "  No module named 'numpy.distutils._msvccompiler' in numpy.distutils; trying from distutils\n",
      "  customize MSVCCompiler\n",
      "    libraries lapack_atlas not found in C:\\\n",
      "  No module named 'numpy.distutils._msvccompiler' in numpy.distutils; trying from distutils\n",
      "  customize MSVCCompiler\n",
      "    libraries tatlas,tatlas not found in C:\\Users\\OWNER\\Documents\\ana jupy\\libs\n",
      "  No module named 'numpy.distutils._msvccompiler' in numpy.distutils; trying from distutils\n",
      "  customize MSVCCompiler\n",
      "    libraries lapack_atlas not found in C:\\Users\\OWNER\\Documents\\ana jupy\\libs\n",
      "  <class 'numpy.distutils.system_info.atlas_3_10_threads_info'>\n",
      "    NOT AVAILABLE\n",
      "  \n",
      "  atlas_3_10_info:\n",
      "  No module named 'numpy.distutils._msvccompiler' in numpy.distutils; trying from distutils\n",
      "  customize MSVCCompiler\n",
      "    libraries satlas,satlas not found in C:\\Users\\OWNER\\Documents\\ana jupy\\lib\n",
      "  No module named 'numpy.distutils._msvccompiler' in numpy.distutils; trying from distutils\n",
      "  customize MSVCCompiler\n",
      "    libraries lapack_atlas not found in C:\\Users\\OWNER\\Documents\\ana jupy\\lib\n",
      "  No module named 'numpy.distutils._msvccompiler' in numpy.distutils; trying from distutils\n",
      "  customize MSVCCompiler\n",
      "    libraries satlas,satlas not found in C:\\\n",
      "  No module named 'numpy.distutils._msvccompiler' in numpy.distutils; trying from distutils\n",
      "  customize MSVCCompiler\n",
      "    libraries lapack_atlas not found in C:\\\n",
      "  No module named 'numpy.distutils._msvccompiler' in numpy.distutils; trying from distutils\n",
      "  customize MSVCCompiler\n",
      "    libraries satlas,satlas not found in C:\\Users\\OWNER\\Documents\\ana jupy\\libs\n",
      "  No module named 'numpy.distutils._msvccompiler' in numpy.distutils; trying from distutils\n",
      "  customize MSVCCompiler\n",
      "    libraries lapack_atlas not found in C:\\Users\\OWNER\\Documents\\ana jupy\\libs\n",
      "  <class 'numpy.distutils.system_info.atlas_3_10_info'>\n",
      "    NOT AVAILABLE\n",
      "  \n",
      "  atlas_threads_info:\n",
      "  Setting PTATLAS=ATLAS\n",
      "  No module named 'numpy.distutils._msvccompiler' in numpy.distutils; trying from distutils\n",
      "  customize MSVCCompiler\n",
      "    libraries ptf77blas,ptcblas,atlas not found in C:\\Users\\OWNER\\Documents\\ana jupy\\lib\n",
      "  No module named 'numpy.distutils._msvccompiler' in numpy.distutils; trying from distutils\n",
      "  customize MSVCCompiler\n",
      "    libraries lapack_atlas not found in C:\\Users\\OWNER\\Documents\\ana jupy\\lib\n",
      "  No module named 'numpy.distutils._msvccompiler' in numpy.distutils; trying from distutils\n",
      "  customize MSVCCompiler\n",
      "    libraries ptf77blas,ptcblas,atlas not found in C:\\\n",
      "  No module named 'numpy.distutils._msvccompiler' in numpy.distutils; trying from distutils\n",
      "  customize MSVCCompiler\n",
      "    libraries lapack_atlas not found in C:\\\n",
      "  No module named 'numpy.distutils._msvccompiler' in numpy.distutils; trying from distutils\n",
      "  customize MSVCCompiler\n",
      "    libraries ptf77blas,ptcblas,atlas not found in C:\\Users\\OWNER\\Documents\\ana jupy\\libs\n",
      "  No module named 'numpy.distutils._msvccompiler' in numpy.distutils; trying from distutils\n",
      "  customize MSVCCompiler\n",
      "    libraries lapack_atlas not found in C:\\Users\\OWNER\\Documents\\ana jupy\\libs\n",
      "  <class 'numpy.distutils.system_info.atlas_threads_info'>\n",
      "    NOT AVAILABLE\n",
      "  \n",
      "  atlas_info:\n",
      "  No module named 'numpy.distutils._msvccompiler' in numpy.distutils; trying from distutils\n",
      "  customize MSVCCompiler\n",
      "    libraries f77blas,cblas,atlas not found in C:\\Users\\OWNER\\Documents\\ana jupy\\lib\n",
      "  No module named 'numpy.distutils._msvccompiler' in numpy.distutils; trying from distutils\n",
      "  customize MSVCCompiler\n",
      "    libraries lapack_atlas not found in C:\\Users\\OWNER\\Documents\\ana jupy\\lib\n",
      "  No module named 'numpy.distutils._msvccompiler' in numpy.distutils; trying from distutils\n",
      "  customize MSVCCompiler\n",
      "    libraries f77blas,cblas,atlas not found in C:\\\n",
      "  No module named 'numpy.distutils._msvccompiler' in numpy.distutils; trying from distutils\n",
      "  customize MSVCCompiler\n",
      "    libraries lapack_atlas not found in C:\\\n",
      "  No module named 'numpy.distutils._msvccompiler' in numpy.distutils; trying from distutils\n",
      "  customize MSVCCompiler\n",
      "    libraries f77blas,cblas,atlas not found in C:\\Users\\OWNER\\Documents\\ana jupy\\libs\n",
      "  No module named 'numpy.distutils._msvccompiler' in numpy.distutils; trying from distutils\n",
      "  customize MSVCCompiler\n",
      "    libraries lapack_atlas not found in C:\\Users\\OWNER\\Documents\\ana jupy\\libs\n",
      "  <class 'numpy.distutils.system_info.atlas_info'>\n",
      "    NOT AVAILABLE\n",
      "  \n",
      "  lapack_info:\n",
      "  No module named 'numpy.distutils._msvccompiler' in numpy.distutils; trying from distutils\n",
      "  customize MSVCCompiler\n",
      "    libraries lapack not found in ['C:\\\\Users\\\\OWNER\\\\Documents\\\\ana jupy\\\\lib', 'C:\\\\', 'C:\\\\Users\\\\OWNER\\\\Documents\\\\ana jupy\\\\libs']\n",
      "    NOT AVAILABLE\n",
      "  \n",
      "  C:\\Users\\OWNER\\AppData\\Local\\Temp\\pip-install-3k67h74j\\numpy_409f8dab77ec432faa81777b47e14a94\\numpy\\distutils\\system_info.py:624: UserWarning:\n",
      "      Lapack (http://www.netlib.org/lapack/) libraries not found.\n",
      "      Directories to search for the libraries can be specified in the\n",
      "      numpy/distutils/site.cfg file (section [lapack]) or by setting\n",
      "      the LAPACK environment variable.\n",
      "    self.calc_info()\n",
      "  lapack_src_info:\n",
      "    NOT AVAILABLE\n",
      "  \n",
      "  C:\\Users\\OWNER\\AppData\\Local\\Temp\\pip-install-3k67h74j\\numpy_409f8dab77ec432faa81777b47e14a94\\numpy\\distutils\\system_info.py:624: UserWarning:\n",
      "      Lapack (http://www.netlib.org/lapack/) sources not found.\n",
      "      Directories to search for the sources can be specified in the\n",
      "      numpy/distutils/site.cfg file (section [lapack_src]) or by setting\n",
      "      the LAPACK_SRC environment variable.\n",
      "    self.calc_info()\n",
      "    NOT AVAILABLE\n",
      "  \n",
      "  C:\\Users\\OWNER\\Documents\\ana jupy\\lib\\site-packages\\setuptools\\_distutils\\dist.py:265: UserWarning: Unknown distribution option: 'define_macros'\n",
      "    warnings.warn(msg)\n",
      "  running bdist_wheel\n",
      "  running build\n",
      "  running config_cc\n",
      "  unifing config_cc, config, build_clib, build_ext, build commands --compiler options\n",
      "  running config_fc\n",
      "  unifing config_fc, config, build_clib, build_ext, build commands --fcompiler options\n",
      "  running build_src\n",
      "  build_src\n",
      "  building py_modules sources\n",
      "  creating build\n",
      "  creating build\\src.win-amd64-3.1\n",
      "  creating build\\src.win-amd64-3.1\\numpy\n",
      "  creating build\\src.win-amd64-3.1\\numpy\\distutils\n",
      "  building library \"npymath\" sources\n",
      "  No module named 'numpy.distutils._msvccompiler' in numpy.distutils; trying from distutils\n",
      "  error: Microsoft Visual C++ 14.0 or greater is required. Get it with \"Microsoft C++ Build Tools\": https://visualstudio.microsoft.com/visual-cpp-build-tools/\n",
      "  [end of output]\n",
      "  \n",
      "  note: This error originates from a subprocess, and is likely not a problem with pip.\n",
      "  ERROR: Failed building wheel for numpy\n",
      "  error: subprocess-exited-with-error\n",
      "  \n",
      "  python setup.py clean did not run successfully.\n",
      "  exit code: 1\n",
      "  \n",
      "  [10 lines of output]\n",
      "  Running from numpy source directory.\n",
      "  \n",
      "  `setup.py clean` is not supported, use one of the following instead:\n",
      "  \n",
      "    - `git clean -xdf` (cleans all files)\n",
      "    - `git clean -Xdf` (cleans all versioned files, doesn't touch\n",
      "                        files that aren't checked into the git repo)\n",
      "  \n",
      "  Add `--force` to your command to use it anyway if you must (unsupported).\n",
      "  \n",
      "  [end of output]\n",
      "  \n",
      "  note: This error originates from a subprocess, and is likely not a problem with pip.\n",
      "  ERROR: Failed cleaning build dir for numpy\n",
      "  error: subprocess-exited-with-error\n",
      "  \n",
      "  python setup.py bdist_wheel did not run successfully.\n",
      "  exit code: 1\n",
      "  \n",
      "  [501 lines of output]\n",
      "  ================================================================================\n",
      "  Edit setup.cfg to change the build options\n",
      "  \n",
      "  BUILDING MATPLOTLIB\n",
      "    matplotlib: yes [3.1.1]\n",
      "        python: yes [3.10.9 | packaged by Anaconda, Inc. | (main, Mar  1 2023,\n",
      "                    18:18:15) [MSC v.1916 64 bit (AMD64)]]\n",
      "      platform: yes [win32]\n",
      "  \n",
      "  OPTIONAL SUBPACKAGES\n",
      "   sample_data: yes [installing]\n",
      "         tests: no  [skipping due to configuration]\n",
      "  \n",
      "  OPTIONAL BACKEND EXTENSIONS\n",
      "           agg: yes [installing]\n",
      "         tkagg: yes [installing; run-time loading from Python Tcl/Tk]\n",
      "        macosx: no  [Mac OS-X only]\n",
      "  \n",
      "  OPTIONAL PACKAGE DATA\n",
      "          dlls: no  [skipping due to configuration]\n",
      "  \n",
      "  C:\\Users\\OWNER\\Documents\\ana jupy\\lib\\site-packages\\setuptools\\dist.py:285: SetuptoolsDeprecationWarning: The namespace_packages parameter is deprecated, consider using implicit namespaces instead (PEP 420).\n",
      "    warnings.warn(msg, SetuptoolsDeprecationWarning)\n",
      "  running bdist_wheel\n",
      "  running build\n",
      "  running build_py\n",
      "  creating build\n",
      "  creating build\\lib.win-amd64-cpython-310\n",
      "  copying lib\\pylab.py -> build\\lib.win-amd64-cpython-310\n",
      "  creating build\\lib.win-amd64-cpython-310\\matplotlib\n",
      "  copying lib\\matplotlib\\afm.py -> build\\lib.win-amd64-cpython-310\\matplotlib\n",
      "  copying lib\\matplotlib\\animation.py -> build\\lib.win-amd64-cpython-310\\matplotlib\n",
      "  copying lib\\matplotlib\\artist.py -> build\\lib.win-amd64-cpython-310\\matplotlib\n",
      "  copying lib\\matplotlib\\axis.py -> build\\lib.win-amd64-cpython-310\\matplotlib\n",
      "  copying lib\\matplotlib\\backend_bases.py -> build\\lib.win-amd64-cpython-310\\matplotlib\n",
      "  copying lib\\matplotlib\\backend_managers.py -> build\\lib.win-amd64-cpython-310\\matplotlib\n",
      "  copying lib\\matplotlib\\backend_tools.py -> build\\lib.win-amd64-cpython-310\\matplotlib\n",
      "  copying lib\\matplotlib\\bezier.py -> build\\lib.win-amd64-cpython-310\\matplotlib\n",
      "  copying lib\\matplotlib\\blocking_input.py -> build\\lib.win-amd64-cpython-310\\matplotlib\n",
      "  copying lib\\matplotlib\\category.py -> build\\lib.win-amd64-cpython-310\\matplotlib\n",
      "  copying lib\\matplotlib\\cm.py -> build\\lib.win-amd64-cpython-310\\matplotlib\n",
      "  copying lib\\matplotlib\\collections.py -> build\\lib.win-amd64-cpython-310\\matplotlib\n",
      "  copying lib\\matplotlib\\colorbar.py -> build\\lib.win-amd64-cpython-310\\matplotlib\n",
      "  copying lib\\matplotlib\\colors.py -> build\\lib.win-amd64-cpython-310\\matplotlib\n",
      "  copying lib\\matplotlib\\container.py -> build\\lib.win-amd64-cpython-310\\matplotlib\n",
      "  copying lib\\matplotlib\\contour.py -> build\\lib.win-amd64-cpython-310\\matplotlib\n",
      "  copying lib\\matplotlib\\dates.py -> build\\lib.win-amd64-cpython-310\\matplotlib\n",
      "  copying lib\\matplotlib\\docstring.py -> build\\lib.win-amd64-cpython-310\\matplotlib\n",
      "  copying lib\\matplotlib\\dviread.py -> build\\lib.win-amd64-cpython-310\\matplotlib\n",
      "  copying lib\\matplotlib\\figure.py -> build\\lib.win-amd64-cpython-310\\matplotlib\n",
      "  copying lib\\matplotlib\\fontconfig_pattern.py -> build\\lib.win-amd64-cpython-310\\matplotlib\n",
      "  copying lib\\matplotlib\\font_manager.py -> build\\lib.win-amd64-cpython-310\\matplotlib\n",
      "  copying lib\\matplotlib\\gridspec.py -> build\\lib.win-amd64-cpython-310\\matplotlib\n",
      "  copying lib\\matplotlib\\hatch.py -> build\\lib.win-amd64-cpython-310\\matplotlib\n",
      "  copying lib\\matplotlib\\image.py -> build\\lib.win-amd64-cpython-310\\matplotlib\n",
      "  copying lib\\matplotlib\\legend.py -> build\\lib.win-amd64-cpython-310\\matplotlib\n",
      "  copying lib\\matplotlib\\legend_handler.py -> build\\lib.win-amd64-cpython-310\\matplotlib\n",
      "  copying lib\\matplotlib\\lines.py -> build\\lib.win-amd64-cpython-310\\matplotlib\n",
      "  copying lib\\matplotlib\\markers.py -> build\\lib.win-amd64-cpython-310\\matplotlib\n",
      "  copying lib\\matplotlib\\mathtext.py -> build\\lib.win-amd64-cpython-310\\matplotlib\n",
      "  copying lib\\matplotlib\\mlab.py -> build\\lib.win-amd64-cpython-310\\matplotlib\n",
      "  copying lib\\matplotlib\\offsetbox.py -> build\\lib.win-amd64-cpython-310\\matplotlib\n",
      "  copying lib\\matplotlib\\patches.py -> build\\lib.win-amd64-cpython-310\\matplotlib\n",
      "  copying lib\\matplotlib\\path.py -> build\\lib.win-amd64-cpython-310\\matplotlib\n",
      "  copying lib\\matplotlib\\patheffects.py -> build\\lib.win-amd64-cpython-310\\matplotlib\n",
      "  copying lib\\matplotlib\\pylab.py -> build\\lib.win-amd64-cpython-310\\matplotlib\n",
      "  copying lib\\matplotlib\\pyplot.py -> build\\lib.win-amd64-cpython-310\\matplotlib\n",
      "  copying lib\\matplotlib\\quiver.py -> build\\lib.win-amd64-cpython-310\\matplotlib\n",
      "  copying lib\\matplotlib\\rcsetup.py -> build\\lib.win-amd64-cpython-310\\matplotlib\n",
      "  copying lib\\matplotlib\\sankey.py -> build\\lib.win-amd64-cpython-310\\matplotlib\n",
      "  copying lib\\matplotlib\\scale.py -> build\\lib.win-amd64-cpython-310\\matplotlib\n",
      "  copying lib\\matplotlib\\spines.py -> build\\lib.win-amd64-cpython-310\\matplotlib\n",
      "  copying lib\\matplotlib\\stackplot.py -> build\\lib.win-amd64-cpython-310\\matplotlib\n",
      "  copying lib\\matplotlib\\streamplot.py -> build\\lib.win-amd64-cpython-310\\matplotlib\n",
      "  copying lib\\matplotlib\\table.py -> build\\lib.win-amd64-cpython-310\\matplotlib\n",
      "  copying lib\\matplotlib\\texmanager.py -> build\\lib.win-amd64-cpython-310\\matplotlib\n",
      "  copying lib\\matplotlib\\text.py -> build\\lib.win-amd64-cpython-310\\matplotlib\n",
      "  copying lib\\matplotlib\\textpath.py -> build\\lib.win-amd64-cpython-310\\matplotlib\n",
      "  copying lib\\matplotlib\\ticker.py -> build\\lib.win-amd64-cpython-310\\matplotlib\n",
      "  copying lib\\matplotlib\\tight_bbox.py -> build\\lib.win-amd64-cpython-310\\matplotlib\n",
      "  copying lib\\matplotlib\\tight_layout.py -> build\\lib.win-amd64-cpython-310\\matplotlib\n",
      "  copying lib\\matplotlib\\transforms.py -> build\\lib.win-amd64-cpython-310\\matplotlib\n",
      "  copying lib\\matplotlib\\type1font.py -> build\\lib.win-amd64-cpython-310\\matplotlib\n",
      "  copying lib\\matplotlib\\units.py -> build\\lib.win-amd64-cpython-310\\matplotlib\n",
      "  copying lib\\matplotlib\\widgets.py -> build\\lib.win-amd64-cpython-310\\matplotlib\n",
      "  copying lib\\matplotlib\\_animation_data.py -> build\\lib.win-amd64-cpython-310\\matplotlib\n",
      "  copying lib\\matplotlib\\_cm.py -> build\\lib.win-amd64-cpython-310\\matplotlib\n",
      "  copying lib\\matplotlib\\_cm_listed.py -> build\\lib.win-amd64-cpython-310\\matplotlib\n",
      "  copying lib\\matplotlib\\_color_data.py -> build\\lib.win-amd64-cpython-310\\matplotlib\n",
      "  copying lib\\matplotlib\\_constrained_layout.py -> build\\lib.win-amd64-cpython-310\\matplotlib\n",
      "  copying lib\\matplotlib\\_layoutbox.py -> build\\lib.win-amd64-cpython-310\\matplotlib\n",
      "  copying lib\\matplotlib\\_mathtext_data.py -> build\\lib.win-amd64-cpython-310\\matplotlib\n",
      "  copying lib\\matplotlib\\_pylab_helpers.py -> build\\lib.win-amd64-cpython-310\\matplotlib\n",
      "  copying lib\\matplotlib\\_version.py -> build\\lib.win-amd64-cpython-310\\matplotlib\n",
      "  copying lib\\matplotlib\\__init__.py -> build\\lib.win-amd64-cpython-310\\matplotlib\n",
      "  creating build\\lib.win-amd64-cpython-310\\mpl_toolkits\n",
      "  copying lib\\mpl_toolkits\\__init__.py -> build\\lib.win-amd64-cpython-310\\mpl_toolkits\n",
      "  creating build\\lib.win-amd64-cpython-310\\matplotlib\\axes\n",
      "  copying lib\\matplotlib\\axes\\_axes.py -> build\\lib.win-amd64-cpython-310\\matplotlib\\axes\n",
      "  copying lib\\matplotlib\\axes\\_base.py -> build\\lib.win-amd64-cpython-310\\matplotlib\\axes\n",
      "  copying lib\\matplotlib\\axes\\_secondary_axes.py -> build\\lib.win-amd64-cpython-310\\matplotlib\\axes\n",
      "  copying lib\\matplotlib\\axes\\_subplots.py -> build\\lib.win-amd64-cpython-310\\matplotlib\\axes\n",
      "  copying lib\\matplotlib\\axes\\__init__.py -> build\\lib.win-amd64-cpython-310\\matplotlib\\axes\n",
      "  creating build\\lib.win-amd64-cpython-310\\matplotlib\\backends\n",
      "  copying lib\\matplotlib\\backends\\backend_agg.py -> build\\lib.win-amd64-cpython-310\\matplotlib\\backends\n",
      "  copying lib\\matplotlib\\backends\\backend_cairo.py -> build\\lib.win-amd64-cpython-310\\matplotlib\\backends\n",
      "  copying lib\\matplotlib\\backends\\backend_gtk3.py -> build\\lib.win-amd64-cpython-310\\matplotlib\\backends\n",
      "  copying lib\\matplotlib\\backends\\backend_gtk3agg.py -> build\\lib.win-amd64-cpython-310\\matplotlib\\backends\n",
      "  copying lib\\matplotlib\\backends\\backend_gtk3cairo.py -> build\\lib.win-amd64-cpython-310\\matplotlib\\backends\n",
      "  copying lib\\matplotlib\\backends\\backend_macosx.py -> build\\lib.win-amd64-cpython-310\\matplotlib\\backends\n",
      "  copying lib\\matplotlib\\backends\\backend_mixed.py -> build\\lib.win-amd64-cpython-310\\matplotlib\\backends\n",
      "  copying lib\\matplotlib\\backends\\backend_nbagg.py -> build\\lib.win-amd64-cpython-310\\matplotlib\\backends\n",
      "  copying lib\\matplotlib\\backends\\backend_pdf.py -> build\\lib.win-amd64-cpython-310\\matplotlib\\backends\n",
      "  copying lib\\matplotlib\\backends\\backend_pgf.py -> build\\lib.win-amd64-cpython-310\\matplotlib\\backends\n",
      "  copying lib\\matplotlib\\backends\\backend_ps.py -> build\\lib.win-amd64-cpython-310\\matplotlib\\backends\n",
      "  copying lib\\matplotlib\\backends\\backend_qt4.py -> build\\lib.win-amd64-cpython-310\\matplotlib\\backends\n",
      "  copying lib\\matplotlib\\backends\\backend_qt4agg.py -> build\\lib.win-amd64-cpython-310\\matplotlib\\backends\n",
      "  copying lib\\matplotlib\\backends\\backend_qt4cairo.py -> build\\lib.win-amd64-cpython-310\\matplotlib\\backends\n",
      "  copying lib\\matplotlib\\backends\\backend_qt5.py -> build\\lib.win-amd64-cpython-310\\matplotlib\\backends\n",
      "  copying lib\\matplotlib\\backends\\backend_qt5agg.py -> build\\lib.win-amd64-cpython-310\\matplotlib\\backends\n",
      "  copying lib\\matplotlib\\backends\\backend_qt5cairo.py -> build\\lib.win-amd64-cpython-310\\matplotlib\\backends\n",
      "  copying lib\\matplotlib\\backends\\backend_svg.py -> build\\lib.win-amd64-cpython-310\\matplotlib\\backends\n",
      "  copying lib\\matplotlib\\backends\\backend_template.py -> build\\lib.win-amd64-cpython-310\\matplotlib\\backends\n",
      "  copying lib\\matplotlib\\backends\\backend_tkagg.py -> build\\lib.win-amd64-cpython-310\\matplotlib\\backends\n",
      "  copying lib\\matplotlib\\backends\\backend_tkcairo.py -> build\\lib.win-amd64-cpython-310\\matplotlib\\backends\n",
      "  copying lib\\matplotlib\\backends\\backend_webagg.py -> build\\lib.win-amd64-cpython-310\\matplotlib\\backends\n",
      "  copying lib\\matplotlib\\backends\\backend_webagg_core.py -> build\\lib.win-amd64-cpython-310\\matplotlib\\backends\n",
      "  copying lib\\matplotlib\\backends\\backend_wx.py -> build\\lib.win-amd64-cpython-310\\matplotlib\\backends\n",
      "  copying lib\\matplotlib\\backends\\backend_wxagg.py -> build\\lib.win-amd64-cpython-310\\matplotlib\\backends\n",
      "  copying lib\\matplotlib\\backends\\backend_wxcairo.py -> build\\lib.win-amd64-cpython-310\\matplotlib\\backends\n",
      "  copying lib\\matplotlib\\backends\\qt_compat.py -> build\\lib.win-amd64-cpython-310\\matplotlib\\backends\n",
      "  copying lib\\matplotlib\\backends\\tkagg.py -> build\\lib.win-amd64-cpython-310\\matplotlib\\backends\n",
      "  copying lib\\matplotlib\\backends\\windowing.py -> build\\lib.win-amd64-cpython-310\\matplotlib\\backends\n",
      "  copying lib\\matplotlib\\backends\\wx_compat.py -> build\\lib.win-amd64-cpython-310\\matplotlib\\backends\n",
      "  copying lib\\matplotlib\\backends\\_backend_pdf_ps.py -> build\\lib.win-amd64-cpython-310\\matplotlib\\backends\n",
      "  copying lib\\matplotlib\\backends\\_backend_tk.py -> build\\lib.win-amd64-cpython-310\\matplotlib\\backends\n",
      "  copying lib\\matplotlib\\backends\\__init__.py -> build\\lib.win-amd64-cpython-310\\matplotlib\\backends\n",
      "  creating build\\lib.win-amd64-cpython-310\\matplotlib\\cbook\n",
      "  copying lib\\matplotlib\\cbook\\deprecation.py -> build\\lib.win-amd64-cpython-310\\matplotlib\\cbook\n",
      "  copying lib\\matplotlib\\cbook\\__init__.py -> build\\lib.win-amd64-cpython-310\\matplotlib\\cbook\n",
      "  creating build\\lib.win-amd64-cpython-310\\matplotlib\\compat\n",
      "  copying lib\\matplotlib\\compat\\subprocess.py -> build\\lib.win-amd64-cpython-310\\matplotlib\\compat\n",
      "  copying lib\\matplotlib\\compat\\__init__.py -> build\\lib.win-amd64-cpython-310\\matplotlib\\compat\n",
      "  creating build\\lib.win-amd64-cpython-310\\matplotlib\\projections\n",
      "  copying lib\\matplotlib\\projections\\geo.py -> build\\lib.win-amd64-cpython-310\\matplotlib\\projections\n",
      "  copying lib\\matplotlib\\projections\\polar.py -> build\\lib.win-amd64-cpython-310\\matplotlib\\projections\n",
      "  copying lib\\matplotlib\\projections\\__init__.py -> build\\lib.win-amd64-cpython-310\\matplotlib\\projections\n",
      "  creating build\\lib.win-amd64-cpython-310\\matplotlib\\sphinxext\n",
      "  copying lib\\matplotlib\\sphinxext\\mathmpl.py -> build\\lib.win-amd64-cpython-310\\matplotlib\\sphinxext\n",
      "  copying lib\\matplotlib\\sphinxext\\plot_directive.py -> build\\lib.win-amd64-cpython-310\\matplotlib\\sphinxext\n",
      "  copying lib\\matplotlib\\sphinxext\\__init__.py -> build\\lib.win-amd64-cpython-310\\matplotlib\\sphinxext\n",
      "  creating build\\lib.win-amd64-cpython-310\\matplotlib\\style\n",
      "  copying lib\\matplotlib\\style\\core.py -> build\\lib.win-amd64-cpython-310\\matplotlib\\style\n",
      "  copying lib\\matplotlib\\style\\__init__.py -> build\\lib.win-amd64-cpython-310\\matplotlib\\style\n",
      "  creating build\\lib.win-amd64-cpython-310\\matplotlib\\testing\n",
      "  copying lib\\matplotlib\\testing\\compare.py -> build\\lib.win-amd64-cpython-310\\matplotlib\\testing\n",
      "  copying lib\\matplotlib\\testing\\conftest.py -> build\\lib.win-amd64-cpython-310\\matplotlib\\testing\n",
      "  copying lib\\matplotlib\\testing\\decorators.py -> build\\lib.win-amd64-cpython-310\\matplotlib\\testing\n",
      "  copying lib\\matplotlib\\testing\\determinism.py -> build\\lib.win-amd64-cpython-310\\matplotlib\\testing\n",
      "  copying lib\\matplotlib\\testing\\disable_internet.py -> build\\lib.win-amd64-cpython-310\\matplotlib\\testing\n",
      "  copying lib\\matplotlib\\testing\\exceptions.py -> build\\lib.win-amd64-cpython-310\\matplotlib\\testing\n",
      "  copying lib\\matplotlib\\testing\\__init__.py -> build\\lib.win-amd64-cpython-310\\matplotlib\\testing\n",
      "  creating build\\lib.win-amd64-cpython-310\\matplotlib\\tri\n",
      "  copying lib\\matplotlib\\tri\\triangulation.py -> build\\lib.win-amd64-cpython-310\\matplotlib\\tri\n",
      "  copying lib\\matplotlib\\tri\\tricontour.py -> build\\lib.win-amd64-cpython-310\\matplotlib\\tri\n",
      "  copying lib\\matplotlib\\tri\\trifinder.py -> build\\lib.win-amd64-cpython-310\\matplotlib\\tri\n",
      "  copying lib\\matplotlib\\tri\\triinterpolate.py -> build\\lib.win-amd64-cpython-310\\matplotlib\\tri\n",
      "  copying lib\\matplotlib\\tri\\tripcolor.py -> build\\lib.win-amd64-cpython-310\\matplotlib\\tri\n",
      "  copying lib\\matplotlib\\tri\\triplot.py -> build\\lib.win-amd64-cpython-310\\matplotlib\\tri\n",
      "  copying lib\\matplotlib\\tri\\trirefine.py -> build\\lib.win-amd64-cpython-310\\matplotlib\\tri\n",
      "  copying lib\\matplotlib\\tri\\tritools.py -> build\\lib.win-amd64-cpython-310\\matplotlib\\tri\n",
      "  copying lib\\matplotlib\\tri\\__init__.py -> build\\lib.win-amd64-cpython-310\\matplotlib\\tri\n",
      "  creating build\\lib.win-amd64-cpython-310\\matplotlib\\backends\\qt_editor\n",
      "  copying lib\\matplotlib\\backends\\qt_editor\\figureoptions.py -> build\\lib.win-amd64-cpython-310\\matplotlib\\backends\\qt_editor\n",
      "  copying lib\\matplotlib\\backends\\qt_editor\\formlayout.py -> build\\lib.win-amd64-cpython-310\\matplotlib\\backends\\qt_editor\n",
      "  copying lib\\matplotlib\\backends\\qt_editor\\formsubplottool.py -> build\\lib.win-amd64-cpython-310\\matplotlib\\backends\\qt_editor\n",
      "  copying lib\\matplotlib\\backends\\qt_editor\\_formlayout.py -> build\\lib.win-amd64-cpython-310\\matplotlib\\backends\\qt_editor\n",
      "  copying lib\\matplotlib\\backends\\qt_editor\\__init__.py -> build\\lib.win-amd64-cpython-310\\matplotlib\\backends\\qt_editor\n",
      "  creating build\\lib.win-amd64-cpython-310\\matplotlib\\testing\\jpl_units\n",
      "  copying lib\\matplotlib\\testing\\jpl_units\\Duration.py -> build\\lib.win-amd64-cpython-310\\matplotlib\\testing\\jpl_units\n",
      "  copying lib\\matplotlib\\testing\\jpl_units\\Epoch.py -> build\\lib.win-amd64-cpython-310\\matplotlib\\testing\\jpl_units\n",
      "  copying lib\\matplotlib\\testing\\jpl_units\\EpochConverter.py -> build\\lib.win-amd64-cpython-310\\matplotlib\\testing\\jpl_units\n",
      "  copying lib\\matplotlib\\testing\\jpl_units\\StrConverter.py -> build\\lib.win-amd64-cpython-310\\matplotlib\\testing\\jpl_units\n",
      "  copying lib\\matplotlib\\testing\\jpl_units\\UnitDbl.py -> build\\lib.win-amd64-cpython-310\\matplotlib\\testing\\jpl_units\n",
      "  copying lib\\matplotlib\\testing\\jpl_units\\UnitDblConverter.py -> build\\lib.win-amd64-cpython-310\\matplotlib\\testing\\jpl_units\n",
      "  copying lib\\matplotlib\\testing\\jpl_units\\UnitDblFormatter.py -> build\\lib.win-amd64-cpython-310\\matplotlib\\testing\\jpl_units\n",
      "  copying lib\\matplotlib\\testing\\jpl_units\\__init__.py -> build\\lib.win-amd64-cpython-310\\matplotlib\\testing\\jpl_units\n",
      "  creating build\\lib.win-amd64-cpython-310\\mpl_toolkits\\axes_grid\n",
      "  copying lib\\mpl_toolkits\\axes_grid\\anchored_artists.py -> build\\lib.win-amd64-cpython-310\\mpl_toolkits\\axes_grid\n",
      "  copying lib\\mpl_toolkits\\axes_grid\\angle_helper.py -> build\\lib.win-amd64-cpython-310\\mpl_toolkits\\axes_grid\n",
      "  copying lib\\mpl_toolkits\\axes_grid\\axes_divider.py -> build\\lib.win-amd64-cpython-310\\mpl_toolkits\\axes_grid\n",
      "  copying lib\\mpl_toolkits\\axes_grid\\axes_grid.py -> build\\lib.win-amd64-cpython-310\\mpl_toolkits\\axes_grid\n",
      "  copying lib\\mpl_toolkits\\axes_grid\\axes_rgb.py -> build\\lib.win-amd64-cpython-310\\mpl_toolkits\\axes_grid\n",
      "  copying lib\\mpl_toolkits\\axes_grid\\axes_size.py -> build\\lib.win-amd64-cpython-310\\mpl_toolkits\\axes_grid\n",
      "  copying lib\\mpl_toolkits\\axes_grid\\axislines.py -> build\\lib.win-amd64-cpython-310\\mpl_toolkits\\axes_grid\n",
      "  copying lib\\mpl_toolkits\\axes_grid\\axisline_style.py -> build\\lib.win-amd64-cpython-310\\mpl_toolkits\\axes_grid\n",
      "  copying lib\\mpl_toolkits\\axes_grid\\axis_artist.py -> build\\lib.win-amd64-cpython-310\\mpl_toolkits\\axes_grid\n",
      "  copying lib\\mpl_toolkits\\axes_grid\\clip_path.py -> build\\lib.win-amd64-cpython-310\\mpl_toolkits\\axes_grid\n",
      "  copying lib\\mpl_toolkits\\axes_grid\\colorbar.py -> build\\lib.win-amd64-cpython-310\\mpl_toolkits\\axes_grid\n",
      "  copying lib\\mpl_toolkits\\axes_grid\\floating_axes.py -> build\\lib.win-amd64-cpython-310\\mpl_toolkits\\axes_grid\n",
      "  copying lib\\mpl_toolkits\\axes_grid\\grid_finder.py -> build\\lib.win-amd64-cpython-310\\mpl_toolkits\\axes_grid\n",
      "  copying lib\\mpl_toolkits\\axes_grid\\grid_helper_curvelinear.py -> build\\lib.win-amd64-cpython-310\\mpl_toolkits\\axes_grid\n",
      "  copying lib\\mpl_toolkits\\axes_grid\\inset_locator.py -> build\\lib.win-amd64-cpython-310\\mpl_toolkits\\axes_grid\n",
      "  copying lib\\mpl_toolkits\\axes_grid\\parasite_axes.py -> build\\lib.win-amd64-cpython-310\\mpl_toolkits\\axes_grid\n",
      "  copying lib\\mpl_toolkits\\axes_grid\\__init__.py -> build\\lib.win-amd64-cpython-310\\mpl_toolkits\\axes_grid\n",
      "  creating build\\lib.win-amd64-cpython-310\\mpl_toolkits\\axes_grid1\n",
      "  copying lib\\mpl_toolkits\\axes_grid1\\anchored_artists.py -> build\\lib.win-amd64-cpython-310\\mpl_toolkits\\axes_grid1\n",
      "  copying lib\\mpl_toolkits\\axes_grid1\\axes_divider.py -> build\\lib.win-amd64-cpython-310\\mpl_toolkits\\axes_grid1\n",
      "  copying lib\\mpl_toolkits\\axes_grid1\\axes_grid.py -> build\\lib.win-amd64-cpython-310\\mpl_toolkits\\axes_grid1\n",
      "  copying lib\\mpl_toolkits\\axes_grid1\\axes_rgb.py -> build\\lib.win-amd64-cpython-310\\mpl_toolkits\\axes_grid1\n",
      "  copying lib\\mpl_toolkits\\axes_grid1\\axes_size.py -> build\\lib.win-amd64-cpython-310\\mpl_toolkits\\axes_grid1\n",
      "  copying lib\\mpl_toolkits\\axes_grid1\\colorbar.py -> build\\lib.win-amd64-cpython-310\\mpl_toolkits\\axes_grid1\n",
      "  copying lib\\mpl_toolkits\\axes_grid1\\inset_locator.py -> build\\lib.win-amd64-cpython-310\\mpl_toolkits\\axes_grid1\n",
      "  copying lib\\mpl_toolkits\\axes_grid1\\mpl_axes.py -> build\\lib.win-amd64-cpython-310\\mpl_toolkits\\axes_grid1\n",
      "  copying lib\\mpl_toolkits\\axes_grid1\\parasite_axes.py -> build\\lib.win-amd64-cpython-310\\mpl_toolkits\\axes_grid1\n",
      "  copying lib\\mpl_toolkits\\axes_grid1\\__init__.py -> build\\lib.win-amd64-cpython-310\\mpl_toolkits\\axes_grid1\n",
      "  creating build\\lib.win-amd64-cpython-310\\mpl_toolkits\\axisartist\n",
      "  copying lib\\mpl_toolkits\\axisartist\\angle_helper.py -> build\\lib.win-amd64-cpython-310\\mpl_toolkits\\axisartist\n",
      "  copying lib\\mpl_toolkits\\axisartist\\axes_divider.py -> build\\lib.win-amd64-cpython-310\\mpl_toolkits\\axisartist\n",
      "  copying lib\\mpl_toolkits\\axisartist\\axes_grid.py -> build\\lib.win-amd64-cpython-310\\mpl_toolkits\\axisartist\n",
      "  copying lib\\mpl_toolkits\\axisartist\\axes_rgb.py -> build\\lib.win-amd64-cpython-310\\mpl_toolkits\\axisartist\n",
      "  copying lib\\mpl_toolkits\\axisartist\\axislines.py -> build\\lib.win-amd64-cpython-310\\mpl_toolkits\\axisartist\n",
      "  copying lib\\mpl_toolkits\\axisartist\\axisline_style.py -> build\\lib.win-amd64-cpython-310\\mpl_toolkits\\axisartist\n",
      "  copying lib\\mpl_toolkits\\axisartist\\axis_artist.py -> build\\lib.win-amd64-cpython-310\\mpl_toolkits\\axisartist\n",
      "  copying lib\\mpl_toolkits\\axisartist\\clip_path.py -> build\\lib.win-amd64-cpython-310\\mpl_toolkits\\axisartist\n",
      "  copying lib\\mpl_toolkits\\axisartist\\floating_axes.py -> build\\lib.win-amd64-cpython-310\\mpl_toolkits\\axisartist\n",
      "  copying lib\\mpl_toolkits\\axisartist\\grid_finder.py -> build\\lib.win-amd64-cpython-310\\mpl_toolkits\\axisartist\n",
      "  copying lib\\mpl_toolkits\\axisartist\\grid_helper_curvelinear.py -> build\\lib.win-amd64-cpython-310\\mpl_toolkits\\axisartist\n",
      "  copying lib\\mpl_toolkits\\axisartist\\parasite_axes.py -> build\\lib.win-amd64-cpython-310\\mpl_toolkits\\axisartist\n",
      "  copying lib\\mpl_toolkits\\axisartist\\__init__.py -> build\\lib.win-amd64-cpython-310\\mpl_toolkits\\axisartist\n",
      "  creating build\\lib.win-amd64-cpython-310\\mpl_toolkits\\mplot3d\n",
      "  copying lib\\mpl_toolkits\\mplot3d\\art3d.py -> build\\lib.win-amd64-cpython-310\\mpl_toolkits\\mplot3d\n",
      "  copying lib\\mpl_toolkits\\mplot3d\\axes3d.py -> build\\lib.win-amd64-cpython-310\\mpl_toolkits\\mplot3d\n",
      "  copying lib\\mpl_toolkits\\mplot3d\\axis3d.py -> build\\lib.win-amd64-cpython-310\\mpl_toolkits\\mplot3d\n",
      "  copying lib\\mpl_toolkits\\mplot3d\\proj3d.py -> build\\lib.win-amd64-cpython-310\\mpl_toolkits\\mplot3d\n",
      "  copying lib\\mpl_toolkits\\mplot3d\\__init__.py -> build\\lib.win-amd64-cpython-310\\mpl_toolkits\\mplot3d\n",
      "  creating build\\lib.win-amd64-cpython-310\\matplotlib\\mpl-data\n",
      "  creating build\\lib.win-amd64-cpython-310\\matplotlib\\mpl-data\\images\n",
      "  copying lib\\matplotlib\\mpl-data\\images\\help.svg -> build\\lib.win-amd64-cpython-310\\matplotlib\\mpl-data\\images\n",
      "  copying lib\\matplotlib\\mpl-data\\images\\filesave.pdf -> build\\lib.win-amd64-cpython-310\\matplotlib\\mpl-data\\images\n",
      "  copying lib\\matplotlib\\mpl-data\\images\\zoom_to_rect.gif -> build\\lib.win-amd64-cpython-310\\matplotlib\\mpl-data\\images\n",
      "  creating build\\lib.win-amd64-cpython-310\\matplotlib\\mpl-data\\fonts\n",
      "  creating build\\lib.win-amd64-cpython-310\\matplotlib\\mpl-data\\fonts\\ttf\n",
      "  copying lib\\matplotlib\\mpl-data\\fonts\\ttf\\DejaVuSansMono.ttf -> build\\lib.win-amd64-cpython-310\\matplotlib\\mpl-data\\fonts\\ttf\n",
      "  copying lib\\matplotlib\\mpl-data\\fonts\\ttf\\DejaVuSans-BoldOblique.ttf -> build\\lib.win-amd64-cpython-310\\matplotlib\\mpl-data\\fonts\\ttf\n",
      "  creating build\\lib.win-amd64-cpython-310\\matplotlib\\mpl-data\\fonts\\pdfcorefonts\n",
      "  copying lib\\matplotlib\\mpl-data\\fonts\\pdfcorefonts\\Courier-Bold.afm -> build\\lib.win-amd64-cpython-310\\matplotlib\\mpl-data\\fonts\\pdfcorefonts\n",
      "  copying lib\\matplotlib\\mpl-data\\fonts\\ttf\\cmb10.ttf -> build\\lib.win-amd64-cpython-310\\matplotlib\\mpl-data\\fonts\\ttf\n",
      "  copying lib\\matplotlib\\mpl-data\\images\\help.ppm -> build\\lib.win-amd64-cpython-310\\matplotlib\\mpl-data\\images\n",
      "  copying lib\\matplotlib\\mpl-data\\images\\hand.pdf -> build\\lib.win-amd64-cpython-310\\matplotlib\\mpl-data\\images\n",
      "  creating build\\lib.win-amd64-cpython-310\\matplotlib\\backends\\web_backend\n",
      "  copying lib\\matplotlib\\backends\\web_backend\\all_figures.html -> build\\lib.win-amd64-cpython-310\\matplotlib\\backends\\web_backend\n",
      "  creating build\\lib.win-amd64-cpython-310\\matplotlib\\mpl-data\\fonts\\afm\n",
      "  copying lib\\matplotlib\\mpl-data\\fonts\\afm\\putri8a.afm -> build\\lib.win-amd64-cpython-310\\matplotlib\\mpl-data\\fonts\\afm\n",
      "  copying lib\\matplotlib\\mpl-data\\fonts\\afm\\pncbi8a.afm -> build\\lib.win-amd64-cpython-310\\matplotlib\\mpl-data\\fonts\\afm\n",
      "  copying lib\\matplotlib\\mpl-data\\images\\move.png -> build\\lib.win-amd64-cpython-310\\matplotlib\\mpl-data\\images\n",
      "  copying lib\\matplotlib\\mpl-data\\images\\matplotlib.png -> build\\lib.win-amd64-cpython-310\\matplotlib\\mpl-data\\images\n",
      "  creating build\\lib.win-amd64-cpython-310\\matplotlib\\mpl-data\\stylelib\n",
      "  copying lib\\matplotlib\\mpl-data\\stylelib\\seaborn-dark-palette.mplstyle -> build\\lib.win-amd64-cpython-310\\matplotlib\\mpl-data\\stylelib\n",
      "  copying lib\\matplotlib\\mpl-data\\fonts\\ttf\\STIXGeneralItalic.ttf -> build\\lib.win-amd64-cpython-310\\matplotlib\\mpl-data\\fonts\\ttf\n",
      "  copying lib\\matplotlib\\mpl-data\\fonts\\ttf\\STIXSizTwoSymReg.ttf -> build\\lib.win-amd64-cpython-310\\matplotlib\\mpl-data\\fonts\\ttf\n",
      "  creating build\\lib.win-amd64-cpython-310\\matplotlib\\mpl-data\\sample_data\n",
      "  copying lib\\matplotlib\\mpl-data\\sample_data\\eeg.dat -> build\\lib.win-amd64-cpython-310\\matplotlib\\mpl-data\\sample_data\n",
      "  copying lib\\matplotlib\\mpl-data\\images\\subplots_large.png -> build\\lib.win-amd64-cpython-310\\matplotlib\\mpl-data\\images\n",
      "  copying lib\\matplotlib\\mpl-data\\images\\home.gif -> build\\lib.win-amd64-cpython-310\\matplotlib\\mpl-data\\images\n",
      "  copying lib\\matplotlib\\mpl-data\\sample_data\\None_vs_nearest-pdf.png -> build\\lib.win-amd64-cpython-310\\matplotlib\\mpl-data\\sample_data\n",
      "  copying lib\\matplotlib\\mpl-data\\fonts\\ttf\\STIXNonUniBolIta.ttf -> build\\lib.win-amd64-cpython-310\\matplotlib\\mpl-data\\fonts\\ttf\n",
      "  creating build\\lib.win-amd64-cpython-310\\matplotlib\\backends\\web_backend\\jquery-ui-1.12.1\n",
      "  creating build\\lib.win-amd64-cpython-310\\matplotlib\\backends\\web_backend\\jquery-ui-1.12.1\\images\n",
      "  copying lib\\matplotlib\\backends\\web_backend\\jquery-ui-1.12.1\\images\\ui-icons_777777_256x240.png -> build\\lib.win-amd64-cpython-310\\matplotlib\\backends\\web_backend\\jquery-ui-1.12.1\\images\n",
      "  copying lib\\matplotlib\\mpl-data\\images\\forward.gif -> build\\lib.win-amd64-cpython-310\\matplotlib\\mpl-data\\images\n",
      "  copying lib\\matplotlib\\mpl-data\\images\\subplots_large.gif -> build\\lib.win-amd64-cpython-310\\matplotlib\\mpl-data\\images\n",
      "  copying lib\\matplotlib\\mpl-data\\images\\move.gif -> build\\lib.win-amd64-cpython-310\\matplotlib\\mpl-data\\images\n",
      "  copying lib\\matplotlib\\mpl-data\\images\\hand.png -> build\\lib.win-amd64-cpython-310\\matplotlib\\mpl-data\\images\n",
      "  copying lib\\matplotlib\\mpl-data\\fonts\\pdfcorefonts\\Times-Roman.afm -> build\\lib.win-amd64-cpython-310\\matplotlib\\mpl-data\\fonts\\pdfcorefonts\n",
      "  copying lib\\matplotlib\\backends\\web_backend\\jquery-ui-1.12.1\\LICENSE.txt -> build\\lib.win-amd64-cpython-310\\matplotlib\\backends\\web_backend\\jquery-ui-1.12.1\n",
      "  copying lib\\matplotlib\\mpl-data\\images\\back_large.png -> build\\lib.win-amd64-cpython-310\\matplotlib\\mpl-data\\images\n",
      "  copying lib\\matplotlib\\mpl-data\\stylelib\\seaborn-poster.mplstyle -> build\\lib.win-amd64-cpython-310\\matplotlib\\mpl-data\\stylelib\n",
      "  copying lib\\matplotlib\\mpl-data\\fonts\\ttf\\DejaVuSansMono-Oblique.ttf -> build\\lib.win-amd64-cpython-310\\matplotlib\\mpl-data\\fonts\\ttf\n",
      "  copying lib\\matplotlib\\mpl-data\\fonts\\pdfcorefonts\\Helvetica.afm -> build\\lib.win-amd64-cpython-310\\matplotlib\\mpl-data\\fonts\\pdfcorefonts\n",
      "  copying lib\\matplotlib\\mpl-data\\stylelib\\tableau-colorblind10.mplstyle -> build\\lib.win-amd64-cpython-310\\matplotlib\\mpl-data\\stylelib\n",
      "  copying lib\\matplotlib\\mpl-data\\fonts\\pdfcorefonts\\Times-Bold.afm -> build\\lib.win-amd64-cpython-310\\matplotlib\\mpl-data\\fonts\\pdfcorefonts\n",
      "  copying lib\\matplotlib\\mpl-data\\sample_data\\percent_bachelors_degrees_women_usa.csv -> build\\lib.win-amd64-cpython-310\\matplotlib\\mpl-data\\sample_data\n",
      "  copying lib\\matplotlib\\mpl-data\\fonts\\afm\\pcrro8a.afm -> build\\lib.win-amd64-cpython-310\\matplotlib\\mpl-data\\fonts\\afm\n",
      "  copying lib\\matplotlib\\mpl-data\\fonts\\afm\\pagd8a.afm -> build\\lib.win-amd64-cpython-310\\matplotlib\\mpl-data\\fonts\\afm\n",
      "  copying lib\\matplotlib\\backends\\web_backend\\jquery-ui-1.12.1\\jquery-ui.structure.css -> build\\lib.win-amd64-cpython-310\\matplotlib\\backends\\web_backend\\jquery-ui-1.12.1\n",
      "  copying lib\\matplotlib\\mpl-data\\fonts\\pdfcorefonts\\Times-BoldItalic.afm -> build\\lib.win-amd64-cpython-310\\matplotlib\\mpl-data\\fonts\\pdfcorefonts\n",
      "  copying lib\\matplotlib\\mpl-data\\images\\hand.svg -> build\\lib.win-amd64-cpython-310\\matplotlib\\mpl-data\\images\n",
      "  copying lib\\matplotlib\\mpl-data\\sample_data\\demodata.csv -> build\\lib.win-amd64-cpython-310\\matplotlib\\mpl-data\\sample_data\n",
      "  copying lib\\matplotlib\\mpl-data\\fonts\\ttf\\STIXSizThreeSymBol.ttf -> build\\lib.win-amd64-cpython-310\\matplotlib\\mpl-data\\fonts\\ttf\n",
      "  copying lib\\matplotlib\\mpl-data\\images\\move_large.png -> build\\lib.win-amd64-cpython-310\\matplotlib\\mpl-data\\images\n",
      "  copying lib\\matplotlib\\mpl-data\\fonts\\afm\\pagk8a.afm -> build\\lib.win-amd64-cpython-310\\matplotlib\\mpl-data\\fonts\\afm\n",
      "  creating build\\lib.win-amd64-cpython-310\\matplotlib\\backends\\web_backend\\js\n",
      "  copying lib\\matplotlib\\backends\\web_backend\\js\\nbagg_mpl.js -> build\\lib.win-amd64-cpython-310\\matplotlib\\backends\\web_backend\\js\n",
      "  copying lib\\matplotlib\\mpl-data\\sample_data\\logo2.png -> build\\lib.win-amd64-cpython-310\\matplotlib\\mpl-data\\sample_data\n",
      "  copying lib\\matplotlib\\mpl-data\\sample_data\\ada.png -> build\\lib.win-amd64-cpython-310\\matplotlib\\mpl-data\\sample_data\n",
      "  copying lib\\matplotlib\\mpl-data\\stylelib\\seaborn-colorblind.mplstyle -> build\\lib.win-amd64-cpython-310\\matplotlib\\mpl-data\\stylelib\n",
      "  copying lib\\matplotlib\\mpl-data\\sample_data\\goog.npz -> build\\lib.win-amd64-cpython-310\\matplotlib\\mpl-data\\sample_data\n",
      "  copying lib\\matplotlib\\mpl-data\\images\\forward_large.gif -> build\\lib.win-amd64-cpython-310\\matplotlib\\mpl-data\\images\n",
      "  copying lib\\matplotlib\\mpl-data\\images\\forward_large.png -> build\\lib.win-amd64-cpython-310\\matplotlib\\mpl-data\\images\n",
      "  copying lib\\matplotlib\\mpl-data\\fonts\\afm\\pagko8a.afm -> build\\lib.win-amd64-cpython-310\\matplotlib\\mpl-data\\fonts\\afm\n",
      "  copying lib\\matplotlib\\mpl-data\\images\\home_large.gif -> build\\lib.win-amd64-cpython-310\\matplotlib\\mpl-data\\images\n",
      "  copying lib\\matplotlib\\mpl-data\\fonts\\afm\\pzcmi8a.afm -> build\\lib.win-amd64-cpython-310\\matplotlib\\mpl-data\\fonts\\afm\n",
      "  copying lib\\matplotlib\\mpl-data\\stylelib\\seaborn.mplstyle -> build\\lib.win-amd64-cpython-310\\matplotlib\\mpl-data\\stylelib\n",
      "  copying lib\\matplotlib\\mpl-data\\images\\help.png -> build\\lib.win-amd64-cpython-310\\matplotlib\\mpl-data\\images\n",
      "  copying lib\\matplotlib\\mpl-data\\stylelib\\_classic_test.mplstyle -> build\\lib.win-amd64-cpython-310\\matplotlib\\mpl-data\\stylelib\n",
      "  copying lib\\matplotlib\\mpl-data\\fonts\\ttf\\cmex10.ttf -> build\\lib.win-amd64-cpython-310\\matplotlib\\mpl-data\\fonts\\ttf\n",
      "  copying lib\\matplotlib\\mpl-data\\fonts\\pdfcorefonts\\Times-Italic.afm -> build\\lib.win-amd64-cpython-310\\matplotlib\\mpl-data\\fonts\\pdfcorefonts\n",
      "  copying lib\\matplotlib\\mpl-data\\fonts\\afm\\phvb8a.afm -> build\\lib.win-amd64-cpython-310\\matplotlib\\mpl-data\\fonts\\afm\n",
      "  copying lib\\matplotlib\\mpl-data\\images\\filesave_large.png -> build\\lib.win-amd64-cpython-310\\matplotlib\\mpl-data\\images\n",
      "  copying lib\\matplotlib\\backends\\web_backend\\jquery-ui-1.12.1\\jquery-ui.min.js -> build\\lib.win-amd64-cpython-310\\matplotlib\\backends\\web_backend\\jquery-ui-1.12.1\n",
      "  copying lib\\matplotlib\\mpl-data\\fonts\\ttf\\STIXNonUni.ttf -> build\\lib.win-amd64-cpython-310\\matplotlib\\mpl-data\\fonts\\ttf\n",
      "  copying lib\\matplotlib\\mpl-data\\fonts\\pdfcorefonts\\readme.txt -> build\\lib.win-amd64-cpython-310\\matplotlib\\mpl-data\\fonts\\pdfcorefonts\n",
      "  copying lib\\matplotlib\\mpl-data\\fonts\\pdfcorefonts\\Courier-Oblique.afm -> build\\lib.win-amd64-cpython-310\\matplotlib\\mpl-data\\fonts\\pdfcorefonts\n",
      "  copying lib\\matplotlib\\mpl-data\\matplotlibrc -> build\\lib.win-amd64-cpython-310\\matplotlib\\mpl-data\n",
      "  copying lib\\matplotlib\\mpl-data\\images\\back.png -> build\\lib.win-amd64-cpython-310\\matplotlib\\mpl-data\\images\n",
      "  copying lib\\matplotlib\\mpl-data\\fonts\\afm\\phvro8a.afm -> build\\lib.win-amd64-cpython-310\\matplotlib\\mpl-data\\fonts\\afm\n",
      "  copying lib\\matplotlib\\mpl-data\\stylelib\\seaborn-dark.mplstyle -> build\\lib.win-amd64-cpython-310\\matplotlib\\mpl-data\\stylelib\n",
      "  copying lib\\matplotlib\\mpl-data\\fonts\\pdfcorefonts\\ZapfDingbats.afm -> build\\lib.win-amd64-cpython-310\\matplotlib\\mpl-data\\fonts\\pdfcorefonts\n",
      "  creating build\\lib.win-amd64-cpython-310\\matplotlib\\backends\\web_backend\\jquery\n",
      "  creating build\\lib.win-amd64-cpython-310\\matplotlib\\backends\\web_backend\\jquery\\js\n",
      "  copying lib\\matplotlib\\backends\\web_backend\\jquery\\js\\jquery.min.js -> build\\lib.win-amd64-cpython-310\\matplotlib\\backends\\web_backend\\jquery\\js\n",
      "  copying lib\\matplotlib\\mpl-data\\images\\matplotlib_large.png -> build\\lib.win-amd64-cpython-310\\matplotlib\\mpl-data\\images\n",
      "  copying lib\\matplotlib\\mpl-data\\stylelib\\seaborn-darkgrid.mplstyle -> build\\lib.win-amd64-cpython-310\\matplotlib\\mpl-data\\stylelib\n",
      "  copying lib\\matplotlib\\mpl-data\\fonts\\afm\\phvro8an.afm -> build\\lib.win-amd64-cpython-310\\matplotlib\\mpl-data\\fonts\\afm\n",
      "  copying lib\\matplotlib\\mpl-data\\stylelib\\dark_background.mplstyle -> build\\lib.win-amd64-cpython-310\\matplotlib\\mpl-data\\stylelib\n",
      "  copying lib\\matplotlib\\mpl-data\\fonts\\pdfcorefonts\\Helvetica-Bold.afm -> build\\lib.win-amd64-cpython-310\\matplotlib\\mpl-data\\fonts\\pdfcorefonts\n",
      "  copying lib\\matplotlib\\mpl-data\\fonts\\ttf\\DejaVuSansMono-Bold.ttf -> build\\lib.win-amd64-cpython-310\\matplotlib\\mpl-data\\fonts\\ttf\n",
      "  copying lib\\matplotlib\\mpl-data\\stylelib\\bmh.mplstyle -> build\\lib.win-amd64-cpython-310\\matplotlib\\mpl-data\\stylelib\n",
      "  copying lib\\matplotlib\\mpl-data\\images\\back.pdf -> build\\lib.win-amd64-cpython-310\\matplotlib\\mpl-data\\images\n",
      "  copying lib\\matplotlib\\backends\\web_backend\\jquery-ui-1.12.1\\package.json -> build\\lib.win-amd64-cpython-310\\matplotlib\\backends\\web_backend\\jquery-ui-1.12.1\n",
      "  copying lib\\matplotlib\\mpl-data\\stylelib\\ggplot.mplstyle -> build\\lib.win-amd64-cpython-310\\matplotlib\\mpl-data\\stylelib\n",
      "  copying lib\\matplotlib\\mpl-data\\fonts\\ttf\\DejaVuSans-Oblique.ttf -> build\\lib.win-amd64-cpython-310\\matplotlib\\mpl-data\\fonts\\ttf\n",
      "  copying lib\\matplotlib\\mpl-data\\images\\subplots.pdf -> build\\lib.win-amd64-cpython-310\\matplotlib\\mpl-data\\images\n",
      "  copying lib\\matplotlib\\mpl-data\\images\\zoom_to_rect.pdf -> build\\lib.win-amd64-cpython-310\\matplotlib\\mpl-data\\images\n",
      "  copying lib\\matplotlib\\mpl-data\\fonts\\afm\\pplri8a.afm -> build\\lib.win-amd64-cpython-310\\matplotlib\\mpl-data\\fonts\\afm\n",
      "  copying lib\\matplotlib\\mpl-data\\images\\move.pdf -> build\\lib.win-amd64-cpython-310\\matplotlib\\mpl-data\\images\n",
      "  copying lib\\matplotlib\\mpl-data\\fonts\\afm\\pncb8a.afm -> build\\lib.win-amd64-cpython-310\\matplotlib\\mpl-data\\fonts\\afm\n",
      "  copying lib\\matplotlib\\mpl-data\\fonts\\ttf\\STIXGeneral.ttf -> build\\lib.win-amd64-cpython-310\\matplotlib\\mpl-data\\fonts\\ttf\n",
      "  copying lib\\matplotlib\\mpl-data\\fonts\\ttf\\cmmi10.ttf -> build\\lib.win-amd64-cpython-310\\matplotlib\\mpl-data\\fonts\\ttf\n",
      "  copying lib\\matplotlib\\mpl-data\\fonts\\afm\\ptmbi8a.afm -> build\\lib.win-amd64-cpython-310\\matplotlib\\mpl-data\\fonts\\afm\n",
      "  copying lib\\matplotlib\\mpl-data\\fonts\\ttf\\DejaVuSerif-Italic.ttf -> build\\lib.win-amd64-cpython-310\\matplotlib\\mpl-data\\fonts\\ttf\n",
      "  copying lib\\matplotlib\\backends\\web_backend\\jquery-ui-1.12.1\\jquery-ui.css -> build\\lib.win-amd64-cpython-310\\matplotlib\\backends\\web_backend\\jquery-ui-1.12.1\n",
      "  copying lib\\matplotlib\\mpl-data\\fonts\\pdfcorefonts\\Courier.afm -> build\\lib.win-amd64-cpython-310\\matplotlib\\mpl-data\\fonts\\pdfcorefonts\n",
      "  copying lib\\matplotlib\\mpl-data\\images\\back.svg -> build\\lib.win-amd64-cpython-310\\matplotlib\\mpl-data\\images\n",
      "  copying lib\\matplotlib\\mpl-data\\images\\zoom_to_rect.png -> build\\lib.win-amd64-cpython-310\\matplotlib\\mpl-data\\images\n",
      "  copying lib\\matplotlib\\mpl-data\\fonts\\afm\\pcrb8a.afm -> build\\lib.win-amd64-cpython-310\\matplotlib\\mpl-data\\fonts\\afm\n",
      "  copying lib\\matplotlib\\mpl-data\\fonts\\afm\\pplr8a.afm -> build\\lib.win-amd64-cpython-310\\matplotlib\\mpl-data\\fonts\\afm\n",
      "  copying lib\\matplotlib\\backends\\web_backend\\js\\mpl.js -> build\\lib.win-amd64-cpython-310\\matplotlib\\backends\\web_backend\\js\n",
      "  copying lib\\matplotlib\\mpl-data\\images\\hand.gif -> build\\lib.win-amd64-cpython-310\\matplotlib\\mpl-data\\images\n",
      "  copying lib\\matplotlib\\mpl-data\\fonts\\afm\\cmsy10.afm -> build\\lib.win-amd64-cpython-310\\matplotlib\\mpl-data\\fonts\\afm\n",
      "  copying lib\\matplotlib\\mpl-data\\images\\hand_large.gif -> build\\lib.win-amd64-cpython-310\\matplotlib\\mpl-data\\images\n",
      "  copying lib\\matplotlib\\mpl-data\\images\\filesave_large.gif -> build\\lib.win-amd64-cpython-310\\matplotlib\\mpl-data\\images\n",
      "  copying lib\\matplotlib\\mpl-data\\images\\matplotlib.svg -> build\\lib.win-amd64-cpython-310\\matplotlib\\mpl-data\\images\n",
      "  copying lib\\matplotlib\\mpl-data\\fonts\\afm\\pbkd8a.afm -> build\\lib.win-amd64-cpython-310\\matplotlib\\mpl-data\\fonts\\afm\n",
      "  copying lib\\matplotlib\\mpl-data\\fonts\\afm\\phvlo8a.afm -> build\\lib.win-amd64-cpython-310\\matplotlib\\mpl-data\\fonts\\afm\n",
      "  copying lib\\matplotlib\\mpl-data\\sample_data\\ct.raw.gz -> build\\lib.win-amd64-cpython-310\\matplotlib\\mpl-data\\sample_data\n",
      "  copying lib\\matplotlib\\mpl-data\\fonts\\ttf\\STIXSizFourSymBol.ttf -> build\\lib.win-amd64-cpython-310\\matplotlib\\mpl-data\\fonts\\ttf\n",
      "  copying lib\\matplotlib\\mpl-data\\sample_data\\grace_hopper.png -> build\\lib.win-amd64-cpython-310\\matplotlib\\mpl-data\\sample_data\n",
      "  copying lib\\matplotlib\\mpl-data\\fonts\\ttf\\STIXSizOneSymBol.ttf -> build\\lib.win-amd64-cpython-310\\matplotlib\\mpl-data\\fonts\\ttf\n",
      "  copying lib\\matplotlib\\mpl-data\\sample_data\\membrane.dat -> build\\lib.win-amd64-cpython-310\\matplotlib\\mpl-data\\sample_data\n",
      "  copying lib\\matplotlib\\mpl-data\\fonts\\afm\\pagdo8a.afm -> build\\lib.win-amd64-cpython-310\\matplotlib\\mpl-data\\fonts\\afm\n",
      "  copying lib\\matplotlib\\mpl-data\\images\\back.gif -> build\\lib.win-amd64-cpython-310\\matplotlib\\mpl-data\\images\n",
      "  copying lib\\matplotlib\\mpl-data\\images\\home.png -> build\\lib.win-amd64-cpython-310\\matplotlib\\mpl-data\\images\n",
      "  copying lib\\matplotlib\\mpl-data\\fonts\\ttf\\STIXGeneralBol.ttf -> build\\lib.win-amd64-cpython-310\\matplotlib\\mpl-data\\fonts\\ttf\n",
      "  copying lib\\matplotlib\\mpl-data\\images\\move.svg -> build\\lib.win-amd64-cpython-310\\matplotlib\\mpl-data\\images\n",
      "  copying lib\\matplotlib\\mpl-data\\fonts\\afm\\ptmb8a.afm -> build\\lib.win-amd64-cpython-310\\matplotlib\\mpl-data\\fonts\\afm\n",
      "  copying lib\\matplotlib\\mpl-data\\stylelib\\fast.mplstyle -> build\\lib.win-amd64-cpython-310\\matplotlib\\mpl-data\\stylelib\n",
      "  copying lib\\matplotlib\\mpl-data\\fonts\\afm\\pbkl8a.afm -> build\\lib.win-amd64-cpython-310\\matplotlib\\mpl-data\\fonts\\afm\n",
      "  copying lib\\matplotlib\\mpl-data\\images\\zoom_to_rect.svg -> build\\lib.win-amd64-cpython-310\\matplotlib\\mpl-data\\images\n",
      "  copying lib\\matplotlib\\mpl-data\\images\\zoom_to_rect_large.png -> build\\lib.win-amd64-cpython-310\\matplotlib\\mpl-data\\images\n",
      "  copying lib\\matplotlib\\mpl-data\\fonts\\afm\\pcrr8a.afm -> build\\lib.win-amd64-cpython-310\\matplotlib\\mpl-data\\fonts\\afm\n",
      "  copying lib\\matplotlib\\mpl-data\\sample_data\\msft.csv -> build\\lib.win-amd64-cpython-310\\matplotlib\\mpl-data\\sample_data\n",
      "  copying lib\\matplotlib\\mpl-data\\images\\home_large.png -> build\\lib.win-amd64-cpython-310\\matplotlib\\mpl-data\\images\n",
      "  copying lib\\matplotlib\\mpl-data\\images\\zoom_to_rect_large.gif -> build\\lib.win-amd64-cpython-310\\matplotlib\\mpl-data\\images\n",
      "  copying lib\\matplotlib\\mpl-data\\sample_data\\aapl.npz -> build\\lib.win-amd64-cpython-310\\matplotlib\\mpl-data\\sample_data\n",
      "  copying lib\\matplotlib\\mpl-data\\fonts\\afm\\cmex10.afm -> build\\lib.win-amd64-cpython-310\\matplotlib\\mpl-data\\fonts\\afm\n",
      "  copying lib\\matplotlib\\mpl-data\\images\\filesave.gif -> build\\lib.win-amd64-cpython-310\\matplotlib\\mpl-data\\images\n",
      "  copying lib\\matplotlib\\mpl-data\\fonts\\ttf\\DejaVuSansDisplay.ttf -> build\\lib.win-amd64-cpython-310\\matplotlib\\mpl-data\\fonts\\ttf\n",
      "  copying lib\\matplotlib\\mpl-data\\fonts\\ttf\\STIXNonUniIta.ttf -> build\\lib.win-amd64-cpython-310\\matplotlib\\mpl-data\\fonts\\ttf\n",
      "  copying lib\\matplotlib\\mpl-data\\fonts\\afm\\pncr8a.afm -> build\\lib.win-amd64-cpython-310\\matplotlib\\mpl-data\\fonts\\afm\n",
      "  copying lib\\matplotlib\\mpl-data\\fonts\\afm\\psyr.afm -> build\\lib.win-amd64-cpython-310\\matplotlib\\mpl-data\\fonts\\afm\n",
      "  copying lib\\matplotlib\\mpl-data\\fonts\\afm\\cmr10.afm -> build\\lib.win-amd64-cpython-310\\matplotlib\\mpl-data\\fonts\\afm\n",
      "  copying lib\\matplotlib\\mpl-data\\fonts\\ttf\\STIXSizFourSymReg.ttf -> build\\lib.win-amd64-cpython-310\\matplotlib\\mpl-data\\fonts\\ttf\n",
      "  copying lib\\matplotlib\\mpl-data\\stylelib\\seaborn-pastel.mplstyle -> build\\lib.win-amd64-cpython-310\\matplotlib\\mpl-data\\stylelib\n",
      "  copying lib\\matplotlib\\mpl-data\\sample_data\\README.txt -> build\\lib.win-amd64-cpython-310\\matplotlib\\mpl-data\\sample_data\n",
      "  copying lib\\matplotlib\\mpl-data\\images\\forward.svg -> build\\lib.win-amd64-cpython-310\\matplotlib\\mpl-data\\images\n",
      "  copying lib\\matplotlib\\mpl-data\\sample_data\\topobathy.npz -> build\\lib.win-amd64-cpython-310\\matplotlib\\mpl-data\\sample_data\n",
      "  copying lib\\matplotlib\\mpl-data\\fonts\\ttf\\STIXSizFiveSymReg.ttf -> build\\lib.win-amd64-cpython-310\\matplotlib\\mpl-data\\fonts\\ttf\n",
      "  copying lib\\matplotlib\\mpl-data\\images\\subplots.png -> build\\lib.win-amd64-cpython-310\\matplotlib\\mpl-data\\images\n",
      "  copying lib\\matplotlib\\mpl-data\\fonts\\ttf\\STIXNonUniBol.ttf -> build\\lib.win-amd64-cpython-310\\matplotlib\\mpl-data\\fonts\\ttf\n",
      "  copying lib\\matplotlib\\mpl-data\\images\\qt4_editor_options.png -> build\\lib.win-amd64-cpython-310\\matplotlib\\mpl-data\\images\n",
      "  copying lib\\matplotlib\\backends\\web_backend\\ipython_inline_figure.html -> build\\lib.win-amd64-cpython-310\\matplotlib\\backends\\web_backend\n",
      "  copying lib\\matplotlib\\mpl-data\\fonts\\ttf\\DejaVuSerif.ttf -> build\\lib.win-amd64-cpython-310\\matplotlib\\mpl-data\\fonts\\ttf\n",
      "  copying lib\\matplotlib\\mpl-data\\stylelib\\seaborn-whitegrid.mplstyle -> build\\lib.win-amd64-cpython-310\\matplotlib\\mpl-data\\stylelib\n",
      "  copying lib\\matplotlib\\mpl-data\\fonts\\afm\\pbkdi8a.afm -> build\\lib.win-amd64-cpython-310\\matplotlib\\mpl-data\\fonts\\afm\n",
      "  copying lib\\matplotlib\\mpl-data\\fonts\\ttf\\cmr10.ttf -> build\\lib.win-amd64-cpython-310\\matplotlib\\mpl-data\\fonts\\ttf\n",
      "  copying lib\\matplotlib\\mpl-data\\stylelib\\seaborn-talk.mplstyle -> build\\lib.win-amd64-cpython-310\\matplotlib\\mpl-data\\stylelib\n",
      "  copying lib\\matplotlib\\backends\\web_backend\\jquery\\js\\jquery.js -> build\\lib.win-amd64-cpython-310\\matplotlib\\backends\\web_backend\\jquery\\js\n",
      "  copying lib\\matplotlib\\backends\\web_backend\\jquery-ui-1.12.1\\jquery-ui.min.css -> build\\lib.win-amd64-cpython-310\\matplotlib\\backends\\web_backend\\jquery-ui-1.12.1\n",
      "  copying lib\\matplotlib\\backends\\web_backend\\jquery-ui-1.12.1\\jquery-ui.theme.min.css -> build\\lib.win-amd64-cpython-310\\matplotlib\\backends\\web_backend\\jquery-ui-1.12.1\n",
      "  copying lib\\matplotlib\\mpl-data\\images\\move_large.gif -> build\\lib.win-amd64-cpython-310\\matplotlib\\mpl-data\\images\n",
      "  copying lib\\matplotlib\\mpl-data\\fonts\\afm\\phvl8a.afm -> build\\lib.win-amd64-cpython-310\\matplotlib\\mpl-data\\fonts\\afm\n",
      "  copying lib\\matplotlib\\backends\\web_backend\\jquery-ui-1.12.1\\index.html -> build\\lib.win-amd64-cpython-310\\matplotlib\\backends\\web_backend\\jquery-ui-1.12.1\n",
      "  copying lib\\matplotlib\\mpl-data\\images\\help_large.png -> build\\lib.win-amd64-cpython-310\\matplotlib\\mpl-data\\images\n",
      "  copying lib\\matplotlib\\backends\\web_backend\\jquery-ui-1.12.1\\jquery-ui.js -> build\\lib.win-amd64-cpython-310\\matplotlib\\backends\\web_backend\\jquery-ui-1.12.1\n",
      "  copying lib\\matplotlib\\mpl-data\\fonts\\afm\\pplbi8a.afm -> build\\lib.win-amd64-cpython-310\\matplotlib\\mpl-data\\fonts\\afm\n",
      "  copying lib\\matplotlib\\mpl-data\\sample_data\\Minduka_Present_Blue_Pack.png -> build\\lib.win-amd64-cpython-310\\matplotlib\\mpl-data\\sample_data\n",
      "  copying lib\\matplotlib\\mpl-data\\fonts\\afm\\phvb8an.afm -> build\\lib.win-amd64-cpython-310\\matplotlib\\mpl-data\\fonts\\afm\n",
      "  copying lib\\matplotlib\\mpl-data\\fonts\\ttf\\cmss10.ttf -> build\\lib.win-amd64-cpython-310\\matplotlib\\mpl-data\\fonts\\ttf\n",
      "  copying lib\\matplotlib\\mpl-data\\stylelib\\Solarize_Light2.mplstyle -> build\\lib.win-amd64-cpython-310\\matplotlib\\mpl-data\\stylelib\n",
      "  copying lib\\matplotlib\\backends\\web_backend\\jquery-ui-1.12.1\\images\\ui-icons_cc0000_256x240.png -> build\\lib.win-amd64-cpython-310\\matplotlib\\backends\\web_backend\\jquery-ui-1.12.1\\images\n",
      "  copying lib\\matplotlib\\mpl-data\\images\\back_large.gif -> build\\lib.win-amd64-cpython-310\\matplotlib\\mpl-data\\images\n",
      "  copying lib\\matplotlib\\mpl-data\\stylelib\\seaborn-deep.mplstyle -> build\\lib.win-amd64-cpython-310\\matplotlib\\mpl-data\\stylelib\n",
      "  copying lib\\matplotlib\\backends\\web_backend\\jquery-ui-1.12.1\\jquery-ui.theme.css -> build\\lib.win-amd64-cpython-310\\matplotlib\\backends\\web_backend\\jquery-ui-1.12.1\n",
      "  copying lib\\matplotlib\\mpl-data\\images\\qt4_editor_options.pdf -> build\\lib.win-amd64-cpython-310\\matplotlib\\mpl-data\\images\n",
      "  copying lib\\matplotlib\\mpl-data\\fonts\\afm\\ptmri8a.afm -> build\\lib.win-amd64-cpython-310\\matplotlib\\mpl-data\\fonts\\afm\n",
      "  copying lib\\matplotlib\\mpl-data\\images\\forward.png -> build\\lib.win-amd64-cpython-310\\matplotlib\\mpl-data\\images\n",
      "  copying lib\\matplotlib\\mpl-data\\stylelib\\seaborn-ticks.mplstyle -> build\\lib.win-amd64-cpython-310\\matplotlib\\mpl-data\\stylelib\n",
      "  copying lib\\matplotlib\\mpl-data\\fonts\\afm\\pbkli8a.afm -> build\\lib.win-amd64-cpython-310\\matplotlib\\mpl-data\\fonts\\afm\n",
      "  copying lib\\matplotlib\\mpl-data\\fonts\\afm\\pplb8a.afm -> build\\lib.win-amd64-cpython-310\\matplotlib\\mpl-data\\fonts\\afm\n",
      "  copying lib\\matplotlib\\mpl-data\\stylelib\\seaborn-bright.mplstyle -> build\\lib.win-amd64-cpython-310\\matplotlib\\mpl-data\\stylelib\n",
      "  copying lib\\matplotlib\\mpl-data\\fonts\\ttf\\DejaVuSerif-Bold.ttf -> build\\lib.win-amd64-cpython-310\\matplotlib\\mpl-data\\fonts\\ttf\n",
      "  copying lib\\matplotlib\\mpl-data\\fonts\\pdfcorefonts\\Helvetica-Oblique.afm -> build\\lib.win-amd64-cpython-310\\matplotlib\\mpl-data\\fonts\\pdfcorefonts\n",
      "  copying lib\\matplotlib\\mpl-data\\images\\subplots.svg -> build\\lib.win-amd64-cpython-310\\matplotlib\\mpl-data\\images\n",
      "  creating build\\lib.win-amd64-cpython-310\\matplotlib\\backends\\web_backend\\css\n",
      "  copying lib\\matplotlib\\backends\\web_backend\\css\\boilerplate.css -> build\\lib.win-amd64-cpython-310\\matplotlib\\backends\\web_backend\\css\n",
      "  creating build\\lib.win-amd64-cpython-310\\matplotlib\\backends\\web_backend\\jquery-ui-1.12.1\\external\n",
      "  creating build\\lib.win-amd64-cpython-310\\matplotlib\\backends\\web_backend\\jquery-ui-1.12.1\\external\\jquery\n",
      "  copying lib\\matplotlib\\backends\\web_backend\\jquery-ui-1.12.1\\external\\jquery\\jquery.js -> build\\lib.win-amd64-cpython-310\\matplotlib\\backends\\web_backend\\jquery-ui-1.12.1\\external\\jquery\n",
      "  copying lib\\matplotlib\\mpl-data\\sample_data\\grace_hopper.jpg -> build\\lib.win-amd64-cpython-310\\matplotlib\\mpl-data\\sample_data\n",
      "  copying lib\\matplotlib\\backends\\web_backend\\css\\fbm.css -> build\\lib.win-amd64-cpython-310\\matplotlib\\backends\\web_backend\\css\n",
      "  copying lib\\matplotlib\\mpl-data\\stylelib\\fivethirtyeight.mplstyle -> build\\lib.win-amd64-cpython-310\\matplotlib\\mpl-data\\stylelib\n",
      "  copying lib\\matplotlib\\mpl-data\\sample_data\\jacksboro_fault_dem.npz -> build\\lib.win-amd64-cpython-310\\matplotlib\\mpl-data\\sample_data\n",
      "  copying lib\\matplotlib\\mpl-data\\sample_data\\data_x_x2_x3.csv -> build\\lib.win-amd64-cpython-310\\matplotlib\\mpl-data\\sample_data\n",
      "  copying lib\\matplotlib\\mpl-data\\fonts\\ttf\\DejaVuSans-Bold.ttf -> build\\lib.win-amd64-cpython-310\\matplotlib\\mpl-data\\fonts\\ttf\n",
      "  copying lib\\matplotlib\\mpl-data\\images\\filesave.png -> build\\lib.win-amd64-cpython-310\\matplotlib\\mpl-data\\images\n",
      "  copying lib\\matplotlib\\mpl-data\\fonts\\ttf\\DejaVuSansMono-BoldOblique.ttf -> build\\lib.win-amd64-cpython-310\\matplotlib\\mpl-data\\fonts\\ttf\n",
      "  copying lib\\matplotlib\\mpl-data\\fonts\\afm\\cmmi10.afm -> build\\lib.win-amd64-cpython-310\\matplotlib\\mpl-data\\fonts\\afm\n",
      "  copying lib\\matplotlib\\mpl-data\\images\\qt4_editor_options.svg -> build\\lib.win-amd64-cpython-310\\matplotlib\\mpl-data\\images\n",
      "  copying lib\\matplotlib\\mpl-data\\fonts\\ttf\\cmtt10.ttf -> build\\lib.win-amd64-cpython-310\\matplotlib\\mpl-data\\fonts\\ttf\n",
      "  copying lib\\matplotlib\\mpl-data\\stylelib\\seaborn-white.mplstyle -> build\\lib.win-amd64-cpython-310\\matplotlib\\mpl-data\\stylelib\n",
      "  copying lib\\matplotlib\\mpl-data\\fonts\\afm\\phvbo8an.afm -> build\\lib.win-amd64-cpython-310\\matplotlib\\mpl-data\\fonts\\afm\n",
      "  copying lib\\matplotlib\\mpl-data\\fonts\\ttf\\cmsy10.ttf -> build\\lib.win-amd64-cpython-310\\matplotlib\\mpl-data\\fonts\\ttf\n",
      "  copying lib\\matplotlib\\mpl-data\\fonts\\afm\\putr8a.afm -> build\\lib.win-amd64-cpython-310\\matplotlib\\mpl-data\\fonts\\afm\n",
      "  copying lib\\matplotlib\\backends\\web_backend\\jquery-ui-1.12.1\\images\\ui-icons_444444_256x240.png -> build\\lib.win-amd64-cpython-310\\matplotlib\\backends\\web_backend\\jquery-ui-1.12.1\\images\n",
      "  copying lib\\matplotlib\\mpl-data\\fonts\\afm\\pncri8a.afm -> build\\lib.win-amd64-cpython-310\\matplotlib\\mpl-data\\fonts\\afm\n",
      "  copying lib\\matplotlib\\mpl-data\\fonts\\ttf\\STIXSizOneSymReg.ttf -> build\\lib.win-amd64-cpython-310\\matplotlib\\mpl-data\\fonts\\ttf\n",
      "  copying lib\\matplotlib\\mpl-data\\stylelib\\seaborn-notebook.mplstyle -> build\\lib.win-amd64-cpython-310\\matplotlib\\mpl-data\\stylelib\n",
      "  copying lib\\matplotlib\\backends\\web_backend\\css\\page.css -> build\\lib.win-amd64-cpython-310\\matplotlib\\backends\\web_backend\\css\n",
      "  copying lib\\matplotlib\\mpl-data\\images\\help.pdf -> build\\lib.win-amd64-cpython-310\\matplotlib\\mpl-data\\images\n",
      "  copying lib\\matplotlib\\mpl-data\\images\\home.svg -> build\\lib.win-amd64-cpython-310\\matplotlib\\mpl-data\\images\n",
      "  copying lib\\matplotlib\\mpl-data\\stylelib\\seaborn-muted.mplstyle -> build\\lib.win-amd64-cpython-310\\matplotlib\\mpl-data\\stylelib\n",
      "  copying lib\\matplotlib\\backends\\web_backend\\jquery-ui-1.12.1\\images\\ui-icons_555555_256x240.png -> build\\lib.win-amd64-cpython-310\\matplotlib\\backends\\web_backend\\jquery-ui-1.12.1\\images\n",
      "  copying lib\\matplotlib\\mpl-data\\stylelib\\grayscale.mplstyle -> build\\lib.win-amd64-cpython-310\\matplotlib\\mpl-data\\stylelib\n",
      "  creating build\\lib.win-amd64-cpython-310\\matplotlib\\mpl-data\\sample_data\\axes_grid\n",
      "  copying lib\\matplotlib\\mpl-data\\sample_data\\axes_grid\\bivariate_normal.npy -> build\\lib.win-amd64-cpython-310\\matplotlib\\mpl-data\\sample_data\\axes_grid\n",
      "  copying lib\\matplotlib\\mpl-data\\images\\matplotlib.pdf -> build\\lib.win-amd64-cpython-310\\matplotlib\\mpl-data\\images\n",
      "  copying lib\\matplotlib\\mpl-data\\fonts\\ttf\\STIXSizThreeSymReg.ttf -> build\\lib.win-amd64-cpython-310\\matplotlib\\mpl-data\\fonts\\ttf\n",
      "  copying lib\\matplotlib\\mpl-data\\fonts\\ttf\\STIXSizTwoSymBol.ttf -> build\\lib.win-amd64-cpython-310\\matplotlib\\mpl-data\\fonts\\ttf\n",
      "  copying lib\\matplotlib\\mpl-data\\fonts\\ttf\\LICENSE_DEJAVU -> build\\lib.win-amd64-cpython-310\\matplotlib\\mpl-data\\fonts\\ttf\n",
      "  copying lib\\matplotlib\\mpl-data\\fonts\\ttf\\STIXGeneralBolIta.ttf -> build\\lib.win-amd64-cpython-310\\matplotlib\\mpl-data\\fonts\\ttf\n",
      "  copying lib\\matplotlib\\mpl-data\\images\\qt4_editor_options_large.png -> build\\lib.win-amd64-cpython-310\\matplotlib\\mpl-data\\images\n",
      "  copying lib\\matplotlib\\mpl-data\\fonts\\pdfcorefonts\\Symbol.afm -> build\\lib.win-amd64-cpython-310\\matplotlib\\mpl-data\\fonts\\pdfcorefonts\n",
      "  copying lib\\matplotlib\\mpl-data\\sample_data\\embedding_in_wx3.xrc -> build\\lib.win-amd64-cpython-310\\matplotlib\\mpl-data\\sample_data\n",
      "  copying lib\\matplotlib\\mpl-data\\images\\matplotlib.ppm -> build\\lib.win-amd64-cpython-310\\matplotlib\\mpl-data\\images\n",
      "  copying lib\\matplotlib\\mpl-data\\fonts\\afm\\phvr8a.afm -> build\\lib.win-amd64-cpython-310\\matplotlib\\mpl-data\\fonts\\afm\n",
      "  copying lib\\matplotlib\\backends\\web_backend\\single_figure.html -> build\\lib.win-amd64-cpython-310\\matplotlib\\backends\\web_backend\n",
      "  copying lib\\matplotlib\\backends\\web_backend\\js\\mpl_tornado.js -> build\\lib.win-amd64-cpython-310\\matplotlib\\backends\\web_backend\\js\n",
      "  copying lib\\matplotlib\\backends\\web_backend\\jquery-ui-1.12.1\\images\\ui-icons_777620_256x240.png -> build\\lib.win-amd64-cpython-310\\matplotlib\\backends\\web_backend\\jquery-ui-1.12.1\\images\n",
      "  copying lib\\matplotlib\\mpl-data\\fonts\\afm\\phvbo8a.afm -> build\\lib.win-amd64-cpython-310\\matplotlib\\mpl-data\\fonts\\afm\n",
      "  copying lib\\matplotlib\\mpl-data\\fonts\\afm\\pcrbo8a.afm -> build\\lib.win-amd64-cpython-310\\matplotlib\\mpl-data\\fonts\\afm\n",
      "  copying lib\\matplotlib\\backends\\web_backend\\jquery-ui-1.12.1\\images\\ui-icons_ffffff_256x240.png -> build\\lib.win-amd64-cpython-310\\matplotlib\\backends\\web_backend\\jquery-ui-1.12.1\\images\n",
      "  copying lib\\matplotlib\\mpl-data\\fonts\\ttf\\DejaVuSerif-BoldItalic.ttf -> build\\lib.win-amd64-cpython-310\\matplotlib\\mpl-data\\fonts\\ttf\n",
      "  copying lib\\matplotlib\\mpl-data\\images\\filesave.svg -> build\\lib.win-amd64-cpython-310\\matplotlib\\mpl-data\\images\n",
      "  copying lib\\matplotlib\\mpl-data\\fonts\\afm\\phvr8an.afm -> build\\lib.win-amd64-cpython-310\\matplotlib\\mpl-data\\fonts\\afm\n",
      "  copying lib\\matplotlib\\mpl-data\\fonts\\afm\\ptmr8a.afm -> build\\lib.win-amd64-cpython-310\\matplotlib\\mpl-data\\fonts\\afm\n",
      "  copying lib\\matplotlib\\mpl-data\\fonts\\pdfcorefonts\\Helvetica-BoldOblique.afm -> build\\lib.win-amd64-cpython-310\\matplotlib\\mpl-data\\fonts\\pdfcorefonts\n",
      "  copying lib\\matplotlib\\mpl-data\\fonts\\ttf\\DejaVuSerifDisplay.ttf -> build\\lib.win-amd64-cpython-310\\matplotlib\\mpl-data\\fonts\\ttf\n",
      "  copying lib\\matplotlib\\mpl-data\\images\\help_large.ppm -> build\\lib.win-amd64-cpython-310\\matplotlib\\mpl-data\\images\n",
      "  copying lib\\matplotlib\\mpl-data\\images\\forward.pdf -> build\\lib.win-amd64-cpython-310\\matplotlib\\mpl-data\\images\n",
      "  copying lib\\matplotlib\\mpl-data\\fonts\\afm\\putb8a.afm -> build\\lib.win-amd64-cpython-310\\matplotlib\\mpl-data\\fonts\\afm\n",
      "  copying lib\\matplotlib\\mpl-data\\stylelib\\classic.mplstyle -> build\\lib.win-amd64-cpython-310\\matplotlib\\mpl-data\\stylelib\n",
      "  copying lib\\matplotlib\\mpl-data\\fonts\\afm\\putbi8a.afm -> build\\lib.win-amd64-cpython-310\\matplotlib\\mpl-data\\fonts\\afm\n",
      "  copying lib\\matplotlib\\mpl-data\\stylelib\\seaborn-paper.mplstyle -> build\\lib.win-amd64-cpython-310\\matplotlib\\mpl-data\\stylelib\n",
      "  copying lib\\matplotlib\\backends\\web_backend\\nbagg_uat.ipynb -> build\\lib.win-amd64-cpython-310\\matplotlib\\backends\\web_backend\n",
      "  copying lib\\matplotlib\\mpl-data\\images\\home.pdf -> build\\lib.win-amd64-cpython-310\\matplotlib\\mpl-data\\images\n",
      "  copying lib\\matplotlib\\backends\\web_backend\\jquery-ui-1.12.1\\AUTHORS.txt -> build\\lib.win-amd64-cpython-310\\matplotlib\\backends\\web_backend\\jquery-ui-1.12.1\n",
      "  copying lib\\matplotlib\\mpl-data\\fonts\\afm\\pzdr.afm -> build\\lib.win-amd64-cpython-310\\matplotlib\\mpl-data\\fonts\\afm\n",
      "  copying lib\\matplotlib\\mpl-data\\fonts\\ttf\\LICENSE_STIX -> build\\lib.win-amd64-cpython-310\\matplotlib\\mpl-data\\fonts\\ttf\n",
      "  copying lib\\matplotlib\\backends\\web_backend\\jquery-ui-1.12.1\\jquery-ui.structure.min.css -> build\\lib.win-amd64-cpython-310\\matplotlib\\backends\\web_backend\\jquery-ui-1.12.1\n",
      "  copying lib\\matplotlib\\mpl-data\\fonts\\afm\\cmtt10.afm -> build\\lib.win-amd64-cpython-310\\matplotlib\\mpl-data\\fonts\\afm\n",
      "  copying lib\\matplotlib\\mpl-data\\sample_data\\s1045.ima.gz -> build\\lib.win-amd64-cpython-310\\matplotlib\\mpl-data\\sample_data\n",
      "  copying lib\\matplotlib\\mpl-data\\images\\subplots.gif -> build\\lib.win-amd64-cpython-310\\matplotlib\\mpl-data\\images\n",
      "  copying lib\\matplotlib\\mpl-data\\fonts\\pdfcorefonts\\Courier-BoldOblique.afm -> build\\lib.win-amd64-cpython-310\\matplotlib\\mpl-data\\fonts\\pdfcorefonts\n",
      "  copying lib\\matplotlib\\mpl-data\\fonts\\ttf\\DejaVuSans.ttf -> build\\lib.win-amd64-cpython-310\\matplotlib\\mpl-data\\fonts\\ttf\n",
      "  UPDATING build\\lib.win-amd64-cpython-310\\matplotlib\\_version.py\n",
      "  set build\\lib.win-amd64-cpython-310\\matplotlib\\_version.py to '3.1.1'\n",
      "  running build_ext\n",
      "  building 'matplotlib.ft2font' extension\n",
      "  error: Microsoft Visual C++ 14.0 or greater is required. Get it with \"Microsoft C++ Build Tools\": https://visualstudio.microsoft.com/visual-cpp-build-tools/\n",
      "  [end of output]\n",
      "  \n",
      "  note: This error originates from a subprocess, and is likely not a problem with pip.\n",
      "  ERROR: Failed building wheel for matplotlib\n",
      "ERROR: Could not build wheels for pandas, numpy, matplotlib, which is required to install pyproject.toml-based projects\n"
     ]
    }
   ],
   "source": [
    "pip install plotly==5.5.0 pandas==0.25.1 numpy==1.14.5 matplotlib==3.1.1\n"
   ]
  },
  {
   "cell_type": "code",
   "execution_count": 104,
   "id": "d0566d0e",
   "metadata": {
    "colab": {
     "referenced_widgets": [
      "eeaa78f623b741c9ad79e8a69fec6f5c",
      ""
     ]
    },
    "id": "d0566d0e",
    "outputId": "6fd962b1-f462-43ee-b342-d63748f92270"
   },
   "outputs": [],
   "source": [
    "from pyspark.sql import functions as F\n",
    "from pyspark.ml.feature import Bucketizer\n",
    "\n",
    "import matplotlib.pyplot as plt\n",
    "import pandas as pd\n",
    "import numpy as np\n",
    "\n",
    "from pyspark.sql.window import Window\n",
    "\n",
    "# Import for typecasting columns\n",
    "from pyspark.sql.types import IntegerType,BooleanType,DateType,FloatType,StringType\n",
    "from pyspark.sql.types import ArrayType"
   ]
  },
  {
   "cell_type": "markdown",
   "id": "01540f64",
   "metadata": {
    "id": "01540f64"
   },
   "source": [
    "## <font color = BLUE >  Defining Custom Functions  </font>"
   ]
  },
  {
   "cell_type": "code",
   "execution_count": 105,
   "id": "7162ed4b",
   "metadata": {
    "colab": {
     "referenced_widgets": [
      "4710405ea5c941dabd6aea0589746dcf",
      ""
     ]
    },
    "id": "7162ed4b",
    "outputId": "41d00005-1553-463a-e34e-10e63dda9881"
   },
   "outputs": [],
   "source": [
    "def get_quantiles(df, col_name, quantiles_list = [0.01, 0.25, 0.5, 0.75, 0.99]):\n",
    "    \"\"\"\n",
    "    Takes a numerical column and returns column values at requested quantiles\n",
    "\n",
    "    Inputs \n",
    "    Argument 1: Dataframe\n",
    "    Argument 2: Name of the column\n",
    "    Argument 3: A list of quantiles you want to find. Default value [0.01, 0.25, 0.5, 0.75, 0.99]\n",
    "\n",
    "    Output \n",
    "    Returns a dictionary with quantiles as keys and column quantile values as values \n",
    "    \"\"\"\n",
    "    # Get min, max and quantile values for given column\n",
    "    min_val = df.agg(F.min(col_name)).first()[0]\n",
    "    max_val = df.agg(F.max(col_name)).first()[0]\n",
    "    quantiles_vals = df.approxQuantile(col_name,\n",
    "                                       quantiles_list,\n",
    "                                       0)\n",
    "  \n",
    "    # Store min, quantiles and max in output dict, sequentially\n",
    "    quantiles_dict = {0.0:min_val}\n",
    "    quantiles_dict.update(dict(zip(quantiles_list, quantiles_vals)))\n",
    "    quantiles_dict.update({1.0:max_val})\n",
    "    return(quantiles_dict)"
   ]
  },
  {
   "cell_type": "code",
   "execution_count": 106,
   "id": "c89fa059",
   "metadata": {
    "colab": {
     "referenced_widgets": [
      "b03139e5ae674f94be70e9f32af87249",
      ""
     ]
    },
    "id": "c89fa059",
    "outputId": "9b021b8e-0023-488b-8387-c7e5d390c75d"
   },
   "outputs": [],
   "source": [
    "def plot_bucketwise_statistics (summary, bucketizer):\n",
    "    \"\"\"\n",
    "    Takes in a dataframe and a bucketizer object and plots the summary statistics for each bucket in the dataframe. \n",
    "  \n",
    "    Inputs\n",
    "    Argument 1: Pandas dataframe obtained from bucket_col_print_summary function \n",
    "    Argument 2: Bucketizer object obtained from bucket_col_print_summary function\n",
    "  \n",
    "    Output\n",
    "    Displays a plot of bucketwise average ratings nunber of ratings of a parameter.   \n",
    "    \"\"\"\n",
    "    # Creating bucket labels from splits\n",
    "    classlist = bucketizer.getSplits()\n",
    "    number_of_classes = len(classlist) - 1\n",
    "\n",
    "    class_labels = []\n",
    "    hover_labels = []\n",
    "    for i in range (number_of_classes):\n",
    "        hover_labels.append(str(classlist[i])+\"-\"+str(classlist[i+1]) +\" (Bucket name: \"+ str(int(i)) +\")\"  )\n",
    "        class_labels.append(str(classlist[i])+\"-\"+str(classlist[i+1]) )\n",
    "  \n",
    "    summary[\"Scaled_number\"] = (summary[\"n_ratings\"]-summary[\"n_ratings\"].min())/(summary[\"n_ratings\"].max()-summary[\"n_ratings\"].min()) + 1.5\n",
    "    summary['Bucket_Names'] = class_labels\n",
    "  \n",
    "    # making plot\n",
    "    x = summary[\"Bucket_Names\"]\n",
    "    y1 = summary[\"avg_rating\"]\n",
    "    y2 = summary[\"n_ratings\"]\n",
    "    err = summary[\"stddev_rating\"]  \n",
    "\n",
    "    # Plot scatter here\n",
    "    plt.rcParams[\"figure.figsize\"] = [summary.shape[0]+2, 6.0]\n",
    "    plt.rcParams[\"figure.autolayout\"] = True\n",
    "    fig, ax1 = plt.subplots()\n",
    "\n",
    "    bar = ax1.bar(x, y1, color = \"#262261\")\n",
    "    ax1.errorbar(x, y1, yerr=err, fmt=\"o\", color=\"#EE4036\")\n",
    "    ax1.set(ylim=(0, 7))\n",
    "  \n",
    "    #ax1.bar_label(bar , fmt='%.2f', label_type='edge')  \n",
    "    def barlabel(x_list,y_list):\n",
    "        for i in range(len(x_list)):\n",
    "            ax1.text(i,y_list[i] + 0.2,y_list[i], ha = 'center',\n",
    "  \t\t\t         fontdict=dict(size=10),\n",
    "  \t\t\t         bbox=dict(facecolor='#262261', alpha=0.2)         \n",
    "  \t\t\t        )\n",
    "    barlabel(summary[\"Bucket_Names\"].tolist() ,summary[\"avg_rating\"].round(2).tolist())\n",
    "  \n",
    "    ax2 = ax1.twinx()\n",
    "    ax2.scatter(x, y2, s=summary[\"Scaled_number\"]*500, c = '#FAAF40')  \n",
    "    ax2.set(ylim=(0, summary[\"n_ratings\"].max()*1.15))\n",
    "    def scatterlabel(x_list,y_list):\n",
    "  \t    for i in range(len(x_list)):\n",
    "  \t\t    ax2.text(i,y_list[i] + 15000,y_list[i], ha = 'center',\n",
    "  \t\t\t\t\t fontdict=dict(size=10),\n",
    "                     bbox=dict(facecolor='#FAAF40', alpha=0.5)\n",
    "  \t\t\t\t\t)\n",
    "    scatterlabel(summary[\"Bucket_Names\"].tolist() ,summary[\"n_ratings\"].tolist())\n",
    "  \n",
    "    # giving labels to the axises\n",
    "    ax1.set_xlabel(bucketizer.getOutputCol(), fontdict=dict(size=14)) \n",
    "    ax1.set_ylabel(\"Average Ratings\",fontdict=dict(size=14))\n",
    "  \n",
    "    # secondary y-axis label\n",
    "    ax2.set_ylabel('Number of Ratings',fontdict=dict(size=14))\n",
    "  \n",
    "    #plot Title\n",
    "    plt.title('Bucketwise average ratings and number of ratings for \\n'+bucketizer.getInputCol(), \n",
    "              fontdict=dict(size=14))"
   ]
  },
  {
   "cell_type": "code",
   "execution_count": 107,
   "id": "13480cac",
   "metadata": {
    "colab": {
     "referenced_widgets": [
      "ec871b4a905e43da8c9c044a964b6409",
      ""
     ]
    },
    "id": "13480cac",
    "outputId": "c39b166e-d9f7-4551-b973-12c89ea8aaf7"
   },
   "outputs": [],
   "source": [
    "def bucket_col_print_summary(df, splits, inputCol, outputCol):\n",
    "    \"\"\"\n",
    "    Given a numerical column in a data frame, adds a bucketized version of the column to the data frame, according to splits provided.\n",
    "    Also prints a summary of ratings seen in each bucket made.\n",
    "\n",
    "    Inputs \n",
    "    Argument 1: Data Frame \n",
    "    Argument 2: Values at which the column will be split\n",
    "    Argument 3: Name of the input column (numerical column)\n",
    "    Argument 4: Name of the output column (bucketized numerical column)\n",
    "\n",
    "    Output: \n",
    "    1) New dataframe with the output column added\n",
    "    2) Bucketizer object trained from the input column \n",
    "    3) Pandas dataframe with summary statistics for ratings seen in buckets of the output column\n",
    "    Also plots summary statistics for ratings seen in buckets of the output column\n",
    "    \"\"\"\n",
    "\n",
    "    # Dropping bucket if it already exists\n",
    "    if outputCol in df.columns:\n",
    "        df = df.drop(outputCol)\n",
    "\n",
    "    # Training bucketizer\n",
    "    bucketizer = Bucketizer(splits = splits,\n",
    "                            inputCol  = inputCol,\n",
    "                            outputCol = outputCol)\n",
    "    \n",
    "    df = bucketizer.setHandleInvalid(\"keep\").transform(df)\n",
    "\n",
    "    # Printing meta information on buckets created\n",
    "    print(\"Added bucketized column {}\".format(outputCol))\n",
    "    print(\"\")\n",
    "    print(\"Bucketing done for split definition: {}\".format(splits))\n",
    "    print(\"\")  \n",
    "    print(\"Printing summary statistics for ratings in buckets below:\")\n",
    "\n",
    "    # Creating a summary statistics dataframe and passing it to the plotting function\n",
    "    summary =  (df\n",
    "                .groupBy(outputCol)\n",
    "                .agg(F.avg('rating').alias('avg_rating'),\n",
    "                     F.stddev('rating').alias('stddev_rating'),\n",
    "                     F.count('rating').alias('n_ratings'))\n",
    "                .sort(outputCol)\n",
    "                .toPandas())\n",
    "  \n",
    "    plot_bucketwise_statistics(summary,bucketizer)\n",
    "  \n",
    "    return df, bucketizer, summary"
   ]
  },
  {
   "cell_type": "code",
   "execution_count": 108,
   "id": "c8ef2e38",
   "metadata": {
    "colab": {
     "referenced_widgets": [
      "0a0493ac8ee6481e8a0751204806d25e",
      ""
     ]
    },
    "id": "c8ef2e38",
    "outputId": "d9254ae4-bb1d-4a1f-cced-f3e2fefb3224"
   },
   "outputs": [],
   "source": [
    "def get_column_distribution_summary(df, col_name):\n",
    "    \"\"\"\n",
    "    Takes a column in a data frame and prints the summary statistics (average, standard deviation, count and distinct count) for all unique values in that column.\n",
    "  \n",
    "    Inputs \n",
    "    Argument 1: Dataframe \n",
    "    Argument 2: Name of the column\n",
    "  \n",
    "    Output\n",
    "    Returns nothing \n",
    "    Prints a Dataframe with summary statistics\n",
    "    \"\"\"\n",
    "    print(df\n",
    "          .groupBy(col_name)\n",
    "          .agg(F.avg('rating').alias('avg_rating'),\n",
    "               F.stddev('rating').alias('stddev_rating'),\n",
    "               F.count('rating').alias('n_ratings'),\n",
    "               F.countDistinct('id').alias('n_recipes'))\n",
    "          .sort(F.col(col_name).asc())\n",
    "          .show(50))"
   ]
  },
  {
   "cell_type": "code",
   "execution_count": 109,
   "id": "589fe27b",
   "metadata": {
    "colab": {
     "referenced_widgets": [
      "cd233a11ecca42488e94a373d1bd15b7",
      ""
     ]
    },
    "id": "589fe27b",
    "outputId": "46a1cc33-c8fd-4883-9b37-40b32da7bb46"
   },
   "outputs": [],
   "source": [
    "def get_n_items_satisfying_condition (df, condition, aggregation_level = \"recipe\"):\n",
    "    \"\"\"\n",
    "    Given a condition, find the number of recipes / reviews that match the condition.\n",
    "    Also calculates the percentage of such recipes / reviews as a percentage of all recipes / reviews.\n",
    "  \n",
    "    Inputs \n",
    "    Argument 1: Dataframe \n",
    "    Argument 2: Logical expression describing a condition, string type. eg: \"minutes == 0\"\n",
    "    Argument 3: Aggregation level for determining \"items\", either  \"recipe\" or \"review\". Default value == \"recipe\"\n",
    "  \n",
    "    Output: Returns no object.\n",
    "    Prints the following:\n",
    "    1) Number of recipes / reviews that satisfy the condition\n",
    "    2) Total number of recipes / reviews in the dataframe\n",
    "    3) Percentage of recipes / reviews that satisfy the condition\n",
    "    \"\"\"\n",
    "    # Find out num rows satisfying the condition\n",
    "    if aggregation_level == \"recipe\": \n",
    "        number_of_rows_satisfying_condition = (df\n",
    "                                             .filter(condition)\n",
    "                                             .agg(F.countDistinct(\"id\"))).first()[0]\n",
    "      \n",
    "        n_rows_total = (df.agg(F.countDistinct(\"id\"))).first()[0]\n",
    "    if aggregation_level == \"review\":\n",
    "        number_of_rows_satisfying_condition = (df\n",
    "                                             .filter(condition)\n",
    "                                             .agg(F.countDistinct(\"id\",\"user_id\"))).first()[0]\n",
    "        n_rows_total = (df.agg(F.countDistinct(\"id\",\"user_id\"))).first()[0]\n",
    "  \n",
    "    # Find out % rows satisfying the conditon and print a properly formatted output\n",
    "    perc_rows = round(number_of_rows_satisfying_condition * 100/ n_rows_total, 2)\n",
    "    print('Condition String                   : \"{}\"'.format(condition))\n",
    "    print(\"Num {}s Satisfying Condition   : {} [{}%]\".format(aggregation_level.title(), number_of_rows_satisfying_condition, perc_rows))\n",
    "    print(\"Total Num {}s                  : {}\".format(aggregation_level.title(), n_rows_total))"
   ]
  },
  {
   "cell_type": "code",
   "execution_count": 110,
   "id": "41f7a0b6",
   "metadata": {
    "colab": {
     "referenced_widgets": [
      "8fdaf9d9d5764826800eb176721267a7",
      ""
     ]
    },
    "id": "41f7a0b6",
    "outputId": "bc88f177-0371-49f5-9f2e-4effa2296051"
   },
   "outputs": [],
   "source": [
    "def add_OHE_columns (df, n_name_list):\n",
    "    \"\"\"\n",
    "    Given a list of tags, creates one hot encoded columns for each tag. \n",
    "  \n",
    "    Input\n",
    "    Argument 1: Dataframe in which the function will add the new columns\n",
    "    Argument 2: list of tags\n",
    "  \n",
    "    Output\n",
    "    Prints the names of columns that have been added \n",
    "    Returns the modified dataframe \n",
    "    \"\"\"\n",
    "    for name in n_name_list:\n",
    "        df = (df.withColumn(\"has_tag_\"+name, F.when(F.array_contains(df.tags, name), 1).otherwise(0)))\n",
    "        print (\"added column: has_tag_\"+name)\n",
    "\n",
    "    return df"
   ]
  },
  {
   "cell_type": "markdown",
   "id": "8a3906df",
   "metadata": {
    "id": "8a3906df"
   },
   "source": [
    "## <font color = BLUE >  Read the data  </font>"
   ]
  },
  {
   "cell_type": "code",
   "execution_count": 111,
   "id": "2ef37dae",
   "metadata": {
    "colab": {
     "referenced_widgets": [
      "37ebb91fb5ef4e98b4aa71f400c910ed",
      ""
     ]
    },
    "id": "2ef37dae",
    "outputId": "833b409c-0f17-461d-e59d-3bc755e181d1"
   },
   "outputs": [
    {
     "name": "stdout",
     "output_type": "stream",
     "text": [
      "DataFrame saved to C:\\Users\\OWNER\\Desktop\\path_for_interaction_level_df_processed.parquet\n"
     ]
    }
   ],
   "source": [
    "import pandas as pd\n",
    "\n",
    "# Assuming interaction_level_df is your DataFrame\n",
    "# Specify the desired file path and name\n",
    "# Specify the desired file path and name\n",
    "output_path = \"C:\\\\Users\\\\OWNER\\\\Desktop\\\\path_for_interaction_level_df_processed.parquet\"\n",
    "\n",
    "# Save DataFrame to Parquet file\n",
    "interaction_level_df.to_parquet(output_path, compression=\"snappy\")\n",
    "\n",
    "# Print a success message\n",
    "print(f\"DataFrame saved to {output_path}\")\n"
   ]
  },
  {
   "cell_type": "markdown",
   "id": "e3550527",
   "metadata": {
    "id": "e3550527"
   },
   "source": [
    "## <font color = BLUE >  Adding user level average features  </font>"
   ]
  },
  {
   "cell_type": "code",
   "execution_count": 112,
   "id": "5af7979f",
   "metadata": {
    "colab": {
     "referenced_widgets": [
      "f098e622690441b185006b423384fbd7",
      ""
     ]
    },
    "id": "5af7979f",
    "outputId": "1b58a3a0-4173-4c9b-dac8-0570ea0f96ec"
   },
   "outputs": [
    {
     "name": "stdout",
     "output_type": "stream",
     "text": [
      "   user_id  user_avg_rating  user_n_ratings  \\\n",
      "0        1              4.5             2.0   \n",
      "1        2              4.0             3.0   \n",
      "\n",
      "   user_avg_years_betwn_review_and_submission  \\\n",
      "0                                         1.5   \n",
      "1                                         4.0   \n",
      "\n",
      "   user_avg_prep_time_recipes_reviewed  user_avg_n_steps_recipes_reviewed  \\\n",
      "0                                 37.5                                6.0   \n",
      "1                                 55.0                                7.0   \n",
      "\n",
      "   user_avg_n_ingredients_recipes_reviewed  \n",
      "0                                     11.0  \n",
      "1                                     10.0  \n"
     ]
    }
   ],
   "source": [
    "import pandas as pd\n",
    "\n",
    "# Sample DataFrame\n",
    "data = {\n",
    "    \"user_id\": [1, 1, 2, 2, 2],\n",
    "    \"rating\": [4, 5, 3, 4, 5],\n",
    "    \"years_since_submission_on_review_date\": [1, 2, 3, 4, 5],\n",
    "    \"minutes\": [30, 45, 60, 45, 60],\n",
    "    \"n_steps\": [5, 7, 6, 8, 7],\n",
    "    \"n_ingredients\": [10, 12, 9, 11, 10]\n",
    "}\n",
    "interaction_level_df = pd.DataFrame(data)\n",
    "\n",
    "# Define a function to calculate average rating\n",
    "def avg_rating(group):\n",
    "    return group[\"rating\"].mean()\n",
    "\n",
    "# Define a function to calculate count of ratings\n",
    "def count_ratings(group):\n",
    "    return group[\"rating\"].count()\n",
    "\n",
    "# Define a function to calculate average years between review and submission\n",
    "def avg_years_between(group):\n",
    "    return group[\"years_since_submission_on_review_date\"].mean()\n",
    "\n",
    "# Define a function to calculate average preparation time\n",
    "def avg_prep_time(group):\n",
    "    return group[\"minutes\"].mean()\n",
    "\n",
    "# Define a function to calculate average number of steps\n",
    "def avg_n_steps(group):\n",
    "    return group[\"n_steps\"].mean()\n",
    "\n",
    "# Define a function to calculate average number of ingredients\n",
    "def avg_n_ingredients(group):\n",
    "    return group[\"n_ingredients\"].mean()\n",
    "\n",
    "# Calculate the metrics using groupby and apply functions\n",
    "result_df = (\n",
    "    interaction_level_df.groupby(\"user_id\")\n",
    "    .apply(lambda group: pd.Series({\n",
    "        \"user_avg_rating\": avg_rating(group),\n",
    "        \"user_n_ratings\": count_ratings(group),\n",
    "        \"user_avg_years_betwn_review_and_submission\": avg_years_between(group),\n",
    "        \"user_avg_prep_time_recipes_reviewed\": avg_prep_time(group),\n",
    "        \"user_avg_n_steps_recipes_reviewed\": avg_n_steps(group),\n",
    "        \"user_avg_n_ingredients_recipes_reviewed\": avg_n_ingredients(group)\n",
    "    }))\n",
    "    .reset_index()\n",
    ")\n",
    "\n",
    "print(result_df)\n"
   ]
  },
  {
   "cell_type": "code",
   "execution_count": 113,
   "id": "e2fd0689",
   "metadata": {},
   "outputs": [
    {
     "name": "stdout",
     "output_type": "stream",
     "text": [
      "<class 'pandas.core.frame.DataFrame'>\n",
      "RangeIndex: 5 entries, 0 to 4\n",
      "Data columns (total 6 columns):\n",
      " #   Column                                 Non-Null Count  Dtype\n",
      "---  ------                                 --------------  -----\n",
      " 0   user_id                                5 non-null      int64\n",
      " 1   rating                                 5 non-null      int64\n",
      " 2   years_since_submission_on_review_date  5 non-null      int64\n",
      " 3   minutes                                5 non-null      int64\n",
      " 4   n_steps                                5 non-null      int64\n",
      " 5   n_ingredients                          5 non-null      int64\n",
      "dtypes: int64(6)\n",
      "memory usage: 368.0 bytes\n",
      "None\n",
      "user_id                                  int64\n",
      "rating                                   int64\n",
      "years_since_submission_on_review_date    int64\n",
      "minutes                                  int64\n",
      "n_steps                                  int64\n",
      "n_ingredients                            int64\n",
      "dtype: object\n"
     ]
    }
   ],
   "source": [
    "print(interaction_level_df.info())\n",
    "print(interaction_level_df.dtypes)\n"
   ]
  },
  {
   "cell_type": "code",
   "execution_count": 114,
   "id": "8709b95b",
   "metadata": {},
   "outputs": [
    {
     "name": "stdout",
     "output_type": "stream",
     "text": [
      "Index(['user_id', 'rating', 'years_since_submission_on_review_date', 'minutes',\n",
      "       'n_steps', 'n_ingredients'],\n",
      "      dtype='object')\n"
     ]
    }
   ],
   "source": [
    "print(interaction_level_df.columns)\n"
   ]
  },
  {
   "cell_type": "code",
   "execution_count": 115,
   "id": "5fe8e2dc",
   "metadata": {},
   "outputs": [],
   "source": [
    "nutrition_cols = ['calories', \n",
    "                  'total_fat_PDV', \n",
    "                  'sugar_PDV', \n",
    "                  'sodium_PDV', \n",
    "                  'protein_PDV', \n",
    "                  'saturated_fat_PDV', \n",
    "                  'carbohydrates_PDV', \n",
    "                  'total_fat_per_100_cal', \n",
    "                  'sugar_per_100_cal', \n",
    "                  'sodium_per_100_cal', \n",
    "                  'protein_per_100_cal', \n",
    "                  'saturated_fat_per_100_cal', \n",
    "                  'carbohydrates_per_100_cal']\n",
    "\n",
    "quantiles_list = [0.00, 0.05, 0.25, 0.5, 0.75, 0.95, 1.00]\n",
    "nutrition_col_quantiles = pd.DataFrame(index = quantiles_list)"
   ]
  },
  {
   "cell_type": "code",
   "execution_count": 116,
   "id": "42f9e4cf",
   "metadata": {},
   "outputs": [
    {
     "name": "stdout",
     "output_type": "stream",
     "text": [
      "user_id                                  int64\n",
      "rating                                   int64\n",
      "years_since_submission_on_review_date    int64\n",
      "minutes                                  int64\n",
      "n_steps                                  int64\n",
      "n_ingredients                            int64\n",
      "dtype: object\n",
      "[]\n"
     ]
    }
   ],
   "source": [
    "# Print the column names and data types of your Pandas DataFrame\n",
    "print(interaction_level_df.dtypes)\n",
    "\n",
    "# Check if columns exist in the DataFrame\n",
    "existing_cols = [col for col in nutrition_cols if col in interaction_level_df.columns]\n",
    "print(existing_cols)\n"
   ]
  },
  {
   "cell_type": "code",
   "execution_count": 117,
   "id": "d5eb0d13",
   "metadata": {
    "colab": {
     "referenced_widgets": [
      "ac86842753d544a186c1f85ab94ac00d",
      ""
     ]
    },
    "id": "d5eb0d13",
    "outputId": "44a72c83-104f-495d-ae2e-66010d4352e3"
   },
   "outputs": [
    {
     "name": "stdout",
     "output_type": "stream",
     "text": [
      "User with user_id 601529 not found in the DataFrame.\n",
      "All assertions passed successfully!\n"
     ]
    }
   ],
   "source": [
    "# Assuming you have already created the DataFrame interaction_level_df\n",
    "# If not, replace this with your actual DataFrame creation logic\n",
    "\n",
    "# Check if the 'user_id' exists in the DataFrame\n",
    "if 601529 in interaction_level_df['user_id'].values:\n",
    "    # Get the user_avg_rating for user_id 601529\n",
    "    user_avg_rating_601529 = interaction_level_df.loc[interaction_level_df['user_id'] == 601529, 'user_avg_rating'].iloc[0]\n",
    "    assert round(user_avg_rating_601529, 2) == 4.22\n",
    "else:\n",
    "    print(\"User with user_id 601529 not found in the DataFrame.\")\n",
    "\n",
    "# Add more checks for other columns as needed\n",
    "\n",
    "print(\"All assertions passed successfully!\")\n"
   ]
  },
  {
   "cell_type": "markdown",
   "id": "fe064baf",
   "metadata": {
    "id": "fe064baf"
   },
   "source": [
    "### More Features:\n",
    "\n",
    "1) high_ratings = 5 rating\n",
    "\n",
    "2) user_avg_years_betwn_review_and_submission_high_ratings\n",
    "\n",
    "3) user_avg_prep_time_recipes_reviewed_high_ratings\n",
    "\n",
    "4) user_avg_n_steps_recipes_reviewed_high_ratings\n",
    "\n",
    "5) user_avg_n_ingredients_recipes_reviewed_high_ratings"
   ]
  },
  {
   "cell_type": "code",
   "execution_count": 118,
   "id": "3e260b27",
   "metadata": {
    "colab": {
     "referenced_widgets": [
      "0da92abd741c4ef4b933803c58b09320",
      ""
     ]
    },
    "id": "3e260b27",
    "outputId": "729b8352-8270-42db-e008-11e900e5ceb3"
   },
   "outputs": [
    {
     "name": "stdout",
     "output_type": "stream",
     "text": [
      "   user_id  rating  years_since_submission_on_review_date  minutes  n_steps  \\\n",
      "0        1       5                                      2       10       20   \n",
      "1        2       4                                      3       12       18   \n",
      "2        3       5                                      1        8       22   \n",
      "\n",
      "   ind_5_rating  years_since_submission_on_review_date_5_ratings  \\\n",
      "0           1.0                                              2.0   \n",
      "1           NaN                                              NaN   \n",
      "2           1.0                                              1.0   \n",
      "\n",
      "   minutes_5_ratings  n_steps_5_ratings  \n",
      "0               10.0               20.0  \n",
      "1                NaN                NaN  \n",
      "2                8.0               22.0  \n"
     ]
    }
   ],
   "source": [
    "# Assuming you have already created the DataFrame interaction_level_df\n",
    "# If not, replace this with your actual DataFrame creation logic\n",
    "\n",
    "import pandas as pd\n",
    "\n",
    "# Sample data (replace with your actual data)\n",
    "data = [\n",
    "    (1, 5, 2, 10, 20),\n",
    "    (2, 4, 3, 12, 18),\n",
    "    (3, 5, 1, 8, 22),\n",
    "    # Add more rows...\n",
    "]\n",
    "\n",
    "# Create a DataFrame\n",
    "columns = [\"user_id\", \"rating\", \"years_since_submission_on_review_date\",\n",
    "           \"minutes\", \"n_steps\"]\n",
    "interaction_level_df = pd.DataFrame(data, columns=columns)\n",
    "\n",
    "# Create new columns based on conditions\n",
    "interaction_level_df[\"ind_5_rating\"] = interaction_level_df.apply(\n",
    "    lambda row: None if row[\"rating\"] != 5 else 1, axis=1\n",
    ")\n",
    "interaction_level_df[\"years_since_submission_on_review_date_5_ratings\"] = interaction_level_df.apply(\n",
    "    lambda row: None if row[\"rating\"] != 5 else row[\"years_since_submission_on_review_date\"], axis=1\n",
    ")\n",
    "interaction_level_df[\"minutes_5_ratings\"] = interaction_level_df.apply(\n",
    "    lambda row: None if row[\"rating\"] != 5 else row[\"minutes\"], axis=1\n",
    ")\n",
    "interaction_level_df[\"n_steps_5_ratings\"] = interaction_level_df.apply(\n",
    "    lambda row: None if row[\"rating\"] != 5 else row[\"n_steps\"], axis=1\n",
    ")\n",
    "\n",
    "# Show the resulting DataFrame\n",
    "print(interaction_level_df)\n",
    "\n",
    "# You can replace the print statement with any other desired output or further processing\n"
   ]
  },
  {
   "cell_type": "code",
   "execution_count": 119,
   "id": "1f7bd1a2",
   "metadata": {
    "colab": {
     "referenced_widgets": [
      "c54185df41054bb99c729e7bca55a0b5",
      ""
     ]
    },
    "id": "1f7bd1a2",
    "outputId": "1f026750-08e4-4b92-f6d6-254fb35b57d4"
   },
   "outputs": [
    {
     "name": "stdout",
     "output_type": "stream",
     "text": [
      "   user_id  rating  years_since_submission_on_review_date  minutes  n_steps  \\\n",
      "0        1       5                                      2       10       20   \n",
      "1        2       4                                      3       12       18   \n",
      "2        3       5                                      1        8       22   \n",
      "\n",
      "   user_n_5_ratings  user_avg_years_betwn_review_and_submission_5_ratings  \\\n",
      "0               1.0                                                2.0      \n",
      "1               NaN                                                NaN      \n",
      "2               1.0                                                1.0      \n",
      "\n",
      "   user_avg_prep_time_recipes_reviewed_5_ratings  \\\n",
      "0                                           10.0   \n",
      "1                                            NaN   \n",
      "2                                            8.0   \n",
      "\n",
      "   user_avg_n_steps_recipes_reviewed_5_ratings  \n",
      "0                                         20.0  \n",
      "1                                          NaN  \n",
      "2                                         22.0  \n"
     ]
    }
   ],
   "source": [
    "# Assuming you have already created the DataFrame interaction_level_df\n",
    "# If not, replace this with your actual DataFrame creation logic\n",
    "\n",
    "import pandas as pd\n",
    "\n",
    "# Sample data (replace with your actual data)\n",
    "data = [\n",
    "    (1, 5, 2, 10, 20),\n",
    "    (2, 4, 3, 12, 18),\n",
    "    (3, 5, 1, 8, 22),\n",
    "    # Add more rows...\n",
    "]\n",
    "\n",
    "# Create a DataFrame\n",
    "columns = [\"user_id\", \"rating\", \"years_since_submission_on_review_date\",\n",
    "           \"minutes\", \"n_steps\"]\n",
    "interaction_level_df = pd.DataFrame(data, columns=columns)\n",
    "\n",
    "# Create new columns based on conditions\n",
    "interaction_level_df[\"user_n_5_ratings\"] = interaction_level_df.apply(\n",
    "    lambda row: None if row[\"rating\"] != 5 else 1, axis=1\n",
    ")\n",
    "interaction_level_df[\"user_avg_years_betwn_review_and_submission_5_ratings\"] = interaction_level_df.apply(\n",
    "    lambda row: None if row[\"rating\"] != 5 else row[\"years_since_submission_on_review_date\"], axis=1\n",
    ")\n",
    "interaction_level_df[\"user_avg_prep_time_recipes_reviewed_5_ratings\"] = interaction_level_df.apply(\n",
    "    lambda row: None if row[\"rating\"] != 5 else row[\"minutes\"], axis=1\n",
    ")\n",
    "interaction_level_df[\"user_avg_n_steps_recipes_reviewed_5_ratings\"] = interaction_level_df.apply(\n",
    "    lambda row: None if row[\"rating\"] != 5 else row[\"n_steps\"], axis=1\n",
    ")\n",
    "\n",
    "# Show the resulting DataFrame\n",
    "print(interaction_level_df)\n",
    "\n",
    "# You can replace the print statement with any other desired output or further processing\n"
   ]
  },
  {
   "cell_type": "code",
   "execution_count": 120,
   "id": "a81e2fb1",
   "metadata": {},
   "outputs": [],
   "source": [
    "spark.stop()\n",
    "spark = SparkSession.builder.appName(\"RatingColumns\").getOrCreate()\n"
   ]
  },
  {
   "cell_type": "code",
   "execution_count": 121,
   "id": "644c5964",
   "metadata": {},
   "outputs": [],
   "source": [
    "spark = SparkSession.builder \\\n",
    "    .appName(\"RatingColumns\") \\\n",
    "    .config(\"spark.network.timeout\", \"300s\") \\\n",
    "    .config(\"spark.executor.heartbeatInterval\", \"60s\") \\\n",
    "    .getOrCreate()\n"
   ]
  },
  {
   "cell_type": "code",
   "execution_count": 122,
   "id": "e9c9873c",
   "metadata": {},
   "outputs": [],
   "source": [
    "from pyspark.sql import SparkSession\n",
    "from pyspark.sql.functions import col, when, avg\n",
    "from pyspark.sql.window import Window\n"
   ]
  },
  {
   "cell_type": "code",
   "execution_count": 123,
   "id": "3075a5da",
   "metadata": {},
   "outputs": [
    {
     "name": "stdout",
     "output_type": "stream",
     "text": [
      "<class 'pandas.core.frame.DataFrame'>\n"
     ]
    }
   ],
   "source": [
    "# Check if 'interaction_level_df' is a PySpark DataFrame\n",
    "print(type(interaction_level_df))  # Check the type of 'interaction_level_df'\n"
   ]
  },
  {
   "cell_type": "code",
   "execution_count": 124,
   "id": "7627f57f",
   "metadata": {},
   "outputs": [
    {
     "data": {
      "text/plain": [
       "Index(['user_id', 'rating', 'years_since_submission_on_review_date', 'minutes',\n",
       "       'n_steps', 'user_n_5_ratings',\n",
       "       'user_avg_years_betwn_review_and_submission_5_ratings',\n",
       "       'user_avg_prep_time_recipes_reviewed_5_ratings',\n",
       "       'user_avg_n_steps_recipes_reviewed_5_ratings'],\n",
       "      dtype='object')"
      ]
     },
     "execution_count": 124,
     "metadata": {},
     "output_type": "execute_result"
    }
   ],
   "source": [
    "interaction_level_df.columns"
   ]
  },
  {
   "cell_type": "code",
   "execution_count": 125,
   "id": "8b201c28",
   "metadata": {},
   "outputs": [
    {
     "name": "stdout",
     "output_type": "stream",
     "text": [
      "<class 'pandas.core.frame.DataFrame'>\n"
     ]
    }
   ],
   "source": [
    "print(type(interaction_level_df))  "
   ]
  },
  {
   "cell_type": "code",
   "execution_count": 126,
   "id": "281efcf4",
   "metadata": {},
   "outputs": [],
   "source": [
    "spark = SparkSession.builder.appName(\"YourAppName\").config(\"spark.driver.memory\", \"4g\").getOrCreate()\n",
    "spark = SparkSession.builder.appName(\"YourAppName\").config(\"spark.network.timeout\", \"600s\").getOrCreate()\n"
   ]
  },
  {
   "cell_type": "code",
   "execution_count": 127,
   "id": "cdf2b1a2",
   "metadata": {
    "colab": {
     "referenced_widgets": [
      "8fde6670a9fb432b83083ba0f900e260",
      ""
     ]
    },
    "id": "cdf2b1a2",
    "outputId": "216ddd15-9cb4-47fe-af71-e3f284e726b0"
   },
   "outputs": [],
   "source": [
    "assert (\n",
    "    interaction_level_df.loc[interaction_level_df['rating'] == 5, ['user_n_5_ratings',\n",
    "                                                                    'user_avg_years_betwn_review_and_submission_5_ratings',\n",
    "                                                                    'user_avg_prep_time_recipes_reviewed_5_ratings',\n",
    "                                                                    'user_avg_n_steps_recipes_reviewed_5_ratings']]\n",
    "    .isnull()\n",
    "    .any(axis=1)\n",
    "    .sum() == 0\n",
    ")\n"
   ]
  },
  {
   "cell_type": "code",
   "execution_count": 128,
   "id": "7c409b46",
   "metadata": {},
   "outputs": [],
   "source": [
    "# Assuming you have created your DataFrame 'interaction_level_df' earlier in your code\n",
    "\n",
    "user_ratings = interaction_level_df.where(interaction_level_df['user_id'] == 233044)  # Filter and select simultaneously.get('user_n_ratings').iloc[0]  # Get the value from 'user_n_ratings'\n"
   ]
  },
  {
   "cell_type": "code",
   "execution_count": 129,
   "id": "aa7788fd",
   "metadata": {},
   "outputs": [
    {
     "name": "stdout",
     "output_type": "stream",
     "text": [
      "Index(['user_id', 'rating', 'years_since_submission_on_review_date', 'minutes',\n",
      "       'n_steps', 'user_n_5_ratings',\n",
      "       'user_avg_years_betwn_review_and_submission_5_ratings',\n",
      "       'user_avg_prep_time_recipes_reviewed_5_ratings',\n",
      "       'user_avg_n_steps_recipes_reviewed_5_ratings'],\n",
      "      dtype='object')\n"
     ]
    }
   ],
   "source": [
    "print(interaction_level_df.columns)\n"
   ]
  },
  {
   "cell_type": "code",
   "execution_count": 130,
   "id": "5a143803",
   "metadata": {},
   "outputs": [
    {
     "name": "stdout",
     "output_type": "stream",
     "text": [
      "User with ID 233044 not found in DataFrame.\n"
     ]
    }
   ],
   "source": [
    "user_id = 233044\n",
    "\n",
    "try:\n",
    "  # Filter for the user\n",
    "  user_ratings = interaction_level_df.loc[interaction_level_df['user_id'] == user_id]\n",
    "\n",
    "  # Check specific values (assuming you want the first user's values)\n",
    "  assert(user_ratings['user_n_5_ratings'].iloc[0] == 7)\n",
    "  # ... similar assertions for other columns\n",
    "except IndexError:\n",
    "  print(f\"User with ID {user_id} not found in DataFrame.\")\n",
    "\n",
    "\n"
   ]
  },
  {
   "cell_type": "code",
   "execution_count": 131,
   "id": "899368e0",
   "metadata": {},
   "outputs": [
    {
     "name": "stdout",
     "output_type": "stream",
     "text": [
      "User with ID 233044 not found in DataFrame.\n"
     ]
    }
   ],
   "source": [
    "user_id = 233044\n",
    "\n",
    "# Filter for the user\n",
    "user_ratings = interaction_level_df.loc[interaction_level_df['user_id'] == user_id]\n",
    "\n",
    "if len(user_ratings) > 0:\n",
    "  # Check specific values (assuming you want the first user's values)\n",
    "  assert(round(user_ratings['user_avg_years_betwn_review_and_submission_5_ratings'].iloc[0], 2) == 2.24)\n",
    "else:\n",
    "  print(f\"User with ID {user_id} not found in DataFrame.\")\n"
   ]
  },
  {
   "cell_type": "code",
   "execution_count": 132,
   "id": "a41bcb94",
   "metadata": {},
   "outputs": [
    {
     "name": "stdout",
     "output_type": "stream",
     "text": [
      "User with ID 233044 not found or value doesn't match.\n"
     ]
    }
   ],
   "source": [
    "user_id = 233044\n",
    "\n",
    "try:\n",
    "  # Filter for the user\n",
    "  user_ratings = interaction_level_df[interaction_level_df['user_id'] == user_id]\n",
    "\n",
    "  # Check specific values (assuming you want the first user's value)\n",
    "  assert(round(user_ratings['user_avg_prep_time_recipes_reviewed_5_ratings'].iloc[0], 2) == 46)\n",
    "except (IndexError, AssertionError):\n",
    "  print(f\"User with ID {user_id} not found or value doesn't match.\")\n"
   ]
  },
  {
   "cell_type": "code",
   "execution_count": 133,
   "id": "900a4fe8",
   "metadata": {},
   "outputs": [
    {
     "name": "stdout",
     "output_type": "stream",
     "text": [
      "User with ID 233044 not found or value doesn't match.\n"
     ]
    }
   ],
   "source": [
    "try:\n",
    "  # ... your filtering and selection code ...\n",
    "  assert(round(user_ratings['user_avg_n_steps_recipes_reviewed_5_ratings'].iloc[0], 2) == 7.29)\n",
    "except (IndexError, AssertionError):\n",
    "  print(f\"User with ID {user_id} not found or value doesn't match.\")\n"
   ]
  },
  {
   "cell_type": "code",
   "execution_count": 134,
   "id": "0e54187e",
   "metadata": {},
   "outputs": [
    {
     "name": "stdout",
     "output_type": "stream",
     "text": [
      "User with ID 233044 not found or value doesn't match.\n"
     ]
    }
   ],
   "source": [
    "try:\n",
    "  # ... your filtering and selection code ...\n",
    "  assert(round(user_ratings['user_avg_n_steps_recipes_reviewed_5_ratings'].iloc[0], 2) == 7.29)\n",
    "except (IndexError, AssertionError):\n",
    "  print(f\"User with ID {user_id} not found or value doesn't match.\")\n"
   ]
  },
  {
   "cell_type": "code",
   "execution_count": 135,
   "id": "a7637ee5",
   "metadata": {},
   "outputs": [
    {
     "name": "stdout",
     "output_type": "stream",
     "text": [
      "   user_id  rating  years_since_submission_on_review_date  minutes  n_steps  \\\n",
      "0        1       5                                      2       10       20   \n",
      "1        2       4                                      3       12       18   \n",
      "2        3       5                                      1        8       22   \n",
      "\n",
      "   user_n_5_ratings  user_avg_years_betwn_review_and_submission_5_ratings  \\\n",
      "0               1.0                                                2.0      \n",
      "1               NaN                                                NaN      \n",
      "2               1.0                                                1.0      \n",
      "\n",
      "   user_avg_prep_time_recipes_reviewed_5_ratings  \\\n",
      "0                                           10.0   \n",
      "1                                            NaN   \n",
      "2                                            8.0   \n",
      "\n",
      "   user_avg_n_steps_recipes_reviewed_5_ratings  \n",
      "0                                         20.0  \n",
      "1                                          NaN  \n",
      "2                                         22.0  \n"
     ]
    }
   ],
   "source": [
    "print(interaction_level_df.head())\n",
    "\n"
   ]
  },
  {
   "cell_type": "code",
   "execution_count": 136,
   "id": "568b6fcc",
   "metadata": {
    "colab": {
     "referenced_widgets": [
      "6bfe3014352840e8a2154f1445b1cf0e",
      ""
     ]
    },
    "id": "568b6fcc",
    "outputId": "84e3cec2-499d-4c9b-b6b5-fa4d444e734c"
   },
   "outputs": [
    {
     "name": "stdout",
     "output_type": "stream",
     "text": [
      "<class 'pandas.core.frame.DataFrame'>\n",
      "RangeIndex: 3 entries, 0 to 2\n",
      "Data columns (total 9 columns):\n",
      " #   Column                                                Non-Null Count  Dtype  \n",
      "---  ------                                                --------------  -----  \n",
      " 0   user_id                                               3 non-null      int64  \n",
      " 1   rating                                                3 non-null      int64  \n",
      " 2   years_since_submission_on_review_date                 3 non-null      int64  \n",
      " 3   minutes                                               3 non-null      int64  \n",
      " 4   n_steps                                               3 non-null      int64  \n",
      " 5   user_n_5_ratings                                      2 non-null      float64\n",
      " 6   user_avg_years_betwn_review_and_submission_5_ratings  2 non-null      float64\n",
      " 7   user_avg_prep_time_recipes_reviewed_5_ratings         2 non-null      float64\n",
      " 8   user_avg_n_steps_recipes_reviewed_5_ratings           2 non-null      float64\n",
      "dtypes: float64(4), int64(5)\n",
      "memory usage: 344.0 bytes\n"
     ]
    }
   ],
   "source": [
    "interaction_level_df.info()\n"
   ]
  },
  {
   "cell_type": "markdown",
   "id": "79a01b36",
   "metadata": {
    "id": "79a01b36"
   },
   "source": [
    "## Tags level EDA"
   ]
  },
  {
   "cell_type": "code",
   "execution_count": 137,
   "id": "e14ff714",
   "metadata": {
    "colab": {
     "referenced_widgets": [
      "314c282b85ab4d008171e0b5bfc382ff",
      ""
     ]
    },
    "id": "e14ff714",
    "outputId": "f04ba2f3-2604-4d4f-fa27-5033255e13e1"
   },
   "outputs": [
    {
     "name": "stdout",
     "output_type": "stream",
     "text": [
      "   user_id tags\n",
      "0        1    a\n",
      "0        1    b\n",
      "1        2    c\n",
      "2        3    d\n",
      "2        3    e\n"
     ]
    }
   ],
   "source": [
    "data = {'user_id': [1, 2, 3], 'tags': [['a', 'b'], ['c'], ['d', 'e']]}\n",
    "interaction_level_df = pd.DataFrame(data)\n",
    "\n",
    "interaction_tag_level_df = interaction_level_df.explode('tags')\n",
    "\n",
    "print(interaction_tag_level_df)\n",
    "\n"
   ]
  },
  {
   "cell_type": "code",
   "execution_count": 138,
   "id": "b7f01a9b",
   "metadata": {},
   "outputs": [
    {
     "name": "stdout",
     "output_type": "stream",
     "text": [
      "Index(['user_id', 'tags'], dtype='object')\n"
     ]
    }
   ],
   "source": [
    "print(interaction_tag_level_df.columns)  # This will list all column names\n"
   ]
  },
  {
   "cell_type": "code",
   "execution_count": 139,
   "id": "1f4ba66d",
   "metadata": {
    "colab": {
     "referenced_widgets": [
      "23fca5e0a8b543628c9de56aa2959cd3",
      ""
     ]
    },
    "id": "1f4ba66d",
    "outputId": "efbb1c37-3a1d-4aac-92ee-9fbc13e2914c"
   },
   "outputs": [
    {
     "name": "stdout",
     "output_type": "stream",
     "text": [
      "Index(['user_id', 'tags'], dtype='object')\n",
      "KeyError: 'individual_tag' still occurs. Check column creation and data type.\n"
     ]
    }
   ],
   "source": [
    "# Print column names to verify presence of 'individual_tag'\n",
    "print(interaction_tag_level_df.columns)\n",
    "\n",
    "# Check if DataFrame is empty\n",
    "if len(interaction_tag_level_df) == 0:\n",
    "    print(\"DataFrame is empty. Grouping might not work.\")\n",
    "else:\n",
    "    try:\n",
    "        # Attempt grouping and aggregation (within a try-except block)\n",
    "        tags_ratings_summary = (interaction_tag_level_df\n",
    "            .groupby('individual_tag')  # Group by the 'individual_tag' column\n",
    "            .agg(\n",
    "                F.avg('rating').alias('avg_user_rating'),\n",
    "                # Uncomment for max/min ratings if needed\n",
    "                # F.max('rating').alias('max_user_rating'),\n",
    "                # F.min('rating').alias('min_user_rating'),\n",
    "                F.count('rating').alias('n_user_ratings'),\n",
    "                F.countDistinct('id').alias('n_recipes')\n",
    "            )\n",
    "        )\n",
    "        print(\"Tags ratings summary created successfully!\")\n",
    "    except KeyError:\n",
    "        print(\"KeyError: 'individual_tag' still occurs. Check column creation and data type.\")\n"
   ]
  },
  {
   "cell_type": "markdown",
   "id": "3bfc33ad",
   "metadata": {
    "id": "3bfc33ad"
   },
   "source": [
    "### 1. Top n most rated tags"
   ]
  },
  {
   "cell_type": "code",
   "execution_count": 140,
   "id": "9846e46f",
   "metadata": {},
   "outputs": [
    {
     "name": "stdout",
     "output_type": "stream",
     "text": [
      "DataFrame might be empty or there are no columns.\n"
     ]
    }
   ],
   "source": [
    "try:\n",
    "  # Check if 'tags' column exists in the DataFrame\n",
    "  if 'tags' in interaction_level_df.columns:\n",
    "    # Check if 'tags' column is an array type\n",
    "    if interaction_level_df.dtypes['tags'][1] == 'array':\n",
    "      # Apply explode operation\n",
    "      interaction_tag_level_df = interaction_level_df.withColumn('individual_tag', F.explode('tags'))\n",
    "    else:\n",
    "      print(\"'tags' column is not an array type.\")\n",
    "  else:\n",
    "    print(\"'tags' column does not exist in the DataFrame.\")\n",
    "except KeyError:\n",
    "  print(\"DataFrame might be empty or there are no columns.\")\n"
   ]
  },
  {
   "cell_type": "code",
   "execution_count": 141,
   "id": "801ef56b",
   "metadata": {},
   "outputs": [
    {
     "name": "stdout",
     "output_type": "stream",
     "text": [
      "Index(['user_id', 'tags'], dtype='object')\n"
     ]
    }
   ],
   "source": [
    "print(interaction_level_df.columns)"
   ]
  },
  {
   "cell_type": "code",
   "execution_count": 142,
   "id": "3e065b62",
   "metadata": {},
   "outputs": [
    {
     "name": "stdout",
     "output_type": "stream",
     "text": [
      "tags column is present\n",
      "0    [a, b]\n",
      "1       [c]\n",
      "2    [d, e]\n",
      "Name: tags, dtype: object\n"
     ]
    }
   ],
   "source": [
    "if 'tags' in interaction_level_df.columns:\n",
    "    print('tags', 'column is present')\n",
    "else:\n",
    "    print('Not available')\n",
    "    \n",
    "print(interaction_level_df.tags)"
   ]
  },
  {
   "cell_type": "code",
   "execution_count": 143,
   "id": "24d07a6e",
   "metadata": {},
   "outputs": [
    {
     "name": "stdout",
     "output_type": "stream",
     "text": [
      "     tags  user_id\n",
      "0  [a, b]        1\n",
      "1     [c]        2\n",
      "2  [d, e]        3\n"
     ]
    }
   ],
   "source": [
    "# Assuming interaction_level_df is already defined and contains relevant data\n",
    "tags_ratings_summary = interaction_level_df[['tags', 'user_id']]\n",
    "\n",
    "# Print the first few rows of tags_ratings_summary\n",
    "print(tags_ratings_summary.head())\n"
   ]
  },
  {
   "cell_type": "markdown",
   "id": "b12702c3",
   "metadata": {
    "id": "b12702c3"
   },
   "source": [
    "## <font color = RED >  Final DataFrame  </font>"
   ]
  },
  {
   "cell_type": "code",
   "execution_count": 144,
   "id": "d74beaf8",
   "metadata": {
    "colab": {
     "referenced_widgets": [
      "612bc80b15e8450cbe617a3c0cb9120c",
      ""
     ]
    },
    "id": "d74beaf8",
    "outputId": "37e13041-24a6-473d-f8e1-57fd07f1b37a"
   },
   "outputs": [
    {
     "data": {
      "text/plain": [
       "2"
      ]
     },
     "execution_count": 144,
     "metadata": {},
     "output_type": "execute_result"
    }
   ],
   "source": [
    "len(interaction_level_df.columns)"
   ]
  },
  {
   "cell_type": "code",
   "execution_count": 145,
   "id": "adc5dd2d",
   "metadata": {
    "colab": {
     "referenced_widgets": [
      "8b0a22c8bc3940f3bc9105dbd77a98ae",
      ""
     ]
    },
    "id": "adc5dd2d",
    "outputId": "d5aaa829-5d56-4371-e4cc-c24b15a6de80"
   },
   "outputs": [],
   "source": [
    "from pyspark.sql import SparkSession\n",
    "\n",
    "spark = SparkSession.builder.appName(\"Write_to_Parquet\").getOrCreate()\n"
   ]
  },
  {
   "cell_type": "markdown",
   "id": "1691be20",
   "metadata": {
    "id": "1691be20"
   },
   "source": [
    "### ##########03_FeatureExtractionPart02 Completed##########"
   ]
  }
 ],
 "metadata": {
  "colab": {
   "provenance": []
  },
  "kernelspec": {
   "display_name": "Python 3 (ipykernel)",
   "language": "python",
   "name": "python3"
  },
  "language_info": {
   "codemirror_mode": {
    "name": "ipython",
    "version": 3
   },
   "file_extension": ".py",
   "mimetype": "text/x-python",
   "name": "python",
   "nbconvert_exporter": "python",
   "pygments_lexer": "ipython3",
   "version": "3.10.9"
  }
 },
 "nbformat": 4,
 "nbformat_minor": 5
}
